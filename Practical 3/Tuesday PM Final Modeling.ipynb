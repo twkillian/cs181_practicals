{
 "cells": [
  {
   "cell_type": "code",
   "execution_count": 1,
   "metadata": {
    "collapsed": true
   },
   "outputs": [],
   "source": [
    "# Load libraries\n",
    "import numpy as np\n",
    "import matplotlib.pyplot as plt\n",
    "import pandas as pd\n",
    "import pickle\n",
    "from time import time\n",
    "from sklearn import linear_model\n",
    "from sklearn.cross_validation import train_test_split\n",
    "from sklearn.neighbors import KNeighborsRegressor\n",
    "from sklearn.preprocessing import StandardScaler\n",
    "import warnings\n",
    "import math\n",
    "from sklearn.cluster import KMeans\n",
    "import pickle\n",
    "warnings.filterwarnings('ignore')\n",
    "%matplotlib inline"
   ]
  },
  {
   "cell_type": "markdown",
   "metadata": {},
   "source": [
    "### Load .csv files"
   ]
  },
  {
   "cell_type": "code",
   "execution_count": 2,
   "metadata": {
    "collapsed": false
   },
   "outputs": [],
   "source": [
    "# load default data frames\n",
    "train_df = pd.read_csv(\"train.csv\")\n",
    "test_df = pd.read_csv(\"test.csv\")\n",
    "artists_df = pd.read_csv(\"artists.csv\")\n",
    "global_median_df = pd.read_csv(\"global_median.csv\")\n",
    "profiles = pd.read_csv(\"profiles.csv\")"
   ]
  },
  {
   "cell_type": "markdown",
   "metadata": {},
   "source": [
    "### Create profiles df, imput ages"
   ]
  },
  {
   "cell_type": "code",
   "execution_count": 3,
   "metadata": {
    "collapsed": false
   },
   "outputs": [
    {
     "data": {
      "text/html": [
       "<div>\n",
       "<table border=\"1\" class=\"dataframe\">\n",
       "  <thead>\n",
       "    <tr style=\"text-align: right;\">\n",
       "      <th></th>\n",
       "      <th>age</th>\n",
       "      <th>male</th>\n",
       "      <th>female</th>\n",
       "      <th>age_missing</th>\n",
       "      <th>country_missing</th>\n",
       "      <th>Sweden</th>\n",
       "      <th>Iceland</th>\n",
       "      <th>United States</th>\n",
       "      <th>Germany</th>\n",
       "      <th>Netherlands</th>\n",
       "      <th>...</th>\n",
       "      <th>Myanmar</th>\n",
       "      <th>Somalia</th>\n",
       "      <th>Gambia</th>\n",
       "      <th>Mozambique</th>\n",
       "      <th>Rwanda</th>\n",
       "      <th>Saint Kitts and Nevis</th>\n",
       "      <th>New Caledonia</th>\n",
       "      <th>Sudan</th>\n",
       "      <th>Guyana</th>\n",
       "      <th>Marshall Islands</th>\n",
       "    </tr>\n",
       "    <tr>\n",
       "      <th>user</th>\n",
       "      <th></th>\n",
       "      <th></th>\n",
       "      <th></th>\n",
       "      <th></th>\n",
       "      <th></th>\n",
       "      <th></th>\n",
       "      <th></th>\n",
       "      <th></th>\n",
       "      <th></th>\n",
       "      <th></th>\n",
       "      <th></th>\n",
       "      <th></th>\n",
       "      <th></th>\n",
       "      <th></th>\n",
       "      <th></th>\n",
       "      <th></th>\n",
       "      <th></th>\n",
       "      <th></th>\n",
       "      <th></th>\n",
       "      <th></th>\n",
       "      <th></th>\n",
       "    </tr>\n",
       "  </thead>\n",
       "  <tbody>\n",
       "    <tr>\n",
       "      <th>fa40b43298ba3f8aa52e8e8863faf2e2171e0b5d</th>\n",
       "      <td>25</td>\n",
       "      <td>0</td>\n",
       "      <td>1</td>\n",
       "      <td>0</td>\n",
       "      <td>0</td>\n",
       "      <td>1</td>\n",
       "      <td>0</td>\n",
       "      <td>0</td>\n",
       "      <td>0</td>\n",
       "      <td>0</td>\n",
       "      <td>...</td>\n",
       "      <td>0</td>\n",
       "      <td>0</td>\n",
       "      <td>0</td>\n",
       "      <td>0</td>\n",
       "      <td>0</td>\n",
       "      <td>0</td>\n",
       "      <td>0</td>\n",
       "      <td>0</td>\n",
       "      <td>0</td>\n",
       "      <td>0</td>\n",
       "    </tr>\n",
       "  </tbody>\n",
       "</table>\n",
       "<p>1 rows × 244 columns</p>\n",
       "</div>"
      ],
      "text/plain": [
       "                                          age  male  female  age_missing  \\\n",
       "user                                                                       \n",
       "fa40b43298ba3f8aa52e8e8863faf2e2171e0b5d   25     0       1            0   \n",
       "\n",
       "                                          country_missing  Sweden  Iceland  \\\n",
       "user                                                                         \n",
       "fa40b43298ba3f8aa52e8e8863faf2e2171e0b5d                0       1        0   \n",
       "\n",
       "                                          United States  Germany  Netherlands  \\\n",
       "user                                                                            \n",
       "fa40b43298ba3f8aa52e8e8863faf2e2171e0b5d              0        0            0   \n",
       "\n",
       "                                                ...         Myanmar  Somalia  \\\n",
       "user                                            ...                            \n",
       "fa40b43298ba3f8aa52e8e8863faf2e2171e0b5d        ...               0        0   \n",
       "\n",
       "                                          Gambia  Mozambique  Rwanda  \\\n",
       "user                                                                   \n",
       "fa40b43298ba3f8aa52e8e8863faf2e2171e0b5d       0           0       0   \n",
       "\n",
       "                                          Saint Kitts and Nevis  \\\n",
       "user                                                              \n",
       "fa40b43298ba3f8aa52e8e8863faf2e2171e0b5d                      0   \n",
       "\n",
       "                                          New Caledonia  Sudan  Guyana  \\\n",
       "user                                                                     \n",
       "fa40b43298ba3f8aa52e8e8863faf2e2171e0b5d              0      0       0   \n",
       "\n",
       "                                          Marshall Islands  \n",
       "user                                                        \n",
       "fa40b43298ba3f8aa52e8e8863faf2e2171e0b5d                 0  \n",
       "\n",
       "[1 rows x 244 columns]"
      ]
     },
     "execution_count": 3,
     "metadata": {},
     "output_type": "execute_result"
    }
   ],
   "source": [
    "# CREATES PROFILES DF\n",
    "\n",
    "# # condition = (profiles_df['age'].isnull()) | (profiles_df['age'] < 95) | (profiles_df['age'] > 0)\n",
    "# # profiles_df[condition] = np.nan\n",
    "# profiles_df.loc[profiles_df[\"age\"] < 5 ,'age'] = None\n",
    "# profiles_df.loc[profiles_df[\"age\"] > 85 ,'age'] = None\n",
    "# profiles_df.loc[profiles_df[\"age\"].isnull(),'age'] = None\n",
    "\n",
    "# # calculate mean age per user\n",
    "# mean_age = profiles_df[~profiles_df['age'].isnull()][\"age\"].mean()\n",
    "\n",
    "# ###################################################################### \n",
    "\n",
    "# # calculate mean age per men\n",
    "# males_only_df = profiles_df[profiles_df[\"sex\"]=='m']\n",
    "# mean_male_age = males_only_df[~males_only_df['sex'].isnull()][\"age\"].mean()\n",
    "\n",
    "# ###################################################################### \n",
    "\n",
    "# # calculate mean age per women\n",
    "# females_only_df = profiles_df[profiles_df[\"sex\"]=='f']\n",
    "# mean_female_age = females_only_df[~females_only_df['sex'].isnull()][\"age\"].mean()\n",
    "\n",
    "# ###################################################################### \n",
    "\n",
    "# # get list of unique countries\n",
    "# countries = profiles_df[\"country\"].unique()\n",
    "\n",
    "# # calculate mean age per country\n",
    "# mean_country_age = {}\n",
    "# for country in countries:\n",
    "#     tmp_df = profiles_df[profiles_df[\"country\"]==str(country)]\n",
    "#     mean_country_age[str(country)] = tmp_df[\"age\"].mean()\n",
    "\n",
    "# ###################################################################### \n",
    "    \n",
    "# # calculate mean age per male per country\n",
    "# mean_country_male_age = {}\n",
    "# for country in countries:\n",
    "#     tmp_df0 = profiles_df[profiles_df[\"sex\"]=='m']\n",
    "#     tmp_df1 = tmp_df0[profiles_df[\"country\"]==str(country)]\n",
    "#     mean_country_male_age[str(country)] = tmp_df1[\"age\"].mean()\n",
    "\n",
    "# ###################################################################### \n",
    "\n",
    "# # calculate mean age per female per country\n",
    "# mean_country_female_age = {}\n",
    "# for country in countries:\n",
    "#     tmp_df0 = profiles_df[profiles_df[\"sex\"]=='f']\n",
    "#     tmp_df1 = tmp_df0[profiles_df[\"country\"]==str(country)]\n",
    "#     mean_country_female_age[str(country)] = tmp_df1[\"age\"].mean()\n",
    "\n",
    "# ###################################################################### \n",
    "\n",
    "# # initialize training df\n",
    "# profiles = profiles_df\n",
    "\n",
    "# ###################################################################### \n",
    "\n",
    "# # create sex indicators\n",
    "# profiles[\"male\"] = 0\n",
    "# profiles[\"female\"] = 0\n",
    "# profiles[\"sex_missing\"] = 0\n",
    "# profiles.loc[profiles[\"sex\"] =='m', \"male\"] = 1\n",
    "# profiles.loc[profiles[\"sex\"] =='f', \"female\"] = 1\n",
    "# profiles.loc[profiles[\"sex\"].isnull(), \"sex_missing\"] = 1\n",
    "\n",
    "# ######################################################################  \n",
    "\n",
    "# # create age indicators\n",
    "# profiles[\"age_missing\"] = 0\n",
    "# profiles.loc[profiles[\"age\"].isnull(),\"age_missing\"] = 1\n",
    "\n",
    "# # fill in mean age: has no gender or country\n",
    "# profiles.loc[profiles[\"age_missing\"] == 1, \"age\"] = mean_age\n",
    "\n",
    "# # fill in mean age: has gender, no country\n",
    "# #males\n",
    "# condition = (profiles[\"sex\"] =='m') & (profiles[\"country\"].isnull()) & (profiles[\"age_missing\"] == 1)\n",
    "# profiles.loc[condition, \"age\"] = mean_male_age\n",
    "# # females\n",
    "# condition = (profiles[\"sex\"] =='f') & (profiles[\"country\"].isnull()) & (profiles[\"age_missing\"] == 1)\n",
    "# profiles.loc[condition, \"age\"] = mean_female_age\n",
    "\n",
    "# # fill in mean age: has country, no gender\n",
    "# #loop over countries\n",
    "# for country in countries:\n",
    "#     condition = (profiles[\"country\"] == country) & (profiles[\"age_missing\"] == 1) & (profiles[\"sex_missing\"] == 1)\n",
    "#     profiles.loc[condition, \"age\"] = mean_country_age[country]\n",
    "\n",
    "# # fill in mean age: has gender and country\n",
    "# # loop over countries\n",
    "# for country in countries:\n",
    "#     # males\n",
    "#     condition = (profiles[\"country\"] == country) & (profiles[\"sex\"] == 'm') & (profiles[\"age_missing\"] == 1)\n",
    "#     profiles.loc[condition, \"age\"] = mean_country_male_age[country]\n",
    "#     # females\n",
    "#     condition = (profiles[\"country\"] == country) & (profiles[\"sex\"] == 'f') & (profiles[\"age_missing\"] == 1)\n",
    "#     profiles.loc[condition, \"age\"] = mean_country_female_age[country]\n",
    "\n",
    "# ###################################################################### \n",
    "    \n",
    "# # create country indicators\n",
    "# profiles[\"country_missing\"] = 0\n",
    "# profiles.loc[profiles[\"country\"].isnull(), \"country_missing\"] = 1\n",
    "# # loop over countries\n",
    "# for country in countries:\n",
    "#     # assign 1 if in that country\n",
    "#     profiles.loc[profiles[\"country\"] == country, country] = 1\n",
    "#     # assign 0 otherwise\n",
    "#     profiles.loc[profiles[\"country\"] != country, country] = 0\n",
    "\n",
    "# ###################################################################### \n",
    "    \n",
    "# # create country indicators\n",
    "# profiles[\"country_missing\"] = 0\n",
    "# profiles.loc[profiles[\"country\"].isnull(), \"country_missing\"] = 1\n",
    "# # loop over countries\n",
    "# for country in countries:\n",
    "#     # assign 1 if in that country\n",
    "#     profiles.loc[profiles[\"country\"] == country, country] = 1\n",
    "#     # assign 0 otherwise\n",
    "#     profiles.loc[profiles[\"country\"] != country, country] = 0\n",
    "\n",
    "# profiles.to_csv(\"profiles.csv\")\n",
    "\n",
    "# ###################################################################### \n",
    "\n",
    "# clean profiles df\n",
    "profiles.drop(\"sex\",inplace=True,axis=1)\n",
    "profiles.drop(\"country\",inplace=True,axis=1)\n",
    "profiles.drop(\"Unnamed: 0\",axis=1,inplace=True)\n",
    "profiles.set_index(\"user\",inplace=True)\n",
    "profiles.drop(\"sex_missing\",inplace=True,axis=1)\n",
    "profiles.head(1)"
   ]
  },
  {
   "cell_type": "markdown",
   "metadata": {},
   "source": [
    "### Grab genres for each artist"
   ]
  },
  {
   "cell_type": "code",
   "execution_count": 4,
   "metadata": {
    "collapsed": false
   },
   "outputs": [
    {
     "data": {
      "text/html": [
       "<div>\n",
       "<table border=\"1\" class=\"dataframe\">\n",
       "  <thead>\n",
       "    <tr style=\"text-align: right;\">\n",
       "      <th></th>\n",
       "      <th>name</th>\n",
       "      <th>genre1</th>\n",
       "      <th>num_votes1</th>\n",
       "      <th>genre2</th>\n",
       "      <th>num_votes2</th>\n",
       "      <th>genre3</th>\n",
       "      <th>num_votes3</th>\n",
       "      <th>genre4</th>\n",
       "      <th>num_votes4</th>\n",
       "      <th>genre5</th>\n",
       "      <th>num_votes5</th>\n",
       "      <th>extra</th>\n",
       "      <th>per_votes1</th>\n",
       "      <th>per_votes2</th>\n",
       "      <th>per_votes3</th>\n",
       "    </tr>\n",
       "  </thead>\n",
       "  <tbody>\n",
       "    <tr>\n",
       "      <th>03098741-08b3-4dd7-b3f6-1b0bfa2c879c</th>\n",
       "      <td>Liars</td>\n",
       "      <td>alternative rock</td>\n",
       "      <td>1</td>\n",
       "      <td>art punk</td>\n",
       "      <td>1</td>\n",
       "      <td>dance-punk</td>\n",
       "      <td>1</td>\n",
       "      <td>experimental rock</td>\n",
       "      <td>1</td>\n",
       "      <td>indie rock</td>\n",
       "      <td>1</td>\n",
       "      <td>NaN</td>\n",
       "      <td>33.333333</td>\n",
       "      <td>33.333333</td>\n",
       "      <td>33.333333</td>\n",
       "    </tr>\n",
       "  </tbody>\n",
       "</table>\n",
       "</div>"
      ],
      "text/plain": [
       "                                       name            genre1  num_votes1  \\\n",
       "03098741-08b3-4dd7-b3f6-1b0bfa2c879c  Liars  alternative rock           1   \n",
       "\n",
       "                                        genre2  num_votes2      genre3  \\\n",
       "03098741-08b3-4dd7-b3f6-1b0bfa2c879c  art punk           1  dance-punk   \n",
       "\n",
       "                                      num_votes3             genre4  \\\n",
       "03098741-08b3-4dd7-b3f6-1b0bfa2c879c           1  experimental rock   \n",
       "\n",
       "                                      num_votes4      genre5  num_votes5  \\\n",
       "03098741-08b3-4dd7-b3f6-1b0bfa2c879c           1  indie rock           1   \n",
       "\n",
       "                                      extra  per_votes1  per_votes2  \\\n",
       "03098741-08b3-4dd7-b3f6-1b0bfa2c879c    NaN   33.333333   33.333333   \n",
       "\n",
       "                                      per_votes3  \n",
       "03098741-08b3-4dd7-b3f6-1b0bfa2c879c   33.333333  "
      ]
     },
     "execution_count": 4,
     "metadata": {},
     "output_type": "execute_result"
    }
   ],
   "source": [
    "# load genre data frames and do some cleaning\n",
    "artists_with_1genre_df = pd.read_csv(\"artists_with_genres.csv\")\n",
    "artists_with_5genres_df = pd.read_csv(\"artists_with_top_5_genres.csv\")\n",
    "artists_with_5genres_df.rename(columns = {\"num_votes5\":\"extra\"}, inplace = True)\n",
    "artists_with_5genres_df.rename(columns = {\"genre5\":\"num_votes5\"}, inplace = True)\n",
    "artists_with_5genres_df.rename(columns = {\"num_votes4\":\"genre5\"}, inplace = True)\n",
    "artists_with_5genres_df.rename(columns = {\"genre4\":\"num_votes4\"}, inplace = True)\n",
    "artists_with_5genres_df.rename(columns = {\"num_votes3\":\"genre4\"}, inplace = True)\n",
    "artists_with_5genres_df.rename(columns = {\"genre3\":\"num_votes3\"}, inplace = True)\n",
    "artists_with_5genres_df.rename(columns = {\"num_votes2\":\"genre3\"}, inplace = True)\n",
    "artists_with_5genres_df.rename(columns = {\"genre2\":\"num_votes2\"}, inplace = True)\n",
    "artists_with_5genres_df.rename(columns = {\"num_votes1\":\"genre2\"}, inplace = True)\n",
    "artists_with_5genres_df.rename(columns = {\"genre1\":\"num_votes1\"}, inplace = True)\n",
    "artists_with_5genres_df.rename(columns = {\"name\":\"genre1\"}, inplace = True)\n",
    "artists_with_5genres_df.rename(columns = {\"artist\":\"name\"}, inplace = True)\n",
    "\n",
    "# Calculate percent of votes\n",
    "agn = artists_with_5genres_df[[\"num_votes1\",\"num_votes2\",\"num_votes3\"]]\n",
    "agn.rename(columns = {\"num_votes1\":\"per_votes1\"}, inplace = True)\n",
    "agn.rename(columns = {\"num_votes2\":\"per_votes2\"}, inplace = True)\n",
    "agn.rename(columns = {\"num_votes3\":\"per_votes3\"}, inplace = True)\n",
    "agn = agn.apply(lambda c: c / c.sum() * 100, axis=1)\n",
    "\n",
    "# combine dfs together\n",
    "artists_with_5genres_df = pd.concat([artists_with_5genres_df, agn], axis=1)\n",
    "artists_with_5genres_df.head(1)"
   ]
  },
  {
   "cell_type": "markdown",
   "metadata": {},
   "source": [
    "### Create train df"
   ]
  },
  {
   "cell_type": "code",
   "execution_count": 5,
   "metadata": {
    "collapsed": false
   },
   "outputs": [],
   "source": [
    "# Train - Test Split on profiles to ensure users are in one group or another\n",
    "train, test = train_test_split(train_df, test_size = .1)\n",
    "# train, valid = train_test_split(train0, test_size = .1)\n",
    "#train = train_df.copy()"
   ]
  },
  {
   "cell_type": "code",
   "execution_count": 6,
   "metadata": {
    "collapsed": false
   },
   "outputs": [],
   "source": [
    "# def genre_select(x,at5g):\n",
    "#     artist = x[0]\n",
    "#     genres = np.array([at5g.loc[artist,\"genre1\"],at5g.loc[artist,\"genre2\"],at5g.loc[artist,\"genre3\"]])\n",
    "#     votes = np.array([at5g.loc[artist,\"per_votes1\"],at5g.loc[artist,\"per_votes2\"],at5g.loc[artist,\"per_votes3\"]])\n",
    "#     votes_tot = np.sum(votes)\n",
    "#     if votes_tot != 0:\n",
    "#         weights = votes/float(votes_tot)\n",
    "#         return np.random.choice(genres, p= weights)\n",
    "#     else:\n",
    "#         return None"
   ]
  },
  {
   "cell_type": "code",
   "execution_count": 7,
   "metadata": {
    "collapsed": false
   },
   "outputs": [],
   "source": [
    "#add primary genre to train\n",
    "train[\"genre1\"] = np.nan\n",
    "train.set_index(\"artist\", inplace=True)\n",
    "train.update(artists_with_5genres_df)\n",
    "train.reset_index(inplace=True)\n",
    "\n",
    "test[\"genre1\"] = np.nan\n",
    "test.set_index(\"artist\", inplace=True)\n",
    "test.update(artists_with_5genres_df)\n",
    "test.reset_index(inplace=True)"
   ]
  },
  {
   "cell_type": "code",
   "execution_count": 8,
   "metadata": {
    "collapsed": false
   },
   "outputs": [],
   "source": [
    "# train.genre = train.apply(lambda x: genre_select(x,artists_with_5genres_df),axis = 1)"
   ]
  },
  {
   "cell_type": "code",
   "execution_count": 9,
   "metadata": {
    "collapsed": true
   },
   "outputs": [],
   "source": [
    "# train.to_csv(\"train_wGenreChoice.csv\")"
   ]
  },
  {
   "cell_type": "markdown",
   "metadata": {},
   "source": [
    "### compute averages"
   ]
  },
  {
   "cell_type": "code",
   "execution_count": 10,
   "metadata": {
    "collapsed": true
   },
   "outputs": [],
   "source": [
    "# calculate global median\n",
    "global_median = global_median_df.iloc[0,1]"
   ]
  },
  {
   "cell_type": "code",
   "execution_count": null,
   "metadata": {
    "collapsed": false
   },
   "outputs": [
    {
     "data": {
      "text/html": [
       "<div>\n",
       "<table border=\"1\" class=\"dataframe\">\n",
       "  <thead>\n",
       "    <tr style=\"text-align: right;\">\n",
       "      <th></th>\n",
       "      <th>user median</th>\n",
       "    </tr>\n",
       "    <tr>\n",
       "      <th>user</th>\n",
       "      <th></th>\n",
       "    </tr>\n",
       "  </thead>\n",
       "  <tbody>\n",
       "    <tr>\n",
       "      <th>00000c289a1829a808ac09c00daf10bc3c4e223b</th>\n",
       "      <td>231</td>\n",
       "    </tr>\n",
       "  </tbody>\n",
       "</table>\n",
       "</div>"
      ],
      "text/plain": [
       "                                          user median\n",
       "user                                                 \n",
       "00000c289a1829a808ac09c00daf10bc3c4e223b          231"
      ]
     },
     "execution_count": 11,
     "metadata": {},
     "output_type": "execute_result"
    }
   ],
   "source": [
    "# calculate user medians\n",
    "user_medians = train.pivot(index='user',columns='artist',values='plays').reset_index().set_index('user').median(axis=1)\n",
    "user_medians = pd.DataFrame(user_medians)\n",
    "user_medians.rename(columns={0:\"user median\"},inplace=True)\n",
    "user_medians.head(1)"
   ]
  },
  {
   "cell_type": "code",
   "execution_count": null,
   "metadata": {
    "collapsed": false
   },
   "outputs": [],
   "source": [
    "# calculate user means\n",
    "user_means = train.pivot(index='user',columns='artist',values='plays').reset_index().set_index('user').mean(axis=1)\n",
    "user_means = pd.DataFrame(user_means)\n",
    "user_means.rename(columns={0:\"user mean\"},inplace=True)\n",
    "user_means.head(1)"
   ]
  },
  {
   "cell_type": "code",
   "execution_count": null,
   "metadata": {
    "collapsed": false
   },
   "outputs": [],
   "source": [
    "# calculate artist medians\n",
    "artist_medians = train.pivot(index='user',columns='artist',values='plays').reset_index().set_index('user').median(axis=0)\n",
    "artist_medians = pd.DataFrame(artist_medians)\n",
    "artist_medians.rename(columns={0:\"artist median\"},inplace=True)\n",
    "artist_medians.head(1)"
   ]
  },
  {
   "cell_type": "code",
   "execution_count": null,
   "metadata": {
    "collapsed": false
   },
   "outputs": [],
   "source": [
    "# calculate artist medians\n",
    "artist_means = train.pivot(index='user',columns='artist',values='plays').reset_index().set_index('user').mean(axis=0)\n",
    "artist_means = pd.DataFrame(artist_means)\n",
    "artist_means.rename(columns={0:\"artist mean\"},inplace=True)\n",
    "artist_means.head(1)"
   ]
  },
  {
   "cell_type": "code",
   "execution_count": null,
   "metadata": {
    "collapsed": false
   },
   "outputs": [],
   "source": [
    "# calculate genre medians\n",
    "genre_medians = train.groupby(\"genre1\").plays.median()\n",
    "genre_medians = pd.DataFrame(genre_medians)\n",
    "genre_medians.rename(columns={'plays':\"genre median\"},inplace=True)\n",
    "genre_medians.head(1)"
   ]
  },
  {
   "cell_type": "code",
   "execution_count": null,
   "metadata": {
    "collapsed": false
   },
   "outputs": [],
   "source": [
    "# calculate genre mean\n",
    "genre_means = train.groupby(\"genre1\").plays.mean()\n",
    "genre_means = pd.DataFrame(genre_means)\n",
    "genre_means.rename(columns={'plays':\"genre mean\"},inplace=True)\n",
    "genre_means.head(1)"
   ]
  },
  {
   "cell_type": "code",
   "execution_count": null,
   "metadata": {
    "collapsed": false
   },
   "outputs": [],
   "source": [
    "# calculate genre_user medians\n",
    "user_genre_medians = train.groupby([\"user\",\"genre1\"]).median().reset_index()\n",
    "user_genre_medians.rename(columns={\"plays\": \"user genre median\"},inplace=True)\n",
    "user_genre_medians.head(1)"
   ]
  },
  {
   "cell_type": "code",
   "execution_count": null,
   "metadata": {
    "collapsed": false
   },
   "outputs": [],
   "source": [
    "# calculate genre_user means\n",
    "user_genre_means = train.groupby([\"user\",\"genre1\"]).mean().reset_index()\n",
    "user_genre_means.rename(columns={\"plays\": \"user genre mean\"},inplace=True)\n",
    "user_genre_means.head(1)"
   ]
  },
  {
   "cell_type": "code",
   "execution_count": null,
   "metadata": {
    "collapsed": false
   },
   "outputs": [],
   "source": [
    "#pivot training data to have one row per user\n",
    "train = train.pivot(index='user',columns='artist',values='plays').reset_index()\n",
    "#train = train.fillna(0)"
   ]
  },
  {
   "cell_type": "code",
   "execution_count": null,
   "metadata": {
    "collapsed": false
   },
   "outputs": [],
   "source": [
    "# join profiles and train together\n",
    "train.reset_index(inplace=True)\n",
    "train.set_index('user',inplace = True)\n",
    "train.drop(\"index\",axis=1,inplace=True)\n",
    "\n",
    "profiles.reset_index(inplace=True)\n",
    "profiles.set_index('user', inplace=True)\n",
    "\n",
    "bigdf = pd.concat([profiles,train],axis=1)\n",
    "bigdf.fillna(0,inplace=True)\n",
    "bigdf.head(1)"
   ]
  },
  {
   "cell_type": "code",
   "execution_count": null,
   "metadata": {
    "collapsed": false
   },
   "outputs": [],
   "source": [
    "scaler = StandardScaler()\n",
    "bigdf_sc = scaler.fit_transform(bigdf)"
   ]
  },
  {
   "cell_type": "code",
   "execution_count": null,
   "metadata": {
    "collapsed": false
   },
   "outputs": [],
   "source": [
    "kmeans = KMeans(init = 'k-means++', n_clusters=50, n_jobs = -1)\n",
    "kmeans.fit(bigdf_sc)"
   ]
  },
  {
   "cell_type": "code",
   "execution_count": null,
   "metadata": {
    "collapsed": false
   },
   "outputs": [],
   "source": [
    "from sklearn.externals import joblib\n",
    "joblib.dump(kmeans, 'filename.pkl') "
   ]
  },
  {
   "cell_type": "code",
   "execution_count": null,
   "metadata": {
    "collapsed": false
   },
   "outputs": [],
   "source": [
    "cols = bigdf.columns\n",
    "centers = pd.DataFrame(scaler.inverse_transform(kmeans.cluster_centers_))\n",
    "centers.columns = cols\n",
    "centers.head()"
   ]
  },
  {
   "cell_type": "markdown",
   "metadata": {},
   "source": [
    "### Create test array to compare to kmeans"
   ]
  },
  {
   "cell_type": "code",
   "execution_count": null,
   "metadata": {
    "collapsed": false
   },
   "outputs": [],
   "source": [
    "closest_centers = kmeans.predict(bigdf_sc)\n",
    "train['closest center'] = closest_centers.tolist()\n",
    "test['closest center'] = None\n",
    "test.set_index(\"user\",inplace=True)\n",
    "test.update(train)\n",
    "test.reset_index(inplace=True)"
   ]
  },
  {
   "cell_type": "code",
   "execution_count": null,
   "metadata": {
    "collapsed": false
   },
   "outputs": [],
   "source": [
    "def get_prediction(x):\n",
    "    artist = x[1]\n",
    "    return centers.ix[x[5],artist]"
   ]
  },
  {
   "cell_type": "code",
   "execution_count": null,
   "metadata": {
    "collapsed": false
   },
   "outputs": [],
   "source": [
    "test[\"kmeans pred\"] = 0\n",
    "test[\"kmeans pred\"] = test.apply(lambda x: get_prediction(x),axis=1)\n",
    "test.head()"
   ]
  },
  {
   "cell_type": "code",
   "execution_count": null,
   "metadata": {
    "collapsed": false
   },
   "outputs": [],
   "source": [
    "# initialize columns\n",
    "test['user genre median'] = np.nan\n",
    "test['user median'] = np.nan\n",
    "test['artist median'] = np.nan\n",
    "test['genre median'] = np.nan\n",
    "test['global median'] = np.nan\n",
    "test['user mean'] = np.nan\n",
    "test['genre mean'] = np.nan\n",
    "test['artist mean'] = np.nan\n",
    "test['user genre mean'] = np.nan\n",
    "\n",
    "# add global median\n",
    "test['global median'] = global_median\n",
    "\n",
    "# add user median\n",
    "test.set_index('user',inplace=True)\n",
    "test.update(user_medians)\n",
    "test.reset_index(inplace=True)\n",
    "\n",
    "# add artist median\n",
    "test.set_index('artist',inplace=True)\n",
    "test.update(artist_medians)\n",
    "test.reset_index(inplace=True)\n",
    "test[\"genre median\"].fillna(test[\"user median\"],inplace=True)\n",
    "\n",
    "# add genre median\n",
    "test.set_index('genre1',inplace=True)\n",
    "test.update(genre_medians)\n",
    "test.reset_index(inplace=True)\n",
    "test[\"genre median\"].fillna(test[\"user median\"],inplace=True)\n",
    "\n",
    "# add user genre median\n",
    "test.set_index(['user','genre1'],inplace=True)\n",
    "test.update(user_genre_medians.set_index([\"user\",\"genre1\"]))\n",
    "test.reset_index(inplace=True)\n",
    "test[\"user genre median\"].fillna(test[\"user median\"],inplace=True)\n",
    "\n",
    "# add user mean\n",
    "test.set_index('user',inplace=True)\n",
    "test.update(user_means)\n",
    "test.reset_index(inplace=True)\n",
    "\n",
    "# add artist mean\n",
    "test.set_index('artist',inplace=True)\n",
    "test.update(artist_means)\n",
    "test.reset_index(inplace=True)\n",
    "test[\"genre mean\"].fillna(test[\"user mean\"],inplace=True)\n",
    "\n",
    "# add genre mean\n",
    "test.set_index('genre1',inplace=True)\n",
    "test.update(genre_means)\n",
    "test.reset_index(inplace=True)\n",
    "test[\"genre mean\"].fillna(test[\"user mean\"],inplace=True)\n",
    "\n",
    "# add user genre mean\n",
    "test.set_index(['user','genre1'],inplace=True)\n",
    "test.update(user_genre_means.set_index([\"user\",\"genre1\"]))\n",
    "test.reset_index(inplace=True)\n",
    "test[\"user genre mean\"].fillna(test[\"user mean\"],inplace=True)\n",
    "test.head(1)"
   ]
  },
  {
   "cell_type": "code",
   "execution_count": null,
   "metadata": {
    "collapsed": false
   },
   "outputs": [],
   "source": [
    "# weighted ensemble\n",
    "stacking= linear_model.LinearRegression()\n",
    "\n",
    "X = np.vstack([test['kmeans pred'].values,test['user median'].values])\n",
    "X = np.vstack([X,test['user genre median'].values])\n",
    "X = np.vstack([X,test['genre median'].values])\n",
    "X = np.vstack([X,test['artist median'].values])\n",
    "X = np.vstack([X,test['global median'].values])\n",
    "X = np.vstack([X,test['user mean'].values])\n",
    "X = np.vstack([X,test['user genre mean'].values])\n",
    "X = np.vstack([X,test['genre mean'].values])\n",
    "X = np.vstack([X,test['artist mean'].values])\n",
    "X = X.T\n",
    "X.shape\n",
    "\n",
    "y = test['plays'].values\n",
    "\n",
    "stacking.fit(X,y)\n",
    "stacking.coef_"
   ]
  },
  {
   "cell_type": "code",
   "execution_count": null,
   "metadata": {
    "collapsed": false
   },
   "outputs": [],
   "source": [
    "test['ensemble'] =                            \\\n",
    "stacking.coef_[0]*test['kmeans pred']         \\\n",
    "+ stacking.coef_[1]*test['user median']       \\\n",
    "+ stacking.coef_[2]*test['user genre median'] \\\n",
    "+ stacking.coef_[3]*test['genre median']      \\\n",
    "+ stacking.coef_[4]*test['artist median']     \\\n",
    "+ stacking.coef_[5]*test['global median']     \\\n",
    "+ stacking.coef_[6]*test['user mean']\n",
    "+ stacking.coef_[7]*test['user genre mean']   \\\n",
    "+ stacking.coef_[8]*test['genre mean']        \\\n",
    "+ stacking.coef_[9]*test['artist mean']      \n",
    "\n",
    "test['AE'] = np.abs(test['plays']-test['ensemble'])  "
   ]
  },
  {
   "cell_type": "code",
   "execution_count": null,
   "metadata": {
    "collapsed": false
   },
   "outputs": [],
   "source": [
    "print \"MAE is:\", test.AE.mean()"
   ]
  },
  {
   "cell_type": "code",
   "execution_count": null,
   "metadata": {
    "collapsed": false
   },
   "outputs": [],
   "source": [
    "output_for_kaggle = test.copy()\n",
    "output_for_kaggle.drop([\"plays\",\"closest center\", \"AE\", \"genre1\",\"user\",\"artist\",\"kmeans pred\",\"user genre median\",\"user median\", \"genre median\", \"global median\",\"artist median\",\"artist mean\",\"user mean\", \"genre mean\", \"user genre mean\"],axis=1,inplace=True)\n",
    "output_for_kaggle.rename(columns={\"ensemble\":\"plays\"},inplace = True)\n",
    "output_for_kaggle.head()"
   ]
  },
  {
   "cell_type": "code",
   "execution_count": null,
   "metadata": {
    "collapsed": true
   },
   "outputs": [],
   "source": []
  }
 ],
 "metadata": {
  "kernelspec": {
   "display_name": "Python 2",
   "language": "python",
   "name": "python2"
  },
  "language_info": {
   "codemirror_mode": {
    "name": "ipython",
    "version": 2
   },
   "file_extension": ".py",
   "mimetype": "text/x-python",
   "name": "python",
   "nbconvert_exporter": "python",
   "pygments_lexer": "ipython2",
   "version": "2.7.11"
  }
 },
 "nbformat": 4,
 "nbformat_minor": 0
}
