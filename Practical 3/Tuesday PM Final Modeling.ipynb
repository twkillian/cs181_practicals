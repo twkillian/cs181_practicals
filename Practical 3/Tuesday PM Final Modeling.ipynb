{
 "cells": [
  {
   "cell_type": "code",
   "execution_count": 1,
   "metadata": {
    "collapsed": true
   },
   "outputs": [],
   "source": [
    "# Load libraries\n",
    "import numpy as np\n",
    "import matplotlib.pyplot as plt\n",
    "import pandas as pd\n",
    "import pickle\n",
    "from time import time\n",
    "from sklearn import linear_model\n",
    "from sklearn.cross_validation import train_test_split\n",
    "from sklearn.neighbors import KNeighborsRegressor\n",
    "from sklearn.preprocessing import StandardScaler\n",
    "import warnings\n",
    "import math\n",
    "from sklearn.cluster import KMeans\n",
    "import pickle\n",
    "warnings.filterwarnings('ignore')\n",
    "%matplotlib inline"
   ]
  },
  {
   "cell_type": "markdown",
   "metadata": {},
   "source": [
    "### Load .csv files"
   ]
  },
  {
   "cell_type": "code",
   "execution_count": 2,
   "metadata": {
    "collapsed": false
   },
   "outputs": [],
   "source": [
    "# load default data frames\n",
    "train_df = pd.read_csv(\"train.csv\")\n",
    "test_df = pd.read_csv(\"test.csv\")\n",
    "artists_df = pd.read_csv(\"artists.csv\")\n",
    "global_median_df = pd.read_csv(\"global_median.csv\")\n",
    "profiles = pd.read_csv(\"profiles.csv\")"
   ]
  },
  {
   "cell_type": "markdown",
   "metadata": {},
   "source": [
    "### Create profiles df, imput ages"
   ]
  },
  {
   "cell_type": "code",
   "execution_count": 3,
   "metadata": {
    "collapsed": false
   },
   "outputs": [
    {
     "data": {
      "text/html": [
       "<div>\n",
       "<table border=\"1\" class=\"dataframe\">\n",
       "  <thead>\n",
       "    <tr style=\"text-align: right;\">\n",
       "      <th></th>\n",
       "      <th>age</th>\n",
       "      <th>male</th>\n",
       "      <th>female</th>\n",
       "      <th>age_missing</th>\n",
       "      <th>country_missing</th>\n",
       "      <th>Sweden</th>\n",
       "      <th>Iceland</th>\n",
       "      <th>United States</th>\n",
       "      <th>Germany</th>\n",
       "      <th>Netherlands</th>\n",
       "      <th>...</th>\n",
       "      <th>Myanmar</th>\n",
       "      <th>Somalia</th>\n",
       "      <th>Gambia</th>\n",
       "      <th>Mozambique</th>\n",
       "      <th>Rwanda</th>\n",
       "      <th>Saint Kitts and Nevis</th>\n",
       "      <th>New Caledonia</th>\n",
       "      <th>Sudan</th>\n",
       "      <th>Guyana</th>\n",
       "      <th>Marshall Islands</th>\n",
       "    </tr>\n",
       "    <tr>\n",
       "      <th>user</th>\n",
       "      <th></th>\n",
       "      <th></th>\n",
       "      <th></th>\n",
       "      <th></th>\n",
       "      <th></th>\n",
       "      <th></th>\n",
       "      <th></th>\n",
       "      <th></th>\n",
       "      <th></th>\n",
       "      <th></th>\n",
       "      <th></th>\n",
       "      <th></th>\n",
       "      <th></th>\n",
       "      <th></th>\n",
       "      <th></th>\n",
       "      <th></th>\n",
       "      <th></th>\n",
       "      <th></th>\n",
       "      <th></th>\n",
       "      <th></th>\n",
       "      <th></th>\n",
       "    </tr>\n",
       "  </thead>\n",
       "  <tbody>\n",
       "    <tr>\n",
       "      <th>fa40b43298ba3f8aa52e8e8863faf2e2171e0b5d</th>\n",
       "      <td>25</td>\n",
       "      <td>0</td>\n",
       "      <td>1</td>\n",
       "      <td>0</td>\n",
       "      <td>0</td>\n",
       "      <td>1</td>\n",
       "      <td>0</td>\n",
       "      <td>0</td>\n",
       "      <td>0</td>\n",
       "      <td>0</td>\n",
       "      <td>...</td>\n",
       "      <td>0</td>\n",
       "      <td>0</td>\n",
       "      <td>0</td>\n",
       "      <td>0</td>\n",
       "      <td>0</td>\n",
       "      <td>0</td>\n",
       "      <td>0</td>\n",
       "      <td>0</td>\n",
       "      <td>0</td>\n",
       "      <td>0</td>\n",
       "    </tr>\n",
       "  </tbody>\n",
       "</table>\n",
       "<p>1 rows × 244 columns</p>\n",
       "</div>"
      ],
      "text/plain": [
       "                                          age  male  female  age_missing  \\\n",
       "user                                                                       \n",
       "fa40b43298ba3f8aa52e8e8863faf2e2171e0b5d   25     0       1            0   \n",
       "\n",
       "                                          country_missing  Sweden  Iceland  \\\n",
       "user                                                                         \n",
       "fa40b43298ba3f8aa52e8e8863faf2e2171e0b5d                0       1        0   \n",
       "\n",
       "                                          United States  Germany  Netherlands  \\\n",
       "user                                                                            \n",
       "fa40b43298ba3f8aa52e8e8863faf2e2171e0b5d              0        0            0   \n",
       "\n",
       "                                                ...         Myanmar  Somalia  \\\n",
       "user                                            ...                            \n",
       "fa40b43298ba3f8aa52e8e8863faf2e2171e0b5d        ...               0        0   \n",
       "\n",
       "                                          Gambia  Mozambique  Rwanda  \\\n",
       "user                                                                   \n",
       "fa40b43298ba3f8aa52e8e8863faf2e2171e0b5d       0           0       0   \n",
       "\n",
       "                                          Saint Kitts and Nevis  \\\n",
       "user                                                              \n",
       "fa40b43298ba3f8aa52e8e8863faf2e2171e0b5d                      0   \n",
       "\n",
       "                                          New Caledonia  Sudan  Guyana  \\\n",
       "user                                                                     \n",
       "fa40b43298ba3f8aa52e8e8863faf2e2171e0b5d              0      0       0   \n",
       "\n",
       "                                          Marshall Islands  \n",
       "user                                                        \n",
       "fa40b43298ba3f8aa52e8e8863faf2e2171e0b5d                 0  \n",
       "\n",
       "[1 rows x 244 columns]"
      ]
     },
     "execution_count": 3,
     "metadata": {},
     "output_type": "execute_result"
    }
   ],
   "source": [
    "# CREATES PROFILES DF\n",
    "\n",
    "# # condition = (profiles_df['age'].isnull()) | (profiles_df['age'] < 95) | (profiles_df['age'] > 0)\n",
    "# # profiles_df[condition] = np.nan\n",
    "# profiles_df.loc[profiles_df[\"age\"] < 5 ,'age'] = None\n",
    "# profiles_df.loc[profiles_df[\"age\"] > 85 ,'age'] = None\n",
    "# profiles_df.loc[profiles_df[\"age\"].isnull(),'age'] = None\n",
    "\n",
    "# # calculate mean age per user\n",
    "# mean_age = profiles_df[~profiles_df['age'].isnull()][\"age\"].mean()\n",
    "\n",
    "# ###################################################################### \n",
    "\n",
    "# # calculate mean age per men\n",
    "# males_only_df = profiles_df[profiles_df[\"sex\"]=='m']\n",
    "# mean_male_age = males_only_df[~males_only_df['sex'].isnull()][\"age\"].mean()\n",
    "\n",
    "# ###################################################################### \n",
    "\n",
    "# # calculate mean age per women\n",
    "# females_only_df = profiles_df[profiles_df[\"sex\"]=='f']\n",
    "# mean_female_age = females_only_df[~females_only_df['sex'].isnull()][\"age\"].mean()\n",
    "\n",
    "# ###################################################################### \n",
    "\n",
    "# # get list of unique countries\n",
    "# countries = profiles_df[\"country\"].unique()\n",
    "\n",
    "# # calculate mean age per country\n",
    "# mean_country_age = {}\n",
    "# for country in countries:\n",
    "#     tmp_df = profiles_df[profiles_df[\"country\"]==str(country)].copy()\n",
    "#     mean_country_age[str(country)] = tmp_df[\"age\"].mean()\n",
    "\n",
    "# ###################################################################### \n",
    "    \n",
    "# # calculate mean age per male per country\n",
    "# mean_country_male_age = {}\n",
    "# for country in countries:\n",
    "#     tmp_df0 = profiles_df[profiles_df[\"sex\"]=='m'].copy()\n",
    "#     tmp_df1 = tmp_df0[profiles_df[\"country\"]==str(country)].copy()\n",
    "#     mean_country_male_age[str(country)] = tmp_df1[\"age\"].mean()\n",
    "\n",
    "# ###################################################################### \n",
    "\n",
    "# # calculate mean age per female per country\n",
    "# mean_country_female_age = {}\n",
    "# for country in countries:\n",
    "#     tmp_df0 = profiles_df[profiles_df[\"sex\"]=='f'].copy()\n",
    "#     tmp_df1 = tmp_df0[profiles_df[\"country\"]==str(country)].copy()\n",
    "#     mean_country_female_age[str(country)] = tmp_df1[\"age\"].mean()\n",
    "\n",
    "# ###################################################################### \n",
    "\n",
    "# # initialize training df\n",
    "# profiles = profiles_df\n",
    "\n",
    "# ###################################################################### \n",
    "\n",
    "# # create sex indicators\n",
    "# profiles[\"male\"] = 0\n",
    "# profiles[\"female\"] = 0\n",
    "# profiles[\"sex_missing\"] = 0\n",
    "# profiles.loc[profiles[\"sex\"] =='m', \"male\"] = 1\n",
    "# profiles.loc[profiles[\"sex\"] =='f', \"female\"] = 1\n",
    "# profiles.loc[profiles[\"sex\"].isnull(), \"sex_missing\"] = 1\n",
    "\n",
    "# ######################################################################  \n",
    "\n",
    "# # create age indicators\n",
    "# profiles[\"age_missing\"] = 0\n",
    "# profiles.loc[profiles[\"age\"].isnull(),\"age_missing\"] = 1\n",
    "\n",
    "# # fill in mean age: has no gender or country\n",
    "# profiles.loc[profiles[\"age_missing\"] == 1, \"age\"] = mean_age\n",
    "\n",
    "# # fill in mean age: has gender, no country\n",
    "# #males\n",
    "# condition = (profiles[\"sex\"] =='m') & (profiles[\"country\"].isnull()) & (profiles[\"age_missing\"] == 1)\n",
    "# profiles.loc[condition, \"age\"] = mean_male_age\n",
    "# # females\n",
    "# condition = (profiles[\"sex\"] =='f') & (profiles[\"country\"].isnull()) & (profiles[\"age_missing\"] == 1)\n",
    "# profiles.loc[condition, \"age\"] = mean_female_age\n",
    "\n",
    "# # fill in mean age: has country, no gender\n",
    "# #loop over countries\n",
    "# for country in countries:\n",
    "#     condition = (profiles[\"country\"] == country) & (profiles[\"age_missing\"] == 1) & (profiles[\"sex_missing\"] == 1)\n",
    "#     profiles.loc[condition, \"age\"] = mean_country_age[country]\n",
    "\n",
    "# # fill in mean age: has gender and country\n",
    "# # loop over countries\n",
    "# for country in countries:\n",
    "#     # males\n",
    "#     condition = (profiles[\"country\"] == country) & (profiles[\"sex\"] == 'm') & (profiles[\"age_missing\"] == 1)\n",
    "#     profiles.loc[condition, \"age\"] = mean_country_male_age[country]\n",
    "#     # females\n",
    "#     condition = (profiles[\"country\"] == country) & (profiles[\"sex\"] == 'f') & (profiles[\"age_missing\"] == 1)\n",
    "#     profiles.loc[condition, \"age\"] = mean_country_female_age[country]\n",
    "\n",
    "# ###################################################################### \n",
    "    \n",
    "# # create country indicators\n",
    "# profiles[\"country_missing\"] = 0\n",
    "# profiles.loc[profiles[\"country\"].isnull(), \"country_missing\"] = 1\n",
    "# # loop over countries\n",
    "# for country in countries:\n",
    "#     # assign 1 if in that country\n",
    "#     profiles.loc[profiles[\"country\"] == country, country] = 1\n",
    "#     # assign 0 otherwise\n",
    "#     profiles.loc[profiles[\"country\"] != country, country] = 0\n",
    "\n",
    "# ###################################################################### \n",
    "\n",
    "# profiles.to_csv(\"profiles.csv\")\n",
    "\n",
    "# ###################################################################### \n",
    "\n",
    "# clean profiles df\n",
    "profiles.drop(\"sex\",inplace=True,axis=1)\n",
    "profiles.drop(\"country\",inplace=True,axis=1)\n",
    "profiles.drop(\"Unnamed: 0\",axis=1,inplace=True)\n",
    "profiles.set_index(\"user\",inplace=True)\n",
    "profiles.drop(\"sex_missing\",inplace=True,axis=1)\n",
    "profiles.head(1)"
   ]
  },
  {
   "cell_type": "markdown",
   "metadata": {},
   "source": [
    "### Grab genres for each artist"
   ]
  },
  {
   "cell_type": "code",
   "execution_count": 4,
   "metadata": {
    "collapsed": false
   },
   "outputs": [
    {
     "data": {
      "text/html": [
       "<div>\n",
       "<table border=\"1\" class=\"dataframe\">\n",
       "  <thead>\n",
       "    <tr style=\"text-align: right;\">\n",
       "      <th></th>\n",
       "      <th>name</th>\n",
       "      <th>genre1</th>\n",
       "      <th>num_votes1</th>\n",
       "      <th>genre2</th>\n",
       "      <th>num_votes2</th>\n",
       "      <th>genre3</th>\n",
       "      <th>num_votes3</th>\n",
       "      <th>genre4</th>\n",
       "      <th>num_votes4</th>\n",
       "      <th>genre5</th>\n",
       "      <th>num_votes5</th>\n",
       "      <th>extra</th>\n",
       "      <th>per_votes1</th>\n",
       "      <th>per_votes2</th>\n",
       "      <th>per_votes3</th>\n",
       "    </tr>\n",
       "  </thead>\n",
       "  <tbody>\n",
       "    <tr>\n",
       "      <th>03098741-08b3-4dd7-b3f6-1b0bfa2c879c</th>\n",
       "      <td>Liars</td>\n",
       "      <td>alternative rock</td>\n",
       "      <td>1</td>\n",
       "      <td>art punk</td>\n",
       "      <td>1</td>\n",
       "      <td>dance-punk</td>\n",
       "      <td>1</td>\n",
       "      <td>experimental rock</td>\n",
       "      <td>1</td>\n",
       "      <td>indie rock</td>\n",
       "      <td>1</td>\n",
       "      <td>NaN</td>\n",
       "      <td>33.333333</td>\n",
       "      <td>33.333333</td>\n",
       "      <td>33.333333</td>\n",
       "    </tr>\n",
       "  </tbody>\n",
       "</table>\n",
       "</div>"
      ],
      "text/plain": [
       "                                       name            genre1  num_votes1  \\\n",
       "03098741-08b3-4dd7-b3f6-1b0bfa2c879c  Liars  alternative rock           1   \n",
       "\n",
       "                                        genre2  num_votes2      genre3  \\\n",
       "03098741-08b3-4dd7-b3f6-1b0bfa2c879c  art punk           1  dance-punk   \n",
       "\n",
       "                                      num_votes3             genre4  \\\n",
       "03098741-08b3-4dd7-b3f6-1b0bfa2c879c           1  experimental rock   \n",
       "\n",
       "                                      num_votes4      genre5  num_votes5  \\\n",
       "03098741-08b3-4dd7-b3f6-1b0bfa2c879c           1  indie rock           1   \n",
       "\n",
       "                                      extra  per_votes1  per_votes2  \\\n",
       "03098741-08b3-4dd7-b3f6-1b0bfa2c879c    NaN   33.333333   33.333333   \n",
       "\n",
       "                                      per_votes3  \n",
       "03098741-08b3-4dd7-b3f6-1b0bfa2c879c   33.333333  "
      ]
     },
     "execution_count": 4,
     "metadata": {},
     "output_type": "execute_result"
    }
   ],
   "source": [
    "# load genre data frames and do some cleaning\n",
    "artists_with_1genre_df = pd.read_csv(\"artists_with_genres.csv\")\n",
    "artists_with_5genres_df = pd.read_csv(\"artists_with_top_5_genres.csv\")\n",
    "artists_with_5genres_df.rename(columns = {\"num_votes5\":\"extra\"}, inplace = True)\n",
    "artists_with_5genres_df.rename(columns = {\"genre5\":\"num_votes5\"}, inplace = True)\n",
    "artists_with_5genres_df.rename(columns = {\"num_votes4\":\"genre5\"}, inplace = True)\n",
    "artists_with_5genres_df.rename(columns = {\"genre4\":\"num_votes4\"}, inplace = True)\n",
    "artists_with_5genres_df.rename(columns = {\"num_votes3\":\"genre4\"}, inplace = True)\n",
    "artists_with_5genres_df.rename(columns = {\"genre3\":\"num_votes3\"}, inplace = True)\n",
    "artists_with_5genres_df.rename(columns = {\"num_votes2\":\"genre3\"}, inplace = True)\n",
    "artists_with_5genres_df.rename(columns = {\"genre2\":\"num_votes2\"}, inplace = True)\n",
    "artists_with_5genres_df.rename(columns = {\"num_votes1\":\"genre2\"}, inplace = True)\n",
    "artists_with_5genres_df.rename(columns = {\"genre1\":\"num_votes1\"}, inplace = True)\n",
    "artists_with_5genres_df.rename(columns = {\"name\":\"genre1\"}, inplace = True)\n",
    "artists_with_5genres_df.rename(columns = {\"artist\":\"name\"}, inplace = True)\n",
    "\n",
    "# Calculate percent of votes\n",
    "agn = artists_with_5genres_df[[\"num_votes1\",\"num_votes2\",\"num_votes3\"]]\n",
    "agn.rename(columns = {\"num_votes1\":\"per_votes1\"}, inplace = True)\n",
    "agn.rename(columns = {\"num_votes2\":\"per_votes2\"}, inplace = True)\n",
    "agn.rename(columns = {\"num_votes3\":\"per_votes3\"}, inplace = True)\n",
    "agn = agn.apply(lambda c: c / c.sum() * 100, axis=1)\n",
    "\n",
    "del artists_df\n",
    "\n",
    "# combine dfs together\n",
    "artists_with_5genres_df = pd.concat([artists_with_5genres_df, agn], axis=1)\n",
    "artists_with_5genres_df.head(1)"
   ]
  },
  {
   "cell_type": "markdown",
   "metadata": {},
   "source": [
    "### Create train df"
   ]
  },
  {
   "cell_type": "code",
   "execution_count": 5,
   "metadata": {
    "collapsed": false
   },
   "outputs": [],
   "source": [
    "# Train - Test Split on profiles to ensure users are in one group or another\n",
    "train, test = train_test_split(train_df, test_size = .1)\n",
    "# train, valid = train_test_split(train0, test_size = .1)\n",
    "#train = train_df.copy()"
   ]
  },
  {
   "cell_type": "code",
   "execution_count": 6,
   "metadata": {
    "collapsed": false
   },
   "outputs": [],
   "source": [
    "# def genre_select(x,at5g):\n",
    "#     artist = x[0]\n",
    "#     genres = np.array([at5g.loc[artist,\"genre1\"],at5g.loc[artist,\"genre2\"],at5g.loc[artist,\"genre3\"]])\n",
    "#     votes = np.array([at5g.loc[artist,\"per_votes1\"],at5g.loc[artist,\"per_votes2\"],at5g.loc[artist,\"per_votes3\"]])\n",
    "#     votes_tot = np.sum(votes)\n",
    "#     if votes_tot != 0:\n",
    "#         weights = votes/float(votes_tot)\n",
    "#         return np.random.choice(genres, p= weights)\n",
    "#     else:\n",
    "#         return None"
   ]
  },
  {
   "cell_type": "code",
   "execution_count": 7,
   "metadata": {
    "collapsed": false
   },
   "outputs": [],
   "source": [
    "#add primary genre to train\n",
    "train[\"genre1\"] = np.nan\n",
    "train.set_index(\"artist\", inplace=True)\n",
    "train.update(artists_with_5genres_df)\n",
    "train.reset_index(inplace=True)\n",
    "\n",
    "test[\"genre1\"] = np.nan\n",
    "test.set_index(\"artist\", inplace=True)\n",
    "test.update(artists_with_5genres_df)\n",
    "test.reset_index(inplace=True)"
   ]
  },
  {
   "cell_type": "code",
   "execution_count": 8,
   "metadata": {
    "collapsed": false
   },
   "outputs": [],
   "source": [
    "# train.genre = train.apply(lambda x: genre_select(x,artists_with_5genres_df),axis = 1)"
   ]
  },
  {
   "cell_type": "code",
   "execution_count": 9,
   "metadata": {
    "collapsed": true
   },
   "outputs": [],
   "source": [
    "# train.to_csv(\"train_wGenreChoice.csv\")"
   ]
  },
  {
   "cell_type": "markdown",
   "metadata": {},
   "source": [
    "### compute averages"
   ]
  },
  {
   "cell_type": "code",
   "execution_count": 10,
   "metadata": {
    "collapsed": true
   },
   "outputs": [],
   "source": [
    "# calculate global median\n",
    "global_median = global_median_df.iloc[0,1]\n",
    "del global_median_df\n",
    "global_median.head(1)"
   ]
  },
  {
   "cell_type": "code",
   "execution_count": 11,
   "metadata": {
    "collapsed": false
   },
   "outputs": [
    {
     "data": {
      "text/html": [
       "<div>\n",
       "<table border=\"1\" class=\"dataframe\">\n",
       "  <thead>\n",
       "    <tr style=\"text-align: right;\">\n",
       "      <th></th>\n",
       "      <th>user median</th>\n",
       "    </tr>\n",
       "    <tr>\n",
       "      <th>user</th>\n",
       "      <th></th>\n",
       "    </tr>\n",
       "  </thead>\n",
       "  <tbody>\n",
       "    <tr>\n",
       "      <th>00000c289a1829a808ac09c00daf10bc3c4e223b</th>\n",
       "      <td>231</td>\n",
       "    </tr>\n",
       "  </tbody>\n",
       "</table>\n",
       "</div>"
      ],
      "text/plain": [
       "                                          user median\n",
       "user                                                 \n",
       "00000c289a1829a808ac09c00daf10bc3c4e223b          231"
      ]
     },
     "execution_count": 11,
     "metadata": {},
     "output_type": "execute_result"
    }
   ],
   "source": [
    "# calculate user medians\n",
    "user_medians = train.pivot(index='user',columns='artist',values='plays').reset_index().set_index('user').median(axis=1)\n",
    "user_medians = pd.DataFrame(user_medians)\n",
    "user_medians.rename(columns={0:\"user median\"},inplace=True)\n",
    "user_medians.head(1)"
   ]
  },
  {
   "cell_type": "code",
   "execution_count": 12,
   "metadata": {
    "collapsed": false
   },
   "outputs": [
    {
     "data": {
      "text/html": [
       "<div>\n",
       "<table border=\"1\" class=\"dataframe\">\n",
       "  <thead>\n",
       "    <tr style=\"text-align: right;\">\n",
       "      <th></th>\n",
       "      <th>user mean</th>\n",
       "    </tr>\n",
       "    <tr>\n",
       "      <th>user</th>\n",
       "      <th></th>\n",
       "    </tr>\n",
       "  </thead>\n",
       "  <tbody>\n",
       "    <tr>\n",
       "      <th>00000c289a1829a808ac09c00daf10bc3c4e223b</th>\n",
       "      <td>282.333333</td>\n",
       "    </tr>\n",
       "  </tbody>\n",
       "</table>\n",
       "</div>"
      ],
      "text/plain": [
       "                                           user mean\n",
       "user                                                \n",
       "00000c289a1829a808ac09c00daf10bc3c4e223b  282.333333"
      ]
     },
     "execution_count": 12,
     "metadata": {},
     "output_type": "execute_result"
    }
   ],
   "source": [
    "# calculate user means\n",
    "user_means = train.pivot(index='user',columns='artist',values='plays').reset_index().set_index('user').mean(axis=1)\n",
    "user_means = pd.DataFrame(user_means)\n",
    "user_means.rename(columns={0:\"user mean\"},inplace=True)\n",
    "user_means.head(1)"
   ]
  },
  {
   "cell_type": "code",
   "execution_count": 13,
   "metadata": {
    "collapsed": false
   },
   "outputs": [
    {
     "data": {
      "text/html": [
       "<div>\n",
       "<table border=\"1\" class=\"dataframe\">\n",
       "  <thead>\n",
       "    <tr style=\"text-align: right;\">\n",
       "      <th></th>\n",
       "      <th>artist median</th>\n",
       "    </tr>\n",
       "    <tr>\n",
       "      <th>artist</th>\n",
       "      <th></th>\n",
       "    </tr>\n",
       "  </thead>\n",
       "  <tbody>\n",
       "    <tr>\n",
       "      <th>000d90ec-d64c-48a1-b775-e726fd240e9f</th>\n",
       "      <td>117</td>\n",
       "    </tr>\n",
       "  </tbody>\n",
       "</table>\n",
       "</div>"
      ],
      "text/plain": [
       "                                      artist median\n",
       "artist                                             \n",
       "000d90ec-d64c-48a1-b775-e726fd240e9f            117"
      ]
     },
     "execution_count": 13,
     "metadata": {},
     "output_type": "execute_result"
    }
   ],
   "source": [
    "# calculate artist medians\n",
    "artist_medians = train.pivot(index='user',columns='artist',values='plays').reset_index().set_index('user').median(axis=0)\n",
    "artist_medians = pd.DataFrame(artist_medians)\n",
    "artist_medians.rename(columns={0:\"artist median\"},inplace=True)\n",
    "artist_medians.head(1)"
   ]
  },
  {
   "cell_type": "code",
   "execution_count": 14,
   "metadata": {
    "collapsed": false
   },
   "outputs": [
    {
     "data": {
      "text/html": [
       "<div>\n",
       "<table border=\"1\" class=\"dataframe\">\n",
       "  <thead>\n",
       "    <tr style=\"text-align: right;\">\n",
       "      <th></th>\n",
       "      <th>artist mean</th>\n",
       "    </tr>\n",
       "    <tr>\n",
       "      <th>artist</th>\n",
       "      <th></th>\n",
       "    </tr>\n",
       "  </thead>\n",
       "  <tbody>\n",
       "    <tr>\n",
       "      <th>000d90ec-d64c-48a1-b775-e726fd240e9f</th>\n",
       "      <td>190.855234</td>\n",
       "    </tr>\n",
       "  </tbody>\n",
       "</table>\n",
       "</div>"
      ],
      "text/plain": [
       "                                      artist mean\n",
       "artist                                           \n",
       "000d90ec-d64c-48a1-b775-e726fd240e9f   190.855234"
      ]
     },
     "execution_count": 14,
     "metadata": {},
     "output_type": "execute_result"
    }
   ],
   "source": [
    "# calculate artist medians\n",
    "artist_means = train.pivot(index='user',columns='artist',values='plays').reset_index().set_index('user').mean(axis=0)\n",
    "artist_means = pd.DataFrame(artist_means)\n",
    "artist_means.rename(columns={0:\"artist mean\"},inplace=True)\n",
    "artist_means.head(1)"
   ]
  },
  {
   "cell_type": "code",
   "execution_count": 15,
   "metadata": {
    "collapsed": false
   },
   "outputs": [
    {
     "data": {
      "text/html": [
       "<div>\n",
       "<table border=\"1\" class=\"dataframe\">\n",
       "  <thead>\n",
       "    <tr style=\"text-align: right;\">\n",
       "      <th></th>\n",
       "      <th>genre median</th>\n",
       "    </tr>\n",
       "    <tr>\n",
       "      <th>genre1</th>\n",
       "      <th></th>\n",
       "    </tr>\n",
       "  </thead>\n",
       "  <tbody>\n",
       "    <tr>\n",
       "      <th>00s</th>\n",
       "      <td>93</td>\n",
       "    </tr>\n",
       "  </tbody>\n",
       "</table>\n",
       "</div>"
      ],
      "text/plain": [
       "        genre median\n",
       "genre1              \n",
       "00s               93"
      ]
     },
     "execution_count": 15,
     "metadata": {},
     "output_type": "execute_result"
    }
   ],
   "source": [
    "# calculate genre medians\n",
    "genre_medians = train.groupby(\"genre1\").plays.median()\n",
    "genre_medians = pd.DataFrame(genre_medians)\n",
    "genre_medians.rename(columns={'plays':\"genre median\"},inplace=True)\n",
    "genre_medians.head(1)"
   ]
  },
  {
   "cell_type": "code",
   "execution_count": 16,
   "metadata": {
    "collapsed": false
   },
   "outputs": [
    {
     "data": {
      "text/html": [
       "<div>\n",
       "<table border=\"1\" class=\"dataframe\">\n",
       "  <thead>\n",
       "    <tr style=\"text-align: right;\">\n",
       "      <th></th>\n",
       "      <th>genre mean</th>\n",
       "    </tr>\n",
       "    <tr>\n",
       "      <th>genre1</th>\n",
       "      <th></th>\n",
       "    </tr>\n",
       "  </thead>\n",
       "  <tbody>\n",
       "    <tr>\n",
       "      <th>00s</th>\n",
       "      <td>204.327955</td>\n",
       "    </tr>\n",
       "  </tbody>\n",
       "</table>\n",
       "</div>"
      ],
      "text/plain": [
       "        genre mean\n",
       "genre1            \n",
       "00s     204.327955"
      ]
     },
     "execution_count": 16,
     "metadata": {},
     "output_type": "execute_result"
    }
   ],
   "source": [
    "# calculate genre mean\n",
    "genre_means = train.groupby(\"genre1\").plays.mean()\n",
    "genre_means = pd.DataFrame(genre_means)\n",
    "genre_means.rename(columns={'plays':\"genre mean\"},inplace=True)\n",
    "genre_means.head(1)"
   ]
  },
  {
   "cell_type": "code",
   "execution_count": 17,
   "metadata": {
    "collapsed": false
   },
   "outputs": [
    {
     "data": {
      "text/html": [
       "<div>\n",
       "<table border=\"1\" class=\"dataframe\">\n",
       "  <thead>\n",
       "    <tr style=\"text-align: right;\">\n",
       "      <th></th>\n",
       "      <th>user</th>\n",
       "      <th>genre1</th>\n",
       "      <th>user genre median</th>\n",
       "    </tr>\n",
       "  </thead>\n",
       "  <tbody>\n",
       "    <tr>\n",
       "      <th>0</th>\n",
       "      <td>00000c289a1829a808ac09c00daf10bc3c4e223b</td>\n",
       "      <td>acoustic rock</td>\n",
       "      <td>182</td>\n",
       "    </tr>\n",
       "  </tbody>\n",
       "</table>\n",
       "</div>"
      ],
      "text/plain": [
       "                                       user         genre1  user genre median\n",
       "0  00000c289a1829a808ac09c00daf10bc3c4e223b  acoustic rock                182"
      ]
     },
     "execution_count": 17,
     "metadata": {},
     "output_type": "execute_result"
    }
   ],
   "source": [
    "# calculate genre_user medians\n",
    "user_genre_medians = train.groupby([\"user\",\"genre1\"]).median().reset_index()\n",
    "user_genre_medians.rename(columns={\"plays\": \"user genre median\"},inplace=True)\n",
    "user_genre_medians.head(1)"
   ]
  },
  {
   "cell_type": "code",
   "execution_count": 18,
   "metadata": {
    "collapsed": false
   },
   "outputs": [
    {
     "data": {
      "text/html": [
       "<div>\n",
       "<table border=\"1\" class=\"dataframe\">\n",
       "  <thead>\n",
       "    <tr style=\"text-align: right;\">\n",
       "      <th></th>\n",
       "      <th>user</th>\n",
       "      <th>genre1</th>\n",
       "      <th>user genre mean</th>\n",
       "    </tr>\n",
       "  </thead>\n",
       "  <tbody>\n",
       "    <tr>\n",
       "      <th>0</th>\n",
       "      <td>00000c289a1829a808ac09c00daf10bc3c4e223b</td>\n",
       "      <td>acoustic rock</td>\n",
       "      <td>182</td>\n",
       "    </tr>\n",
       "  </tbody>\n",
       "</table>\n",
       "</div>"
      ],
      "text/plain": [
       "                                       user         genre1  user genre mean\n",
       "0  00000c289a1829a808ac09c00daf10bc3c4e223b  acoustic rock              182"
      ]
     },
     "execution_count": 18,
     "metadata": {},
     "output_type": "execute_result"
    }
   ],
   "source": [
    "# calculate genre_user means\n",
    "user_genre_means = train.groupby([\"user\",\"genre1\"]).mean().reset_index()\n",
    "user_genre_means.rename(columns={\"plays\": \"user genre mean\"},inplace=True)\n",
    "user_genre_means.head(1)"
   ]
  },
  {
   "cell_type": "code",
   "execution_count": 19,
   "metadata": {
    "collapsed": false
   },
   "outputs": [],
   "source": [
    "#pivot training data to have one row per user\n",
    "train = train.pivot(index='user',columns='artist',values='plays').reset_index()\n",
    "train = train.fillna(0)"
   ]
  },
  {
   "cell_type": "code",
   "execution_count": 20,
   "metadata": {
    "collapsed": false
   },
   "outputs": [
    {
     "data": {
      "text/html": [
       "<div>\n",
       "<table border=\"1\" class=\"dataframe\">\n",
       "  <thead>\n",
       "    <tr style=\"text-align: right;\">\n",
       "      <th></th>\n",
       "      <th>age</th>\n",
       "      <th>male</th>\n",
       "      <th>female</th>\n",
       "      <th>age_missing</th>\n",
       "      <th>country_missing</th>\n",
       "      <th>Sweden</th>\n",
       "      <th>Iceland</th>\n",
       "      <th>United States</th>\n",
       "      <th>Germany</th>\n",
       "      <th>Netherlands</th>\n",
       "      <th>...</th>\n",
       "      <th>ff6e677f-91dd-4986-a174-8db0474b1799</th>\n",
       "      <th>ff7f80cd-05c2-4068-a00e-fbfbd453d049</th>\n",
       "      <th>ff865aa0-4603-4f79-ae8b-8735332e2cfa</th>\n",
       "      <th>ff95eb47-41c4-4f7f-a104-cdc30f02e872</th>\n",
       "      <th>ff9deaae-da4f-42b7-a19e-36fedd3fc706</th>\n",
       "      <th>ffb18e19-64a4-4a65-b4ce-979e00c3c69d</th>\n",
       "      <th>ffb2d3e3-a4cc-48cf-8fb0-f2f846e9d7b9</th>\n",
       "      <th>ffb390b8-8df4-4b72-97d1-7b2fc008a452</th>\n",
       "      <th>ffe16bba-4d84-409b-8f22-5242c60b930f</th>\n",
       "      <th>ffe9ec08-6b6b-4993-9394-e280b429dbfd</th>\n",
       "    </tr>\n",
       "  </thead>\n",
       "  <tbody>\n",
       "    <tr>\n",
       "      <th>00000c289a1829a808ac09c00daf10bc3c4e223b</th>\n",
       "      <td>22</td>\n",
       "      <td>0</td>\n",
       "      <td>1</td>\n",
       "      <td>0</td>\n",
       "      <td>0</td>\n",
       "      <td>0</td>\n",
       "      <td>0</td>\n",
       "      <td>0</td>\n",
       "      <td>1</td>\n",
       "      <td>0</td>\n",
       "      <td>...</td>\n",
       "      <td>0</td>\n",
       "      <td>0</td>\n",
       "      <td>0</td>\n",
       "      <td>0</td>\n",
       "      <td>0</td>\n",
       "      <td>0</td>\n",
       "      <td>0</td>\n",
       "      <td>0</td>\n",
       "      <td>0</td>\n",
       "      <td>0</td>\n",
       "    </tr>\n",
       "  </tbody>\n",
       "</table>\n",
       "<p>1 rows × 2244 columns</p>\n",
       "</div>"
      ],
      "text/plain": [
       "                                          age  male  female  age_missing  \\\n",
       "00000c289a1829a808ac09c00daf10bc3c4e223b   22     0       1            0   \n",
       "\n",
       "                                          country_missing  Sweden  Iceland  \\\n",
       "00000c289a1829a808ac09c00daf10bc3c4e223b                0       0        0   \n",
       "\n",
       "                                          United States  Germany  Netherlands  \\\n",
       "00000c289a1829a808ac09c00daf10bc3c4e223b              0        1            0   \n",
       "\n",
       "                                                          ...                   \\\n",
       "00000c289a1829a808ac09c00daf10bc3c4e223b                  ...                    \n",
       "\n",
       "                                          ff6e677f-91dd-4986-a174-8db0474b1799  \\\n",
       "00000c289a1829a808ac09c00daf10bc3c4e223b                                     0   \n",
       "\n",
       "                                          ff7f80cd-05c2-4068-a00e-fbfbd453d049  \\\n",
       "00000c289a1829a808ac09c00daf10bc3c4e223b                                     0   \n",
       "\n",
       "                                          ff865aa0-4603-4f79-ae8b-8735332e2cfa  \\\n",
       "00000c289a1829a808ac09c00daf10bc3c4e223b                                     0   \n",
       "\n",
       "                                          ff95eb47-41c4-4f7f-a104-cdc30f02e872  \\\n",
       "00000c289a1829a808ac09c00daf10bc3c4e223b                                     0   \n",
       "\n",
       "                                          ff9deaae-da4f-42b7-a19e-36fedd3fc706  \\\n",
       "00000c289a1829a808ac09c00daf10bc3c4e223b                                     0   \n",
       "\n",
       "                                          ffb18e19-64a4-4a65-b4ce-979e00c3c69d  \\\n",
       "00000c289a1829a808ac09c00daf10bc3c4e223b                                     0   \n",
       "\n",
       "                                          ffb2d3e3-a4cc-48cf-8fb0-f2f846e9d7b9  \\\n",
       "00000c289a1829a808ac09c00daf10bc3c4e223b                                     0   \n",
       "\n",
       "                                          ffb390b8-8df4-4b72-97d1-7b2fc008a452  \\\n",
       "00000c289a1829a808ac09c00daf10bc3c4e223b                                     0   \n",
       "\n",
       "                                          ffe16bba-4d84-409b-8f22-5242c60b930f  \\\n",
       "00000c289a1829a808ac09c00daf10bc3c4e223b                                     0   \n",
       "\n",
       "                                          ffe9ec08-6b6b-4993-9394-e280b429dbfd  \n",
       "00000c289a1829a808ac09c00daf10bc3c4e223b                                     0  \n",
       "\n",
       "[1 rows x 2244 columns]"
      ]
     },
     "execution_count": 20,
     "metadata": {},
     "output_type": "execute_result"
    }
   ],
   "source": [
    "# join profiles and train together\n",
    "train.reset_index(inplace=True)\n",
    "train.set_index('user',inplace = True)\n",
    "train.drop(\"index\",axis=1,inplace=True)\n",
    "\n",
    "profiles.reset_index(inplace=True)\n",
    "profiles.set_index('user', inplace=True)\n",
    "\n",
    "bigdf = pd.concat([profiles,train],axis=1)\n",
    "bigdf.fillna(0,inplace=True)\n",
    "bigdf.head(1)"
   ]
  },
  {
   "cell_type": "code",
   "execution_count": 21,
   "metadata": {
    "collapsed": false
   },
   "outputs": [],
   "source": [
    "# standardize columns before kmeans\n",
    "scaler = StandardScaler()\n",
    "bigdf_sc = scaler.fit_transform(bigdf)"
   ]
  },
  {
   "cell_type": "code",
   "execution_count": 22,
   "metadata": {
    "collapsed": false
   },
   "outputs": [
    {
     "data": {
      "text/plain": [
       "KMeans(copy_x=True, init='k-means++', max_iter=300, n_clusters=50, n_init=10,\n",
       "    n_jobs=-1, precompute_distances='auto', random_state=None, tol=0.0001,\n",
       "    verbose=0)"
      ]
     },
     "execution_count": 22,
     "metadata": {},
     "output_type": "execute_result"
    }
   ],
   "source": [
    "# carry out kmeans\n",
    "kmeans = KMeans(init = 'k-means++', n_clusters=50, n_jobs = -1, n_init = 8)\n",
    "kmeans.fit(bigdf_sc)"
   ]
  },
  {
   "cell_type": "code",
   "execution_count": 52,
   "metadata": {
    "collapsed": false
   },
   "outputs": [
    {
     "data": {
      "text/plain": [
       "['kmeans50.pkl', 'kmeans50.pkl_01.npy', 'kmeans50.pkl_02.npy']"
      ]
     },
     "execution_count": 52,
     "metadata": {},
     "output_type": "execute_result"
    }
   ],
   "source": [
    "from sklearn.externals import joblib\n",
    "joblib.dump(kmeans, 'kmeans50.pkl') "
   ]
  },
  {
   "cell_type": "code",
   "execution_count": 24,
   "metadata": {
    "collapsed": false
   },
   "outputs": [
    {
     "data": {
      "text/html": [
       "<div>\n",
       "<table border=\"1\" class=\"dataframe\">\n",
       "  <thead>\n",
       "    <tr style=\"text-align: right;\">\n",
       "      <th></th>\n",
       "      <th>age</th>\n",
       "      <th>male</th>\n",
       "      <th>female</th>\n",
       "      <th>age_missing</th>\n",
       "      <th>country_missing</th>\n",
       "      <th>Sweden</th>\n",
       "      <th>Iceland</th>\n",
       "      <th>United States</th>\n",
       "      <th>Germany</th>\n",
       "      <th>Netherlands</th>\n",
       "      <th>...</th>\n",
       "      <th>ff6e677f-91dd-4986-a174-8db0474b1799</th>\n",
       "      <th>ff7f80cd-05c2-4068-a00e-fbfbd453d049</th>\n",
       "      <th>ff865aa0-4603-4f79-ae8b-8735332e2cfa</th>\n",
       "      <th>ff95eb47-41c4-4f7f-a104-cdc30f02e872</th>\n",
       "      <th>ff9deaae-da4f-42b7-a19e-36fedd3fc706</th>\n",
       "      <th>ffb18e19-64a4-4a65-b4ce-979e00c3c69d</th>\n",
       "      <th>ffb2d3e3-a4cc-48cf-8fb0-f2f846e9d7b9</th>\n",
       "      <th>ffb390b8-8df4-4b72-97d1-7b2fc008a452</th>\n",
       "      <th>ffe16bba-4d84-409b-8f22-5242c60b930f</th>\n",
       "      <th>ffe9ec08-6b6b-4993-9394-e280b429dbfd</th>\n",
       "    </tr>\n",
       "  </thead>\n",
       "  <tbody>\n",
       "    <tr>\n",
       "      <th>0</th>\n",
       "      <td>24.578744</td>\n",
       "      <td>0.653074</td>\n",
       "      <td>0.262140</td>\n",
       "      <td>0.205998</td>\n",
       "      <td>0</td>\n",
       "      <td>4.376430e-02</td>\n",
       "      <td>1.239853e-03</td>\n",
       "      <td>2.039989e-01</td>\n",
       "      <td>9.094958e-02</td>\n",
       "      <td>3.111779e-02</td>\n",
       "      <td>...</td>\n",
       "      <td>9.704065e+00</td>\n",
       "      <td>1.041644</td>\n",
       "      <td>1.278395e+00</td>\n",
       "      <td>1.415543e+00</td>\n",
       "      <td>0.456327</td>\n",
       "      <td>1.156404e+00</td>\n",
       "      <td>3.559073e+00</td>\n",
       "      <td>9.964677e-01</td>\n",
       "      <td>2.270956e-01</td>\n",
       "      <td>9.883960e-01</td>\n",
       "    </tr>\n",
       "    <tr>\n",
       "      <th>1</th>\n",
       "      <td>18.000000</td>\n",
       "      <td>1.000000</td>\n",
       "      <td>0.000000</td>\n",
       "      <td>0.000000</td>\n",
       "      <td>0</td>\n",
       "      <td>0.000000e+00</td>\n",
       "      <td>0.000000e+00</td>\n",
       "      <td>-2.775558e-17</td>\n",
       "      <td>0.000000e+00</td>\n",
       "      <td>0.000000e+00</td>\n",
       "      <td>...</td>\n",
       "      <td>0.000000e+00</td>\n",
       "      <td>0.000000</td>\n",
       "      <td>-2.220446e-16</td>\n",
       "      <td>0.000000e+00</td>\n",
       "      <td>0.000000</td>\n",
       "      <td>0.000000e+00</td>\n",
       "      <td>0.000000e+00</td>\n",
       "      <td>0.000000e+00</td>\n",
       "      <td>0.000000e+00</td>\n",
       "      <td>0.000000e+00</td>\n",
       "    </tr>\n",
       "    <tr>\n",
       "      <th>2</th>\n",
       "      <td>27.097222</td>\n",
       "      <td>0.500000</td>\n",
       "      <td>0.388889</td>\n",
       "      <td>0.444444</td>\n",
       "      <td>0</td>\n",
       "      <td>-1.387779e-17</td>\n",
       "      <td>4.336809e-19</td>\n",
       "      <td>-2.775558e-17</td>\n",
       "      <td>-4.163336e-17</td>\n",
       "      <td>1.040834e-17</td>\n",
       "      <td>...</td>\n",
       "      <td>4.444444e+00</td>\n",
       "      <td>0.000000</td>\n",
       "      <td>2.220446e-16</td>\n",
       "      <td>0.000000e+00</td>\n",
       "      <td>0.000000</td>\n",
       "      <td>-8.881784e-16</td>\n",
       "      <td>8.881784e-16</td>\n",
       "      <td>2.220446e-16</td>\n",
       "      <td>2.220446e-16</td>\n",
       "      <td>2.083333e+01</td>\n",
       "    </tr>\n",
       "    <tr>\n",
       "      <th>3</th>\n",
       "      <td>21.372269</td>\n",
       "      <td>0.505528</td>\n",
       "      <td>0.437688</td>\n",
       "      <td>0.115075</td>\n",
       "      <td>0</td>\n",
       "      <td>3.115578e-02</td>\n",
       "      <td>5.025126e-04</td>\n",
       "      <td>5.708543e-01</td>\n",
       "      <td>2.964824e-02</td>\n",
       "      <td>1.507538e-02</td>\n",
       "      <td>...</td>\n",
       "      <td>6.326633e+01</td>\n",
       "      <td>0.733668</td>\n",
       "      <td>4.404975e+01</td>\n",
       "      <td>8.939698e-01</td>\n",
       "      <td>1.907035</td>\n",
       "      <td>6.088442e+00</td>\n",
       "      <td>7.602010e+00</td>\n",
       "      <td>8.986181e+01</td>\n",
       "      <td>3.535578e+01</td>\n",
       "      <td>3.619327e-14</td>\n",
       "    </tr>\n",
       "    <tr>\n",
       "      <th>4</th>\n",
       "      <td>26.916667</td>\n",
       "      <td>0.555556</td>\n",
       "      <td>0.111111</td>\n",
       "      <td>0.222222</td>\n",
       "      <td>0</td>\n",
       "      <td>6.938894e-18</td>\n",
       "      <td>0.000000e+00</td>\n",
       "      <td>-2.775558e-17</td>\n",
       "      <td>0.000000e+00</td>\n",
       "      <td>3.469447e-18</td>\n",
       "      <td>...</td>\n",
       "      <td>1.776357e-15</td>\n",
       "      <td>0.000000</td>\n",
       "      <td>-4.440892e-16</td>\n",
       "      <td>-4.440892e-16</td>\n",
       "      <td>0.000000</td>\n",
       "      <td>0.000000e+00</td>\n",
       "      <td>-8.881784e-16</td>\n",
       "      <td>0.000000e+00</td>\n",
       "      <td>-1.110223e-16</td>\n",
       "      <td>-2.220446e-16</td>\n",
       "    </tr>\n",
       "  </tbody>\n",
       "</table>\n",
       "<p>5 rows × 2244 columns</p>\n",
       "</div>"
      ],
      "text/plain": [
       "         age      male    female  age_missing  country_missing        Sweden  \\\n",
       "0  24.578744  0.653074  0.262140     0.205998                0  4.376430e-02   \n",
       "1  18.000000  1.000000  0.000000     0.000000                0  0.000000e+00   \n",
       "2  27.097222  0.500000  0.388889     0.444444                0 -1.387779e-17   \n",
       "3  21.372269  0.505528  0.437688     0.115075                0  3.115578e-02   \n",
       "4  26.916667  0.555556  0.111111     0.222222                0  6.938894e-18   \n",
       "\n",
       "        Iceland  United States       Germany   Netherlands  \\\n",
       "0  1.239853e-03   2.039989e-01  9.094958e-02  3.111779e-02   \n",
       "1  0.000000e+00  -2.775558e-17  0.000000e+00  0.000000e+00   \n",
       "2  4.336809e-19  -2.775558e-17 -4.163336e-17  1.040834e-17   \n",
       "3  5.025126e-04   5.708543e-01  2.964824e-02  1.507538e-02   \n",
       "4  0.000000e+00  -2.775558e-17  0.000000e+00  3.469447e-18   \n",
       "\n",
       "                   ...                   ff6e677f-91dd-4986-a174-8db0474b1799  \\\n",
       "0                  ...                                           9.704065e+00   \n",
       "1                  ...                                           0.000000e+00   \n",
       "2                  ...                                           4.444444e+00   \n",
       "3                  ...                                           6.326633e+01   \n",
       "4                  ...                                           1.776357e-15   \n",
       "\n",
       "   ff7f80cd-05c2-4068-a00e-fbfbd453d049  ff865aa0-4603-4f79-ae8b-8735332e2cfa  \\\n",
       "0                              1.041644                          1.278395e+00   \n",
       "1                              0.000000                         -2.220446e-16   \n",
       "2                              0.000000                          2.220446e-16   \n",
       "3                              0.733668                          4.404975e+01   \n",
       "4                              0.000000                         -4.440892e-16   \n",
       "\n",
       "   ff95eb47-41c4-4f7f-a104-cdc30f02e872  ff9deaae-da4f-42b7-a19e-36fedd3fc706  \\\n",
       "0                          1.415543e+00                              0.456327   \n",
       "1                          0.000000e+00                              0.000000   \n",
       "2                          0.000000e+00                              0.000000   \n",
       "3                          8.939698e-01                              1.907035   \n",
       "4                         -4.440892e-16                              0.000000   \n",
       "\n",
       "   ffb18e19-64a4-4a65-b4ce-979e00c3c69d  ffb2d3e3-a4cc-48cf-8fb0-f2f846e9d7b9  \\\n",
       "0                          1.156404e+00                          3.559073e+00   \n",
       "1                          0.000000e+00                          0.000000e+00   \n",
       "2                         -8.881784e-16                          8.881784e-16   \n",
       "3                          6.088442e+00                          7.602010e+00   \n",
       "4                          0.000000e+00                         -8.881784e-16   \n",
       "\n",
       "   ffb390b8-8df4-4b72-97d1-7b2fc008a452  ffe16bba-4d84-409b-8f22-5242c60b930f  \\\n",
       "0                          9.964677e-01                          2.270956e-01   \n",
       "1                          0.000000e+00                          0.000000e+00   \n",
       "2                          2.220446e-16                          2.220446e-16   \n",
       "3                          8.986181e+01                          3.535578e+01   \n",
       "4                          0.000000e+00                         -1.110223e-16   \n",
       "\n",
       "   ffe9ec08-6b6b-4993-9394-e280b429dbfd  \n",
       "0                          9.883960e-01  \n",
       "1                          0.000000e+00  \n",
       "2                          2.083333e+01  \n",
       "3                          3.619327e-14  \n",
       "4                         -2.220446e-16  \n",
       "\n",
       "[5 rows x 2244 columns]"
      ]
     },
     "execution_count": 24,
     "metadata": {},
     "output_type": "execute_result"
    }
   ],
   "source": [
    "cols = bigdf.columns\n",
    "centers = pd.DataFrame(scaler.inverse_transform(kmeans.cluster_centers_))\n",
    "centers.columns = cols\n",
    "centers.head()"
   ]
  },
  {
   "cell_type": "markdown",
   "metadata": {},
   "source": [
    "### Create test array to compare to kmeans"
   ]
  },
  {
   "cell_type": "code",
   "execution_count": 25,
   "metadata": {
    "collapsed": false
   },
   "outputs": [],
   "source": [
    "closest_centers = kmeans.predict(bigdf_sc)\n",
    "train['closest center'] = closest_centers.tolist()\n",
    "test['closest center'] = None\n",
    "test.set_index(\"user\",inplace=True)\n",
    "test.update(train)\n",
    "test.reset_index(inplace=True)"
   ]
  },
  {
   "cell_type": "code",
   "execution_count": 26,
   "metadata": {
    "collapsed": false
   },
   "outputs": [],
   "source": [
    "def get_prediction(x):\n",
    "    artist = x[1]\n",
    "    return centers.ix[x[5],artist]"
   ]
  },
  {
   "cell_type": "code",
   "execution_count": 27,
   "metadata": {
    "collapsed": false
   },
   "outputs": [
    {
     "data": {
      "text/html": [
       "<div>\n",
       "<table border=\"1\" class=\"dataframe\">\n",
       "  <thead>\n",
       "    <tr style=\"text-align: right;\">\n",
       "      <th></th>\n",
       "      <th>user</th>\n",
       "      <th>artist</th>\n",
       "      <th>plays</th>\n",
       "      <th>genre1</th>\n",
       "      <th>closest center</th>\n",
       "      <th>kmeans pred</th>\n",
       "    </tr>\n",
       "  </thead>\n",
       "  <tbody>\n",
       "    <tr>\n",
       "      <th>0</th>\n",
       "      <td>c40f51a0e37624a79c914000db5795b8d82e8c79</td>\n",
       "      <td>6ae51665-8261-4ae5-883f-1899651ad31b</td>\n",
       "      <td>85</td>\n",
       "      <td>alternative rock</td>\n",
       "      <td>0</td>\n",
       "      <td>0.341977</td>\n",
       "    </tr>\n",
       "    <tr>\n",
       "      <th>1</th>\n",
       "      <td>8309adccbc7386a37585d3ed00a3e5edb1bf744e</td>\n",
       "      <td>299278d3-25dd-4f30-bae4-5b571c28034d</td>\n",
       "      <td>55</td>\n",
       "      <td>electronic</td>\n",
       "      <td>0</td>\n",
       "      <td>2.701970</td>\n",
       "    </tr>\n",
       "    <tr>\n",
       "      <th>2</th>\n",
       "      <td>3d75f04ea0ff1e2c86e4094c59defd8bab92e517</td>\n",
       "      <td>61b99cc4-06cd-4ad5-9bac-950b2daef9cc</td>\n",
       "      <td>107</td>\n",
       "      <td>filk</td>\n",
       "      <td>0</td>\n",
       "      <td>0.394759</td>\n",
       "    </tr>\n",
       "    <tr>\n",
       "      <th>3</th>\n",
       "      <td>914bf9084bdef094f7f9401d6209820d5a03d79c</td>\n",
       "      <td>d3b2711f-2baa-441a-be95-14945ca7e6ea</td>\n",
       "      <td>72</td>\n",
       "      <td>pop</td>\n",
       "      <td>0</td>\n",
       "      <td>1.546831</td>\n",
       "    </tr>\n",
       "    <tr>\n",
       "      <th>4</th>\n",
       "      <td>01fd252b70e155cbf828355e74942c7242c177f0</td>\n",
       "      <td>16346cf4-4d2b-40ec-8393-0fc7296d92fe</td>\n",
       "      <td>314</td>\n",
       "      <td>classic pop and rock</td>\n",
       "      <td>0</td>\n",
       "      <td>0.230962</td>\n",
       "    </tr>\n",
       "  </tbody>\n",
       "</table>\n",
       "</div>"
      ],
      "text/plain": [
       "                                       user  \\\n",
       "0  c40f51a0e37624a79c914000db5795b8d82e8c79   \n",
       "1  8309adccbc7386a37585d3ed00a3e5edb1bf744e   \n",
       "2  3d75f04ea0ff1e2c86e4094c59defd8bab92e517   \n",
       "3  914bf9084bdef094f7f9401d6209820d5a03d79c   \n",
       "4  01fd252b70e155cbf828355e74942c7242c177f0   \n",
       "\n",
       "                                 artist  plays                genre1  \\\n",
       "0  6ae51665-8261-4ae5-883f-1899651ad31b     85      alternative rock   \n",
       "1  299278d3-25dd-4f30-bae4-5b571c28034d     55            electronic   \n",
       "2  61b99cc4-06cd-4ad5-9bac-950b2daef9cc    107                  filk   \n",
       "3  d3b2711f-2baa-441a-be95-14945ca7e6ea     72                   pop   \n",
       "4  16346cf4-4d2b-40ec-8393-0fc7296d92fe    314  classic pop and rock   \n",
       "\n",
       "  closest center  kmeans pred  \n",
       "0              0     0.341977  \n",
       "1              0     2.701970  \n",
       "2              0     0.394759  \n",
       "3              0     1.546831  \n",
       "4              0     0.230962  "
      ]
     },
     "execution_count": 27,
     "metadata": {},
     "output_type": "execute_result"
    }
   ],
   "source": [
    "test[\"kmeans pred\"] = 0\n",
    "test[\"kmeans pred\"] = test.apply(lambda x: get_prediction(x),axis=1)\n",
    "test.head()"
   ]
  },
  {
   "cell_type": "markdown",
   "metadata": {},
   "source": [
    "### Carry out ensemble"
   ]
  },
  {
   "cell_type": "code",
   "execution_count": 28,
   "metadata": {
    "collapsed": false
   },
   "outputs": [
    {
     "data": {
      "text/html": [
       "<div>\n",
       "<table border=\"1\" class=\"dataframe\">\n",
       "  <thead>\n",
       "    <tr style=\"text-align: right;\">\n",
       "      <th></th>\n",
       "      <th>user</th>\n",
       "      <th>genre1</th>\n",
       "      <th>artist</th>\n",
       "      <th>plays</th>\n",
       "      <th>closest center</th>\n",
       "      <th>kmeans pred</th>\n",
       "      <th>user genre median</th>\n",
       "      <th>user median</th>\n",
       "      <th>artist median</th>\n",
       "      <th>genre median</th>\n",
       "      <th>global median</th>\n",
       "      <th>user mean</th>\n",
       "      <th>genre mean</th>\n",
       "      <th>artist mean</th>\n",
       "      <th>user genre mean</th>\n",
       "    </tr>\n",
       "  </thead>\n",
       "  <tbody>\n",
       "    <tr>\n",
       "      <th>0</th>\n",
       "      <td>c40f51a0e37624a79c914000db5795b8d82e8c79</td>\n",
       "      <td>alternative rock</td>\n",
       "      <td>6ae51665-8261-4ae5-883f-1899651ad31b</td>\n",
       "      <td>85</td>\n",
       "      <td>0</td>\n",
       "      <td>0.341977</td>\n",
       "      <td>120</td>\n",
       "      <td>120</td>\n",
       "      <td>100</td>\n",
       "      <td>122</td>\n",
       "      <td>118</td>\n",
       "      <td>134.142857</td>\n",
       "      <td>255.889491</td>\n",
       "      <td>209.537313</td>\n",
       "      <td>134.142857</td>\n",
       "    </tr>\n",
       "  </tbody>\n",
       "</table>\n",
       "</div>"
      ],
      "text/plain": [
       "                                       user            genre1  \\\n",
       "0  c40f51a0e37624a79c914000db5795b8d82e8c79  alternative rock   \n",
       "\n",
       "                                 artist  plays closest center  kmeans pred  \\\n",
       "0  6ae51665-8261-4ae5-883f-1899651ad31b     85              0     0.341977   \n",
       "\n",
       "   user genre median  user median  artist median  genre median  global median  \\\n",
       "0                120          120            100           122            118   \n",
       "\n",
       "    user mean  genre mean  artist mean  user genre mean  \n",
       "0  134.142857  255.889491   209.537313       134.142857  "
      ]
     },
     "execution_count": 28,
     "metadata": {},
     "output_type": "execute_result"
    }
   ],
   "source": [
    "# initialize columns\n",
    "test['user genre median'] = np.nan\n",
    "test['user median'] = np.nan\n",
    "test['artist median'] = np.nan\n",
    "test['genre median'] = np.nan\n",
    "test['global median'] = np.nan\n",
    "test['user mean'] = np.nan\n",
    "test['genre mean'] = np.nan\n",
    "test['artist mean'] = np.nan\n",
    "test['user genre mean'] = np.nan\n",
    "\n",
    "# add global median\n",
    "test['global median'] = global_median\n",
    "\n",
    "# add user median\n",
    "test.set_index('user',inplace=True)\n",
    "test.update(user_medians)\n",
    "test.reset_index(inplace=True)\n",
    "\n",
    "# add artist median\n",
    "test.set_index('artist',inplace=True)\n",
    "test.update(artist_medians)\n",
    "test.reset_index(inplace=True)\n",
    "test[\"genre median\"].fillna(test[\"user median\"],inplace=True)\n",
    "\n",
    "# add genre median\n",
    "test.set_index('genre1',inplace=True)\n",
    "test.update(genre_medians)\n",
    "test.reset_index(inplace=True)\n",
    "test[\"genre median\"].fillna(test[\"user median\"],inplace=True)\n",
    "\n",
    "# add user genre median\n",
    "test.set_index(['user','genre1'],inplace=True)\n",
    "test.update(user_genre_medians.set_index([\"user\",\"genre1\"]))\n",
    "test.reset_index(inplace=True)\n",
    "test[\"user genre median\"].fillna(test[\"user median\"],inplace=True)\n",
    "\n",
    "# add user mean\n",
    "test.set_index('user',inplace=True)\n",
    "test.update(user_means)\n",
    "test.reset_index(inplace=True)\n",
    "\n",
    "# add artist mean\n",
    "test.set_index('artist',inplace=True)\n",
    "test.update(artist_means)\n",
    "test.reset_index(inplace=True)\n",
    "test[\"genre mean\"].fillna(test[\"user mean\"],inplace=True)\n",
    "\n",
    "# add genre mean\n",
    "test.set_index('genre1',inplace=True)\n",
    "test.update(genre_means)\n",
    "test.reset_index(inplace=True)\n",
    "test[\"genre mean\"].fillna(test[\"user mean\"],inplace=True)\n",
    "\n",
    "# add user genre mean\n",
    "test.set_index(['user','genre1'],inplace=True)\n",
    "test.update(user_genre_means.set_index([\"user\",\"genre1\"]))\n",
    "test.reset_index(inplace=True)\n",
    "test[\"user genre mean\"].fillna(test[\"user mean\"],inplace=True)\n",
    "test.head(1)"
   ]
  },
  {
   "cell_type": "code",
   "execution_count": 49,
   "metadata": {
    "collapsed": false
   },
   "outputs": [
    {
     "data": {
      "text/plain": [
       "array([  1.58598410e+00,   7.29119917e-01,   1.56340264e-01,\n",
       "        -3.41984083e-02,  -2.74823949e-01,  -2.08788173e-16,\n",
       "         3.83938167e-01,  -1.21238136e-01,  -6.89426281e-02,\n",
       "         7.10755567e-01])"
      ]
     },
     "execution_count": 49,
     "metadata": {},
     "output_type": "execute_result"
    }
   ],
   "source": [
    "# weighted ensemble\n",
    "stacking= linear_model.LinearRegression()\n",
    "\n",
    "X = np.vstack([test['kmeans pred'].values,test['user median'].values])\n",
    "X = np.vstack([X,test['user genre median'].values])\n",
    "X = np.vstack([X,test['genre median'].values])\n",
    "X = np.vstack([X,test['artist median'].values])\n",
    "X = np.vstack([X,test['global median'].values])\n",
    "X = np.vstack([X,test['user mean'].values])\n",
    "X = np.vstack([X,test['user genre mean'].values])\n",
    "X = np.vstack([X,test['genre mean'].values])\n",
    "X = np.vstack([X,test['artist mean'].values])\n",
    "X = X.T\n",
    "X.shape\n",
    "\n",
    "y = test['plays'].values\n",
    "\n",
    "stacking.fit(X,y)\n",
    "stacking.coef_"
   ]
  },
  {
   "cell_type": "code",
   "execution_count": 50,
   "metadata": {
    "collapsed": false
   },
   "outputs": [],
   "source": [
    "test['ensemble'] =                            \\\n",
    "stacking.coef_[0]*test['kmeans pred']         \\\n",
    "+ stacking.coef_[1]*test['user median']       \\\n",
    "+ stacking.coef_[2]*test['user genre median'] \\\n",
    "+ stacking.coef_[3]*test['genre median']      \\\n",
    "+ stacking.coef_[4]*test['artist median']     \\\n",
    "+ stacking.coef_[5]*test['global median']     \\\n",
    "+ stacking.coef_[6]*test['user mean']\n",
    "+ stacking.coef_[7]*test['user genre mean']   \\\n",
    "+ stacking.coef_[8]*test['genre mean']        \\\n",
    "+ stacking.coef_[9]*test['artist mean']      \n",
    "\n",
    "test['AE'] = np.abs(test['plays']-test['ensemble'])  "
   ]
  },
  {
   "cell_type": "code",
   "execution_count": 51,
   "metadata": {
    "collapsed": false
   },
   "outputs": [
    {
     "name": "stdout",
     "output_type": "stream",
     "text": [
      "MAE is: 154.311685407\n"
     ]
    }
   ],
   "source": [
    "print \"MAE is:\", test.AE.mean()"
   ]
  },
  {
   "cell_type": "code",
   "execution_count": 45,
   "metadata": {
    "collapsed": false
   },
   "outputs": [
    {
     "data": {
      "text/html": [
       "<div>\n",
       "<table border=\"1\" class=\"dataframe\">\n",
       "  <thead>\n",
       "    <tr style=\"text-align: right;\">\n",
       "      <th></th>\n",
       "      <th>plays</th>\n",
       "    </tr>\n",
       "  </thead>\n",
       "  <tbody>\n",
       "    <tr>\n",
       "      <th>0</th>\n",
       "      <td>126.645554</td>\n",
       "    </tr>\n",
       "    <tr>\n",
       "      <th>1</th>\n",
       "      <td>47.025224</td>\n",
       "    </tr>\n",
       "    <tr>\n",
       "      <th>2</th>\n",
       "      <td>48.603484</td>\n",
       "    </tr>\n",
       "    <tr>\n",
       "      <th>3</th>\n",
       "      <td>140.370794</td>\n",
       "    </tr>\n",
       "    <tr>\n",
       "      <th>4</th>\n",
       "      <td>176.734414</td>\n",
       "    </tr>\n",
       "  </tbody>\n",
       "</table>\n",
       "</div>"
      ],
      "text/plain": [
       "        plays\n",
       "0  126.645554\n",
       "1   47.025224\n",
       "2   48.603484\n",
       "3  140.370794\n",
       "4  176.734414"
      ]
     },
     "execution_count": 45,
     "metadata": {},
     "output_type": "execute_result"
    }
   ],
   "source": [
    "output_for_kaggle = test.copy()\n",
    "output_for_kaggle.drop([\"plays\",\"closest center\", \"AE\", \"genre1\",\"user\",\"artist\",\"kmeans pred\",\"user genre median\",\"user median\", \"genre median\", \"global median\",\"artist median\",\"artist mean\",\"user mean\", \"genre mean\", \"user genre mean\"],axis=1,inplace=True)\n",
    "output_for_kaggle.rename(columns={\"ensemble\":\"plays\"},inplace = True)\n",
    "output_for_kaggle.head()"
   ]
  },
  {
   "cell_type": "code",
   "execution_count": 37,
   "metadata": {
    "collapsed": false
   },
   "outputs": [
    {
     "data": {
      "text/html": [
       "<div>\n",
       "<table border=\"1\" class=\"dataframe\">\n",
       "  <thead>\n",
       "    <tr style=\"text-align: right;\">\n",
       "      <th></th>\n",
       "      <th>user</th>\n",
       "      <th>genre1</th>\n",
       "      <th>artist</th>\n",
       "      <th>plays</th>\n",
       "      <th>closest center</th>\n",
       "      <th>kmeans pred</th>\n",
       "      <th>user genre median</th>\n",
       "      <th>user median</th>\n",
       "      <th>artist median</th>\n",
       "      <th>genre median</th>\n",
       "      <th>global median</th>\n",
       "      <th>user mean</th>\n",
       "      <th>genre mean</th>\n",
       "      <th>artist mean</th>\n",
       "      <th>user genre mean</th>\n",
       "      <th>ensemble</th>\n",
       "      <th>AE</th>\n",
       "    </tr>\n",
       "  </thead>\n",
       "  <tbody>\n",
       "    <tr>\n",
       "      <th>0</th>\n",
       "      <td>c40f51a0e37624a79c914000db5795b8d82e8c79</td>\n",
       "      <td>alternative rock</td>\n",
       "      <td>6ae51665-8261-4ae5-883f-1899651ad31b</td>\n",
       "      <td>85</td>\n",
       "      <td>0</td>\n",
       "      <td>0.341977</td>\n",
       "      <td>120.0</td>\n",
       "      <td>120.0</td>\n",
       "      <td>100.0</td>\n",
       "      <td>122.0</td>\n",
       "      <td>118</td>\n",
       "      <td>134.142857</td>\n",
       "      <td>255.889491</td>\n",
       "      <td>209.537313</td>\n",
       "      <td>134.142857</td>\n",
       "      <td>126.645554</td>\n",
       "      <td>41.645554</td>\n",
       "    </tr>\n",
       "    <tr>\n",
       "      <th>1</th>\n",
       "      <td>8309adccbc7386a37585d3ed00a3e5edb1bf744e</td>\n",
       "      <td>electronic</td>\n",
       "      <td>299278d3-25dd-4f30-bae4-5b571c28034d</td>\n",
       "      <td>55</td>\n",
       "      <td>0</td>\n",
       "      <td>2.701970</td>\n",
       "      <td>55.0</td>\n",
       "      <td>55.0</td>\n",
       "      <td>120.0</td>\n",
       "      <td>114.0</td>\n",
       "      <td>118</td>\n",
       "      <td>80.526316</td>\n",
       "      <td>232.512334</td>\n",
       "      <td>200.560102</td>\n",
       "      <td>80.526316</td>\n",
       "      <td>47.025224</td>\n",
       "      <td>7.974776</td>\n",
       "    </tr>\n",
       "    <tr>\n",
       "      <th>2</th>\n",
       "      <td>3d75f04ea0ff1e2c86e4094c59defd8bab92e517</td>\n",
       "      <td>filk</td>\n",
       "      <td>61b99cc4-06cd-4ad5-9bac-950b2daef9cc</td>\n",
       "      <td>107</td>\n",
       "      <td>0</td>\n",
       "      <td>0.394759</td>\n",
       "      <td>70.0</td>\n",
       "      <td>70.0</td>\n",
       "      <td>146.5</td>\n",
       "      <td>146.5</td>\n",
       "      <td>118</td>\n",
       "      <td>81.437500</td>\n",
       "      <td>285.635452</td>\n",
       "      <td>285.635452</td>\n",
       "      <td>81.437500</td>\n",
       "      <td>48.603484</td>\n",
       "      <td>58.396516</td>\n",
       "    </tr>\n",
       "    <tr>\n",
       "      <th>3</th>\n",
       "      <td>914bf9084bdef094f7f9401d6209820d5a03d79c</td>\n",
       "      <td>pop</td>\n",
       "      <td>d3b2711f-2baa-441a-be95-14945ca7e6ea</td>\n",
       "      <td>72</td>\n",
       "      <td>0</td>\n",
       "      <td>1.546831</td>\n",
       "      <td>54.0</td>\n",
       "      <td>81.0</td>\n",
       "      <td>86.0</td>\n",
       "      <td>86.0</td>\n",
       "      <td>118</td>\n",
       "      <td>252.625000</td>\n",
       "      <td>216.440580</td>\n",
       "      <td>196.847713</td>\n",
       "      <td>96.200000</td>\n",
       "      <td>140.370794</td>\n",
       "      <td>68.370794</td>\n",
       "    </tr>\n",
       "    <tr>\n",
       "      <th>4</th>\n",
       "      <td>01fd252b70e155cbf828355e74942c7242c177f0</td>\n",
       "      <td>classic pop and rock</td>\n",
       "      <td>16346cf4-4d2b-40ec-8393-0fc7296d92fe</td>\n",
       "      <td>314</td>\n",
       "      <td>0</td>\n",
       "      <td>0.230962</td>\n",
       "      <td>154.5</td>\n",
       "      <td>154.5</td>\n",
       "      <td>95.0</td>\n",
       "      <td>111.0</td>\n",
       "      <td>118</td>\n",
       "      <td>180.937500</td>\n",
       "      <td>215.957499</td>\n",
       "      <td>155.087912</td>\n",
       "      <td>180.937500</td>\n",
       "      <td>176.734414</td>\n",
       "      <td>137.265586</td>\n",
       "    </tr>\n",
       "  </tbody>\n",
       "</table>\n",
       "</div>"
      ],
      "text/plain": [
       "                                       user                genre1  \\\n",
       "0  c40f51a0e37624a79c914000db5795b8d82e8c79      alternative rock   \n",
       "1  8309adccbc7386a37585d3ed00a3e5edb1bf744e            electronic   \n",
       "2  3d75f04ea0ff1e2c86e4094c59defd8bab92e517                  filk   \n",
       "3  914bf9084bdef094f7f9401d6209820d5a03d79c                   pop   \n",
       "4  01fd252b70e155cbf828355e74942c7242c177f0  classic pop and rock   \n",
       "\n",
       "                                 artist  plays closest center  kmeans pred  \\\n",
       "0  6ae51665-8261-4ae5-883f-1899651ad31b     85              0     0.341977   \n",
       "1  299278d3-25dd-4f30-bae4-5b571c28034d     55              0     2.701970   \n",
       "2  61b99cc4-06cd-4ad5-9bac-950b2daef9cc    107              0     0.394759   \n",
       "3  d3b2711f-2baa-441a-be95-14945ca7e6ea     72              0     1.546831   \n",
       "4  16346cf4-4d2b-40ec-8393-0fc7296d92fe    314              0     0.230962   \n",
       "\n",
       "   user genre median  user median  artist median  genre median  global median  \\\n",
       "0              120.0        120.0          100.0         122.0            118   \n",
       "1               55.0         55.0          120.0         114.0            118   \n",
       "2               70.0         70.0          146.5         146.5            118   \n",
       "3               54.0         81.0           86.0          86.0            118   \n",
       "4              154.5        154.5           95.0         111.0            118   \n",
       "\n",
       "    user mean  genre mean  artist mean  user genre mean    ensemble  \\\n",
       "0  134.142857  255.889491   209.537313       134.142857  126.645554   \n",
       "1   80.526316  232.512334   200.560102        80.526316   47.025224   \n",
       "2   81.437500  285.635452   285.635452        81.437500   48.603484   \n",
       "3  252.625000  216.440580   196.847713        96.200000  140.370794   \n",
       "4  180.937500  215.957499   155.087912       180.937500  176.734414   \n",
       "\n",
       "           AE  \n",
       "0   41.645554  \n",
       "1    7.974776  \n",
       "2   58.396516  \n",
       "3   68.370794  \n",
       "4  137.265586  "
      ]
     },
     "execution_count": 37,
     "metadata": {},
     "output_type": "execute_result"
    }
   ],
   "source": [
    "test.head()"
   ]
  },
  {
   "cell_type": "code",
   "execution_count": null,
   "metadata": {
    "collapsed": true
   },
   "outputs": [],
   "source": []
  }
 ],
 "metadata": {
  "kernelspec": {
   "display_name": "Python 2",
   "language": "python",
   "name": "python2"
  },
  "language_info": {
   "codemirror_mode": {
    "name": "ipython",
    "version": 2
   },
   "file_extension": ".py",
   "mimetype": "text/x-python",
   "name": "python",
   "nbconvert_exporter": "python",
   "pygments_lexer": "ipython2",
   "version": "2.7.11"
  }
 },
 "nbformat": 4,
 "nbformat_minor": 0
}
