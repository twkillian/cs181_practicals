{
 "cells": [
  {
   "cell_type": "code",
   "execution_count": 1,
   "metadata": {
    "collapsed": false
   },
   "outputs": [],
   "source": [
    "import numpy as np\n",
    "import matplotlib.pyplot as plt\n",
    "import pandas as pd\n",
    "import pickle\n",
    "from time import time\n",
    "from sklearn.cross_validation import train_test_split\n",
    "import warnings\n",
    "warnings.filterwarnings('ignore')\n",
    "%matplotlib inline"
   ]
  },
  {
   "cell_type": "code",
   "execution_count": 2,
   "metadata": {
    "collapsed": false
   },
   "outputs": [],
   "source": [
    "# load csv files\n",
    "train_df = pd.read_csv(\"train.csv\")\n",
    "profiles_df = pd.read_csv(\"profiles.csv\")\n",
    "artists_df = pd.read_csv(\"artists.csv\")\n",
    "artists_with_genres_df = pd.read_csv(\"artists_with_genres.csv\")\n",
    "user_median_df = pd.read_csv(\"user_median.csv\")\n",
    "global_median_df = pd.read_csv(\"global_median.csv\")\n",
    "training_df = pd.read_csv(\"training_df43.csv\")\n",
    "\n",
    "artist_with_top5_genre = pd.read_csv(\"artists_with_top_5_genres.csv\")\n",
    "# rename columns due to set_index offset issue\n",
    "artist_with_top5_genre.rename(columns = {\"num_votes5\":\"extra\"}, inplace = True)\n",
    "artist_with_top5_genre.rename(columns = {\"genre5\":\"num_votes5\"}, inplace = True)\n",
    "artist_with_top5_genre.rename(columns = {\"num_votes4\":\"genre5\"}, inplace = True)\n",
    "artist_with_top5_genre.rename(columns = {\"genre4\":\"num_votes4\"}, inplace = True)\n",
    "artist_with_top5_genre.rename(columns = {\"num_votes3\":\"genre4\"}, inplace = True)\n",
    "artist_with_top5_genre.rename(columns = {\"genre3\":\"num_votes3\"}, inplace = True)\n",
    "artist_with_top5_genre.rename(columns = {\"num_votes2\":\"genre3\"}, inplace = True)\n",
    "artist_with_top5_genre.rename(columns = {\"genre2\":\"num_votes2\"}, inplace = True)\n",
    "artist_with_top5_genre.rename(columns = {\"num_votes1\":\"genre2\"}, inplace = True)\n",
    "artist_with_top5_genre.rename(columns = {\"genre1\":\"num_votes1\"}, inplace = True)\n",
    "artist_with_top5_genre.rename(columns = {\"name\":\"genre1\"}, inplace = True)\n",
    "artist_with_top5_genre.rename(columns = {\"artist\":\"name\"}, inplace = True)\n",
    "artist_with_top5_genre.head(3)\n",
    "\n",
    "# Calculate percent of votes\n",
    "agn = artist_with_top5_genre[[\"num_votes1\",\"num_votes2\"]]\n",
    "agn = agn.apply(lambda c: c / c.sum() * 100, axis=1)\n",
    "agn.rename(columns = {\"num_votes1\":\"per_votes1\"}, inplace = True)\n",
    "agn.rename(columns = {\"num_votes2\":\"per_votes2\"}, inplace = True)\n",
    "\n",
    "# combine dfs together\n",
    "at5g = pd.concat([artist_with_top5_genre, agn], axis=1)"
   ]
  },
  {
   "cell_type": "code",
   "execution_count": 3,
   "metadata": {
    "collapsed": false
   },
   "outputs": [],
   "source": [
    "# calculate mean age per user\n",
    "mean_age = profiles_df[~profiles_df['age'].isnull()][\"age\"].mean()\n",
    "\n",
    "###################################################################### \n",
    "\n",
    "# calculate mean age per men\n",
    "males_only_df = profiles_df[profiles_df[\"sex\"]=='m']\n",
    "mean_male_age = males_only_df[~males_only_df['sex'].isnull()][\"age\"].mean()\n",
    "\n",
    "###################################################################### \n",
    "\n",
    "# calculate mean age per women\n",
    "females_only_df = profiles_df[profiles_df[\"sex\"]=='f']\n",
    "mean_female_age = females_only_df[~females_only_df['sex'].isnull()][\"age\"].mean()\n",
    "\n",
    "###################################################################### \n",
    "\n",
    "# get list of unique countries\n",
    "countries = profiles_df[\"country\"].unique()\n",
    "\n",
    "# calculate mean age per country\n",
    "mean_country_age = {}\n",
    "for country in countries:\n",
    "    tmp_df = profiles_df[profiles_df[\"country\"]==str(country)]\n",
    "    mean_country_age[str(country)] = tmp_df[\"age\"].mean()\n",
    "\n",
    "###################################################################### \n",
    "    \n",
    "# calculate mean age per male per country\n",
    "mean_country_male_age = {}\n",
    "for country in countries:\n",
    "    tmp_df0 = profiles_df[profiles_df[\"sex\"]=='m']\n",
    "    tmp_df1 = tmp_df0[profiles_df[\"country\"]==str(country)]\n",
    "    mean_country_male_age[str(country)] = tmp_df1[\"age\"].mean()\n",
    "\n",
    "###################################################################### \n",
    "\n",
    "# calculate mean age per female per country\n",
    "mean_country_female_age = {}\n",
    "for country in countries:\n",
    "    tmp_df0 = profiles_df[profiles_df[\"sex\"]=='f']\n",
    "    tmp_df1 = tmp_df0[profiles_df[\"country\"]==str(country)]\n",
    "    mean_country_female_age[str(country)] = tmp_df1[\"age\"].mean()\n",
    "\n",
    "\n",
    "###################################################################### \n",
    "\n",
    "# initialize training df\n",
    "training_df = profiles_df\n",
    "\n",
    "###################################################################### \n",
    "\n",
    "# create sex indicators\n",
    "training_df[\"male\"] = 0\n",
    "training_df[\"female\"] = 0\n",
    "training_df[\"sex_missing\"] = 0\n",
    "training_df.loc[training_df[\"sex\"] =='m', \"male\"] = 1\n",
    "training_df.loc[training_df[\"sex\"] =='f', \"female\"] = 1\n",
    "training_df.loc[training_df[\"sex\"].isnull(), \"sex_missing\"] = 1\n",
    "\n",
    "######################################################################  \n",
    "\n",
    "# create age indicators\n",
    "training_df[\"age_missing\"] = 0\n",
    "training_df.loc[training_df[\"age\"].isnull(),\"age_missing\"] = 1\n",
    "\n",
    "# fill in mean age: has no gender or country\n",
    "training_df.loc[training_df[\"age_missing\"] == 1, \"age\"] = mean_age\n",
    "\n",
    "# fill in mean age: has gender, no country\n",
    "#males\n",
    "condition = (training_df[\"sex\"] =='m') & (training_df[\"country\"].isnull()) & (training_df[\"age_missing\"] == 1)\n",
    "training_df.loc[condition, \"age\"] = mean_male_age\n",
    "# females\n",
    "condition = (training_df[\"sex\"] =='f') & (training_df[\"country\"].isnull()) & (training_df[\"age_missing\"] == 1)\n",
    "training_df.loc[condition, \"age\"] = mean_female_age\n",
    "\n",
    "# fill in mean age: has country, no gender\n",
    "#loop over countries\n",
    "for country in countries:\n",
    "    condition = (training_df[\"country\"] == country) & (training_df[\"age_missing\"] == 1) & (training_df[\"sex_missing\"] == 1)\n",
    "    training_df.loc[condition, \"age\"] = mean_country_age[country]\n",
    "\n",
    "# fill in mean age: has gender and country\n",
    "# loop over countries\n",
    "for country in countries:\n",
    "    # males\n",
    "    condition = (training_df[\"country\"] == country) & (training_df[\"sex\"] == 'm') & (training_df[\"age_missing\"] == 1)\n",
    "    training_df.loc[condition, \"age\"] = mean_country_male_age[country]\n",
    "    # females\n",
    "    condition = (training_df[\"country\"] == country) & (training_df[\"sex\"] == 'f') & (training_df[\"age_missing\"] == 1)\n",
    "    training_df.loc[condition, \"age\"] = mean_country_female_age[country]\n",
    "\n",
    "###################################################################### \n",
    "    \n",
    "# create country indicators\n",
    "training_df[\"country_missing\"] = 0\n",
    "training_df.loc[training_df[\"country\"].isnull(), \"country_missing\"] = 1\n",
    "# loop over countries\n",
    "for country in countries:\n",
    "    # assign 1 if in that country\n",
    "    training_df.loc[training_df[\"country\"] == country, country] = 1\n",
    "    # assign 0 otherwise\n",
    "    training_df.loc[training_df[\"country\"] != country, country] = 0"
   ]
  },
  {
   "cell_type": "code",
   "execution_count": 4,
   "metadata": {
    "collapsed": true
   },
   "outputs": [],
   "source": [
    "#training_df.to_csv(\"training_df43.csv\")"
   ]
  },
  {
   "cell_type": "code",
   "execution_count": 5,
   "metadata": {
    "collapsed": true
   },
   "outputs": [],
   "source": [
    "train_df[\"genre1\"] = np.nan\n",
    "train_df = train_df.set_index(\"artist\")\n",
    "train_df.update(at5g)\n",
    "train_df = train_df.reset_index()"
   ]
  },
  {
   "cell_type": "code",
   "execution_count": 19,
   "metadata": {
    "collapsed": false
   },
   "outputs": [
    {
     "data": {
      "text/html": [
       "<div>\n",
       "<table border=\"1\" class=\"dataframe\">\n",
       "  <thead>\n",
       "    <tr style=\"text-align: right;\">\n",
       "      <th></th>\n",
       "      <th>genre1</th>\n",
       "      <th>plays</th>\n",
       "      <th>sex</th>\n",
       "      <th>age</th>\n",
       "      <th>country</th>\n",
       "      <th>male</th>\n",
       "      <th>female</th>\n",
       "      <th>sex_missing</th>\n",
       "      <th>age_missing</th>\n",
       "      <th>country_missing</th>\n",
       "      <th>...</th>\n",
       "      <th>Myanmar</th>\n",
       "      <th>Somalia</th>\n",
       "      <th>Gambia</th>\n",
       "      <th>Mozambique</th>\n",
       "      <th>Rwanda</th>\n",
       "      <th>Saint Kitts and Nevis</th>\n",
       "      <th>New Caledonia</th>\n",
       "      <th>Sudan</th>\n",
       "      <th>Guyana</th>\n",
       "      <th>Marshall Islands</th>\n",
       "    </tr>\n",
       "    <tr>\n",
       "      <th>user</th>\n",
       "      <th></th>\n",
       "      <th></th>\n",
       "      <th></th>\n",
       "      <th></th>\n",
       "      <th></th>\n",
       "      <th></th>\n",
       "      <th></th>\n",
       "      <th></th>\n",
       "      <th></th>\n",
       "      <th></th>\n",
       "      <th></th>\n",
       "      <th></th>\n",
       "      <th></th>\n",
       "      <th></th>\n",
       "      <th></th>\n",
       "      <th></th>\n",
       "      <th></th>\n",
       "      <th></th>\n",
       "      <th></th>\n",
       "      <th></th>\n",
       "      <th></th>\n",
       "    </tr>\n",
       "  </thead>\n",
       "  <tbody>\n",
       "    <tr>\n",
       "      <th>00000c289a1829a808ac09c00daf10bc3c4e223b</th>\n",
       "      <td>acoustic rock</td>\n",
       "      <td>182</td>\n",
       "      <td>f</td>\n",
       "      <td>22</td>\n",
       "      <td>Germany</td>\n",
       "      <td>0</td>\n",
       "      <td>1</td>\n",
       "      <td>0</td>\n",
       "      <td>0</td>\n",
       "      <td>0</td>\n",
       "      <td>...</td>\n",
       "      <td>0</td>\n",
       "      <td>0</td>\n",
       "      <td>0</td>\n",
       "      <td>0</td>\n",
       "      <td>0</td>\n",
       "      <td>0</td>\n",
       "      <td>0</td>\n",
       "      <td>0</td>\n",
       "      <td>0</td>\n",
       "      <td>0</td>\n",
       "    </tr>\n",
       "    <tr>\n",
       "      <th>00000c289a1829a808ac09c00daf10bc3c4e223b</th>\n",
       "      <td>british</td>\n",
       "      <td>361</td>\n",
       "      <td>f</td>\n",
       "      <td>22</td>\n",
       "      <td>Germany</td>\n",
       "      <td>0</td>\n",
       "      <td>1</td>\n",
       "      <td>0</td>\n",
       "      <td>0</td>\n",
       "      <td>0</td>\n",
       "      <td>...</td>\n",
       "      <td>0</td>\n",
       "      <td>0</td>\n",
       "      <td>0</td>\n",
       "      <td>0</td>\n",
       "      <td>0</td>\n",
       "      <td>0</td>\n",
       "      <td>0</td>\n",
       "      <td>0</td>\n",
       "      <td>0</td>\n",
       "      <td>0</td>\n",
       "    </tr>\n",
       "    <tr>\n",
       "      <th>00000c289a1829a808ac09c00daf10bc3c4e223b</th>\n",
       "      <td>celtic punk</td>\n",
       "      <td>302</td>\n",
       "      <td>f</td>\n",
       "      <td>22</td>\n",
       "      <td>Germany</td>\n",
       "      <td>0</td>\n",
       "      <td>1</td>\n",
       "      <td>0</td>\n",
       "      <td>0</td>\n",
       "      <td>0</td>\n",
       "      <td>...</td>\n",
       "      <td>0</td>\n",
       "      <td>0</td>\n",
       "      <td>0</td>\n",
       "      <td>0</td>\n",
       "      <td>0</td>\n",
       "      <td>0</td>\n",
       "      <td>0</td>\n",
       "      <td>0</td>\n",
       "      <td>0</td>\n",
       "      <td>0</td>\n",
       "    </tr>\n",
       "  </tbody>\n",
       "</table>\n",
       "<p>3 rows × 249 columns</p>\n",
       "</div>"
      ],
      "text/plain": [
       "                                                 genre1  plays sex  age  \\\n",
       "user                                                                      \n",
       "00000c289a1829a808ac09c00daf10bc3c4e223b  acoustic rock    182   f   22   \n",
       "00000c289a1829a808ac09c00daf10bc3c4e223b        british    361   f   22   \n",
       "00000c289a1829a808ac09c00daf10bc3c4e223b    celtic punk    302   f   22   \n",
       "\n",
       "                                          country  male  female  sex_missing  \\\n",
       "user                                                                           \n",
       "00000c289a1829a808ac09c00daf10bc3c4e223b  Germany     0       1            0   \n",
       "00000c289a1829a808ac09c00daf10bc3c4e223b  Germany     0       1            0   \n",
       "00000c289a1829a808ac09c00daf10bc3c4e223b  Germany     0       1            0   \n",
       "\n",
       "                                          age_missing  country_missing  \\\n",
       "user                                                                     \n",
       "00000c289a1829a808ac09c00daf10bc3c4e223b            0                0   \n",
       "00000c289a1829a808ac09c00daf10bc3c4e223b            0                0   \n",
       "00000c289a1829a808ac09c00daf10bc3c4e223b            0                0   \n",
       "\n",
       "                                                ...         Myanmar  Somalia  \\\n",
       "user                                            ...                            \n",
       "00000c289a1829a808ac09c00daf10bc3c4e223b        ...               0        0   \n",
       "00000c289a1829a808ac09c00daf10bc3c4e223b        ...               0        0   \n",
       "00000c289a1829a808ac09c00daf10bc3c4e223b        ...               0        0   \n",
       "\n",
       "                                          Gambia  Mozambique  Rwanda  \\\n",
       "user                                                                   \n",
       "00000c289a1829a808ac09c00daf10bc3c4e223b       0           0       0   \n",
       "00000c289a1829a808ac09c00daf10bc3c4e223b       0           0       0   \n",
       "00000c289a1829a808ac09c00daf10bc3c4e223b       0           0       0   \n",
       "\n",
       "                                          Saint Kitts and Nevis  \\\n",
       "user                                                              \n",
       "00000c289a1829a808ac09c00daf10bc3c4e223b                      0   \n",
       "00000c289a1829a808ac09c00daf10bc3c4e223b                      0   \n",
       "00000c289a1829a808ac09c00daf10bc3c4e223b                      0   \n",
       "\n",
       "                                          New Caledonia  Sudan  Guyana  \\\n",
       "user                                                                     \n",
       "00000c289a1829a808ac09c00daf10bc3c4e223b              0      0       0   \n",
       "00000c289a1829a808ac09c00daf10bc3c4e223b              0      0       0   \n",
       "00000c289a1829a808ac09c00daf10bc3c4e223b              0      0       0   \n",
       "\n",
       "                                          Marshall Islands  \n",
       "user                                                        \n",
       "00000c289a1829a808ac09c00daf10bc3c4e223b                 0  \n",
       "00000c289a1829a808ac09c00daf10bc3c4e223b                 0  \n",
       "00000c289a1829a808ac09c00daf10bc3c4e223b                 0  \n",
       "\n",
       "[3 rows x 249 columns]"
      ]
     },
     "execution_count": 19,
     "metadata": {},
     "output_type": "execute_result"
    }
   ],
   "source": [
    "user_genre_df = train_df.groupby([\"user\",\"genre1\"]).mean().reset_index().set_index('user')\n",
    "training_df = training_df.set_index(\"user\")\n",
    "user_genre_df = pd.concat([user_genre_df, training_df], axis=1, join_axes = [user_genre_df.index])\n",
    "user_genre_index = user_genre_df.reset_index()"
   ]
  },
  {
   "cell_type": "code",
   "execution_count": 21,
   "metadata": {
    "collapsed": false
   },
   "outputs": [],
   "source": [
    "# save df\n",
    "#user_genre_df.to_csv(\"user_genre_df.csv\")"
   ]
  },
  {
   "cell_type": "code",
   "execution_count": 29,
   "metadata": {
    "collapsed": true
   },
   "outputs": [],
   "source": [
    "def recompute_frame(ldf):\n",
    "    \"\"\"\n",
    "    takes a dataframe ldf, makes a copy of it, and returns the copy\n",
    "    with all averages and review counts recomputed\n",
    "    this is used when a frame is subsetted.\n",
    "    \"\"\"\n",
    "    ldfu = ldf.groupby('user')\n",
    "    ldfg = ldf.groupby('genre1')\n",
    "    user_avg = ldfu.plays.mean()\n",
    "    user_genre_count = ldfu.genre1.count()\n",
    "    genre_avg = ldfg.plays.mean()\n",
    "    genre_user_count = ldfg.user.count()\n",
    "    nldf = ldf.copy()\n",
    "    nldf.set_index(['genre1'], inplace=True)\n",
    "    nldf['genre_avg'] = genre_avg\n",
    "    nldf['genre_user_count'] = genre_user_count\n",
    "    nldf.reset_index(inplace=True)\n",
    "    nldf.set_index(['user'], inplace=True)\n",
    "    nldf['user_avg'] = user_avg\n",
    "    nldf['user_genre_count'] = user_genre_count\n",
    "    nldf.reset_index(inplace=True)\n",
    "    return nldf"
   ]
  },
  {
   "cell_type": "code",
   "execution_count": 30,
   "metadata": {
    "collapsed": false
   },
   "outputs": [],
   "source": [
    "bigdf = recompute_frame(user_genre_df)"
   ]
  },
  {
   "cell_type": "code",
   "execution_count": 32,
   "metadata": {
    "collapsed": true
   },
   "outputs": [],
   "source": [
    "def compute_supports(df):\n",
    "    uuids=df.user.unique()\n",
    "    gens = df.groupby('genre1').user.unique()\n",
    "    adict={}\n",
    "    for e,v in zip(gens.index.values, gens.values):\n",
    "        adict[e] = np.array([item in v for item in uuids])\n",
    "    genres=adict.keys()\n",
    "    supports=[]\n",
    "    for i,gen1 in enumerate(genres):\n",
    "        print \"\\r\" + str(i) + \" out of \" + str(len(artists)),\n",
    "        for j,gen2 in enumerate(genres):\n",
    "            if  i < j:\n",
    "                supmask = (adict[gen1] & adict[gen2])\n",
    "                common_users = np.sum(supmask)\n",
    "                supports.append(common_users)\n",
    "    print \"mean support\",np.mean(supports), \"median support\", np.median(supports)\n",
    "    return supports, adict"
   ]
  },
  {
   "cell_type": "code",
   "execution_count": 33,
   "metadata": {
    "collapsed": true
   },
   "outputs": [],
   "source": [
    "def make_smaller(df, genrecount, usercount):\n",
    "    smallidf1=df[(df.genre_user_count > genrecount)]\n",
    "    smallidf1=recompute_frame(smallidf1)\n",
    "    smallidf2=smallidf1[(smallidf1.user_genre_count > usercount)]\n",
    "    smalldf=recompute_frame(smallidf2)\n",
    "    return smalldf"
   ]
  },
  {
   "cell_type": "code",
   "execution_count": 66,
   "metadata": {
    "collapsed": true
   },
   "outputs": [],
   "source": [
    "smalldf = make_smaller(smalldf, 9875, 10)"
   ]
  },
  {
   "cell_type": "code",
   "execution_count": 50,
   "metadata": {
    "collapsed": false
   },
   "outputs": [],
   "source": [
    "# save df\n",
    "#smalldf.to_csv(\"smalldf.csv\")"
   ]
  },
  {
   "cell_type": "code",
   "execution_count": 67,
   "metadata": {
    "collapsed": false
   },
   "outputs": [
    {
     "name": "stdout",
     "output_type": "stream",
     "text": [
      "Number of user-genre combinations 434735\n",
      "Number of users 36250\n",
      "Number of genres 43\n"
     ]
    }
   ],
   "source": [
    "print \"Number of user-genre combinations\",smalldf.shape[0]\n",
    "print \"Number of users\", smalldf.user.unique().shape[0]\n",
    "print \"Number of genres\", smalldf.genre1.unique().shape[0]"
   ]
  },
  {
   "cell_type": "code",
   "execution_count": 71,
   "metadata": {
    "collapsed": false
   },
   "outputs": [
    {
     "name": "stdout",
     "output_type": "stream",
     "text": [
      "0 out of 43\n",
      "1 out of 43\n",
      "2 out of 43\n",
      "3 out of 43\n",
      "4 out of 43\n",
      "5 out of 43\n",
      "6 out of 43\n",
      "7 out of 43\n",
      "8 out of 43\n",
      "9 out of 43\n",
      "10 out of 43\n",
      "11 out of 43\n",
      "12 out of 43\n",
      "13 out of 43\n",
      "14 out of 43\n",
      "15 out of 43\n",
      "16 out of 43\n",
      "17 out of 43\n",
      "18 out of 43\n",
      "19 out of 43\n",
      "20 out of 43\n",
      "21 out of 43\n",
      "22 out of 43\n",
      "23 out of 43\n",
      "24 out of 43\n",
      "25 out of 43\n",
      "26 out of 43\n",
      "27 out of 43\n",
      "28 out of 43\n",
      "29 out of 43\n",
      "30 out of 43\n",
      "31 out of 43\n",
      "32 out of 43\n",
      "33 out of 43\n",
      "34 out of 43\n",
      "35 out of 43\n",
      "36 out of 43\n",
      "37 out of 43\n",
      "38 out of 43\n",
      "39 out of 43\n",
      "40 out of 43\n",
      "41 out of 43\n",
      "42 out of 43\n"
     ]
    }
   ],
   "source": [
    "uuids = smalldf.user.unique()\n",
    "gens = smalldf.groupby('genre1').user.unique()\n",
    "adict = {}\n",
    "counter = 0\n",
    "for e,v in zip(gens.index.values, gens.values):\n",
    "    #if counter % 5 == 0:\n",
    "    print str(counter) + \" out of \" + str(len(gens))\n",
    "    counter +=1\n",
    "    adict[e] = np.array([item in v for item in uuids])"
   ]
  },
  {
   "cell_type": "code",
   "execution_count": 72,
   "metadata": {
    "collapsed": false
   },
   "outputs": [
    {
     "name": "stdout",
     "output_type": "stream",
     "text": [
      "mean support 2676.51384275 median support 1718.0\n"
     ]
    }
   ],
   "source": [
    "genres=adict.keys()\n",
    "supports=[]\n",
    "for i,gen1 in enumerate(genres):\n",
    "    for j,gen2 in enumerate(genres):\n",
    "        if  i < j:\n",
    "            supmask = (adict[gen1] & adict[gen2])\n",
    "            common_users = np.sum(supmask)\n",
    "            supports.append(common_users)\n",
    "\n",
    "print \"mean support\",np.mean(supports), \"median support\", np.median(supports)\n",
    "s = supports\n",
    "d = adict"
   ]
  },
  {
   "cell_type": "code",
   "execution_count": 77,
   "metadata": {
    "collapsed": false
   },
   "outputs": [
    {
     "name": "stdout",
     "output_type": "stream",
     "text": [
      "User genre plays mean and median 11.9926896552 12.0\n"
     ]
    },
    {
     "data": {
      "image/png": "[encoded data removed]",
      "text/plain": [
       "<matplotlib.figure.Figure at 0x124c7f5d0>"
      ]
     },
     "metadata": {},
     "output_type": "display_data"
    }
   ],
   "source": [
    "plt.hist(s, bins=np.arange(1,50,1), alpha=0.5, label=\"support\");\n",
    "c = smalldf.groupby('user').genre1.count()\n",
    "print \"User genre plays mean and median\",np.mean(c), np.median(c)\n",
    "plt.hist(c, bins=np.arange(1,50,1), alpha=0.5, label=\"user plays\");\n",
    "plt.legend();\n",
    "plt.ylabel(\"Count\")\n",
    "plt.title(\"Histogram of User Plays and Support\")\n",
    "plt.show()"
   ]
  },
  {
   "cell_type": "code",
   "execution_count": 79,
   "metadata": {
    "collapsed": false
   },
   "outputs": [
    {
     "name": "stdout",
     "output_type": "stream",
     "text": [
      "(434735, 254)\n",
      "(434735, 254)\n"
     ]
    }
   ],
   "source": [
    "print smalldf.shape\n",
    "smalldf=smalldf.drop_duplicates(['user','genre1'])\n",
    "print smalldf.shape"
   ]
  },
  {
   "cell_type": "code",
   "execution_count": 80,
   "metadata": {
    "collapsed": false
   },
   "outputs": [
    {
     "data": {
      "image/png": "[encoded data removed]",
      "text/plain": [
       "<matplotlib.figure.Figure at 0x11f7c0b90>"
      ]
     },
     "metadata": {},
     "output_type": "display_data"
    }
   ],
   "source": [
    "plt.hist(smalldf.groupby('user').count().user_genre_count,bins=15,alpha=0.7)\n",
    "plt.xlabel(\"Genres per User\")\n",
    "plt.ylabel(\"Count\")\n",
    "plt.title(\"Number of Genres per User Histogram\")\n",
    "plt.show()"
   ]
  },
  {
   "cell_type": "code",
   "execution_count": 81,
   "metadata": {
    "collapsed": false
   },
   "outputs": [
    {
     "data": {
      "image/png": "[encoded data removed]",
      "text/plain": [
       "<matplotlib.figure.Figure at 0x124c7fc50>"
      ]
     },
     "metadata": {},
     "output_type": "display_data"
    }
   ],
   "source": [
    "plt.hist(smalldf.groupby('genre1').count().genre_user_count,bins=15,alpha=0.7)\n",
    "plt.xlabel(\"Users per Genre\")\n",
    "plt.ylabel(\"Count\")\n",
    "plt.title(\"Number of Users per Genre Histogram\")\n",
    "plt.show()"
   ]
  },
  {
   "cell_type": "code",
   "execution_count": 82,
   "metadata": {
    "collapsed": false
   },
   "outputs": [
    {
     "data": {
      "text/plain": [
       "(131262, 254)"
      ]
     },
     "execution_count": 82,
     "metadata": {},
     "output_type": "execute_result"
    }
   ],
   "source": [
    "smalldf[smalldf.user_genre_count > 12].shape"
   ]
  },
  {
   "cell_type": "code",
   "execution_count": 83,
   "metadata": {
    "collapsed": false
   },
   "outputs": [
    {
     "name": "stdout",
     "output_type": "stream",
     "text": [
      "(386895, 254) (28704, 254) (19136, 254)\n"
     ]
    }
   ],
   "source": [
    "trainlist=[]\n",
    "testlist=[]\n",
    "validatelist=[]\n",
    "take=5\n",
    "for k, v in smalldf.groupby('user'):\n",
    "    if np.mean(v.user_genre_count) > 12:\n",
    "        takenos=np.random.choice(range(take), size=take/2, replace=False)\n",
    "        takelist=np.array([e in takenos for e in range(take)])\n",
    "        validatelist.append(v[-take:][~takelist])#use those \n",
    "        testlist.append(v[-take:][takelist])#use the other \n",
    "        trainlist.append(v[:-take])\n",
    "    else:\n",
    "        trainlist.append(v)\n",
    "traindf=pd.concat(trainlist)\n",
    "validatedf=pd.concat(validatelist)\n",
    "testdf=pd.concat(testlist)\n",
    "print traindf.shape, validatedf.shape, testdf.shape"
   ]
  },
  {
   "cell_type": "code",
   "execution_count": 84,
   "metadata": {
    "collapsed": false
   },
   "outputs": [
    {
     "name": "stdout",
     "output_type": "stream",
     "text": [
      "0 0\n"
     ]
    }
   ],
   "source": [
    "maskval=[e in set(validatedf.genre1).difference(set(traindf.genre1)) for e in validatedf.genre1] \n",
    "masktest=[e in set(testdf.genre1).difference(set(traindf.genre1)) for e in testdf.genre1] \n",
    "print np.sum(maskval), np.sum(masktest)"
   ]
  },
  {
   "cell_type": "code",
   "execution_count": null,
   "metadata": {
    "collapsed": true
   },
   "outputs": [],
   "source": []
  }
 ],
 "metadata": {
  "kernelspec": {
   "display_name": "Python 2",
   "language": "python",
   "name": "python2"
  },
  "language_info": {
   "codemirror_mode": {
    "name": "ipython",
    "version": 2
   },
   "file_extension": ".py",
   "mimetype": "text/x-python",
   "name": "python",
   "nbconvert_exporter": "python",
   "pygments_lexer": "ipython2",
   "version": "2.7.11"
  }
 },
 "nbformat": 4,
 "nbformat_minor": 0
}
