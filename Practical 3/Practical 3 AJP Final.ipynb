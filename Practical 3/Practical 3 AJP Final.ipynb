{
 "cells": [
  {
   "cell_type": "code",
   "execution_count": 1,
   "metadata": {
    "collapsed": false
   },
   "outputs": [],
   "source": [
    "import numpy as np\n",
    "import matplotlib.pyplot as plt\n",
    "import pandas as pd\n",
    "import pickle\n",
    "from time import time\n",
    "from sklearn.cross_validation import train_test_split\n",
    "import warnings\n",
    "warnings.filterwarnings('ignore')\n",
    "%matplotlib inline"
   ]
  },
  {
   "cell_type": "code",
   "execution_count": 2,
   "metadata": {
    "collapsed": false
   },
   "outputs": [],
   "source": [
    "# load csv files\n",
    "train_df = pd.read_csv(\"train.csv\")\n",
    "profiles_df = pd.read_csv(\"profiles.csv\")\n",
    "artists_df = pd.read_csv(\"artists.csv\")\n",
    "artists_with_genres_df = pd.read_csv(\"artists_with_genres.csv\")\n",
    "user_median_df = pd.read_csv(\"user_median.csv\")\n",
    "global_median_df = pd.read_csv(\"global_median.csv\")\n",
    "training_df = pd.read_csv(\"training_df43.csv\")\n",
    "\n",
    "artist_with_top5_genre = pd.read_csv(\"artists_with_top_5_genres.csv\")\n",
    "# rename columns due to set_index offset issue\n",
    "artist_with_top5_genre.rename(columns = {\"num_votes5\":\"extra\"}, inplace = True)\n",
    "artist_with_top5_genre.rename(columns = {\"genre5\":\"num_votes5\"}, inplace = True)\n",
    "artist_with_top5_genre.rename(columns = {\"num_votes4\":\"genre5\"}, inplace = True)\n",
    "artist_with_top5_genre.rename(columns = {\"genre4\":\"num_votes4\"}, inplace = True)\n",
    "artist_with_top5_genre.rename(columns = {\"num_votes3\":\"genre4\"}, inplace = True)\n",
    "artist_with_top5_genre.rename(columns = {\"genre3\":\"num_votes3\"}, inplace = True)\n",
    "artist_with_top5_genre.rename(columns = {\"num_votes2\":\"genre3\"}, inplace = True)\n",
    "artist_with_top5_genre.rename(columns = {\"genre2\":\"num_votes2\"}, inplace = True)\n",
    "artist_with_top5_genre.rename(columns = {\"num_votes1\":\"genre2\"}, inplace = True)\n",
    "artist_with_top5_genre.rename(columns = {\"genre1\":\"num_votes1\"}, inplace = True)\n",
    "artist_with_top5_genre.rename(columns = {\"name\":\"genre1\"}, inplace = True)\n",
    "artist_with_top5_genre.rename(columns = {\"artist\":\"name\"}, inplace = True)\n",
    "artist_with_top5_genre.head(3)\n",
    "\n",
    "# Calculate percent of votes\n",
    "agn = artist_with_top5_genre[[\"num_votes1\",\"num_votes2\"]]\n",
    "agn = agn.apply(lambda c: c / c.sum() * 100, axis=1)\n",
    "agn.rename(columns = {\"num_votes1\":\"per_votes1\"}, inplace = True)\n",
    "agn.rename(columns = {\"num_votes2\":\"per_votes2\"}, inplace = True)\n",
    "\n",
    "# combine dfs together\n",
    "at5g = pd.concat([artist_with_top5_genre, agn], axis=1)"
   ]
  },
  {
   "cell_type": "code",
   "execution_count": 3,
   "metadata": {
    "collapsed": false
   },
   "outputs": [],
   "source": [
    "# calculate mean age per user\n",
    "mean_age = profiles_df[~profiles_df['age'].isnull()][\"age\"].mean()\n",
    "\n",
    "###################################################################### \n",
    "\n",
    "# calculate mean age per men\n",
    "males_only_df = profiles_df[profiles_df[\"sex\"]=='m']\n",
    "mean_male_age = males_only_df[~males_only_df['sex'].isnull()][\"age\"].mean()\n",
    "\n",
    "###################################################################### \n",
    "\n",
    "# calculate mean age per women\n",
    "females_only_df = profiles_df[profiles_df[\"sex\"]=='f']\n",
    "mean_female_age = females_only_df[~females_only_df['sex'].isnull()][\"age\"].mean()\n",
    "\n",
    "###################################################################### \n",
    "\n",
    "# get list of unique countries\n",
    "countries = profiles_df[\"country\"].unique()\n",
    "\n",
    "# calculate mean age per country\n",
    "mean_country_age = {}\n",
    "for country in countries:\n",
    "    tmp_df = profiles_df[profiles_df[\"country\"]==str(country)]\n",
    "    mean_country_age[str(country)] = tmp_df[\"age\"].mean()\n",
    "\n",
    "###################################################################### \n",
    "    \n",
    "# calculate mean age per male per country\n",
    "mean_country_male_age = {}\n",
    "for country in countries:\n",
    "    tmp_df0 = profiles_df[profiles_df[\"sex\"]=='m']\n",
    "    tmp_df1 = tmp_df0[profiles_df[\"country\"]==str(country)]\n",
    "    mean_country_male_age[str(country)] = tmp_df1[\"age\"].mean()\n",
    "\n",
    "###################################################################### \n",
    "\n",
    "# calculate mean age per female per country\n",
    "mean_country_female_age = {}\n",
    "for country in countries:\n",
    "    tmp_df0 = profiles_df[profiles_df[\"sex\"]=='f']\n",
    "    tmp_df1 = tmp_df0[profiles_df[\"country\"]==str(country)]\n",
    "    mean_country_female_age[str(country)] = tmp_df1[\"age\"].mean()\n",
    "\n",
    "\n",
    "###################################################################### \n",
    "\n",
    "# initialize training df\n",
    "training_df = profiles_df\n",
    "\n",
    "###################################################################### \n",
    "\n",
    "# create sex indicators\n",
    "training_df[\"male\"] = 0\n",
    "training_df[\"female\"] = 0\n",
    "training_df[\"sex_missing\"] = 0\n",
    "training_df.loc[training_df[\"sex\"] =='m', \"male\"] = 1\n",
    "training_df.loc[training_df[\"sex\"] =='f', \"female\"] = 1\n",
    "training_df.loc[training_df[\"sex\"].isnull(), \"sex_missing\"] = 1\n",
    "\n",
    "######################################################################  \n",
    "\n",
    "# create age indicators\n",
    "training_df[\"age_missing\"] = 0\n",
    "training_df.loc[training_df[\"age\"].isnull(),\"age_missing\"] = 1\n",
    "\n",
    "# fill in mean age: has no gender or country\n",
    "training_df.loc[training_df[\"age_missing\"] == 1, \"age\"] = mean_age\n",
    "\n",
    "# fill in mean age: has gender, no country\n",
    "#males\n",
    "condition = (training_df[\"sex\"] =='m') & (training_df[\"country\"].isnull()) & (training_df[\"age_missing\"] == 1)\n",
    "training_df.loc[condition, \"age\"] = mean_male_age\n",
    "# females\n",
    "condition = (training_df[\"sex\"] =='f') & (training_df[\"country\"].isnull()) & (training_df[\"age_missing\"] == 1)\n",
    "training_df.loc[condition, \"age\"] = mean_female_age\n",
    "\n",
    "# fill in mean age: has country, no gender\n",
    "#loop over countries\n",
    "for country in countries:\n",
    "    condition = (training_df[\"country\"] == country) & (training_df[\"age_missing\"] == 1) & (training_df[\"sex_missing\"] == 1)\n",
    "    training_df.loc[condition, \"age\"] = mean_country_age[country]\n",
    "\n",
    "# fill in mean age: has gender and country\n",
    "# loop over countries\n",
    "for country in countries:\n",
    "    # males\n",
    "    condition = (training_df[\"country\"] == country) & (training_df[\"sex\"] == 'm') & (training_df[\"age_missing\"] == 1)\n",
    "    training_df.loc[condition, \"age\"] = mean_country_male_age[country]\n",
    "    # females\n",
    "    condition = (training_df[\"country\"] == country) & (training_df[\"sex\"] == 'f') & (training_df[\"age_missing\"] == 1)\n",
    "    training_df.loc[condition, \"age\"] = mean_country_female_age[country]\n",
    "\n",
    "###################################################################### \n",
    "    \n",
    "# create country indicators\n",
    "training_df[\"country_missing\"] = 0\n",
    "training_df.loc[training_df[\"country\"].isnull(), \"country_missing\"] = 1\n",
    "# loop over countries\n",
    "for country in countries:\n",
    "    # assign 1 if in that country\n",
    "    training_df.loc[training_df[\"country\"] == country, country] = 1\n",
    "    # assign 0 otherwise\n",
    "    training_df.loc[training_df[\"country\"] != country, country] = 0"
   ]
  },
  {
   "cell_type": "code",
   "execution_count": 4,
   "metadata": {
    "collapsed": true
   },
   "outputs": [],
   "source": [
    "#training_df.to_csv(\"training_df43.csv\")"
   ]
  },
  {
   "cell_type": "code",
   "execution_count": 5,
   "metadata": {
    "collapsed": true
   },
   "outputs": [],
   "source": [
    "# plug in genre1 next to artist\n",
    "train_df[\"genre1\"] = np.nan\n",
    "train_df = train_df.set_index(\"artist\")\n",
    "train_df.update(at5g)\n",
    "train_df = train_df.reset_index()"
   ]
  },
  {
   "cell_type": "code",
   "execution_count": 19,
   "metadata": {
    "collapsed": false
   },
   "outputs": [
    {
     "data": {
      "text/html": [
       "<div>\n",
       "<table border=\"1\" class=\"dataframe\">\n",
       "  <thead>\n",
       "    <tr style=\"text-align: right;\">\n",
       "      <th></th>\n",
       "      <th>genre1</th>\n",
       "      <th>plays</th>\n",
       "      <th>sex</th>\n",
       "      <th>age</th>\n",
       "      <th>country</th>\n",
       "      <th>male</th>\n",
       "      <th>female</th>\n",
       "      <th>sex_missing</th>\n",
       "      <th>age_missing</th>\n",
       "      <th>country_missing</th>\n",
       "      <th>...</th>\n",
       "      <th>Myanmar</th>\n",
       "      <th>Somalia</th>\n",
       "      <th>Gambia</th>\n",
       "      <th>Mozambique</th>\n",
       "      <th>Rwanda</th>\n",
       "      <th>Saint Kitts and Nevis</th>\n",
       "      <th>New Caledonia</th>\n",
       "      <th>Sudan</th>\n",
       "      <th>Guyana</th>\n",
       "      <th>Marshall Islands</th>\n",
       "    </tr>\n",
       "    <tr>\n",
       "      <th>user</th>\n",
       "      <th></th>\n",
       "      <th></th>\n",
       "      <th></th>\n",
       "      <th></th>\n",
       "      <th></th>\n",
       "      <th></th>\n",
       "      <th></th>\n",
       "      <th></th>\n",
       "      <th></th>\n",
       "      <th></th>\n",
       "      <th></th>\n",
       "      <th></th>\n",
       "      <th></th>\n",
       "      <th></th>\n",
       "      <th></th>\n",
       "      <th></th>\n",
       "      <th></th>\n",
       "      <th></th>\n",
       "      <th></th>\n",
       "      <th></th>\n",
       "      <th></th>\n",
       "    </tr>\n",
       "  </thead>\n",
       "  <tbody>\n",
       "    <tr>\n",
       "      <th>00000c289a1829a808ac09c00daf10bc3c4e223b</th>\n",
       "      <td>acoustic rock</td>\n",
       "      <td>182</td>\n",
       "      <td>f</td>\n",
       "      <td>22</td>\n",
       "      <td>Germany</td>\n",
       "      <td>0</td>\n",
       "      <td>1</td>\n",
       "      <td>0</td>\n",
       "      <td>0</td>\n",
       "      <td>0</td>\n",
       "      <td>...</td>\n",
       "      <td>0</td>\n",
       "      <td>0</td>\n",
       "      <td>0</td>\n",
       "      <td>0</td>\n",
       "      <td>0</td>\n",
       "      <td>0</td>\n",
       "      <td>0</td>\n",
       "      <td>0</td>\n",
       "      <td>0</td>\n",
       "      <td>0</td>\n",
       "    </tr>\n",
       "    <tr>\n",
       "      <th>00000c289a1829a808ac09c00daf10bc3c4e223b</th>\n",
       "      <td>british</td>\n",
       "      <td>361</td>\n",
       "      <td>f</td>\n",
       "      <td>22</td>\n",
       "      <td>Germany</td>\n",
       "      <td>0</td>\n",
       "      <td>1</td>\n",
       "      <td>0</td>\n",
       "      <td>0</td>\n",
       "      <td>0</td>\n",
       "      <td>...</td>\n",
       "      <td>0</td>\n",
       "      <td>0</td>\n",
       "      <td>0</td>\n",
       "      <td>0</td>\n",
       "      <td>0</td>\n",
       "      <td>0</td>\n",
       "      <td>0</td>\n",
       "      <td>0</td>\n",
       "      <td>0</td>\n",
       "      <td>0</td>\n",
       "    </tr>\n",
       "    <tr>\n",
       "      <th>00000c289a1829a808ac09c00daf10bc3c4e223b</th>\n",
       "      <td>celtic punk</td>\n",
       "      <td>302</td>\n",
       "      <td>f</td>\n",
       "      <td>22</td>\n",
       "      <td>Germany</td>\n",
       "      <td>0</td>\n",
       "      <td>1</td>\n",
       "      <td>0</td>\n",
       "      <td>0</td>\n",
       "      <td>0</td>\n",
       "      <td>...</td>\n",
       "      <td>0</td>\n",
       "      <td>0</td>\n",
       "      <td>0</td>\n",
       "      <td>0</td>\n",
       "      <td>0</td>\n",
       "      <td>0</td>\n",
       "      <td>0</td>\n",
       "      <td>0</td>\n",
       "      <td>0</td>\n",
       "      <td>0</td>\n",
       "    </tr>\n",
       "  </tbody>\n",
       "</table>\n",
       "<p>3 rows × 249 columns</p>\n",
       "</div>"
      ],
      "text/plain": [
       "                                                 genre1  plays sex  age  \\\n",
       "user                                                                      \n",
       "00000c289a1829a808ac09c00daf10bc3c4e223b  acoustic rock    182   f   22   \n",
       "00000c289a1829a808ac09c00daf10bc3c4e223b        british    361   f   22   \n",
       "00000c289a1829a808ac09c00daf10bc3c4e223b    celtic punk    302   f   22   \n",
       "\n",
       "                                          country  male  female  sex_missing  \\\n",
       "user                                                                           \n",
       "00000c289a1829a808ac09c00daf10bc3c4e223b  Germany     0       1            0   \n",
       "00000c289a1829a808ac09c00daf10bc3c4e223b  Germany     0       1            0   \n",
       "00000c289a1829a808ac09c00daf10bc3c4e223b  Germany     0       1            0   \n",
       "\n",
       "                                          age_missing  country_missing  \\\n",
       "user                                                                     \n",
       "00000c289a1829a808ac09c00daf10bc3c4e223b            0                0   \n",
       "00000c289a1829a808ac09c00daf10bc3c4e223b            0                0   \n",
       "00000c289a1829a808ac09c00daf10bc3c4e223b            0                0   \n",
       "\n",
       "                                                ...         Myanmar  Somalia  \\\n",
       "user                                            ...                            \n",
       "00000c289a1829a808ac09c00daf10bc3c4e223b        ...               0        0   \n",
       "00000c289a1829a808ac09c00daf10bc3c4e223b        ...               0        0   \n",
       "00000c289a1829a808ac09c00daf10bc3c4e223b        ...               0        0   \n",
       "\n",
       "                                          Gambia  Mozambique  Rwanda  \\\n",
       "user                                                                   \n",
       "00000c289a1829a808ac09c00daf10bc3c4e223b       0           0       0   \n",
       "00000c289a1829a808ac09c00daf10bc3c4e223b       0           0       0   \n",
       "00000c289a1829a808ac09c00daf10bc3c4e223b       0           0       0   \n",
       "\n",
       "                                          Saint Kitts and Nevis  \\\n",
       "user                                                              \n",
       "00000c289a1829a808ac09c00daf10bc3c4e223b                      0   \n",
       "00000c289a1829a808ac09c00daf10bc3c4e223b                      0   \n",
       "00000c289a1829a808ac09c00daf10bc3c4e223b                      0   \n",
       "\n",
       "                                          New Caledonia  Sudan  Guyana  \\\n",
       "user                                                                     \n",
       "00000c289a1829a808ac09c00daf10bc3c4e223b              0      0       0   \n",
       "00000c289a1829a808ac09c00daf10bc3c4e223b              0      0       0   \n",
       "00000c289a1829a808ac09c00daf10bc3c4e223b              0      0       0   \n",
       "\n",
       "                                          Marshall Islands  \n",
       "user                                                        \n",
       "00000c289a1829a808ac09c00daf10bc3c4e223b                 0  \n",
       "00000c289a1829a808ac09c00daf10bc3c4e223b                 0  \n",
       "00000c289a1829a808ac09c00daf10bc3c4e223b                 0  \n",
       "\n",
       "[3 rows x 249 columns]"
      ]
     },
     "execution_count": 19,
     "metadata": {},
     "output_type": "execute_result"
    }
   ],
   "source": [
    "# create df with profile info as well as mean plays per genre per user\n",
    "user_genre_df = train_df.groupby([\"user\",\"genre1\"]).mean().reset_index().set_index('user')\n",
    "training_df = training_df.set_index(\"user\")\n",
    "user_genre_df = pd.concat([user_genre_df, training_df], axis=1, join_axes = [user_genre_df.index])\n",
    "user_genre_index = user_genre_df.reset_index()"
   ]
  },
  {
   "cell_type": "code",
   "execution_count": 21,
   "metadata": {
    "collapsed": false
   },
   "outputs": [],
   "source": [
    "# save df\n",
    "#user_genre_df.to_csv(\"user_genre_df.csv\")"
   ]
  },
  {
   "cell_type": "markdown",
   "metadata": {},
   "source": [
    "# Data science approach below"
   ]
  },
  {
   "cell_type": "code",
   "execution_count": 29,
   "metadata": {
    "collapsed": true
   },
   "outputs": [],
   "source": [
    "def recompute_frame(ldf):\n",
    "    \"\"\"\n",
    "    takes a dataframe ldf, makes a copy of it, and returns the copy\n",
    "    with all averages and review counts recomputed\n",
    "    this is used when a frame is subsetted.\n",
    "    \"\"\"\n",
    "    ldfu = ldf.groupby('user')\n",
    "    ldfg = ldf.groupby('genre1')\n",
    "    user_avg = ldfu.plays.mean()\n",
    "    user_genre_count = ldfu.genre1.count()\n",
    "    genre_avg = ldfg.plays.mean()\n",
    "    genre_user_count = ldfg.user.count()\n",
    "    nldf = ldf.copy()\n",
    "    nldf.set_index(['genre1'], inplace=True)\n",
    "    nldf['genre_avg'] = genre_avg\n",
    "    nldf['genre_user_count'] = genre_user_count\n",
    "    nldf.reset_index(inplace=True)\n",
    "    nldf.set_index(['user'], inplace=True)\n",
    "    nldf['user_avg'] = user_avg\n",
    "    nldf['user_genre_count'] = user_genre_count\n",
    "    nldf.reset_index(inplace=True)\n",
    "    return nldf"
   ]
  },
  {
   "cell_type": "code",
   "execution_count": 30,
   "metadata": {
    "collapsed": false
   },
   "outputs": [],
   "source": [
    "bigdf = recompute_frame(user_genre_df)"
   ]
  },
  {
   "cell_type": "code",
   "execution_count": 32,
   "metadata": {
    "collapsed": true
   },
   "outputs": [],
   "source": [
    "def compute_supports(df):\n",
    "    uuids=df.user.unique()\n",
    "    gens = df.groupby('genre1').user.unique()\n",
    "    adict={}\n",
    "    for e,v in zip(gens.index.values, gens.values):\n",
    "        adict[e] = np.array([item in v for item in uuids])\n",
    "    genres=adict.keys()\n",
    "    supports=[]\n",
    "    for i,gen1 in enumerate(genres):\n",
    "        print \"\\r\" + str(i) + \" out of \" + str(len(artists)),\n",
    "        for j,gen2 in enumerate(genres):\n",
    "            if  i < j:\n",
    "                supmask = (adict[gen1] & adict[gen2])\n",
    "                common_users = np.sum(supmask)\n",
    "                supports.append(common_users)\n",
    "    print \"mean support\",np.mean(supports), \"median support\", np.median(supports)\n",
    "    return supports, adict"
   ]
  },
  {
   "cell_type": "code",
   "execution_count": 33,
   "metadata": {
    "collapsed": true
   },
   "outputs": [],
   "source": [
    "def make_smaller(df, genrecount, usercount):\n",
    "    smallidf1=df[(df.genre_user_count > genrecount)]\n",
    "    smallidf1=recompute_frame(smallidf1)\n",
    "    smallidf2=smallidf1[(smallidf1.user_genre_count > usercount)]\n",
    "    smalldf=recompute_frame(smallidf2)\n",
    "    return smalldf"
   ]
  },
  {
   "cell_type": "code",
   "execution_count": 66,
   "metadata": {
    "collapsed": true
   },
   "outputs": [],
   "source": [
    "smalldf = make_smaller(smalldf, 9875, 10)"
   ]
  },
  {
   "cell_type": "code",
   "execution_count": 50,
   "metadata": {
    "collapsed": false
   },
   "outputs": [],
   "source": [
    "# save df\n",
    "#smalldf.to_csv(\"smalldf.csv\")"
   ]
  },
  {
   "cell_type": "code",
   "execution_count": 67,
   "metadata": {
    "collapsed": false
   },
   "outputs": [
    {
     "name": "stdout",
     "output_type": "stream",
     "text": [
      "Number of user-genre combinations 434735\n",
      "Number of users 36250\n",
      "Number of genres 43\n"
     ]
    }
   ],
   "source": [
    "print \"Number of user-genre combinations\",smalldf.shape[0]\n",
    "print \"Number of users\", smalldf.user.unique().shape[0]\n",
    "print \"Number of genres\", smalldf.genre1.unique().shape[0]"
   ]
  },
  {
   "cell_type": "code",
   "execution_count": 71,
   "metadata": {
    "collapsed": false
   },
   "outputs": [
    {
     "name": "stdout",
     "output_type": "stream",
     "text": [
      "0 out of 43\n",
      "1 out of 43\n",
      "2 out of 43\n",
      "3 out of 43\n",
      "4 out of 43\n",
      "5 out of 43\n",
      "6 out of 43\n",
      "7 out of 43\n",
      "8 out of 43\n",
      "9 out of 43\n",
      "10 out of 43\n",
      "11 out of 43\n",
      "12 out of 43\n",
      "13 out of 43\n",
      "14 out of 43\n",
      "15 out of 43\n",
      "16 out of 43\n",
      "17 out of 43\n",
      "18 out of 43\n",
      "19 out of 43\n",
      "20 out of 43\n",
      "21 out of 43\n",
      "22 out of 43\n",
      "23 out of 43\n",
      "24 out of 43\n",
      "25 out of 43\n",
      "26 out of 43\n",
      "27 out of 43\n",
      "28 out of 43\n",
      "29 out of 43\n",
      "30 out of 43\n",
      "31 out of 43\n",
      "32 out of 43\n",
      "33 out of 43\n",
      "34 out of 43\n",
      "35 out of 43\n",
      "36 out of 43\n",
      "37 out of 43\n",
      "38 out of 43\n",
      "39 out of 43\n",
      "40 out of 43\n",
      "41 out of 43\n",
      "42 out of 43\n"
     ]
    }
   ],
   "source": [
    "uuids = smalldf.user.unique()\n",
    "gens = smalldf.groupby('genre1').user.unique()\n",
    "adict = {}\n",
    "counter = 0\n",
    "for e,v in zip(gens.index.values, gens.values):\n",
    "    #if counter % 5 == 0:\n",
    "    print str(counter) + \" out of \" + str(len(gens))\n",
    "    counter +=1\n",
    "    adict[e] = np.array([item in v for item in uuids])"
   ]
  },
  {
   "cell_type": "code",
   "execution_count": 72,
   "metadata": {
    "collapsed": false
   },
   "outputs": [
    {
     "name": "stdout",
     "output_type": "stream",
     "text": [
      "mean support 2676.51384275 median support 1718.0\n"
     ]
    }
   ],
   "source": [
    "genres=adict.keys()\n",
    "supports=[]\n",
    "for i,gen1 in enumerate(genres):\n",
    "    for j,gen2 in enumerate(genres):\n",
    "        if  i < j:\n",
    "            supmask = (adict[gen1] & adict[gen2])\n",
    "            common_users = np.sum(supmask)\n",
    "            supports.append(common_users)\n",
    "\n",
    "print \"mean support\",np.mean(supports), \"median support\", np.median(supports)\n",
    "s = supports\n",
    "d = adict"
   ]
  },
  {
   "cell_type": "code",
   "execution_count": 77,
   "metadata": {
    "collapsed": false
   },
   "outputs": [
    {
     "name": "stdout",
     "output_type": "stream",
     "text": [
      "User genre plays mean and median 11.9926896552 12.0\n"
     ]
    },
    {
     "data": {
      "image/png": "[encoded data removed]",
      "text/plain": [
       "<matplotlib.figure.Figure at 0x124c7f5d0>"
      ]
     },
     "metadata": {},
     "output_type": "display_data"
    }
   ],
   "source": [
    "plt.hist(s, bins=np.arange(1,50,1), alpha=0.5, label=\"support\");\n",
    "c = smalldf.groupby('user').genre1.count()\n",
    "print \"User genre plays mean and median\",np.mean(c), np.median(c)\n",
    "plt.hist(c, bins=np.arange(1,50,1), alpha=0.5, label=\"user plays\");\n",
    "plt.legend();\n",
    "plt.ylabel(\"Count\")\n",
    "plt.title(\"Histogram of User Plays and Support\")\n",
    "plt.show()"
   ]
  },
  {
   "cell_type": "code",
   "execution_count": 79,
   "metadata": {
    "collapsed": false
   },
   "outputs": [
    {
     "name": "stdout",
     "output_type": "stream",
     "text": [
      "(434735, 254)\n",
      "(434735, 254)\n"
     ]
    }
   ],
   "source": [
    "print smalldf.shape\n",
    "smalldf=smalldf.drop_duplicates(['user','genre1'])\n",
    "print smalldf.shape"
   ]
  },
  {
   "cell_type": "code",
   "execution_count": 80,
   "metadata": {
    "collapsed": false
   },
   "outputs": [
    {
     "data": {
      "image/png": "[encoded data removed]",
      "text/plain": [
       "<matplotlib.figure.Figure at 0x11f7c0b90>"
      ]
     },
     "metadata": {},
     "output_type": "display_data"
    }
   ],
   "source": [
    "plt.hist(smalldf.groupby('user').count().user_genre_count,bins=15,alpha=0.7)\n",
    "plt.xlabel(\"Genres per User\")\n",
    "plt.ylabel(\"Count\")\n",
    "plt.title(\"Number of Genres per User Histogram\")\n",
    "plt.show()"
   ]
  },
  {
   "cell_type": "code",
   "execution_count": 81,
   "metadata": {
    "collapsed": false
   },
   "outputs": [
    {
     "data": {
      "image/png": "[encoded data removed]",
      "text/plain": [
       "<matplotlib.figure.Figure at 0x124c7fc50>"
      ]
     },
     "metadata": {},
     "output_type": "display_data"
    }
   ],
   "source": [
    "plt.hist(smalldf.groupby('genre1').count().genre_user_count,bins=15,alpha=0.7)\n",
    "plt.xlabel(\"Users per Genre\")\n",
    "plt.ylabel(\"Count\")\n",
    "plt.title(\"Number of Users per Genre Histogram\")\n",
    "plt.show()"
   ]
  },
  {
   "cell_type": "code",
   "execution_count": 82,
   "metadata": {
    "collapsed": false
   },
   "outputs": [
    {
     "data": {
      "text/plain": [
       "(131262, 254)"
      ]
     },
     "execution_count": 82,
     "metadata": {},
     "output_type": "execute_result"
    }
   ],
   "source": [
    "smalldf[smalldf.user_genre_count > 12].shape"
   ]
  },
  {
   "cell_type": "code",
   "execution_count": 83,
   "metadata": {
    "collapsed": false
   },
   "outputs": [
    {
     "name": "stdout",
     "output_type": "stream",
     "text": [
      "(386895, 254) (28704, 254) (19136, 254)\n"
     ]
    }
   ],
   "source": [
    "trainlist=[]\n",
    "testlist=[]\n",
    "validatelist=[]\n",
    "take=5\n",
    "for k, v in smalldf.groupby('user'):\n",
    "    if np.mean(v.user_genre_count) > 12:\n",
    "        takenos=np.random.choice(range(take), size=take/2, replace=False)\n",
    "        takelist=np.array([e in takenos for e in range(take)])\n",
    "        validatelist.append(v[-take:][~takelist])#use those \n",
    "        testlist.append(v[-take:][takelist])#use the other \n",
    "        trainlist.append(v[:-take])\n",
    "    else:\n",
    "        trainlist.append(v)\n",
    "traindf=pd.concat(trainlist)\n",
    "validatedf=pd.concat(validatelist)\n",
    "testdf=pd.concat(testlist)\n",
    "print traindf.shape, validatedf.shape, testdf.shape"
   ]
  },
  {
   "cell_type": "code",
   "execution_count": 84,
   "metadata": {
    "collapsed": false
   },
   "outputs": [
    {
     "name": "stdout",
     "output_type": "stream",
     "text": [
      "0 0\n"
     ]
    }
   ],
   "source": [
    "# this takes a while ~10min\n",
    "\n",
    "maskval=[e in set(validatedf.genre1).difference(set(traindf.genre1)) for e in validatedf.genre1] \n",
    "masktest=[e in set(testdf.genre1).difference(set(traindf.genre1)) for e in testdf.genre1] \n",
    "print np.sum(maskval), np.sum(masktest)"
   ]
  },
  {
   "cell_type": "code",
   "execution_count": 85,
   "metadata": {
    "collapsed": false
   },
   "outputs": [
    {
     "data": {
      "text/html": [
       "<div>\n",
       "<table border=\"1\" class=\"dataframe\">\n",
       "  <thead>\n",
       "    <tr style=\"text-align: right;\">\n",
       "      <th></th>\n",
       "      <th>user</th>\n",
       "      <th>genre1</th>\n",
       "      <th>plays</th>\n",
       "      <th>sex</th>\n",
       "      <th>age</th>\n",
       "      <th>country</th>\n",
       "      <th>male</th>\n",
       "      <th>female</th>\n",
       "      <th>sex_missing</th>\n",
       "      <th>age_missing</th>\n",
       "      <th>...</th>\n",
       "      <th>Rwanda</th>\n",
       "      <th>Saint Kitts and Nevis</th>\n",
       "      <th>New Caledonia</th>\n",
       "      <th>Sudan</th>\n",
       "      <th>Guyana</th>\n",
       "      <th>Marshall Islands</th>\n",
       "      <th>genre_avg</th>\n",
       "      <th>genre_user_count</th>\n",
       "      <th>user_avg</th>\n",
       "      <th>user_genre_count</th>\n",
       "    </tr>\n",
       "  </thead>\n",
       "  <tbody>\n",
       "    <tr>\n",
       "      <th>0</th>\n",
       "      <td>000429493d9716b66b02180d208d09b5b89fbe64</td>\n",
       "      <td>alternative rock</td>\n",
       "      <td>219.00</td>\n",
       "      <td>m</td>\n",
       "      <td>23</td>\n",
       "      <td>United States</td>\n",
       "      <td>1</td>\n",
       "      <td>0</td>\n",
       "      <td>0</td>\n",
       "      <td>0</td>\n",
       "      <td>...</td>\n",
       "      <td>0</td>\n",
       "      <td>0</td>\n",
       "      <td>0</td>\n",
       "      <td>0</td>\n",
       "      <td>0</td>\n",
       "      <td>0</td>\n",
       "      <td>258.968507</td>\n",
       "      <td>32194</td>\n",
       "      <td>314.270833</td>\n",
       "      <td>12</td>\n",
       "    </tr>\n",
       "    <tr>\n",
       "      <th>1</th>\n",
       "      <td>000429493d9716b66b02180d208d09b5b89fbe64</td>\n",
       "      <td>american</td>\n",
       "      <td>264.75</td>\n",
       "      <td>m</td>\n",
       "      <td>23</td>\n",
       "      <td>United States</td>\n",
       "      <td>1</td>\n",
       "      <td>0</td>\n",
       "      <td>0</td>\n",
       "      <td>0</td>\n",
       "      <td>...</td>\n",
       "      <td>0</td>\n",
       "      <td>0</td>\n",
       "      <td>0</td>\n",
       "      <td>0</td>\n",
       "      <td>0</td>\n",
       "      <td>0</td>\n",
       "      <td>255.208990</td>\n",
       "      <td>23316</td>\n",
       "      <td>314.270833</td>\n",
       "      <td>12</td>\n",
       "    </tr>\n",
       "    <tr>\n",
       "      <th>2</th>\n",
       "      <td>000429493d9716b66b02180d208d09b5b89fbe64</td>\n",
       "      <td>blues rock</td>\n",
       "      <td>216.00</td>\n",
       "      <td>m</td>\n",
       "      <td>23</td>\n",
       "      <td>United States</td>\n",
       "      <td>1</td>\n",
       "      <td>0</td>\n",
       "      <td>0</td>\n",
       "      <td>0</td>\n",
       "      <td>...</td>\n",
       "      <td>0</td>\n",
       "      <td>0</td>\n",
       "      <td>0</td>\n",
       "      <td>0</td>\n",
       "      <td>0</td>\n",
       "      <td>0</td>\n",
       "      <td>254.589414</td>\n",
       "      <td>10325</td>\n",
       "      <td>314.270833</td>\n",
       "      <td>12</td>\n",
       "    </tr>\n",
       "    <tr>\n",
       "      <th>3</th>\n",
       "      <td>000429493d9716b66b02180d208d09b5b89fbe64</td>\n",
       "      <td>british</td>\n",
       "      <td>168.00</td>\n",
       "      <td>m</td>\n",
       "      <td>23</td>\n",
       "      <td>United States</td>\n",
       "      <td>1</td>\n",
       "      <td>0</td>\n",
       "      <td>0</td>\n",
       "      <td>0</td>\n",
       "      <td>...</td>\n",
       "      <td>0</td>\n",
       "      <td>0</td>\n",
       "      <td>0</td>\n",
       "      <td>0</td>\n",
       "      <td>0</td>\n",
       "      <td>0</td>\n",
       "      <td>216.982690</td>\n",
       "      <td>24646</td>\n",
       "      <td>314.270833</td>\n",
       "      <td>12</td>\n",
       "    </tr>\n",
       "    <tr>\n",
       "      <th>4</th>\n",
       "      <td>000429493d9716b66b02180d208d09b5b89fbe64</td>\n",
       "      <td>canadian</td>\n",
       "      <td>328.00</td>\n",
       "      <td>m</td>\n",
       "      <td>23</td>\n",
       "      <td>United States</td>\n",
       "      <td>1</td>\n",
       "      <td>0</td>\n",
       "      <td>0</td>\n",
       "      <td>0</td>\n",
       "      <td>...</td>\n",
       "      <td>0</td>\n",
       "      <td>0</td>\n",
       "      <td>0</td>\n",
       "      <td>0</td>\n",
       "      <td>0</td>\n",
       "      <td>0</td>\n",
       "      <td>252.637899</td>\n",
       "      <td>10023</td>\n",
       "      <td>314.270833</td>\n",
       "      <td>12</td>\n",
       "    </tr>\n",
       "  </tbody>\n",
       "</table>\n",
       "<p>5 rows × 254 columns</p>\n",
       "</div>"
      ],
      "text/plain": [
       "                                       user            genre1   plays sex  \\\n",
       "0  000429493d9716b66b02180d208d09b5b89fbe64  alternative rock  219.00   m   \n",
       "1  000429493d9716b66b02180d208d09b5b89fbe64          american  264.75   m   \n",
       "2  000429493d9716b66b02180d208d09b5b89fbe64        blues rock  216.00   m   \n",
       "3  000429493d9716b66b02180d208d09b5b89fbe64           british  168.00   m   \n",
       "4  000429493d9716b66b02180d208d09b5b89fbe64          canadian  328.00   m   \n",
       "\n",
       "   age        country  male  female  sex_missing  age_missing  \\\n",
       "0   23  United States     1       0            0            0   \n",
       "1   23  United States     1       0            0            0   \n",
       "2   23  United States     1       0            0            0   \n",
       "3   23  United States     1       0            0            0   \n",
       "4   23  United States     1       0            0            0   \n",
       "\n",
       "         ...         Rwanda  Saint Kitts and Nevis  New Caledonia  Sudan  \\\n",
       "0        ...              0                      0              0      0   \n",
       "1        ...              0                      0              0      0   \n",
       "2        ...              0                      0              0      0   \n",
       "3        ...              0                      0              0      0   \n",
       "4        ...              0                      0              0      0   \n",
       "\n",
       "   Guyana  Marshall Islands   genre_avg  genre_user_count    user_avg  \\\n",
       "0       0                 0  258.968507             32194  314.270833   \n",
       "1       0                 0  255.208990             23316  314.270833   \n",
       "2       0                 0  254.589414             10325  314.270833   \n",
       "3       0                 0  216.982690             24646  314.270833   \n",
       "4       0                 0  252.637899             10023  314.270833   \n",
       "\n",
       "   user_genre_count  \n",
       "0                12  \n",
       "1                12  \n",
       "2                12  \n",
       "3                12  \n",
       "4                12  \n",
       "\n",
       "[5 rows x 254 columns]"
      ]
     },
     "execution_count": 85,
     "metadata": {},
     "output_type": "execute_result"
    }
   ],
   "source": [
    "traindf = recompute_frame(traindf)\n",
    "validatedf = recompute_frame(validatedf)\n",
    "testdf = recompute_frame(testdf)\n",
    "validatedf = validatedf[['user', 'genre1','plays']]\n",
    "testdf = testdf[['user', 'genre1', 'plays']]\n",
    "traindf.head()"
   ]
  },
  {
   "cell_type": "code",
   "execution_count": 121,
   "metadata": {
    "collapsed": true
   },
   "outputs": [],
   "source": [
    "# traindf.to_csv(\"train.csv\")\n",
    "# validatedf.to_csv(\"validate.csv\")\n",
    "# testdf.to_csv(\"test.csv\")\n",
    "# traindf = pd.read_csv(\"train.csv\")\n",
    "# validatedf = pd.read_csv(\"validate.csv\")\n",
    "# testdf = pd.read_csv(\"test.csv\")"
   ]
  },
  {
   "cell_type": "code",
   "execution_count": 87,
   "metadata": {
    "collapsed": false
   },
   "outputs": [
    {
     "data": {
      "text/html": [
       "<div>\n",
       "<table border=\"1\" class=\"dataframe\">\n",
       "  <thead>\n",
       "    <tr style=\"text-align: right;\">\n",
       "      <th></th>\n",
       "      <th>user</th>\n",
       "      <th>genre1</th>\n",
       "      <th>plays</th>\n",
       "    </tr>\n",
       "  </thead>\n",
       "  <tbody>\n",
       "    <tr>\n",
       "      <th>0</th>\n",
       "      <td>000429493d9716b66b02180d208d09b5b89fbe64</td>\n",
       "      <td>indie rock</td>\n",
       "      <td>435</td>\n",
       "    </tr>\n",
       "    <tr>\n",
       "      <th>1</th>\n",
       "      <td>000429493d9716b66b02180d208d09b5b89fbe64</td>\n",
       "      <td>rock and indie</td>\n",
       "      <td>218</td>\n",
       "    </tr>\n",
       "    <tr>\n",
       "      <th>2</th>\n",
       "      <td>000710d4dff11af267edd2f70bf54e7678bdd729</td>\n",
       "      <td>indie rock</td>\n",
       "      <td>108</td>\n",
       "    </tr>\n",
       "    <tr>\n",
       "      <th>3</th>\n",
       "      <td>000710d4dff11af267edd2f70bf54e7678bdd729</td>\n",
       "      <td>punk</td>\n",
       "      <td>286</td>\n",
       "    </tr>\n",
       "    <tr>\n",
       "      <th>4</th>\n",
       "      <td>0009194b405052f1ee09a9cce78d660c47832735</td>\n",
       "      <td>punk rock</td>\n",
       "      <td>824</td>\n",
       "    </tr>\n",
       "  </tbody>\n",
       "</table>\n",
       "</div>"
      ],
      "text/plain": [
       "                                       user          genre1  plays\n",
       "0  000429493d9716b66b02180d208d09b5b89fbe64      indie rock    435\n",
       "1  000429493d9716b66b02180d208d09b5b89fbe64  rock and indie    218\n",
       "2  000710d4dff11af267edd2f70bf54e7678bdd729      indie rock    108\n",
       "3  000710d4dff11af267edd2f70bf54e7678bdd729            punk    286\n",
       "4  0009194b405052f1ee09a9cce78d660c47832735       punk rock    824"
      ]
     },
     "execution_count": 87,
     "metadata": {},
     "output_type": "execute_result"
    }
   ],
   "source": [
    "testdf.head()"
   ]
  },
  {
   "cell_type": "code",
   "execution_count": 89,
   "metadata": {
    "collapsed": false
   },
   "outputs": [
    {
     "data": {
      "text/plain": [
       "253.95572725154435"
      ]
     },
     "execution_count": 89,
     "metadata": {},
     "output_type": "execute_result"
    }
   ],
   "source": [
    "ybar = traindf.plays.mean()\n",
    "ybar"
   ]
  },
  {
   "cell_type": "code",
   "execution_count": 90,
   "metadata": {
    "collapsed": true
   },
   "outputs": [],
   "source": [
    "uuids = traindf.user.unique()   #unique-user-ids\n",
    "uiids = traindf.genre1.unique() #unique-item-ids"
   ]
  },
  {
   "cell_type": "code",
   "execution_count": 91,
   "metadata": {
    "collapsed": true
   },
   "outputs": [],
   "source": [
    "uuidmap = {v:k for k,v in enumerate(uuids)}#of length U\n",
    "uiidmap = {v:k for k,v in enumerate(uiids)}#of length M"
   ]
  },
  {
   "cell_type": "code",
   "execution_count": 92,
   "metadata": {
    "collapsed": false
   },
   "outputs": [
    {
     "data": {
      "text/html": [
       "<div>\n",
       "<table border=\"1\" class=\"dataframe\">\n",
       "  <thead>\n",
       "    <tr style=\"text-align: right;\">\n",
       "      <th></th>\n",
       "      <th>user</th>\n",
       "      <th>genre1</th>\n",
       "      <th>plays</th>\n",
       "    </tr>\n",
       "  </thead>\n",
       "  <tbody>\n",
       "    <tr>\n",
       "      <th>0</th>\n",
       "      <td>000429493d9716b66b02180d208d09b5b89fbe64</td>\n",
       "      <td>indie rock</td>\n",
       "      <td>435</td>\n",
       "    </tr>\n",
       "    <tr>\n",
       "      <th>1</th>\n",
       "      <td>000429493d9716b66b02180d208d09b5b89fbe64</td>\n",
       "      <td>rock and indie</td>\n",
       "      <td>218</td>\n",
       "    </tr>\n",
       "    <tr>\n",
       "      <th>2</th>\n",
       "      <td>000710d4dff11af267edd2f70bf54e7678bdd729</td>\n",
       "      <td>indie rock</td>\n",
       "      <td>108</td>\n",
       "    </tr>\n",
       "    <tr>\n",
       "      <th>3</th>\n",
       "      <td>000710d4dff11af267edd2f70bf54e7678bdd729</td>\n",
       "      <td>punk</td>\n",
       "      <td>286</td>\n",
       "    </tr>\n",
       "    <tr>\n",
       "      <th>4</th>\n",
       "      <td>0009194b405052f1ee09a9cce78d660c47832735</td>\n",
       "      <td>punk rock</td>\n",
       "      <td>824</td>\n",
       "    </tr>\n",
       "  </tbody>\n",
       "</table>\n",
       "</div>"
      ],
      "text/plain": [
       "                                       user          genre1  plays\n",
       "0  000429493d9716b66b02180d208d09b5b89fbe64      indie rock    435\n",
       "1  000429493d9716b66b02180d208d09b5b89fbe64  rock and indie    218\n",
       "2  000710d4dff11af267edd2f70bf54e7678bdd729      indie rock    108\n",
       "3  000710d4dff11af267edd2f70bf54e7678bdd729            punk    286\n",
       "4  0009194b405052f1ee09a9cce78d660c47832735       punk rock    824"
      ]
     },
     "execution_count": 92,
     "metadata": {},
     "output_type": "execute_result"
    }
   ],
   "source": [
    "testdf.head()"
   ]
  },
  {
   "cell_type": "code",
   "execution_count": 93,
   "metadata": {
    "collapsed": true
   },
   "outputs": [],
   "source": [
    "#Initialize two dictionaries\n",
    "user_biases = {}\n",
    "item_biases = {}\n",
    "\n",
    "#loop through each user/item, filter by user/item and calculate mean star rating for that user/item\n",
    "#then subtract average rating to obtain bias\n",
    "for user in uuids:\n",
    "    user_biases[user] = traindf[traindf.user == user].plays.mean() - ybar\n",
    "\n",
    "for item in uiids:\n",
    "    item_biases[item] = traindf[traindf.genre1 == item].plays.mean() - ybar"
   ]
  },
  {
   "cell_type": "code",
   "execution_count": 95,
   "metadata": {
    "collapsed": false
   },
   "outputs": [
    {
     "name": "stdout",
     "output_type": "stream",
     "text": [
      "User mean is  -0.271620577128\n",
      "User median is  -87.9102727061\n",
      "Genre mean is  0.271100906302\n",
      "Genre median is  -1.31782775372\n"
     ]
    }
   ],
   "source": [
    "#calculate mean and median valuse for our two dictionaries\n",
    "u_mean = np.mean(user_biases.values())\n",
    "i_mean = np.mean(item_biases.values())\n",
    "\n",
    "u_med = np.median(user_biases.values())\n",
    "i_med = np.median(item_biases.values())\n",
    "\n",
    "print \"User mean is \", u_mean\n",
    "print \"User median is \", u_med\n",
    "print \"Genre mean is \", i_mean\n",
    "print \"Genre median is \", i_med"
   ]
  },
  {
   "cell_type": "code",
   "execution_count": 104,
   "metadata": {
    "collapsed": false
   },
   "outputs": [
    {
     "data": {
      "image/png": "[encoded data removed]",
      "text/plain": [
       "<matplotlib.figure.Figure at 0x34ac4de10>"
      ]
     },
     "metadata": {},
     "output_type": "display_data"
    }
   ],
   "source": [
    "#plot user rating histogram with mean and median\n",
    "plt.hist(user_biases.values(),alpha=1, bins=100)\n",
    "plt.axvline(u_mean,alpha = .5,color=\"r\",label = \"Mean\")\n",
    "plt.axvline(u_med,alpha = .5,color=\"k\",label = \"Median\")\n",
    "plt.xlabel(\"User Plays\")\n",
    "plt.ylabel(\"Count\")\n",
    "plt.title(\"User Plays Histogram\")\n",
    "plt.xlim(-500,4000)\n",
    "plt.legend()\n",
    "plt.show()"
   ]
  },
  {
   "cell_type": "code",
   "execution_count": 110,
   "metadata": {
    "collapsed": false
   },
   "outputs": [
    {
     "data": {
      "image/png": "[encoded data removed]",
      "text/plain": [
       "<matplotlib.figure.Figure at 0x41743ad10>"
      ]
     },
     "metadata": {},
     "output_type": "display_data"
    }
   ],
   "source": [
    "#plot business rating histogram with mean and median\n",
    "plt.hist(item_biases.values(),alpha=1,bins = 10)\n",
    "plt.axvline(i_mean,alpha = .5,color=\"r\",label = \"Mean\")\n",
    "plt.axvline(i_med,alpha = .5,color=\"k\",label = \"Median\")\n",
    "plt.xlabel(\"Genre Plays\")\n",
    "plt.ylabel(\"Count\")\n",
    "plt.title(\"Genre Plays Histogram\")\n",
    "#plt.xlim(-1.5,1.5)\n",
    "plt.legend()\n",
    "plt.show()"
   ]
  },
  {
   "cell_type": "code",
   "execution_count": 125,
   "metadata": {
    "collapsed": false
   },
   "outputs": [],
   "source": [
    "traindf.plays = traindf.plays.apply(lambda x: int(x))\n",
    "validatedf.plays = validatedf.plays.apply(lambda x: int(x))\n",
    "testdf.plays = testdf.plays.apply(lambda x: int(x))"
   ]
  },
  {
   "cell_type": "code",
   "execution_count": 136,
   "metadata": {
    "collapsed": false
   },
   "outputs": [
    {
     "name": "stdout",
     "output_type": "stream",
     "text": [
      "121.283\n",
      "242.566\n",
      "363.849\n",
      "485.132\n",
      "606.415\n",
      "727.698\n",
      "848.981\n",
      "970.264\n",
      "1091.547\n"
     ]
    }
   ],
   "source": [
    "for i in range(1,10):\n",
    "    print i*play_max/1000."
   ]
  },
  {
   "cell_type": "code",
   "execution_count": 139,
   "metadata": {
    "collapsed": false
   },
   "outputs": [
    {
     "data": {
      "image/png": "[encoded data removed]",
      "text/plain": [
       "<matplotlib.figure.Figure at 0x411291190>"
      ]
     },
     "metadata": {},
     "output_type": "display_data"
    }
   ],
   "source": [
    "to_plot=[]\n",
    "play_max = traindf.plays.max()\n",
    "for i in range(1,10):\n",
    "    condition = (traindf['plays'] > (i-1)*play_max/1000.0) & ((traindf['plays'] < i*play_max/1000.0))\n",
    "    to_plot.append(traindf[condition].plays.count())\n",
    "plt.bar(range(1,10),to_plot,width=0.8,align = \"center\")\n",
    "plt.title(\"Plays by Users (training set)\")\n",
    "plt.ylabel(\"Count\")\n",
    "plt.xlabel(\"Plays\")\n",
    "plt.xticks(range(1,10), [\"121\",\"242\",\"363\",\"485\",\"606\",\"727\",\"848\",\"970\",\"1091\"])\n",
    "plt.show()"
   ]
  },
  {
   "cell_type": "code",
   "execution_count": 140,
   "metadata": {
    "collapsed": true
   },
   "outputs": [],
   "source": [
    "train_avgs={'mean':ybar, 'users':user_biases, 'items':item_biases}"
   ]
  },
  {
   "cell_type": "code",
   "execution_count": 141,
   "metadata": {
    "collapsed": true
   },
   "outputs": [],
   "source": [
    "#loop through each review in test and validate dataframes\n",
    "#compute our baseline prediction using ybar + user bias + item bias\n",
    "baseline_test_predictions = []\n",
    "for i in range(testdf.shape[0]):\n",
    "    baseline_test_predictions.append(ybar + user_biases[testdf.iloc[i,:].user] + item_biases[testdf.iloc[i,:].genre1])\n",
    "\n",
    "baseline_validate_predictions = []\n",
    "for i in range(validatedf.shape[0]):\n",
    "    baseline_validate_predictions.append(ybar + user_biases[validatedf.iloc[i,:].user] + item_biases[validatedf.iloc[i,:].genre1])\n",
    "\n",
    "predictions={}\n",
    "predictions_valid={}    \n",
    "predictions[\"baseline\"] = baseline_test_predictions\n",
    "predictions_valid[\"baseline\"] = baseline_validate_predictions"
   ]
  },
  {
   "cell_type": "code",
   "execution_count": 142,
   "metadata": {
    "collapsed": true
   },
   "outputs": [],
   "source": [
    "def get_rmse(s, s_predict):\n",
    "    diff = s - s_predict\n",
    "    return np.sqrt(np.dot(diff,diff)/diff.shape[0])"
   ]
  },
  {
   "cell_type": "code",
   "execution_count": 149,
   "metadata": {
    "collapsed": true
   },
   "outputs": [],
   "source": [
    "def compare_results(plays_actual, plays_predicted, ylow=1, yhigh=play_max/1000.0, model=\"\", predicteds=False, onsame=False, axis=False):\n",
    "    \"\"\"\n",
    "    plot predicted results against actual results. Takes 2 arguments: a\n",
    "    numpy array of actual ratings and a numpy array of predicted ratings\n",
    "    scatterplots the predictions, a unit slope line, line segments joining the mean,\n",
    "    and a filled in area of the standard deviations.\"\n",
    "    \"\"\"\n",
    "    if onsame:\n",
    "        ax=onsame\n",
    "    elif axis:\n",
    "        ax=axis\n",
    "    else:\n",
    "        fig=plt.figure()\n",
    "        ax=plt.gca()\n",
    "    df=pd.DataFrame(dict(actual=plays_actual, predicted=plays_predicted))\n",
    "    xp=[]\n",
    "    yp=[]\n",
    "    for k,v in df.groupby('actual'):\n",
    "        xp.append(k)\n",
    "        yp.append(v.predicted.mean())        \n",
    "    \n",
    "    cl, = ax.plot(xp,yp, 's-', label=\"Means for %s\" % model)\n",
    "    c=cl.get_color()\n",
    "\n",
    "    sig=df.groupby('actual').predicted.std().values\n",
    "    ax.fill_between(xp, yp - sig, yp + sig, \n",
    "                 color=c, alpha=0.2)\n",
    "    if predicteds:\n",
    "        ax.plot(df.actual, df.predicted, '.', color=c, alpha=0.2, label=\"Predicted for %s\" % model)\n",
    "\n",
    "    if not onsame:\n",
    "        ax.plot([1,10],[1,10], 'k', label=\"Slope 1\")\n",
    "        ax.set_xlabel(\"Actual\")\n",
    "        ax.set_ylabel(\"Predicted\")\n",
    "        ax.set_ylim([ylow,yhigh])\n",
    "        ax.set_xlim([0.9, 10.1])\n",
    "        ax.set_title(\"Prediction Model\")\n",
    "    ax.legend(frameon=False, loc=\"upper left\")\n",
    "    rmse=get_rmse(plays_actual, plays_predicted)\n",
    "    print \"RMSE for %s\" % model, rmse\n",
    "    return ax,rmse"
   ]
  },
  {
   "cell_type": "code",
   "execution_count": 150,
   "metadata": {
    "collapsed": false
   },
   "outputs": [
    {
     "name": "stdout",
     "output_type": "stream",
     "text": [
      "RMSE for baseline 465.976804913\n"
     ]
    },
    {
     "data": {
      "image/png": "[encoded data removed]",
      "text/plain": [
       "<matplotlib.figure.Figure at 0x4a0ea4ad0>"
      ]
     },
     "metadata": {},
     "output_type": "display_data"
    }
   ],
   "source": [
    "compare_results(testdf.plays,predictions['baseline'], model=\"baseline\", predicteds=True);"
   ]
  },
  {
   "cell_type": "code",
   "execution_count": 151,
   "metadata": {
    "collapsed": false
   },
   "outputs": [
    {
     "name": "stdout",
     "output_type": "stream",
     "text": [
      "Mean and Median support is: 2108.64008859 1263.0\n"
     ]
    }
   ],
   "source": [
    "#for each restaurant get the unique userids who rated it\n",
    "users_for_genres = traindf.groupby('genre1').user.unique()\n",
    "genres=uiids\n",
    "lres=len(genres)\n",
    "supports=[[[] for i in range(lres)] for i in range(lres)]\n",
    "supporthistlist=[]\n",
    "for i,gen1 in enumerate(genres):\n",
    "    for j,gen2 in enumerate(genres):\n",
    "        if  i <= j:#its symmetric\n",
    "            if gen1==gen2:\n",
    "                common_genres=users_for_genres[gen1]\n",
    "            else:\n",
    "                common_genres = set(users_for_genres[gen1]).intersection(set(users_for_genres[gen2]))\n",
    "                supporthistlist.append(len(common_genres))\n",
    "            supports[i][j]=common_genres\n",
    "            supports[j][i]=common_genres\n",
    "print \"Mean and Median support is:\",np.mean(supporthistlist), np.median(supporthistlist)"
   ]
  },
  {
   "cell_type": "code",
   "execution_count": 152,
   "metadata": {
    "collapsed": false
   },
   "outputs": [
    {
     "name": "stdout",
     "output_type": "stream",
     "text": [
      "434735\n"
     ]
    }
   ],
   "source": [
    "print len(smalldf.values)"
   ]
  },
  {
   "cell_type": "code",
   "execution_count": 153,
   "metadata": {
    "collapsed": true
   },
   "outputs": [],
   "source": [
    "from scipy.stats.stats import pearsonr\n",
    "\"\"\"\n",
    "Given a subframe or dictionary of restaurant 1 reviews and a subframe or dictionary of restaurant 2 reviews, \n",
    "and the number of common reviewers n_common,\n",
    "where the reviewers are those who have reviewed both restaurants, return \n",
    "the pearson correlation coefficient between the user average subtracted ratings.\n",
    "The case for zero common reviewers is handled separately, return 0. If the correlation is\n",
    "NaN if any of the individual variances are 0 (the n=1 case), return 0 instead.\"\"\"\n",
    "\n",
    "def pearson_sim(gen1_plays,gen2_plays,n_common):\n",
    "    #check to see i n_common is 0 or 1\n",
    "    if n_common == 0:\n",
    "        return 0\n",
    "    elif n_common == 1:\n",
    "        return 0    \n",
    "    \n",
    "    #if working with list (derived from a dict) then do the following:\n",
    "    elif type(gen1_plays) == type(list()):\n",
    "        rho = pearsonr(gen1_plays,gen2_plays)\n",
    "        return rho[0]\n",
    "    \n",
    "    #else if working with a df, do the following\n",
    "    else:    \n",
    "        X = []\n",
    "        Y = []\n",
    "        \n",
    "        #make sure the entry isn't empty then append the bias for X\n",
    "        for i in range(len(gen1_plays.index)):\n",
    "            #if not rest1_reviews.iloc[i].empty:\n",
    "            X.append(gen1_plays.iloc[i].plays - gen1_plays.iloc[i].user_avg)\n",
    "                \n",
    "        #make sure the entry isn't empty then append the bias for Y\n",
    "        for j in range(len(gen2_plays.index)):   \n",
    "            #if not rest2_reviews.iloc[j].empty:  \n",
    "            Y.append(gen2_plays.iloc[j].plays - gen2_plays.iloc[j].user_avg)\n",
    "               \n",
    "        #calculate rho\n",
    "        rho = pearsonr(X,Y)\n",
    "        if np.isnan(rho[0]):\n",
    "            return 0\n",
    "        else:\n",
    "            return rho[0]        \n",
    "        "
   ]
  },
  {
   "cell_type": "code",
   "execution_count": 197,
   "metadata": {
    "collapsed": true
   },
   "outputs": [],
   "source": [
    "def get_genre_plays(genre, df, set_of_users):\n",
    "    \"\"\"\n",
    "    given a resturant id and a set of reviewers, return the sub-dataframe of their\n",
    "    reviews.\n",
    "    \"\"\"\n",
    "    mask = (df.user_id.isin(set_of_users)) & (df.genre1==genre)\n",
    "    plays = df[mask]\n",
    "    plays = plays[plays.user.duplicated()==False]\n",
    "    return plays"
   ]
  },
  {
   "cell_type": "code",
   "execution_count": 155,
   "metadata": {
    "collapsed": true
   },
   "outputs": [],
   "source": [
    "class Database:\n",
    "    \"A class representing a database of similarities and common supports\"\n",
    "    \n",
    "    def __init__(self, rindexmap, supports):\n",
    "        \"the constructor, takes a map of restaurant id's to integers\"\n",
    "        database={}\n",
    "        self.rindexmap=rindexmap\n",
    "        self.supports=supports\n",
    "        l_keys=len(self.rindexmap.keys())\n",
    "        self.database_sim=np.zeros([l_keys,l_keys])\n",
    "        self.database_sup=np.zeros([l_keys, l_keys], dtype=np.int)\n",
    "\n",
    "    def set_supports(self, supports):\n",
    "        self.supports=supports\n",
    "        \n",
    "    def get(self, b1, b2):\n",
    "        \"returns a tuple of similarity,common_support given two business ids\"\n",
    "        sim=self.database_sim[self.rindexmap[b1]][self.rindexmap[b2]]\n",
    "        nsup=self.database_sup[self.rindexmap[b1]][self.rindexmap[b2]]\n",
    "        return (sim, nsup)"
   ]
  },
  {
   "cell_type": "code",
   "execution_count": 156,
   "metadata": {
    "collapsed": true
   },
   "outputs": [],
   "source": [
    "db = Database(uiidmap, supports)"
   ]
  },
  {
   "cell_type": "code",
   "execution_count": 162,
   "metadata": {
    "collapsed": false
   },
   "outputs": [
    {
     "name": "stdout",
     "output_type": "stream",
     "text": [
      "Index([u'Unnamed: 0', u'user', u'genre1', u'plays', u'sex', u'age', u'country',\n",
      "       u'male', u'female', u'sex_missing',\n",
      "       ...\n",
      "       u'Rwanda', u'Saint Kitts and Nevis', u'New Caledonia', u'Sudan',\n",
      "       u'Guyana', u'Marshall Islands', u'genre_avg', u'genre_user_count',\n",
      "       u'user_avg', u'user_genre_count'],\n",
      "      dtype='object', length=255)\n",
      "0 0\n",
      "1 0\n",
      "2 000429493d9716b66b02180d208d09b5b89fbe64\n",
      "3 alternative rock\n",
      "4 219\n",
      "5 m\n",
      "6 23.0\n",
      "7 United States\n",
      "8 1\n",
      "9 0\n",
      "10 0\n",
      "11 0\n",
      "12 0\n",
      "13 0.0\n",
      "14 0.0\n",
      "15 1.0\n",
      "16 0.0\n",
      "17 0.0\n",
      "18 0.0\n",
      "19 0.0\n",
      "20 0.0\n",
      "21 0.0\n",
      "22 0.0\n",
      "23 0.0\n",
      "24 0.0\n",
      "25 0.0\n",
      "26 0.0\n",
      "27 0.0\n",
      "28 0.0\n",
      "29 0.0\n",
      "30 0.0\n",
      "31 0.0\n",
      "32 0.0\n",
      "33 0.0\n",
      "34 0.0\n",
      "35 0.0\n",
      "36 0.0\n",
      "37 0.0\n",
      "38 0.0\n",
      "39 0.0\n",
      "40 0.0\n",
      "41 0.0\n",
      "42 0.0\n",
      "43 0.0\n",
      "44 0.0\n",
      "45 0.0\n",
      "46 0.0\n",
      "47 0.0\n",
      "48 0.0\n",
      "49 0.0\n",
      "50 0.0\n",
      "51 0.0\n",
      "52 0.0\n",
      "53 0.0\n",
      "54 0.0\n",
      "55 0.0\n",
      "56 0.0\n",
      "57 0.0\n",
      "58 0.0\n",
      "59 0.0\n",
      "60 0.0\n",
      "61 0.0\n",
      "62 0.0\n",
      "63 0.0\n",
      "64 0.0\n",
      "65 0.0\n",
      "66 0.0\n",
      "67 0.0\n",
      "68 0.0\n",
      "69 0.0\n",
      "70 0.0\n",
      "71 0.0\n",
      "72 0.0\n",
      "73 0.0\n",
      "74 0.0\n",
      "75 0.0\n",
      "76 0.0\n",
      "77 0.0\n",
      "78 0.0\n",
      "79 0.0\n",
      "80 0.0\n",
      "81 0.0\n",
      "82 0.0\n",
      "83 0.0\n",
      "84 0.0\n",
      "85 0.0\n",
      "86 0.0\n",
      "87 0.0\n",
      "88 0.0\n",
      "89 0.0\n",
      "90 0.0\n",
      "91 0.0\n",
      "92 0.0\n",
      "93 0.0\n",
      "94 0.0\n",
      "95 0.0\n",
      "96 0.0\n",
      "97 0.0\n",
      "98 0.0\n",
      "99 0.0\n",
      "100 0.0\n",
      "101 0.0\n",
      "102 0.0\n",
      "103 0.0\n",
      "104 0.0\n",
      "105 0.0\n",
      "106 0.0\n",
      "107 0.0\n",
      "108 0.0\n",
      "109 0.0\n",
      "110 0.0\n",
      "111 0.0\n",
      "112 0.0\n",
      "113 0.0\n",
      "114 0.0\n",
      "115 0.0\n",
      "116 0.0\n",
      "117 0.0\n",
      "118 0.0\n",
      "119 0.0\n",
      "120 0.0\n",
      "121 0.0\n",
      "122 0.0\n",
      "123 0.0\n",
      "124 0.0\n",
      "125 0.0\n",
      "126 0.0\n",
      "127 0.0\n",
      "128 0.0\n",
      "129 0.0\n",
      "130 0.0\n",
      "131 0.0\n",
      "132 0.0\n",
      "133 0.0\n",
      "134 0.0\n",
      "135 0.0\n",
      "136 0.0\n",
      "137 0.0\n",
      "138 0.0\n",
      "139 0.0\n",
      "140 0.0\n",
      "141 0.0\n",
      "142 0.0\n",
      "143 0.0\n",
      "144 0.0\n",
      "145 0.0\n",
      "146 0.0\n",
      "147 0.0\n",
      "148 0.0\n",
      "149 0.0\n",
      "150 0.0\n",
      "151 0.0\n",
      "152 0.0\n",
      "153 0.0\n",
      "154 0.0\n",
      "155 0.0\n",
      "156 0.0\n",
      "157 0.0\n",
      "158 0.0\n",
      "159 0.0\n",
      "160 0.0\n",
      "161 0.0\n",
      "162 0.0\n",
      "163 0.0\n",
      "164 0.0\n",
      "165 0.0\n",
      "166 0.0\n",
      "167 0.0\n",
      "168 0.0\n",
      "169 0.0\n",
      "170 0.0\n",
      "171 0.0\n",
      "172 0.0\n",
      "173 0.0\n",
      "174 0.0\n",
      "175 0.0\n",
      "176 0.0\n",
      "177 0.0\n",
      "178 0.0\n",
      "179 0.0\n",
      "180 0.0\n",
      "181 0.0\n",
      "182 0.0\n",
      "183 0.0\n",
      "184 0.0\n",
      "185 0.0\n",
      "186 0.0\n",
      "187 0.0\n",
      "188 0.0\n",
      "189 0.0\n",
      "190 0.0\n",
      "191 0.0\n",
      "192 0.0\n",
      "193 0.0\n",
      "194 0.0\n",
      "195 0.0\n",
      "196 0.0\n",
      "197 0.0\n",
      "198 0.0\n",
      "199 0.0\n",
      "200 0.0\n",
      "201 0.0\n",
      "202 0.0\n",
      "203 0.0\n",
      "204 0.0\n",
      "205 0.0\n",
      "206 0.0\n",
      "207 0.0\n",
      "208 0.0\n",
      "209 0.0\n",
      "210 0.0\n",
      "211 0.0\n",
      "212 0.0\n",
      "213 0.0\n",
      "214 0.0\n",
      "215 0.0\n",
      "216 0.0\n",
      "217 0.0\n",
      "218 0.0\n",
      "219 0.0\n",
      "220 0.0\n",
      "221 0.0\n",
      "222 0.0\n",
      "223 0.0\n",
      "224 0.0\n",
      "225 0.0\n",
      "226 0.0\n",
      "227 0.0\n",
      "228 0.0\n",
      "229 0.0\n",
      "230 0.0\n",
      "231 0.0\n",
      "232 0.0\n",
      "233 0.0\n",
      "234 0.0\n",
      "235 0.0\n",
      "236 0.0\n",
      "237 0.0\n",
      "238 0.0\n",
      "239 0.0\n",
      "240 0.0\n",
      "241 0.0\n",
      "242 0.0\n",
      "243 0.0\n",
      "244 0.0\n",
      "245 0.0\n",
      "246 0.0\n",
      "247 0.0\n",
      "248 0.0\n",
      "249 0.0\n",
      "250 0.0\n",
      "251 0.0\n",
      "252 258.968506575\n",
      "253 32194\n",
      "254 314.270833333\n",
      "255 12\n",
      "0 1\n",
      "1 1\n",
      "2 000429493d9716b66b02180d208d09b5b89fbe64\n",
      "3 american\n",
      "4 264\n",
      "5 m\n",
      "6 23.0\n",
      "7 United States\n",
      "8 1\n",
      "9 0\n",
      "10 0\n",
      "11 0\n",
      "12 0\n",
      "13 0.0\n",
      "14 0.0\n",
      "15 1.0\n",
      "16 0.0\n",
      "17 0.0\n",
      "18 0.0\n",
      "19 0.0\n",
      "20 0.0\n",
      "21 0.0\n",
      "22 0.0\n",
      "23 0.0\n",
      "24 0.0\n",
      "25 0.0\n",
      "26 0.0\n",
      "27 0.0\n",
      "28 0.0\n",
      "29 0.0\n",
      "30 0.0\n",
      "31 0.0\n",
      "32 0.0\n",
      "33 0.0\n",
      "34 0.0\n",
      "35 0.0\n",
      "36 0.0\n",
      "37 0.0\n",
      "38 0.0\n",
      "39 0.0\n",
      "40 0.0\n",
      "41 0.0\n",
      "42 0.0\n",
      "43 0.0\n",
      "44 0.0\n",
      "45 0.0\n",
      "46 0.0\n",
      "47 0.0\n",
      "48 0.0\n",
      "49 0.0\n",
      "50 0.0\n",
      "51 0.0\n",
      "52 0.0\n",
      "53 0.0\n",
      "54 0.0\n",
      "55 0.0\n",
      "56 0.0\n",
      "57 0.0\n",
      "58 0.0\n",
      "59 0.0\n",
      "60 0.0\n",
      "61 0.0\n",
      "62 0.0\n",
      "63 0.0\n",
      "64 0.0\n",
      "65 0.0\n",
      "66 0.0\n",
      "67 0.0\n",
      "68 0.0\n",
      "69 0.0\n",
      "70 0.0\n",
      "71 0.0\n",
      "72 0.0\n",
      "73 0.0\n",
      "74 0.0\n",
      "75 0.0\n",
      "76 0.0\n",
      "77 0.0\n",
      "78 0.0\n",
      "79 0.0\n",
      "80 0.0\n",
      "81 0.0\n",
      "82 0.0\n",
      "83 0.0\n",
      "84 0.0\n",
      "85 0.0\n",
      "86 0.0\n",
      "87 0.0\n",
      "88 0.0\n",
      "89 0.0\n",
      "90 0.0\n",
      "91 0.0\n",
      "92 0.0\n",
      "93 0.0\n",
      "94 0.0\n",
      "95 0.0\n",
      "96 0.0\n",
      "97 0.0\n",
      "98 0.0\n",
      "99 0.0\n",
      "100 0.0\n",
      "101 0.0\n",
      "102 0.0\n",
      "103 0.0\n",
      "104 0.0\n",
      "105 0.0\n",
      "106 0.0\n",
      "107 0.0\n",
      "108 0.0\n",
      "109 0.0\n",
      "110 0.0\n",
      "111 0.0\n",
      "112 0.0\n",
      "113 0.0\n",
      "114 0.0\n",
      "115 0.0\n",
      "116 0.0\n",
      "117 0.0\n",
      "118 0.0\n",
      "119 0.0\n",
      "120 0.0\n",
      "121 0.0\n",
      "122 0.0\n",
      "123 0.0\n",
      "124 0.0\n",
      "125 0.0\n",
      "126 0.0\n",
      "127 0.0\n",
      "128 0.0\n",
      "129 0.0\n",
      "130 0.0\n",
      "131 0.0\n",
      "132 0.0\n",
      "133 0.0\n",
      "134 0.0\n",
      "135 0.0\n",
      "136 0.0\n",
      "137 0.0\n",
      "138 0.0\n",
      "139 0.0\n",
      "140 0.0\n",
      "141 0.0\n",
      "142 0.0\n",
      "143 0.0\n",
      "144 0.0\n",
      "145 0.0\n",
      "146 0.0\n",
      "147 0.0\n",
      "148 0.0\n",
      "149 0.0\n",
      "150 0.0\n",
      "151 0.0\n",
      "152 0.0\n",
      "153 0.0\n",
      "154 0.0\n",
      "155 0.0\n",
      "156 0.0\n",
      "157 0.0\n",
      "158 0.0\n",
      "159 0.0\n",
      "160 0.0\n",
      "161 0.0\n",
      "162 0.0\n",
      "163 0.0\n",
      "164 0.0\n",
      "165 0.0\n",
      "166 0.0\n",
      "167 0.0\n",
      "168 0.0\n",
      "169 0.0\n",
      "170 0.0\n",
      "171 0.0\n",
      "172 0.0\n",
      "173 0.0\n",
      "174 0.0\n",
      "175 0.0\n",
      "176 0.0\n",
      "177 0.0\n",
      "178 0.0\n",
      "179 0.0\n",
      "180 0.0\n",
      "181 0.0\n",
      "182 0.0\n",
      "183 0.0\n",
      "184 0.0\n",
      "185 0.0\n",
      "186 0.0\n",
      "187 0.0\n",
      "188 0.0\n",
      "189 0.0\n",
      "190 0.0\n",
      "191 0.0\n",
      "192 0.0\n",
      "193 0.0\n",
      "194 0.0\n",
      "195 0.0\n",
      "196 0.0\n",
      "197 0.0\n",
      "198 0.0\n",
      "199 0.0\n",
      "200 0.0\n",
      "201 0.0\n",
      "202 0.0\n",
      "203 0.0\n",
      "204 0.0\n",
      "205 0.0\n",
      "206 0.0\n",
      "207 0.0\n",
      "208 0.0\n",
      "209 0.0\n",
      "210 0.0\n",
      "211 0.0\n",
      "212 0.0\n",
      "213 0.0\n",
      "214 0.0\n",
      "215 0.0\n",
      "216 0.0\n",
      "217 0.0\n",
      "218 0.0\n",
      "219 0.0\n",
      "220 0.0\n",
      "221 0.0\n",
      "222 0.0\n",
      "223 0.0\n",
      "224 0.0\n",
      "225 0.0\n",
      "226 0.0\n",
      "227 0.0\n",
      "228 0.0\n",
      "229 0.0\n",
      "230 0.0\n",
      "231 0.0\n",
      "232 0.0\n",
      "233 0.0\n",
      "234 0.0\n",
      "235 0.0\n",
      "236 0.0\n",
      "237 0.0\n",
      "238 0.0\n",
      "239 0.0\n",
      "240 0.0\n",
      "241 0.0\n",
      "242 0.0\n",
      "243 0.0\n",
      "244 0.0\n",
      "245 0.0\n",
      "246 0.0\n",
      "247 0.0\n",
      "248 0.0\n",
      "249 0.0\n",
      "250 0.0\n",
      "251 0.0\n",
      "252 255.20899025\n",
      "253 23316\n",
      "254 314.270833333\n",
      "255 12\n"
     ]
    }
   ],
   "source": [
    "print traindf.columns\n",
    "for row in traindf.head(2).itertuples():\n",
    "    for i in range(256):\n",
    "        print i, row[i]"
   ]
  },
  {
   "cell_type": "code",
   "execution_count": 186,
   "metadata": {
    "collapsed": true
   },
   "outputs": [],
   "source": [
    "def mapper1(row):\n",
    "    return row[2], (row[3], row[4], row[254])"
   ]
  },
  {
   "cell_type": "code",
   "execution_count": 187,
   "metadata": {
    "collapsed": true
   },
   "outputs": [],
   "source": [
    "def combiner(items):\n",
    "    indict={}\n",
    "    for key, value in items:\n",
    "        if not indict.has_key(key):\n",
    "            indict[key]=[]\n",
    "        indict[key].append(value)\n",
    "    return indict.items()"
   ]
  },
  {
   "cell_type": "code",
   "execution_count": 188,
   "metadata": {
    "collapsed": true
   },
   "outputs": [],
   "source": [
    "def reducer1(the_input):\n",
    "    user, values = the_input\n",
    "    ratings=[]\n",
    "    for genre,plays,user_avg in values:\n",
    "        ratings.append((genre,(plays, user_avg)))\n",
    "    return user, ratings"
   ]
  },
  {
   "cell_type": "code",
   "execution_count": 189,
   "metadata": {
    "collapsed": false
   },
   "outputs": [],
   "source": [
    "from itertools import *\n",
    "def mapper2(reduced1):\n",
    "    tuples = []\n",
    "    \n",
    "    #get set of combinations from our input\n",
    "    combinations = list(combinations_with_replacement(reduced1[1],2))\n",
    "    \n",
    "    #cycle through newly created combinations. check if alphabetized, then create final tuple pair as directed.\n",
    "    for combo in combinations:\n",
    "        if combo[0][0] > combo[1][0]:\n",
    "            tuple1 = (combo[1][0],combo[0][0])\n",
    "            tuple2 = (combo[1][1],combo[0][1])\n",
    "        else:\n",
    "            tuple1 = (combo[0][0],combo[1][0])\n",
    "            tuple2 = (combo[0][1],combo[1][1])           \n",
    "        \n",
    "        #add tuples created\n",
    "        tuples_to_add=(tuple1,tuple2)\n",
    "        tuples.append(tuples_to_add)\n",
    "    return tuples"
   ]
  },
  {
   "cell_type": "code",
   "execution_count": 190,
   "metadata": {
    "collapsed": true
   },
   "outputs": [],
   "source": [
    "def combiner_list(itemslist):\n",
    "    indict={}\n",
    "    for items in itemslist:\n",
    "        for key, value in items:\n",
    "            if not indict.has_key(key):\n",
    "                indict[key]=[]\n",
    "            indict[key].append(value)\n",
    "    return indict.items()"
   ]
  },
  {
   "cell_type": "code",
   "execution_count": 191,
   "metadata": {
    "collapsed": true
   },
   "outputs": [],
   "source": [
    "def reducer2(combine2):\n",
    "    #grab the IDs from the input\n",
    "    genre1 = combine2[0][0]\n",
    "    genre2 = combine2[0][1]\n",
    "    genre1_plays = []\n",
    "    genre2_plays = []\n",
    "    \n",
    "    #append the reviews for each restaurant\n",
    "    for i in range(len(combine2[1])):\n",
    "        genre1_plays.append(combine2[1][i][0][0]-combine2[1][i][0][1])\n",
    "        genre2_plays.append(combine2[1][i][1][0]-combine2[1][i][0][1])\n",
    "    n_common = len(combine2[1])\n",
    "    \n",
    "    #calculate rho\n",
    "    rho = pearson_sim(genre1_plays,genre2_plays,n_common)\n",
    "    return (genre1, genre2),(rho, n_common)"
   ]
  },
  {
   "cell_type": "code",
   "execution_count": 192,
   "metadata": {
    "collapsed": true
   },
   "outputs": [],
   "source": [
    "def map_reduce(tuples):\n",
    "\n",
    "    mapped1=map(mapper1, tuples)\n",
    "    combine1=combiner(mapped1)\n",
    "    reduced1=reduce(lambda x,y: x + [reducer1(y)], combine1, [])\n",
    "    mapped2=map(mapper2,reduced1)\n",
    "    combine2=combiner_list(mapped2)\n",
    "    output=reduce(lambda x,y: x + [reducer2(y)], combine2, [])\n",
    "    return output"
   ]
  },
  {
   "cell_type": "code",
   "execution_count": 193,
   "metadata": {
    "collapsed": false
   },
   "outputs": [],
   "source": [
    "tuples = traindf.itertuples()\n",
    "sims = map_reduce(tuples)"
   ]
  },
  {
   "cell_type": "code",
   "execution_count": 194,
   "metadata": {
    "collapsed": true
   },
   "outputs": [],
   "source": [
    "def populate_from_mr(db, df, mapredlist):\n",
    "    for tpair,vpair in mapredlist:\n",
    "        i1=db.rindexmap[tpair[0]]\n",
    "        i2=db.rindexmap[tpair[1]]\n",
    "        db.database_sim[i1][i2]=vpair[0]\n",
    "        db.database_sup[i1][i2]=vpair[1]\n",
    "        db.database_sim[i2][i1]=vpair[0]\n",
    "        db.database_sup[i2][i1]=vpair[1]"
   ]
  },
  {
   "cell_type": "code",
   "execution_count": 195,
   "metadata": {
    "collapsed": true
   },
   "outputs": [],
   "source": [
    "populate_from_mr(db, traindf, sims)"
   ]
  },
  {
   "cell_type": "code",
   "execution_count": 196,
   "metadata": {
    "collapsed": true
   },
   "outputs": [],
   "source": [
    "db2 = Database( uiidmap, supports)"
   ]
  },
  {
   "cell_type": "code",
   "execution_count": 213,
   "metadata": {
    "collapsed": false
   },
   "outputs": [],
   "source": [
    "def calculate_similarity(db, df, rest1, rest2, similarity_func):\n",
    "    # find common reviewers\n",
    "    common_users = db.supports[db.rindexmap[gen1]][db.rindexmap[gen2]]\n",
    "    n_common = len(common_users)\n",
    "    if gen1==gen2:\n",
    "        return 1., n_common\n",
    "    #get reviews\n",
    "    gen1_plays = get_genre_plays(rest1, df, common_users)\n",
    "    gen2_plays = get_genre_plays(rest2, df, common_users)\n",
    "    sim=similarity_func(gen1_plays, gen2_plays, n_common)\n",
    "    return n_common, sim\n",
    "\n",
    "def populate_by_calculating(db, df, similarity_func):\n",
    "    \"\"\"\n",
    "    a populator for every pair of businesses in df. takes similarity_func like\n",
    "    pearson_sim as argument\n",
    "    \"\"\"\n",
    "    items=db.rindexmap.items()\n",
    "    for b1, i1 in items:\n",
    "        for b2, i2 in items:\n",
    "            if i1 <= i2:\n",
    "                nsup, sim = calculate_similarity(db, df, b1, b2, similarity_func)\n",
    "                db.database_sim[i1][i2]=sim\n",
    "                db.database_sim[i2][i1]=sim\n",
    "                db.database_sup[i1][i2]=nsup\n",
    "                db.database_sup[i2][i1]=nsup"
   ]
  },
  {
   "cell_type": "code",
   "execution_count": 214,
   "metadata": {
    "collapsed": false
   },
   "outputs": [
    {
     "name": "stdout",
     "output_type": "stream",
     "text": [
      "CPU times: user 2.11 ms, sys: 556 µs, total: 2.66 ms\n",
      "Wall time: 2.15 ms\n"
     ]
    }
   ],
   "source": [
    "%%time\n",
    "populate_by_calculating(db2, traindf, pearson_sim)"
   ]
  },
  {
   "cell_type": "code",
   "execution_count": 202,
   "metadata": {
    "collapsed": true
   },
   "outputs": [],
   "source": [
    "def shrunk_sim(sim, n_common, reg=3.):\n",
    "    \"takes a similarity and shrinks it down by using the regularizer\"\n",
    "    ssim=(n_common*sim)/(n_common+reg)\n",
    "    return ssim"
   ]
  },
  {
   "cell_type": "code",
   "execution_count": 203,
   "metadata": {
    "collapsed": true
   },
   "outputs": [],
   "source": [
    "\"\"\"\n",
    "Function\n",
    "--------\n",
    "knearest\n",
    "\n",
    "Parameters\n",
    "----------\n",
    "restaurant_id : string\n",
    "    The id of the restaurant whose nearest neighbors we want\n",
    "set_of_restaurants : array\n",
    "    The set of restaurants from which we want to find the nearest neighbors\n",
    "dbase : instance of Database class.\n",
    "    A database of similarities, on which the get method can be used to get the similarity\n",
    "  of two businesses. e.g. dbase.get(rid1,rid2)\n",
    "k : int\n",
    "    the number of nearest neighbors desired, default 7\n",
    "reg: float\n",
    "    the regularization.\n",
    "    \n",
    "  \n",
    "Returns\n",
    "--------\n",
    "A sorted list\n",
    "    of the top k similar restaurants. The list is a list of tuples\n",
    "    (business_id, shrunken similarity, common support).\n",
    "\"\"\"\n",
    "from operator import itemgetter\n",
    "def knearest(restaurant_id, set_of_restaurants, dbase, k=7, reg=3.):\n",
    "    \"\"\"\n",
    "    Given a restaurant_id, dataframe, and database, get a sorted list of the\n",
    "    k most similar restaurants from the set of restaurants.\n",
    "    \"\"\"\n",
    "\n",
    "    similars=[]\n",
    "    for other_rest_id in set_of_restaurants:\n",
    "        if other_rest_id!=restaurant_id:\n",
    "            sim, nc=dbase.get(restaurant_id, other_rest_id)\n",
    "            ssim=shrunk_sim(sim, nc, reg=reg)\n",
    "            simdist=(1. - ssim)/2.\n",
    "            similars.append((other_rest_id, simdist, nc ))\n",
    "    similars=sorted(similars, key=itemgetter(1))\n",
    "    return similars[0:k]"
   ]
  },
  {
   "cell_type": "code",
   "execution_count": 205,
   "metadata": {
    "collapsed": true
   },
   "outputs": [],
   "source": [
    "def get_users_genres(df, user):\n",
    "    dfuser=df[df.user==user]\n",
    "    dfuserdedup=dfuser.drop_duplicates('genre1')\n",
    "    return dict(zip(dfuserdedup.genre1.values, dfuserdedup.plays.values))"
   ]
  },
  {
   "cell_type": "code",
   "execution_count": null,
   "metadata": {
    "collapsed": true
   },
   "outputs": [],
   "source": [
    "\"\"\"\n",
    "Function\n",
    "--------\n",
    "rating\n",
    "\n",
    "Parameters\n",
    "----------\n",
    "set_of_restaurants: Dictionary\n",
    "    The dictionary of restaurant: star-rating pairs you want to make the prediction from.\n",
    "    This would be the output of a function like get_users_restaurants\n",
    "train_map: Dictionary\n",
    "    A dictionary with keys mean, users and items which have estimates of\n",
    "    overall average or intercept, user coefficients(averages), and\n",
    "    item coefficients(averages) respectively\n",
    "dbase : instance of Database class.\n",
    "    A database of similarities, on which the get method can be used to get the similarity\n",
    "  of two businessed. e.g. dbase.get(rid1,rid2)\n",
    "restaurant_id : string\n",
    "    The id of the restaurant whose nearest neighbors we want\n",
    "user_id : string\n",
    "    The id of the user, in whose reviewed restaurants we want to find the neighbors\n",
    "k : int\n",
    "    the number of nearest neighbors desired, default 7\n",
    "reg: float\n",
    "    the regularization.\n",
    "    \n",
    "  \n",
    "Returns\n",
    "--------\n",
    "A float\n",
    "    which is the imputed rating that we predict that user_id will make for restaurant_id\n",
    "    \n",
    "Notes\n",
    "--------\n",
    "If the sum of scores is 0, return the baseline estimate of the ranking.\n",
    "\"\"\"\n",
    "def rating(set_of_restaurants,train_map,dbase,restaurant_id,user_id,reg,k=7):\n",
    "    #Baseline = mean + user bias + item bias\n",
    "    Ybar_baseline = train_map[\"mean\"] + train_map[\"users\"][user_id] + train_map[\"items\"][restaurant_id]\n",
    "    \n",
    "    #cast k as int to avoid errors down the road\n",
    "    k_int = int(k)\n",
    "    neighbors = knearest(restaurant_id, set_of_restaurants, dbase, k_int, reg)\n",
    "    \n",
    "    #initialize denominator of our prediction equation\n",
    "    sim_sum_denom = 0\n",
    "\n",
    "    for i in neighbors:\n",
    "            sim_sum_denom += (1-i[1]) #take 1 - the shrunken distance to obtain similarity measure. same done below.\n",
    "    \n",
    "    #initialize numerator of our prediciton equation\n",
    "    sim_sum_num = 0\n",
    "    for j in neighbors:\n",
    "            sim_sum_num += (1-j[1])*(set_of_restaurants[j[0]]-(train_map[\"mean\"] + train_map[\"users\"][user_id] + train_map[\"items\"][j[0]]))\n",
    "    \n",
    "    if sim_sum_denom == 0:\n",
    "        return Ybar_baseline\n",
    "    \n",
    "    else:  \n",
    "        return Ybar_baseline + (sim_sum_num / sim_sum_denom)"
   ]
  }
 ],
 "metadata": {
  "kernelspec": {
   "display_name": "Python 2",
   "language": "python",
   "name": "python2"
  },
  "language_info": {
   "codemirror_mode": {
    "name": "ipython",
    "version": 2
   },
   "file_extension": ".py",
   "mimetype": "text/x-python",
   "name": "python",
   "nbconvert_exporter": "python",
   "pygments_lexer": "ipython2",
   "version": "2.7.11"
  }
 },
 "nbformat": 4,
 "nbformat_minor": 0
}
