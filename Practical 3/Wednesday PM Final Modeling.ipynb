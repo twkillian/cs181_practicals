{
 "cells": [
  {
   "cell_type": "code",
   "execution_count": 1,
   "metadata": {
    "collapsed": true
   },
   "outputs": [],
   "source": [
    "# Load libraries\n",
    "import numpy as np\n",
    "import matplotlib.pyplot as plt\n",
    "import pandas as pd\n",
    "import pickle\n",
    "from time import time\n",
    "from sklearn import linear_model\n",
    "from sklearn.cross_validation import train_test_split\n",
    "from sklearn.neighbors import KNeighborsRegressor\n",
    "from sklearn.preprocessing import StandardScaler\n",
    "import warnings\n",
    "import math\n",
    "from sklearn.cluster import KMeans\n",
    "from sklearn.decomposition import NMF\n",
    "import pickle\n",
    "warnings.filterwarnings('ignore')\n",
    "%matplotlib inline"
   ]
  },
  {
   "cell_type": "markdown",
   "metadata": {},
   "source": [
    "### Load .csv files"
   ]
  },
  {
   "cell_type": "code",
   "execution_count": 2,
   "metadata": {
    "collapsed": false
   },
   "outputs": [],
   "source": [
    "# load default data frames\n",
    "train_df = pd.read_csv(\"train.csv\")\n",
    "test_df = pd.read_csv(\"test.csv\")\n",
    "artists_df = pd.read_csv(\"artists.csv\")\n",
    "global_median_df = pd.read_csv(\"global_median.csv\")\n",
    "profiles = pd.read_csv(\"profiles.csv\")"
   ]
  },
  {
   "cell_type": "markdown",
   "metadata": {},
   "source": [
    "### Create profiles df, imput ages"
   ]
  },
  {
   "cell_type": "code",
   "execution_count": 4,
   "metadata": {
    "collapsed": false
   },
   "outputs": [
    {
     "data": {
      "text/html": [
       "<div>\n",
       "<table border=\"1\" class=\"dataframe\">\n",
       "  <thead>\n",
       "    <tr style=\"text-align: right;\">\n",
       "      <th></th>\n",
       "      <th>age</th>\n",
       "      <th>male</th>\n",
       "      <th>female</th>\n",
       "      <th>age_missing</th>\n",
       "      <th>country_missing</th>\n",
       "      <th>Sweden</th>\n",
       "      <th>Iceland</th>\n",
       "      <th>United States</th>\n",
       "      <th>Germany</th>\n",
       "      <th>Netherlands</th>\n",
       "      <th>...</th>\n",
       "      <th>Myanmar</th>\n",
       "      <th>Somalia</th>\n",
       "      <th>Gambia</th>\n",
       "      <th>Mozambique</th>\n",
       "      <th>Rwanda</th>\n",
       "      <th>Saint Kitts and Nevis</th>\n",
       "      <th>New Caledonia</th>\n",
       "      <th>Sudan</th>\n",
       "      <th>Guyana</th>\n",
       "      <th>Marshall Islands</th>\n",
       "    </tr>\n",
       "    <tr>\n",
       "      <th>user</th>\n",
       "      <th></th>\n",
       "      <th></th>\n",
       "      <th></th>\n",
       "      <th></th>\n",
       "      <th></th>\n",
       "      <th></th>\n",
       "      <th></th>\n",
       "      <th></th>\n",
       "      <th></th>\n",
       "      <th></th>\n",
       "      <th></th>\n",
       "      <th></th>\n",
       "      <th></th>\n",
       "      <th></th>\n",
       "      <th></th>\n",
       "      <th></th>\n",
       "      <th></th>\n",
       "      <th></th>\n",
       "      <th></th>\n",
       "      <th></th>\n",
       "      <th></th>\n",
       "    </tr>\n",
       "  </thead>\n",
       "  <tbody>\n",
       "    <tr>\n",
       "      <th>fa40b43298ba3f8aa52e8e8863faf2e2171e0b5d</th>\n",
       "      <td>25</td>\n",
       "      <td>0</td>\n",
       "      <td>1</td>\n",
       "      <td>0</td>\n",
       "      <td>0</td>\n",
       "      <td>1</td>\n",
       "      <td>0</td>\n",
       "      <td>0</td>\n",
       "      <td>0</td>\n",
       "      <td>0</td>\n",
       "      <td>...</td>\n",
       "      <td>0</td>\n",
       "      <td>0</td>\n",
       "      <td>0</td>\n",
       "      <td>0</td>\n",
       "      <td>0</td>\n",
       "      <td>0</td>\n",
       "      <td>0</td>\n",
       "      <td>0</td>\n",
       "      <td>0</td>\n",
       "      <td>0</td>\n",
       "    </tr>\n",
       "  </tbody>\n",
       "</table>\n",
       "<p>1 rows × 244 columns</p>\n",
       "</div>"
      ],
      "text/plain": [
       "                                          age  male  female  age_missing  \\\n",
       "user                                                                       \n",
       "fa40b43298ba3f8aa52e8e8863faf2e2171e0b5d   25     0       1            0   \n",
       "\n",
       "                                          country_missing  Sweden  Iceland  \\\n",
       "user                                                                         \n",
       "fa40b43298ba3f8aa52e8e8863faf2e2171e0b5d                0       1        0   \n",
       "\n",
       "                                          United States  Germany  Netherlands  \\\n",
       "user                                                                            \n",
       "fa40b43298ba3f8aa52e8e8863faf2e2171e0b5d              0        0            0   \n",
       "\n",
       "                                                ...         Myanmar  Somalia  \\\n",
       "user                                            ...                            \n",
       "fa40b43298ba3f8aa52e8e8863faf2e2171e0b5d        ...               0        0   \n",
       "\n",
       "                                          Gambia  Mozambique  Rwanda  \\\n",
       "user                                                                   \n",
       "fa40b43298ba3f8aa52e8e8863faf2e2171e0b5d       0           0       0   \n",
       "\n",
       "                                          Saint Kitts and Nevis  \\\n",
       "user                                                              \n",
       "fa40b43298ba3f8aa52e8e8863faf2e2171e0b5d                      0   \n",
       "\n",
       "                                          New Caledonia  Sudan  Guyana  \\\n",
       "user                                                                     \n",
       "fa40b43298ba3f8aa52e8e8863faf2e2171e0b5d              0      0       0   \n",
       "\n",
       "                                          Marshall Islands  \n",
       "user                                                        \n",
       "fa40b43298ba3f8aa52e8e8863faf2e2171e0b5d                 0  \n",
       "\n",
       "[1 rows x 244 columns]"
      ]
     },
     "execution_count": 4,
     "metadata": {},
     "output_type": "execute_result"
    }
   ],
   "source": [
    "# CREATES PROFILES DF\n",
    "\n",
    "# # condition = (profiles_df['age'].isnull()) | (profiles_df['age'] < 95) | (profiles_df['age'] > 0)\n",
    "# # profiles_df[condition] = np.nan\n",
    "# profiles_df.loc[profiles_df[\"age\"] < 5 ,'age'] = None\n",
    "# profiles_df.loc[profiles_df[\"age\"] > 85 ,'age'] = None\n",
    "# profiles_df.loc[profiles_df[\"age\"].isnull(),'age'] = None\n",
    "\n",
    "# # calculate mean age per user\n",
    "# mean_age = profiles_df[~profiles_df['age'].isnull()][\"age\"].mean()\n",
    "\n",
    "# ###################################################################### \n",
    "\n",
    "# # calculate mean age per men\n",
    "# males_only_df = profiles_df[profiles_df[\"sex\"]=='m']\n",
    "# mean_male_age = males_only_df[~males_only_df['sex'].isnull()][\"age\"].mean()\n",
    "\n",
    "# ###################################################################### \n",
    "\n",
    "# # calculate mean age per women\n",
    "# females_only_df = profiles_df[profiles_df[\"sex\"]=='f']\n",
    "# mean_female_age = females_only_df[~females_only_df['sex'].isnull()][\"age\"].mean()\n",
    "\n",
    "# ###################################################################### \n",
    "\n",
    "# # get list of unique countries\n",
    "# countries = profiles_df[\"country\"].unique()\n",
    "\n",
    "# # calculate mean age per country\n",
    "# mean_country_age = {}\n",
    "# for country in countries:\n",
    "#     tmp_df = profiles_df[profiles_df[\"country\"]==str(country)].copy()\n",
    "#     mean_country_age[str(country)] = tmp_df[\"age\"].mean()\n",
    "\n",
    "# ###################################################################### \n",
    "    \n",
    "# # calculate mean age per male per country\n",
    "# mean_country_male_age = {}\n",
    "# for country in countries:\n",
    "#     tmp_df0 = profiles_df[profiles_df[\"sex\"]=='m'].copy()\n",
    "#     tmp_df1 = tmp_df0[profiles_df[\"country\"]==str(country)].copy()\n",
    "#     mean_country_male_age[str(country)] = tmp_df1[\"age\"].mean()\n",
    "\n",
    "# ###################################################################### \n",
    "\n",
    "# # calculate mean age per female per country\n",
    "# mean_country_female_age = {}\n",
    "# for country in countries:\n",
    "#     tmp_df0 = profiles_df[profiles_df[\"sex\"]=='f'].copy()\n",
    "#     tmp_df1 = tmp_df0[profiles_df[\"country\"]==str(country)].copy()\n",
    "#     mean_country_female_age[str(country)] = tmp_df1[\"age\"].mean()\n",
    "\n",
    "# ###################################################################### \n",
    "\n",
    "# # initialize training df\n",
    "# profiles = profiles_df\n",
    "\n",
    "# ###################################################################### \n",
    "\n",
    "# # create sex indicators\n",
    "# profiles[\"male\"] = 0\n",
    "# profiles[\"female\"] = 0\n",
    "# profiles[\"sex_missing\"] = 0\n",
    "# profiles.loc[profiles[\"sex\"] =='m', \"male\"] = 1\n",
    "# profiles.loc[profiles[\"sex\"] =='f', \"female\"] = 1\n",
    "# profiles.loc[profiles[\"sex\"].isnull(), \"sex_missing\"] = 1\n",
    "\n",
    "# ######################################################################  \n",
    "\n",
    "# # create age indicators\n",
    "# profiles[\"age_missing\"] = 0\n",
    "# profiles.loc[profiles[\"age\"].isnull(),\"age_missing\"] = 1\n",
    "\n",
    "# # fill in mean age: has no gender or country\n",
    "# profiles.loc[profiles[\"age_missing\"] == 1, \"age\"] = mean_age\n",
    "\n",
    "# # fill in mean age: has gender, no country\n",
    "# #males\n",
    "# condition = (profiles[\"sex\"] =='m') & (profiles[\"country\"].isnull()) & (profiles[\"age_missing\"] == 1)\n",
    "# profiles.loc[condition, \"age\"] = mean_male_age\n",
    "# # females\n",
    "# condition = (profiles[\"sex\"] =='f') & (profiles[\"country\"].isnull()) & (profiles[\"age_missing\"] == 1)\n",
    "# profiles.loc[condition, \"age\"] = mean_female_age\n",
    "\n",
    "# # fill in mean age: has country, no gender\n",
    "# #loop over countries\n",
    "# for country in countries:\n",
    "#     condition = (profiles[\"country\"] == country) & (profiles[\"age_missing\"] == 1) & (profiles[\"sex_missing\"] == 1)\n",
    "#     profiles.loc[condition, \"age\"] = mean_country_age[country]\n",
    "\n",
    "# # fill in mean age: has gender and country\n",
    "# # loop over countries\n",
    "# for country in countries:\n",
    "#     # males\n",
    "#     condition = (profiles[\"country\"] == country) & (profiles[\"sex\"] == 'm') & (profiles[\"age_missing\"] == 1)\n",
    "#     profiles.loc[condition, \"age\"] = mean_country_male_age[country]\n",
    "#     # females\n",
    "#     condition = (profiles[\"country\"] == country) & (profiles[\"sex\"] == 'f') & (profiles[\"age_missing\"] == 1)\n",
    "#     profiles.loc[condition, \"age\"] = mean_country_female_age[country]\n",
    "\n",
    "# ###################################################################### \n",
    "    \n",
    "# # create country indicators\n",
    "# profiles[\"country_missing\"] = 0\n",
    "# profiles.loc[profiles[\"country\"].isnull(), \"country_missing\"] = 1\n",
    "# # loop over countries\n",
    "# for country in countries:\n",
    "#     # assign 1 if in that country\n",
    "#     profiles.loc[profiles[\"country\"] == country, country] = 1\n",
    "#     # assign 0 otherwise\n",
    "#     profiles.loc[profiles[\"country\"] != country, country] = 0\n",
    "\n",
    "# ###################################################################### \n",
    "\n",
    "# profiles.to_csv(\"profiles.csv\")\n",
    "\n",
    "# ###################################################################### \n",
    "\n",
    "# clean profiles df\n",
    "profiles.drop(\"sex\",inplace=True,axis=1)\n",
    "profiles.drop(\"country\",inplace=True,axis=1)\n",
    "profiles.drop(\"Unnamed: 0\",axis=1,inplace=True)\n",
    "profiles.set_index(\"user\",inplace=True)\n",
    "profiles.drop(\"sex_missing\",inplace=True,axis=1)\n",
    "#profiles.head(1)"
   ]
  },
  {
   "cell_type": "code",
   "execution_count": 5,
   "metadata": {
    "collapsed": false
   },
   "outputs": [
    {
     "data": {
      "text/html": [
       "<div>\n",
       "<table border=\"1\" class=\"dataframe\">\n",
       "  <thead>\n",
       "    <tr style=\"text-align: right;\">\n",
       "      <th></th>\n",
       "      <th>user</th>\n",
       "      <th>age</th>\n",
       "      <th>male</th>\n",
       "      <th>female</th>\n",
       "      <th>age_missing</th>\n",
       "      <th>United States</th>\n",
       "      <th>Germany</th>\n",
       "      <th>United Kingdom</th>\n",
       "      <th>France</th>\n",
       "      <th>Poland</th>\n",
       "      <th>Brazil</th>\n",
       "      <th>Spain</th>\n",
       "      <th>Italy</th>\n",
       "    </tr>\n",
       "  </thead>\n",
       "  <tbody>\n",
       "    <tr>\n",
       "      <th>0</th>\n",
       "      <td>fa40b43298ba3f8aa52e8e8863faf2e2171e0b5d</td>\n",
       "      <td>25</td>\n",
       "      <td>0</td>\n",
       "      <td>1</td>\n",
       "      <td>0</td>\n",
       "      <td>0</td>\n",
       "      <td>0</td>\n",
       "      <td>0</td>\n",
       "      <td>0</td>\n",
       "      <td>0</td>\n",
       "      <td>0</td>\n",
       "      <td>0</td>\n",
       "      <td>0</td>\n",
       "    </tr>\n",
       "  </tbody>\n",
       "</table>\n",
       "</div>"
      ],
      "text/plain": [
       "                                       user  age  male  female  age_missing  \\\n",
       "0  fa40b43298ba3f8aa52e8e8863faf2e2171e0b5d   25     0       1            0   \n",
       "\n",
       "   United States  Germany  United Kingdom  France  Poland  Brazil  Spain  \\\n",
       "0              0        0               0       0       0       0      0   \n",
       "\n",
       "   Italy  \n",
       "0      0  "
      ]
     },
     "execution_count": 5,
     "metadata": {},
     "output_type": "execute_result"
    }
   ],
   "source": [
    "profile_features = [\"age\",\"male\",\"female\",\"age_missing\",\"United States\",\"Germany\",\"United Kingdom\",\"France\",\"Poland\",\"Brazil\",\"Spain\",\"Italy\"]\n",
    "num_profile_features = len(profile_features)\n",
    "sm_profiles = profiles.loc[:,profile_features]\n",
    "sm_profiles.reset_index(inplace=True)\n",
    "#sm_profiles.head(1)"
   ]
  },
  {
   "cell_type": "markdown",
   "metadata": {},
   "source": [
    "### Grab genres for each artist"
   ]
  },
  {
   "cell_type": "code",
   "execution_count": 6,
   "metadata": {
    "collapsed": false
   },
   "outputs": [
    {
     "data": {
      "text/html": [
       "<div>\n",
       "<table border=\"1\" class=\"dataframe\">\n",
       "  <thead>\n",
       "    <tr style=\"text-align: right;\">\n",
       "      <th></th>\n",
       "      <th>name</th>\n",
       "      <th>genre1</th>\n",
       "      <th>num_votes1</th>\n",
       "      <th>genre2</th>\n",
       "      <th>num_votes2</th>\n",
       "      <th>genre3</th>\n",
       "      <th>num_votes3</th>\n",
       "      <th>genre4</th>\n",
       "      <th>num_votes4</th>\n",
       "      <th>genre5</th>\n",
       "      <th>num_votes5</th>\n",
       "      <th>extra</th>\n",
       "      <th>per_votes1</th>\n",
       "      <th>per_votes2</th>\n",
       "      <th>per_votes3</th>\n",
       "    </tr>\n",
       "  </thead>\n",
       "  <tbody>\n",
       "    <tr>\n",
       "      <th>03098741-08b3-4dd7-b3f6-1b0bfa2c879c</th>\n",
       "      <td>Liars</td>\n",
       "      <td>alternative rock</td>\n",
       "      <td>1</td>\n",
       "      <td>art punk</td>\n",
       "      <td>1</td>\n",
       "      <td>dance-punk</td>\n",
       "      <td>1</td>\n",
       "      <td>experimental rock</td>\n",
       "      <td>1</td>\n",
       "      <td>indie rock</td>\n",
       "      <td>1</td>\n",
       "      <td>NaN</td>\n",
       "      <td>33.333333</td>\n",
       "      <td>33.333333</td>\n",
       "      <td>33.333333</td>\n",
       "    </tr>\n",
       "  </tbody>\n",
       "</table>\n",
       "</div>"
      ],
      "text/plain": [
       "                                       name            genre1  num_votes1  \\\n",
       "03098741-08b3-4dd7-b3f6-1b0bfa2c879c  Liars  alternative rock           1   \n",
       "\n",
       "                                        genre2  num_votes2      genre3  \\\n",
       "03098741-08b3-4dd7-b3f6-1b0bfa2c879c  art punk           1  dance-punk   \n",
       "\n",
       "                                      num_votes3             genre4  \\\n",
       "03098741-08b3-4dd7-b3f6-1b0bfa2c879c           1  experimental rock   \n",
       "\n",
       "                                      num_votes4      genre5  num_votes5  \\\n",
       "03098741-08b3-4dd7-b3f6-1b0bfa2c879c           1  indie rock           1   \n",
       "\n",
       "                                      extra  per_votes1  per_votes2  \\\n",
       "03098741-08b3-4dd7-b3f6-1b0bfa2c879c    NaN   33.333333   33.333333   \n",
       "\n",
       "                                      per_votes3  \n",
       "03098741-08b3-4dd7-b3f6-1b0bfa2c879c   33.333333  "
      ]
     },
     "execution_count": 6,
     "metadata": {},
     "output_type": "execute_result"
    }
   ],
   "source": [
    "# load genre data frames and do some cleaning\n",
    "artists_with_1genre_df = pd.read_csv(\"artists_with_genres.csv\")\n",
    "artists_with_5genres_df = pd.read_csv(\"artists_with_top_5_genres.csv\")\n",
    "artists_with_5genres_df.rename(columns = {\"num_votes5\":\"extra\"}, inplace = True)\n",
    "artists_with_5genres_df.rename(columns = {\"genre5\":\"num_votes5\"}, inplace = True)\n",
    "artists_with_5genres_df.rename(columns = {\"num_votes4\":\"genre5\"}, inplace = True)\n",
    "artists_with_5genres_df.rename(columns = {\"genre4\":\"num_votes4\"}, inplace = True)\n",
    "artists_with_5genres_df.rename(columns = {\"num_votes3\":\"genre4\"}, inplace = True)\n",
    "artists_with_5genres_df.rename(columns = {\"genre3\":\"num_votes3\"}, inplace = True)\n",
    "artists_with_5genres_df.rename(columns = {\"num_votes2\":\"genre3\"}, inplace = True)\n",
    "artists_with_5genres_df.rename(columns = {\"genre2\":\"num_votes2\"}, inplace = True)\n",
    "artists_with_5genres_df.rename(columns = {\"num_votes1\":\"genre2\"}, inplace = True)\n",
    "artists_with_5genres_df.rename(columns = {\"genre1\":\"num_votes1\"}, inplace = True)\n",
    "artists_with_5genres_df.rename(columns = {\"name\":\"genre1\"}, inplace = True)\n",
    "artists_with_5genres_df.rename(columns = {\"artist\":\"name\"}, inplace = True)\n",
    "\n",
    "# Calculate percent of votes\n",
    "agn = artists_with_5genres_df[[\"num_votes1\",\"num_votes2\",\"num_votes3\"]]\n",
    "agn.rename(columns = {\"num_votes1\":\"per_votes1\"}, inplace = True)\n",
    "agn.rename(columns = {\"num_votes2\":\"per_votes2\"}, inplace = True)\n",
    "agn.rename(columns = {\"num_votes3\":\"per_votes3\"}, inplace = True)\n",
    "agn = agn.apply(lambda c: c / c.sum() * 100, axis=1)\n",
    "\n",
    "del artists_df\n",
    "\n",
    "# combine dfs together\n",
    "artists_with_5genres_df = pd.concat([artists_with_5genres_df, agn], axis=1)\n",
    "#artists_with_5genres_df.head(1)"
   ]
  },
  {
   "cell_type": "markdown",
   "metadata": {},
   "source": [
    "### Create train df"
   ]
  },
  {
   "cell_type": "code",
   "execution_count": 7,
   "metadata": {
    "collapsed": false
   },
   "outputs": [],
   "source": [
    "# Train - Test Split on profiles to ensure users are in one group or another\n",
    "train0, test = train_test_split(train_df, test_size = .1)\n",
    "train, valid = train_test_split(train0, test_size = .1)\n",
    "#train = train_df.copy()"
   ]
  },
  {
   "cell_type": "code",
   "execution_count": 8,
   "metadata": {
    "collapsed": false
   },
   "outputs": [],
   "source": [
    "# def genre_select(x,at5g):\n",
    "#     artist = x[0]\n",
    "#     genres = np.array([at5g.loc[artist,\"genre1\"],at5g.loc[artist,\"genre2\"],at5g.loc[artist,\"genre3\"]])\n",
    "#     votes = np.array([at5g.loc[artist,\"per_votes1\"],at5g.loc[artist,\"per_votes2\"],at5g.loc[artist,\"per_votes3\"]])\n",
    "#     votes_tot = np.sum(votes)\n",
    "#     if votes_tot != 0:\n",
    "#         weights = votes/float(votes_tot)\n",
    "#         return np.random.choice(genres, p= weights)\n",
    "#     else:\n",
    "#         return None"
   ]
  },
  {
   "cell_type": "code",
   "execution_count": 9,
   "metadata": {
    "collapsed": false
   },
   "outputs": [],
   "source": [
    "#add primary genre to train\n",
    "train[\"genre1\"] = np.nan\n",
    "train.set_index(\"artist\", inplace=True)\n",
    "train.update(artists_with_5genres_df)\n",
    "train.reset_index(inplace=True)\n",
    "\n",
    "test[\"genre1\"] = np.nan\n",
    "test.set_index(\"artist\", inplace=True)\n",
    "test.update(artists_with_5genres_df)\n",
    "test.reset_index(inplace=True)\n",
    "\n",
    "valid[\"genre1\"] = np.nan\n",
    "valid.set_index(\"artist\", inplace=True)\n",
    "valid.update(artists_with_5genres_df)\n",
    "valid.reset_index(inplace=True)\n",
    "\n",
    "train0[\"genre1\"] = np.nan\n",
    "train0.set_index(\"artist\", inplace=True)\n",
    "train0.update(artists_with_5genres_df)\n",
    "train0.reset_index(inplace=True)"
   ]
  },
  {
   "cell_type": "markdown",
   "metadata": {},
   "source": [
    "### compute averages"
   ]
  },
  {
   "cell_type": "code",
   "execution_count": 10,
   "metadata": {
    "collapsed": false
   },
   "outputs": [
    {
     "name": "stdout",
     "output_type": "stream",
     "text": [
      "118.0\n"
     ]
    }
   ],
   "source": [
    "# calculate global median\n",
    "global_median = global_median_df.iloc[0,1]\n",
    "del global_median_df\n",
    "print global_median"
   ]
  },
  {
   "cell_type": "code",
   "execution_count": 11,
   "metadata": {
    "collapsed": false
   },
   "outputs": [
    {
     "data": {
      "text/html": [
       "<div>\n",
       "<table border=\"1\" class=\"dataframe\">\n",
       "  <thead>\n",
       "    <tr style=\"text-align: right;\">\n",
       "      <th></th>\n",
       "      <th>user median</th>\n",
       "    </tr>\n",
       "    <tr>\n",
       "      <th>user</th>\n",
       "      <th></th>\n",
       "    </tr>\n",
       "  </thead>\n",
       "  <tbody>\n",
       "    <tr>\n",
       "      <th>00000c289a1829a808ac09c00daf10bc3c4e223b</th>\n",
       "      <td>214.5</td>\n",
       "    </tr>\n",
       "  </tbody>\n",
       "</table>\n",
       "</div>"
      ],
      "text/plain": [
       "                                          user median\n",
       "user                                                 \n",
       "00000c289a1829a808ac09c00daf10bc3c4e223b        214.5"
      ]
     },
     "execution_count": 11,
     "metadata": {},
     "output_type": "execute_result"
    }
   ],
   "source": [
    "# calculate user medians\n",
    "user_medians = train.pivot(index='user',columns='artist',values='plays').reset_index().set_index('user').median(axis=1)\n",
    "user_medians = pd.DataFrame(user_medians)\n",
    "user_medians.rename(columns={0:\"user median\"},inplace=True)\n",
    "#user_medians.head(1)"
   ]
  },
  {
   "cell_type": "code",
   "execution_count": 12,
   "metadata": {
    "collapsed": false
   },
   "outputs": [
    {
     "data": {
      "text/html": [
       "<div>\n",
       "<table border=\"1\" class=\"dataframe\">\n",
       "  <thead>\n",
       "    <tr style=\"text-align: right;\">\n",
       "      <th></th>\n",
       "      <th>user mean</th>\n",
       "    </tr>\n",
       "    <tr>\n",
       "      <th>user</th>\n",
       "      <th></th>\n",
       "    </tr>\n",
       "  </thead>\n",
       "  <tbody>\n",
       "    <tr>\n",
       "      <th>00000c289a1829a808ac09c00daf10bc3c4e223b</th>\n",
       "      <td>279.875</td>\n",
       "    </tr>\n",
       "  </tbody>\n",
       "</table>\n",
       "</div>"
      ],
      "text/plain": [
       "                                          user mean\n",
       "user                                               \n",
       "00000c289a1829a808ac09c00daf10bc3c4e223b    279.875"
      ]
     },
     "execution_count": 12,
     "metadata": {},
     "output_type": "execute_result"
    }
   ],
   "source": [
    "# calculate user means\n",
    "user_means = train.pivot(index='user',columns='artist',values='plays').reset_index().set_index('user').mean(axis=1)\n",
    "user_means = pd.DataFrame(user_means)\n",
    "user_means.rename(columns={0:\"user mean\"},inplace=True)\n",
    "#user_means.head(1)"
   ]
  },
  {
   "cell_type": "code",
   "execution_count": 13,
   "metadata": {
    "collapsed": false
   },
   "outputs": [
    {
     "data": {
      "text/html": [
       "<div>\n",
       "<table border=\"1\" class=\"dataframe\">\n",
       "  <thead>\n",
       "    <tr style=\"text-align: right;\">\n",
       "      <th></th>\n",
       "      <th>artist median</th>\n",
       "    </tr>\n",
       "    <tr>\n",
       "      <th>artist</th>\n",
       "      <th></th>\n",
       "    </tr>\n",
       "  </thead>\n",
       "  <tbody>\n",
       "    <tr>\n",
       "      <th>000d90ec-d64c-48a1-b775-e726fd240e9f</th>\n",
       "      <td>124.5</td>\n",
       "    </tr>\n",
       "  </tbody>\n",
       "</table>\n",
       "</div>"
      ],
      "text/plain": [
       "                                      artist median\n",
       "artist                                             \n",
       "000d90ec-d64c-48a1-b775-e726fd240e9f          124.5"
      ]
     },
     "execution_count": 13,
     "metadata": {},
     "output_type": "execute_result"
    }
   ],
   "source": [
    "# calculate artist medians\n",
    "artist_medians = train.pivot(index='user',columns='artist',values='plays').reset_index().set_index('user').median(axis=0)\n",
    "artist_medians = pd.DataFrame(artist_medians)\n",
    "artist_medians.rename(columns={0:\"artist median\"},inplace=True)\n",
    "#artist_medians.head(1)"
   ]
  },
  {
   "cell_type": "code",
   "execution_count": 14,
   "metadata": {
    "collapsed": false
   },
   "outputs": [
    {
     "data": {
      "text/html": [
       "<div>\n",
       "<table border=\"1\" class=\"dataframe\">\n",
       "  <thead>\n",
       "    <tr style=\"text-align: right;\">\n",
       "      <th></th>\n",
       "      <th>artist mean</th>\n",
       "    </tr>\n",
       "    <tr>\n",
       "      <th>artist</th>\n",
       "      <th></th>\n",
       "    </tr>\n",
       "  </thead>\n",
       "  <tbody>\n",
       "    <tr>\n",
       "      <th>000d90ec-d64c-48a1-b775-e726fd240e9f</th>\n",
       "      <td>200.669154</td>\n",
       "    </tr>\n",
       "  </tbody>\n",
       "</table>\n",
       "</div>"
      ],
      "text/plain": [
       "                                      artist mean\n",
       "artist                                           \n",
       "000d90ec-d64c-48a1-b775-e726fd240e9f   200.669154"
      ]
     },
     "execution_count": 14,
     "metadata": {},
     "output_type": "execute_result"
    }
   ],
   "source": [
    "# calculate artist medians\n",
    "artist_means = train.pivot(index='user',columns='artist',values='plays').reset_index().set_index('user').mean(axis=0)\n",
    "artist_means = pd.DataFrame(artist_means)\n",
    "artist_means.rename(columns={0:\"artist mean\"},inplace=True)\n",
    "#artist_means.head(1)"
   ]
  },
  {
   "cell_type": "code",
   "execution_count": 15,
   "metadata": {
    "collapsed": false
   },
   "outputs": [
    {
     "data": {
      "text/html": [
       "<div>\n",
       "<table border=\"1\" class=\"dataframe\">\n",
       "  <thead>\n",
       "    <tr style=\"text-align: right;\">\n",
       "      <th></th>\n",
       "      <th>genre median</th>\n",
       "    </tr>\n",
       "    <tr>\n",
       "      <th>genre1</th>\n",
       "      <th></th>\n",
       "    </tr>\n",
       "  </thead>\n",
       "  <tbody>\n",
       "    <tr>\n",
       "      <th>00s</th>\n",
       "      <td>92</td>\n",
       "    </tr>\n",
       "  </tbody>\n",
       "</table>\n",
       "</div>"
      ],
      "text/plain": [
       "        genre median\n",
       "genre1              \n",
       "00s               92"
      ]
     },
     "execution_count": 15,
     "metadata": {},
     "output_type": "execute_result"
    }
   ],
   "source": [
    "# calculate genre medians\n",
    "genre_medians = train.groupby(\"genre1\").plays.median()\n",
    "genre_medians = pd.DataFrame(genre_medians)\n",
    "genre_medians.rename(columns={'plays':\"genre median\"},inplace=True)\n",
    "#genre_medians.head(1)"
   ]
  },
  {
   "cell_type": "code",
   "execution_count": 16,
   "metadata": {
    "collapsed": false
   },
   "outputs": [
    {
     "data": {
      "text/html": [
       "<div>\n",
       "<table border=\"1\" class=\"dataframe\">\n",
       "  <thead>\n",
       "    <tr style=\"text-align: right;\">\n",
       "      <th></th>\n",
       "      <th>genre mean</th>\n",
       "    </tr>\n",
       "    <tr>\n",
       "      <th>genre1</th>\n",
       "      <th></th>\n",
       "    </tr>\n",
       "  </thead>\n",
       "  <tbody>\n",
       "    <tr>\n",
       "      <th>00s</th>\n",
       "      <td>187.833827</td>\n",
       "    </tr>\n",
       "  </tbody>\n",
       "</table>\n",
       "</div>"
      ],
      "text/plain": [
       "        genre mean\n",
       "genre1            \n",
       "00s     187.833827"
      ]
     },
     "execution_count": 16,
     "metadata": {},
     "output_type": "execute_result"
    }
   ],
   "source": [
    "# calculate genre mean\n",
    "genre_means = train.groupby(\"genre1\").plays.mean()\n",
    "genre_means = pd.DataFrame(genre_means)\n",
    "genre_means.rename(columns={'plays':\"genre mean\"},inplace=True)\n",
    "#genre_means.head(1)"
   ]
  },
  {
   "cell_type": "code",
   "execution_count": 17,
   "metadata": {
    "collapsed": false
   },
   "outputs": [
    {
     "data": {
      "text/html": [
       "<div>\n",
       "<table border=\"1\" class=\"dataframe\">\n",
       "  <thead>\n",
       "    <tr style=\"text-align: right;\">\n",
       "      <th></th>\n",
       "      <th>user</th>\n",
       "      <th>genre1</th>\n",
       "      <th>user genre median</th>\n",
       "    </tr>\n",
       "  </thead>\n",
       "  <tbody>\n",
       "    <tr>\n",
       "      <th>0</th>\n",
       "      <td>00000c289a1829a808ac09c00daf10bc3c4e223b</td>\n",
       "      <td>acoustic rock</td>\n",
       "      <td>182</td>\n",
       "    </tr>\n",
       "  </tbody>\n",
       "</table>\n",
       "</div>"
      ],
      "text/plain": [
       "                                       user         genre1  user genre median\n",
       "0  00000c289a1829a808ac09c00daf10bc3c4e223b  acoustic rock                182"
      ]
     },
     "execution_count": 17,
     "metadata": {},
     "output_type": "execute_result"
    }
   ],
   "source": [
    "# calculate genre_user medians\n",
    "user_genre_medians = train.groupby([\"user\",\"genre1\"]).median().reset_index()\n",
    "user_genre_medians.rename(columns={\"plays\": \"user genre median\"},inplace=True)\n",
    "#user_genre_medians.head(1)"
   ]
  },
  {
   "cell_type": "code",
   "execution_count": 18,
   "metadata": {
    "collapsed": false
   },
   "outputs": [
    {
     "data": {
      "text/html": [
       "<div>\n",
       "<table border=\"1\" class=\"dataframe\">\n",
       "  <thead>\n",
       "    <tr style=\"text-align: right;\">\n",
       "      <th></th>\n",
       "      <th>user</th>\n",
       "      <th>genre1</th>\n",
       "      <th>user genre mean</th>\n",
       "    </tr>\n",
       "  </thead>\n",
       "  <tbody>\n",
       "    <tr>\n",
       "      <th>0</th>\n",
       "      <td>00000c289a1829a808ac09c00daf10bc3c4e223b</td>\n",
       "      <td>acoustic rock</td>\n",
       "      <td>182</td>\n",
       "    </tr>\n",
       "  </tbody>\n",
       "</table>\n",
       "</div>"
      ],
      "text/plain": [
       "                                       user         genre1  user genre mean\n",
       "0  00000c289a1829a808ac09c00daf10bc3c4e223b  acoustic rock              182"
      ]
     },
     "execution_count": 18,
     "metadata": {},
     "output_type": "execute_result"
    }
   ],
   "source": [
    "# calculate genre_user means\n",
    "user_genre_means = train.groupby([\"user\",\"genre1\"]).mean().reset_index()\n",
    "user_genre_means.rename(columns={\"plays\": \"user genre mean\"},inplace=True)\n",
    "#user_genre_means.head(1)"
   ]
  },
  {
   "cell_type": "markdown",
   "metadata": {},
   "source": [
    "# Combine Profile and Artist dfs"
   ]
  },
  {
   "cell_type": "code",
   "execution_count": 19,
   "metadata": {
    "collapsed": false
   },
   "outputs": [],
   "source": [
    "#pivot training data to have one row per user\n",
    "train = train.pivot(index='user',columns='artist',values='plays').reset_index()\n",
    "train = train.fillna(0)"
   ]
  },
  {
   "cell_type": "code",
   "execution_count": 20,
   "metadata": {
    "collapsed": false
   },
   "outputs": [],
   "source": [
    "# FULL PROFILE IF KMEANS\n",
    "# join profiles and train together\n",
    "# train.reset_index(inplace=True)\n",
    "# train.set_index('user',inplace = True)\n",
    "# train.drop(\"index\",axis=1,inplace=True)\n",
    "\n",
    "# profiles.reset_index(inplace=True)\n",
    "# profiles.set_index('user', inplace=True)\n",
    "\n",
    "# bigdf = pd.concat([profiles,train],axis=1)\n",
    "# bigdf.fillna(0,inplace=True)\n",
    "# bigdf.head(1)"
   ]
  },
  {
   "cell_type": "code",
   "execution_count": 21,
   "metadata": {
    "collapsed": false
   },
   "outputs": [
    {
     "data": {
      "text/html": [
       "<div>\n",
       "<table border=\"1\" class=\"dataframe\">\n",
       "  <thead>\n",
       "    <tr style=\"text-align: right;\">\n",
       "      <th>artist</th>\n",
       "      <th>000d90ec-d64c-48a1-b775-e726fd240e9f</th>\n",
       "      <th>000fc734-b7e1-4a01-92d1-f544261b43f5</th>\n",
       "      <th>0019749d-ee29-4a5f-ab17-6bfa11deb969</th>\n",
       "      <th>0039c7ae-e1a7-4a7d-9b49-0cbc716821a6</th>\n",
       "      <th>004e5eed-e267-46ea-b504-54526f1f377d</th>\n",
       "      <th>00565b31-14a3-4913-bd22-385eb40dd13c</th>\n",
       "      <th>00a9f935-ba93-4fc8-a33a-993abe9c936b</th>\n",
       "      <th>00eeed6b-5897-4359-8347-b8cd28375331</th>\n",
       "      <th>0103c1cc-4a09-4a5d-a344-56ad99a77193</th>\n",
       "      <th>0110e63e-0a9b-4818-af8e-41e180c20b9a</th>\n",
       "      <th>...</th>\n",
       "      <th>ff6e677f-91dd-4986-a174-8db0474b1799</th>\n",
       "      <th>ff7f80cd-05c2-4068-a00e-fbfbd453d049</th>\n",
       "      <th>ff865aa0-4603-4f79-ae8b-8735332e2cfa</th>\n",
       "      <th>ff95eb47-41c4-4f7f-a104-cdc30f02e872</th>\n",
       "      <th>ff9deaae-da4f-42b7-a19e-36fedd3fc706</th>\n",
       "      <th>ffb18e19-64a4-4a65-b4ce-979e00c3c69d</th>\n",
       "      <th>ffb2d3e3-a4cc-48cf-8fb0-f2f846e9d7b9</th>\n",
       "      <th>ffb390b8-8df4-4b72-97d1-7b2fc008a452</th>\n",
       "      <th>ffe16bba-4d84-409b-8f22-5242c60b930f</th>\n",
       "      <th>ffe9ec08-6b6b-4993-9394-e280b429dbfd</th>\n",
       "    </tr>\n",
       "    <tr>\n",
       "      <th>user</th>\n",
       "      <th></th>\n",
       "      <th></th>\n",
       "      <th></th>\n",
       "      <th></th>\n",
       "      <th></th>\n",
       "      <th></th>\n",
       "      <th></th>\n",
       "      <th></th>\n",
       "      <th></th>\n",
       "      <th></th>\n",
       "      <th></th>\n",
       "      <th></th>\n",
       "      <th></th>\n",
       "      <th></th>\n",
       "      <th></th>\n",
       "      <th></th>\n",
       "      <th></th>\n",
       "      <th></th>\n",
       "      <th></th>\n",
       "      <th></th>\n",
       "      <th></th>\n",
       "    </tr>\n",
       "  </thead>\n",
       "  <tbody>\n",
       "    <tr>\n",
       "      <th>00000c289a1829a808ac09c00daf10bc3c4e223b</th>\n",
       "      <td>0</td>\n",
       "      <td>0</td>\n",
       "      <td>0</td>\n",
       "      <td>0</td>\n",
       "      <td>0</td>\n",
       "      <td>0</td>\n",
       "      <td>0</td>\n",
       "      <td>0</td>\n",
       "      <td>0</td>\n",
       "      <td>0</td>\n",
       "      <td>...</td>\n",
       "      <td>0</td>\n",
       "      <td>0</td>\n",
       "      <td>0</td>\n",
       "      <td>0</td>\n",
       "      <td>0</td>\n",
       "      <td>0</td>\n",
       "      <td>0</td>\n",
       "      <td>0</td>\n",
       "      <td>0</td>\n",
       "      <td>0</td>\n",
       "    </tr>\n",
       "  </tbody>\n",
       "</table>\n",
       "<p>1 rows × 2000 columns</p>\n",
       "</div>"
      ],
      "text/plain": [
       "artist                                    000d90ec-d64c-48a1-b775-e726fd240e9f  \\\n",
       "user                                                                             \n",
       "00000c289a1829a808ac09c00daf10bc3c4e223b                                     0   \n",
       "\n",
       "artist                                    000fc734-b7e1-4a01-92d1-f544261b43f5  \\\n",
       "user                                                                             \n",
       "00000c289a1829a808ac09c00daf10bc3c4e223b                                     0   \n",
       "\n",
       "artist                                    0019749d-ee29-4a5f-ab17-6bfa11deb969  \\\n",
       "user                                                                             \n",
       "00000c289a1829a808ac09c00daf10bc3c4e223b                                     0   \n",
       "\n",
       "artist                                    0039c7ae-e1a7-4a7d-9b49-0cbc716821a6  \\\n",
       "user                                                                             \n",
       "00000c289a1829a808ac09c00daf10bc3c4e223b                                     0   \n",
       "\n",
       "artist                                    004e5eed-e267-46ea-b504-54526f1f377d  \\\n",
       "user                                                                             \n",
       "00000c289a1829a808ac09c00daf10bc3c4e223b                                     0   \n",
       "\n",
       "artist                                    00565b31-14a3-4913-bd22-385eb40dd13c  \\\n",
       "user                                                                             \n",
       "00000c289a1829a808ac09c00daf10bc3c4e223b                                     0   \n",
       "\n",
       "artist                                    00a9f935-ba93-4fc8-a33a-993abe9c936b  \\\n",
       "user                                                                             \n",
       "00000c289a1829a808ac09c00daf10bc3c4e223b                                     0   \n",
       "\n",
       "artist                                    00eeed6b-5897-4359-8347-b8cd28375331  \\\n",
       "user                                                                             \n",
       "00000c289a1829a808ac09c00daf10bc3c4e223b                                     0   \n",
       "\n",
       "artist                                    0103c1cc-4a09-4a5d-a344-56ad99a77193  \\\n",
       "user                                                                             \n",
       "00000c289a1829a808ac09c00daf10bc3c4e223b                                     0   \n",
       "\n",
       "artist                                    0110e63e-0a9b-4818-af8e-41e180c20b9a  \\\n",
       "user                                                                             \n",
       "00000c289a1829a808ac09c00daf10bc3c4e223b                                     0   \n",
       "\n",
       "artist                                                    ...                   \\\n",
       "user                                                      ...                    \n",
       "00000c289a1829a808ac09c00daf10bc3c4e223b                  ...                    \n",
       "\n",
       "artist                                    ff6e677f-91dd-4986-a174-8db0474b1799  \\\n",
       "user                                                                             \n",
       "00000c289a1829a808ac09c00daf10bc3c4e223b                                     0   \n",
       "\n",
       "artist                                    ff7f80cd-05c2-4068-a00e-fbfbd453d049  \\\n",
       "user                                                                             \n",
       "00000c289a1829a808ac09c00daf10bc3c4e223b                                     0   \n",
       "\n",
       "artist                                    ff865aa0-4603-4f79-ae8b-8735332e2cfa  \\\n",
       "user                                                                             \n",
       "00000c289a1829a808ac09c00daf10bc3c4e223b                                     0   \n",
       "\n",
       "artist                                    ff95eb47-41c4-4f7f-a104-cdc30f02e872  \\\n",
       "user                                                                             \n",
       "00000c289a1829a808ac09c00daf10bc3c4e223b                                     0   \n",
       "\n",
       "artist                                    ff9deaae-da4f-42b7-a19e-36fedd3fc706  \\\n",
       "user                                                                             \n",
       "00000c289a1829a808ac09c00daf10bc3c4e223b                                     0   \n",
       "\n",
       "artist                                    ffb18e19-64a4-4a65-b4ce-979e00c3c69d  \\\n",
       "user                                                                             \n",
       "00000c289a1829a808ac09c00daf10bc3c4e223b                                     0   \n",
       "\n",
       "artist                                    ffb2d3e3-a4cc-48cf-8fb0-f2f846e9d7b9  \\\n",
       "user                                                                             \n",
       "00000c289a1829a808ac09c00daf10bc3c4e223b                                     0   \n",
       "\n",
       "artist                                    ffb390b8-8df4-4b72-97d1-7b2fc008a452  \\\n",
       "user                                                                             \n",
       "00000c289a1829a808ac09c00daf10bc3c4e223b                                     0   \n",
       "\n",
       "artist                                    ffe16bba-4d84-409b-8f22-5242c60b930f  \\\n",
       "user                                                                             \n",
       "00000c289a1829a808ac09c00daf10bc3c4e223b                                     0   \n",
       "\n",
       "artist                                    ffe9ec08-6b6b-4993-9394-e280b429dbfd  \n",
       "user                                                                            \n",
       "00000c289a1829a808ac09c00daf10bc3c4e223b                                     0  \n",
       "\n",
       "[1 rows x 2000 columns]"
      ]
     },
     "execution_count": 21,
     "metadata": {},
     "output_type": "execute_result"
    }
   ],
   "source": [
    "# SMALL PROFILE IF KNN\n",
    "#join profiles and train together\n",
    "train.set_index('user',inplace = True)\n",
    "#train.head(1)"
   ]
  },
  {
   "cell_type": "code",
   "execution_count": null,
   "metadata": {
    "collapsed": false
   },
   "outputs": [
    {
     "data": {
      "text/html": [
       "<div>\n",
       "<table border=\"1\" class=\"dataframe\">\n",
       "  <thead>\n",
       "    <tr style=\"text-align: right;\">\n",
       "      <th></th>\n",
       "      <th>age</th>\n",
       "      <th>male</th>\n",
       "      <th>female</th>\n",
       "      <th>age_missing</th>\n",
       "      <th>United States</th>\n",
       "      <th>Germany</th>\n",
       "      <th>United Kingdom</th>\n",
       "      <th>France</th>\n",
       "      <th>Poland</th>\n",
       "      <th>Brazil</th>\n",
       "      <th>...</th>\n",
       "      <th>ff6e677f-91dd-4986-a174-8db0474b1799</th>\n",
       "      <th>ff7f80cd-05c2-4068-a00e-fbfbd453d049</th>\n",
       "      <th>ff865aa0-4603-4f79-ae8b-8735332e2cfa</th>\n",
       "      <th>ff95eb47-41c4-4f7f-a104-cdc30f02e872</th>\n",
       "      <th>ff9deaae-da4f-42b7-a19e-36fedd3fc706</th>\n",
       "      <th>ffb18e19-64a4-4a65-b4ce-979e00c3c69d</th>\n",
       "      <th>ffb2d3e3-a4cc-48cf-8fb0-f2f846e9d7b9</th>\n",
       "      <th>ffb390b8-8df4-4b72-97d1-7b2fc008a452</th>\n",
       "      <th>ffe16bba-4d84-409b-8f22-5242c60b930f</th>\n",
       "      <th>ffe9ec08-6b6b-4993-9394-e280b429dbfd</th>\n",
       "    </tr>\n",
       "    <tr>\n",
       "      <th>user</th>\n",
       "      <th></th>\n",
       "      <th></th>\n",
       "      <th></th>\n",
       "      <th></th>\n",
       "      <th></th>\n",
       "      <th></th>\n",
       "      <th></th>\n",
       "      <th></th>\n",
       "      <th></th>\n",
       "      <th></th>\n",
       "      <th></th>\n",
       "      <th></th>\n",
       "      <th></th>\n",
       "      <th></th>\n",
       "      <th></th>\n",
       "      <th></th>\n",
       "      <th></th>\n",
       "      <th></th>\n",
       "      <th></th>\n",
       "      <th></th>\n",
       "      <th></th>\n",
       "    </tr>\n",
       "  </thead>\n",
       "  <tbody>\n",
       "    <tr>\n",
       "      <th>fa40b43298ba3f8aa52e8e8863faf2e2171e0b5d</th>\n",
       "      <td>0.079937</td>\n",
       "      <td>-1.282467</td>\n",
       "      <td>1.533488</td>\n",
       "      <td>-0.442665</td>\n",
       "      <td>-0.460488</td>\n",
       "      <td>-0.25027</td>\n",
       "      <td>-0.271015</td>\n",
       "      <td>-0.081249</td>\n",
       "      <td>-0.173638</td>\n",
       "      <td>-0.145808</td>\n",
       "      <td>...</td>\n",
       "      <td>0</td>\n",
       "      <td>0</td>\n",
       "      <td>0</td>\n",
       "      <td>0</td>\n",
       "      <td>0</td>\n",
       "      <td>0</td>\n",
       "      <td>0</td>\n",
       "      <td>0</td>\n",
       "      <td>0</td>\n",
       "      <td>0</td>\n",
       "    </tr>\n",
       "  </tbody>\n",
       "</table>\n",
       "<p>1 rows × 2012 columns</p>\n",
       "</div>"
      ],
      "text/plain": [
       "                                               age      male    female  \\\n",
       "user                                                                     \n",
       "fa40b43298ba3f8aa52e8e8863faf2e2171e0b5d  0.079937 -1.282467  1.533488   \n",
       "\n",
       "                                          age_missing  United States  Germany  \\\n",
       "user                                                                            \n",
       "fa40b43298ba3f8aa52e8e8863faf2e2171e0b5d    -0.442665      -0.460488 -0.25027   \n",
       "\n",
       "                                          United Kingdom    France    Poland  \\\n",
       "user                                                                           \n",
       "fa40b43298ba3f8aa52e8e8863faf2e2171e0b5d       -0.271015 -0.081249 -0.173638   \n",
       "\n",
       "                                            Brazil  \\\n",
       "user                                                 \n",
       "fa40b43298ba3f8aa52e8e8863faf2e2171e0b5d -0.145808   \n",
       "\n",
       "                                                          ...                   \\\n",
       "user                                                      ...                    \n",
       "fa40b43298ba3f8aa52e8e8863faf2e2171e0b5d                  ...                    \n",
       "\n",
       "                                          ff6e677f-91dd-4986-a174-8db0474b1799  \\\n",
       "user                                                                             \n",
       "fa40b43298ba3f8aa52e8e8863faf2e2171e0b5d                                     0   \n",
       "\n",
       "                                          ff7f80cd-05c2-4068-a00e-fbfbd453d049  \\\n",
       "user                                                                             \n",
       "fa40b43298ba3f8aa52e8e8863faf2e2171e0b5d                                     0   \n",
       "\n",
       "                                          ff865aa0-4603-4f79-ae8b-8735332e2cfa  \\\n",
       "user                                                                             \n",
       "fa40b43298ba3f8aa52e8e8863faf2e2171e0b5d                                     0   \n",
       "\n",
       "                                          ff95eb47-41c4-4f7f-a104-cdc30f02e872  \\\n",
       "user                                                                             \n",
       "fa40b43298ba3f8aa52e8e8863faf2e2171e0b5d                                     0   \n",
       "\n",
       "                                          ff9deaae-da4f-42b7-a19e-36fedd3fc706  \\\n",
       "user                                                                             \n",
       "fa40b43298ba3f8aa52e8e8863faf2e2171e0b5d                                     0   \n",
       "\n",
       "                                          ffb18e19-64a4-4a65-b4ce-979e00c3c69d  \\\n",
       "user                                                                             \n",
       "fa40b43298ba3f8aa52e8e8863faf2e2171e0b5d                                     0   \n",
       "\n",
       "                                          ffb2d3e3-a4cc-48cf-8fb0-f2f846e9d7b9  \\\n",
       "user                                                                             \n",
       "fa40b43298ba3f8aa52e8e8863faf2e2171e0b5d                                     0   \n",
       "\n",
       "                                          ffb390b8-8df4-4b72-97d1-7b2fc008a452  \\\n",
       "user                                                                             \n",
       "fa40b43298ba3f8aa52e8e8863faf2e2171e0b5d                                     0   \n",
       "\n",
       "                                          ffe16bba-4d84-409b-8f22-5242c60b930f  \\\n",
       "user                                                                             \n",
       "fa40b43298ba3f8aa52e8e8863faf2e2171e0b5d                                     0   \n",
       "\n",
       "                                          ffe9ec08-6b6b-4993-9394-e280b429dbfd  \n",
       "user                                                                            \n",
       "fa40b43298ba3f8aa52e8e8863faf2e2171e0b5d                                     0  \n",
       "\n",
       "[1 rows x 2012 columns]"
      ]
     },
     "execution_count": 22,
     "metadata": {},
     "output_type": "execute_result"
    }
   ],
   "source": [
    "# get index for later\n",
    "users = sm_profiles.user\n",
    "sm_profiles.set_index('user', inplace=True)\n",
    "# fill in any missing values just in case\n",
    "sm_profiles[sm_profiles.age.isnull()]=sm_profiles.age.mean()\n",
    "\n",
    "# standardize profile data\n",
    "scaler = StandardScaler()\n",
    "sm_profiles_scaled = pd.DataFrame(scaler.fit_transform(sm_profiles))\n",
    "cols = sm_profiles.columns\n",
    "sm_profiles_scaled.columns = cols\n",
    "sm_profiles_scaled.index = users\n",
    "\n",
    "# combine profile and training data\n",
    "bigdf = pd.concat([sm_profiles_scaled,train],axis=1,join_axes=[sm_profiles_scaled.index])\n",
    "#bigdf.head(1)"
   ]
  },
  {
   "cell_type": "markdown",
   "metadata": {},
   "source": [
    "# KNN"
   ]
  },
  {
   "cell_type": "code",
   "execution_count": null,
   "metadata": {
    "collapsed": false
   },
   "outputs": [],
   "source": [
    "bigdf.fillna(0,inplace=True)\n",
    "neigh = KNeighborsRegressor(n_neighbors=1000, weights=\"uniform\")\n",
    "%time neigh.fit(bigdf.iloc[:,:num_profile_features],bigdf.iloc[:,num_profile_features:])"
   ]
  },
  {
   "cell_type": "code",
   "execution_count": null,
   "metadata": {
    "collapsed": true
   },
   "outputs": [],
   "source": [
    "# use this function in APPLY for a df\n",
    "def knn_profile_predict(test_row,k):\n",
    "\n",
    "    # get artist and user info\n",
    "    artist = test_row[0]\n",
    "    user = test_row[1]  \n",
    "\n",
    "    # grab row from bigdf to test\n",
    "    to_test = bigdf.iloc[bigdf.index == user,:num_profile_features]\n",
    "\n",
    "    # grab indices of neighbors in bigdf\n",
    "    idx = neigh.kneighbors(to_test)[1][0]\n",
    "    predictions = np.array([bigdf.ix[iix,artist] for iix in idx])\n",
    "    \n",
    "    # get median from the k nearest (non-zero) neighbors\n",
    "    return np.median(predictions[np.nonzero(predictions)][:k])"
   ]
  },
  {
   "cell_type": "code",
   "execution_count": null,
   "metadata": {
    "collapsed": false
   },
   "outputs": [],
   "source": [
    "valid[\"knn1 pred\"] = None\n",
    "%time valid[\"knn1 pred\"] = valid.iloc[:600,:].apply(lambda x: knn_profile_predict(x,1),axis=1)"
   ]
  },
  {
   "cell_type": "code",
   "execution_count": null,
   "metadata": {
    "collapsed": false
   },
   "outputs": [],
   "source": [
    "valid[\"knn3 pred\"] = None\n",
    "%time valid[\"knn3 pred\"] = valid.iloc[:600,:].apply(lambda x: knn_profile_predict(x,3),axis=1)"
   ]
  },
  {
   "cell_type": "code",
   "execution_count": null,
   "metadata": {
    "collapsed": false
   },
   "outputs": [],
   "source": [
    "valid[\"knn5 pred\"] = None\n",
    "%time valid[\"knn5 pred\"] = valid.iloc[:600,:].apply(lambda x: knn_profile_predict(x,5),axis=1)"
   ]
  },
  {
   "cell_type": "markdown",
   "metadata": {},
   "source": [
    "# KMEANS"
   ]
  },
  {
   "cell_type": "code",
   "execution_count": null,
   "metadata": {
    "collapsed": false
   },
   "outputs": [],
   "source": [
    "# # standardize columns before kmeans\n",
    "# scaler = StandardScaler()\n",
    "# bigdf_sc = scaler.fit_transform(bigdf)"
   ]
  },
  {
   "cell_type": "code",
   "execution_count": null,
   "metadata": {
    "collapsed": false
   },
   "outputs": [],
   "source": [
    "# # carry out kmeans\n",
    "# kmeans = KMeans(init = 'k-means++', n_clusters=50, n_jobs = -1, n_init = 8)\n",
    "# kmeans.fit(bigdf_sc)"
   ]
  },
  {
   "cell_type": "code",
   "execution_count": null,
   "metadata": {
    "collapsed": false
   },
   "outputs": [],
   "source": [
    "# from sklearn.externals import joblib\n",
    "# joblib.dump(kmeans, 'kmeans50.pkl') "
   ]
  },
  {
   "cell_type": "code",
   "execution_count": null,
   "metadata": {
    "collapsed": false
   },
   "outputs": [],
   "source": [
    "# cols = bigdf.columns\n",
    "# centers = pd.DataFrame(scaler.inverse_transform(kmeans.cluster_centers_))\n",
    "# centers.columns = cols\n",
    "# centers.head()"
   ]
  },
  {
   "cell_type": "markdown",
   "metadata": {},
   "source": [
    "### Create test array to compare to kmeans"
   ]
  },
  {
   "cell_type": "code",
   "execution_count": null,
   "metadata": {
    "collapsed": false
   },
   "outputs": [],
   "source": [
    "# closest_centers = kmeans.predict(bigdf_sc)\n",
    "# train['closest center'] = closest_centers.tolist()\n",
    "# test['closest center'] = None\n",
    "# test.set_index(\"user\",inplace=True)\n",
    "# test.update(train)\n",
    "# test.reset_index(inplace=True)"
   ]
  },
  {
   "cell_type": "code",
   "execution_count": null,
   "metadata": {
    "collapsed": false
   },
   "outputs": [],
   "source": [
    "# def get_prediction(x):\n",
    "#     artist = x[1]\n",
    "#     return centers.ix[x[5],artist]"
   ]
  },
  {
   "cell_type": "code",
   "execution_count": null,
   "metadata": {
    "collapsed": false
   },
   "outputs": [],
   "source": [
    "# test[\"kmeans pred\"] = 0\n",
    "# test[\"kmeans pred\"] = test.apply(lambda x: get_prediction(x),axis=1)\n",
    "# test.head()"
   ]
  },
  {
   "cell_type": "markdown",
   "metadata": {},
   "source": [
    "### Carry out ensemble"
   ]
  },
  {
   "cell_type": "code",
   "execution_count": null,
   "metadata": {
    "collapsed": false
   },
   "outputs": [],
   "source": [
    "# initialize columns\n",
    "valid['user genre median'] = np.nan\n",
    "valid['user median'] = np.nan\n",
    "valid['artist median'] = np.nan\n",
    "valid['genre median'] = np.nan\n",
    "valid['global median'] = np.nan\n",
    "valid['user mean'] = np.nan\n",
    "valid['genre mean'] = np.nan\n",
    "valid['artist mean'] = np.nan\n",
    "valid['user genre mean'] = np.nan\n",
    "\n",
    "# add global median\n",
    "valid['global median'] = global_median\n",
    "\n",
    "# add user median\n",
    "valid.set_index('user',inplace=True)\n",
    "valid.update(user_medians)\n",
    "valid.reset_index(inplace=True)\n",
    "\n",
    "# add artist median\n",
    "valid.set_index('artist',inplace=True)\n",
    "valid.update(artist_medians)\n",
    "valid.reset_index(inplace=True)\n",
    "valid[\"genre median\"].fillna(valid[\"user median\"],inplace=True)\n",
    "\n",
    "# add genre median\n",
    "valid.set_index('genre1',inplace=True)\n",
    "valid.update(genre_medians)\n",
    "valid.reset_index(inplace=True)\n",
    "valid[\"genre median\"].fillna(valid[\"user median\"],inplace=True)\n",
    "\n",
    "# add user genre median\n",
    "valid.set_index(['user','genre1'],inplace=True)\n",
    "valid.update(user_genre_medians.set_index([\"user\",\"genre1\"]))\n",
    "valid.reset_index(inplace=True)\n",
    "valid[\"user genre median\"].fillna(valid[\"user median\"],inplace=True)\n",
    "\n",
    "# add user mean\n",
    "valid.set_index('user',inplace=True)\n",
    "valid.update(user_means)\n",
    "valid.reset_index(inplace=True)\n",
    "\n",
    "# add artist mean\n",
    "valid.set_index('artist',inplace=True)\n",
    "valid.update(artist_means)\n",
    "valid.reset_index(inplace=True)\n",
    "valid[\"genre mean\"].fillna(valid[\"user mean\"],inplace=True)\n",
    "\n",
    "# add genre mean\n",
    "valid.set_index('genre1',inplace=True)\n",
    "valid.update(genre_means)\n",
    "valid.reset_index(inplace=True)\n",
    "valid[\"genre mean\"].fillna(valid[\"user mean\"],inplace=True)\n",
    "\n",
    "# add user genre mean\n",
    "valid.set_index(['user','genre1'],inplace=True)\n",
    "valid.update(user_genre_means.set_index([\"user\",\"genre1\"]))\n",
    "valid.reset_index(inplace=True)\n",
    "valid[\"user genre mean\"].fillna(valid[\"user mean\"],inplace=True)\n",
    "valid.head(1)"
   ]
  },
  {
   "cell_type": "code",
   "execution_count": null,
   "metadata": {
    "collapsed": true
   },
   "outputs": [],
   "source": [
    "vvalid = valid.iloc[:600,:].copy"
   ]
  },
  {
   "cell_type": "code",
   "execution_count": null,
   "metadata": {
    "collapsed": false
   },
   "outputs": [],
   "source": [
    "# weighted ensemble\n",
    "stacking= linear_model.LinearRegression()\n",
    "\n",
    "X = np.vstack([vvalid['knn1 pred'].values,vvalid['knn3 pred'].values])\n",
    "X = np.vstack([X,vvalid['knn5 pred'].values])\n",
    "X = np.vstack([X,vvalid['user median'].values])\n",
    "X = np.vstack([X,vvalid['user genre median'].values])\n",
    "X = np.vstack([X,vvalid['genre median'].values])\n",
    "X = np.vstack([X,vvalid['artist median'].values])\n",
    "X = np.vstack([X,vvalid['global median'].values])\n",
    "X = np.vstack([X,vvalid['user mean'].values])\n",
    "X = np.vstack([X,vvalid['user genre mean'].values])\n",
    "X = np.vstack([X,vvalid['genre mean'].values])\n",
    "X = np.vstack([X,vvalid['artist mean'].values])\n",
    "X = X.T\n",
    "X.shape\n",
    "\n",
    "y = vvalid['plays'].values\n",
    "\n",
    "stacking.fit(X,y)\n",
    "stacking.coef_"
   ]
  },
  {
   "cell_type": "code",
   "execution_count": null,
   "metadata": {
    "collapsed": true
   },
   "outputs": [],
   "source": [
    "vvalid['ensemble'] =                            \\\n",
    "stacking.coef_[0]*vvalid['knn1 pred']         \\\n",
    "+ stacking.coef_[0]*vvalid['knn2 pred']         \\\n",
    "+ stacking.coef_[0]*vvalid['knn5 pred']         \\\n",
    "+ stacking.coef_[1]*vvalid['user median']       \\\n",
    "+ stacking.coef_[2]*vvalid['user genre median'] \\\n",
    "+ stacking.coef_[3]*vvalid['genre median']      \\\n",
    "+ stacking.coef_[4]*vvalid['artist median']     \\\n",
    "+ stacking.coef_[5]*vvalid['global median']     \\\n",
    "+ stacking.coef_[6]*vvalid['user mean']\n",
    "+ stacking.coef_[7]*vvalid['user genre mean']   \\\n",
    "+ stacking.coef_[8]*vvalid['genre mean']        \\\n",
    "+ stacking.coef_[9]*vvalid['artist mean']      "
   ]
  },
  {
   "cell_type": "code",
   "execution_count": null,
   "metadata": {
    "collapsed": true
   },
   "outputs": [],
   "source": [
    "vvalid['AE'] = np.abs(vvalid['plays']-vvalid['ensemble']) \n",
    "print \"MAE is:\", vvalid.AE.mean()"
   ]
  },
  {
   "cell_type": "code",
   "execution_count": null,
   "metadata": {
    "collapsed": true
   },
   "outputs": [],
   "source": []
  },
  {
   "cell_type": "code",
   "execution_count": null,
   "metadata": {
    "collapsed": true
   },
   "outputs": [],
   "source": []
  },
  {
   "cell_type": "code",
   "execution_count": null,
   "metadata": {
    "collapsed": true
   },
   "outputs": [],
   "source": []
  },
  {
   "cell_type": "code",
   "execution_count": null,
   "metadata": {
    "collapsed": true
   },
   "outputs": [],
   "source": []
  },
  {
   "cell_type": "code",
   "execution_count": null,
   "metadata": {
    "collapsed": false
   },
   "outputs": [],
   "source": [
    "# initialize columns\n",
    "test['user genre median'] = np.nan\n",
    "test['user median'] = np.nan\n",
    "test['artist median'] = np.nan\n",
    "test['genre median'] = np.nan\n",
    "test['global median'] = np.nan\n",
    "test['user mean'] = np.nan\n",
    "test['genre mean'] = np.nan\n",
    "test['artist mean'] = np.nan\n",
    "test['user genre mean'] = np.nan\n",
    "\n",
    "# add global median\n",
    "test['global median'] = global_median\n",
    "\n",
    "# add user median\n",
    "test.set_index('user',inplace=True)\n",
    "test.update(user_medians)\n",
    "test.reset_index(inplace=True)\n",
    "\n",
    "# add artist median\n",
    "test.set_index('artist',inplace=True)\n",
    "test.update(artist_medians)\n",
    "test.reset_index(inplace=True)\n",
    "test[\"genre median\"].fillna(test[\"user median\"],inplace=True)\n",
    "\n",
    "# add genre median\n",
    "test.set_index('genre1',inplace=True)\n",
    "test.update(genre_medians)\n",
    "test.reset_index(inplace=True)\n",
    "test[\"genre median\"].fillna(test[\"user median\"],inplace=True)\n",
    "\n",
    "# add user genre median\n",
    "test.set_index(['user','genre1'],inplace=True)\n",
    "test.update(user_genre_medians.set_index([\"user\",\"genre1\"]))\n",
    "test.reset_index(inplace=True)\n",
    "test[\"user genre median\"].fillna(test[\"user median\"],inplace=True)\n",
    "\n",
    "# add user mean\n",
    "test.set_index('user',inplace=True)\n",
    "test.update(user_means)\n",
    "test.reset_index(inplace=True)\n",
    "\n",
    "# add artist mean\n",
    "test.set_index('artist',inplace=True)\n",
    "test.update(artist_means)\n",
    "test.reset_index(inplace=True)\n",
    "test[\"genre mean\"].fillna(test[\"user mean\"],inplace=True)\n",
    "\n",
    "# add genre mean\n",
    "test.set_index('genre1',inplace=True)\n",
    "test.update(genre_means)\n",
    "test.reset_index(inplace=True)\n",
    "test[\"genre mean\"].fillna(test[\"user mean\"],inplace=True)\n",
    "\n",
    "# add user genre mean\n",
    "test.set_index(['user','genre1'],inplace=True)\n",
    "test.update(user_genre_means.set_index([\"user\",\"genre1\"]))\n",
    "test.reset_index(inplace=True)\n",
    "test[\"user genre mean\"].fillna(test[\"user mean\"],inplace=True)\n",
    "test.head(1)"
   ]
  },
  {
   "cell_type": "code",
   "execution_count": null,
   "metadata": {
    "collapsed": false
   },
   "outputs": [],
   "source": [
    "# weighted ensemble\n",
    "stacking= linear_model.LinearRegression()\n",
    "\n",
    "X = np.vstack([test['knn1 pred'].values,test['user median'].values])\n",
    "X = np.vstack([X,test['user genre median'].values])\n",
    "X = np.vstack([X,test['genre median'].values])\n",
    "X = np.vstack([X,test['artist median'].values])\n",
    "X = np.vstack([X,test['global median'].values])\n",
    "X = np.vstack([X,test['user mean'].values])\n",
    "X = np.vstack([X,test['user genre mean'].values])\n",
    "X = np.vstack([X,test['genre mean'].values])\n",
    "X = np.vstack([X,test['artist mean'].values])\n",
    "X = X.T\n",
    "X.shape\n",
    "\n",
    "y = test['plays'].values\n",
    "\n",
    "stacking.fit(X,y)\n",
    "stacking.coef_"
   ]
  },
  {
   "cell_type": "code",
   "execution_count": null,
   "metadata": {
    "collapsed": false
   },
   "outputs": [],
   "source": [
    "test['ensemble'] =                            \\\n",
    "stacking.coef_[0]*test['kmeans pred']         \\\n",
    "+ stacking.coef_[1]*test['user median']       \\\n",
    "+ stacking.coef_[2]*test['user genre median'] \\\n",
    "+ stacking.coef_[3]*test['genre median']      \\\n",
    "+ stacking.coef_[4]*test['artist median']     \\\n",
    "+ stacking.coef_[5]*test['global median']     \\\n",
    "+ stacking.coef_[6]*test['user mean']\n",
    "+ stacking.coef_[7]*test['user genre mean']   \\\n",
    "+ stacking.coef_[8]*test['genre mean']        \\\n",
    "+ stacking.coef_[9]*test['artist mean']      \n",
    "\n",
    "#test['AE'] = np.abs(test['plays']-test['ensemble'])  "
   ]
  },
  {
   "cell_type": "code",
   "execution_count": null,
   "metadata": {
    "collapsed": false
   },
   "outputs": [],
   "source": [
    "#print \"MAE is:\", test.AE.mean()"
   ]
  },
  {
   "cell_type": "code",
   "execution_count": null,
   "metadata": {
    "collapsed": false
   },
   "outputs": [],
   "source": [
    "output_for_kaggle = test\n",
    "output_for_kaggle.drop([\"plays\",\"closest center\", \"AE\", \"genre1\",\"user\",\"artist\",\"kmeans pred\",\"user genre median\",\"user median\", \"genre median\", \"global median\",\"artist median\",\"artist mean\",\"user mean\", \"genre mean\", \"user genre mean\"],axis=1,inplace=True)\n",
    "output_for_kaggle.rename(columns={\"ensemble\":\"plays\"},inplace = True)\n",
    "output_for_kaggle.head()"
   ]
  }
 ],
 "metadata": {
  "kernelspec": {
   "display_name": "Python 2",
   "language": "python",
   "name": "python2"
  },
  "language_info": {
   "codemirror_mode": {
    "name": "ipython",
    "version": 2
   },
   "file_extension": ".py",
   "mimetype": "text/x-python",
   "name": "python",
   "nbconvert_exporter": "python",
   "pygments_lexer": "ipython2",
   "version": "2.7.11"
  }
 },
 "nbformat": 4,
 "nbformat_minor": 0
}
