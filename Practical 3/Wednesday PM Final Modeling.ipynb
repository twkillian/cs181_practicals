{
 "cells": [
  {
   "cell_type": "code",
   "execution_count": 1,
   "metadata": {
    "collapsed": true
   },
   "outputs": [],
   "source": [
    "# Load libraries\n",
    "import numpy as np\n",
    "import matplotlib.pyplot as plt\n",
    "import pandas as pd\n",
    "import pickle\n",
    "from time import time\n",
    "from sklearn import linear_model\n",
    "from sklearn.cross_validation import train_test_split\n",
    "from sklearn.neighbors import KNeighborsRegressor\n",
    "from sklearn.preprocessing import StandardScaler\n",
    "import warnings\n",
    "import math\n",
    "from sklearn.cluster import KMeans\n",
    "from sklearn.decomposition import NMF\n",
    "import pickle\n",
    "from sklearn.externals import joblib\n",
    "warnings.filterwarnings('ignore')\n",
    "%matplotlib inline"
   ]
  },
  {
   "cell_type": "markdown",
   "metadata": {},
   "source": [
    "### Load .csv files"
   ]
  },
  {
   "cell_type": "code",
   "execution_count": 2,
   "metadata": {
    "collapsed": false
   },
   "outputs": [],
   "source": [
    "# load default data frames\n",
    "train_df = pd.read_csv(\"train.csv\")\n",
    "test_df = pd.read_csv(\"test.csv\")\n",
    "artists_df = pd.read_csv(\"artists.csv\")\n",
    "global_median_df = pd.read_csv(\"global_median.csv\")\n",
    "profiles = pd.read_csv(\"profiles.csv\")"
   ]
  },
  {
   "cell_type": "markdown",
   "metadata": {},
   "source": [
    "### Create profiles df, imput ages"
   ]
  },
  {
   "cell_type": "code",
   "execution_count": 3,
   "metadata": {
    "collapsed": false
   },
   "outputs": [],
   "source": [
    "# CREATES PROFILES DF\n",
    "\n",
    "# # condition = (profiles_df['age'].isnull()) | (profiles_df['age'] < 95) | (profiles_df['age'] > 0)\n",
    "# # profiles_df[condition] = np.nan\n",
    "# profiles_df.loc[profiles_df[\"age\"] < 5 ,'age'] = None\n",
    "# profiles_df.loc[profiles_df[\"age\"] > 85 ,'age'] = None\n",
    "# profiles_df.loc[profiles_df[\"age\"].isnull(),'age'] = None\n",
    "\n",
    "# # calculate mean age per user\n",
    "# mean_age = profiles_df[~profiles_df['age'].isnull()][\"age\"].mean()\n",
    "\n",
    "# ###################################################################### \n",
    "\n",
    "# # calculate mean age per men\n",
    "# males_only_df = profiles_df[profiles_df[\"sex\"]=='m']\n",
    "# mean_male_age = males_only_df[~males_only_df['sex'].isnull()][\"age\"].mean()\n",
    "\n",
    "# ###################################################################### \n",
    "\n",
    "# # calculate mean age per women\n",
    "# females_only_df = profiles_df[profiles_df[\"sex\"]=='f']\n",
    "# mean_female_age = females_only_df[~females_only_df['sex'].isnull()][\"age\"].mean()\n",
    "\n",
    "# ###################################################################### \n",
    "\n",
    "# # get list of unique countries\n",
    "# countries = profiles_df[\"country\"].unique()\n",
    "\n",
    "# # calculate mean age per country\n",
    "# mean_country_age = {}\n",
    "# for country in countries:\n",
    "#     tmp_df = profiles_df[profiles_df[\"country\"]==str(country)].copy()\n",
    "#     mean_country_age[str(country)] = tmp_df[\"age\"].mean()\n",
    "\n",
    "# ###################################################################### \n",
    "    \n",
    "# # calculate mean age per male per country\n",
    "# mean_country_male_age = {}\n",
    "# for country in countries:\n",
    "#     tmp_df0 = profiles_df[profiles_df[\"sex\"]=='m'].copy()\n",
    "#     tmp_df1 = tmp_df0[profiles_df[\"country\"]==str(country)].copy()\n",
    "#     mean_country_male_age[str(country)] = tmp_df1[\"age\"].mean()\n",
    "\n",
    "# ###################################################################### \n",
    "\n",
    "# # calculate mean age per female per country\n",
    "# mean_country_female_age = {}\n",
    "# for country in countries:\n",
    "#     tmp_df0 = profiles_df[profiles_df[\"sex\"]=='f'].copy()\n",
    "#     tmp_df1 = tmp_df0[profiles_df[\"country\"]==str(country)].copy()\n",
    "#     mean_country_female_age[str(country)] = tmp_df1[\"age\"].mean()\n",
    "\n",
    "# ###################################################################### \n",
    "\n",
    "# # initialize training df\n",
    "# profiles = profiles_df\n",
    "\n",
    "# ###################################################################### \n",
    "\n",
    "# # create sex indicators\n",
    "# profiles[\"male\"] = 0\n",
    "# profiles[\"female\"] = 0\n",
    "# profiles[\"sex_missing\"] = 0\n",
    "# profiles.loc[profiles[\"sex\"] =='m', \"male\"] = 1\n",
    "# profiles.loc[profiles[\"sex\"] =='f', \"female\"] = 1\n",
    "# profiles.loc[profiles[\"sex\"].isnull(), \"sex_missing\"] = 1\n",
    "\n",
    "# ######################################################################  \n",
    "\n",
    "# # create age indicators\n",
    "# profiles[\"age_missing\"] = 0\n",
    "# profiles.loc[profiles[\"age\"].isnull(),\"age_missing\"] = 1\n",
    "\n",
    "# # fill in mean age: has no gender or country\n",
    "# profiles.loc[profiles[\"age_missing\"] == 1, \"age\"] = mean_age\n",
    "\n",
    "# # fill in mean age: has gender, no country\n",
    "# #males\n",
    "# condition = (profiles[\"sex\"] =='m') & (profiles[\"country\"].isnull()) & (profiles[\"age_missing\"] == 1)\n",
    "# profiles.loc[condition, \"age\"] = mean_male_age\n",
    "# # females\n",
    "# condition = (profiles[\"sex\"] =='f') & (profiles[\"country\"].isnull()) & (profiles[\"age_missing\"] == 1)\n",
    "# profiles.loc[condition, \"age\"] = mean_female_age\n",
    "\n",
    "# # fill in mean age: has country, no gender\n",
    "# #loop over countries\n",
    "# for country in countries:\n",
    "#     condition = (profiles[\"country\"] == country) & (profiles[\"age_missing\"] == 1) & (profiles[\"sex_missing\"] == 1)\n",
    "#     profiles.loc[condition, \"age\"] = mean_country_age[country]\n",
    "\n",
    "# # fill in mean age: has gender and country\n",
    "# # loop over countries\n",
    "# for country in countries:\n",
    "#     # males\n",
    "#     condition = (profiles[\"country\"] == country) & (profiles[\"sex\"] == 'm') & (profiles[\"age_missing\"] == 1)\n",
    "#     profiles.loc[condition, \"age\"] = mean_country_male_age[country]\n",
    "#     # females\n",
    "#     condition = (profiles[\"country\"] == country) & (profiles[\"sex\"] == 'f') & (profiles[\"age_missing\"] == 1)\n",
    "#     profiles.loc[condition, \"age\"] = mean_country_female_age[country]\n",
    "\n",
    "# ###################################################################### \n",
    "    \n",
    "# # create country indicators\n",
    "# profiles[\"country_missing\"] = 0\n",
    "# profiles.loc[profiles[\"country\"].isnull(), \"country_missing\"] = 1\n",
    "# # loop over countries\n",
    "# for country in countries:\n",
    "#     # assign 1 if in that country\n",
    "#     profiles.loc[profiles[\"country\"] == country, country] = 1\n",
    "#     # assign 0 otherwise\n",
    "#     profiles.loc[profiles[\"country\"] != country, country] = 0\n",
    "\n",
    "# ###################################################################### \n",
    "\n",
    "# profiles.to_csv(\"profiles.csv\")\n",
    "\n",
    "# ###################################################################### \n",
    "\n",
    "# clean profiles df\n",
    "profiles.drop(\"sex\",inplace=True,axis=1)\n",
    "profiles.drop(\"country\",inplace=True,axis=1)\n",
    "profiles.drop(\"Unnamed: 0\",axis=1,inplace=True)\n",
    "profiles.set_index(\"user\",inplace=True)\n",
    "profiles.drop(\"sex_missing\",inplace=True,axis=1)\n",
    "#profiles.head(1)"
   ]
  },
  {
   "cell_type": "code",
   "execution_count": 4,
   "metadata": {
    "collapsed": false
   },
   "outputs": [],
   "source": [
    "profiles.reset_index(inplace=True)"
   ]
  },
  {
   "cell_type": "code",
   "execution_count": 5,
   "metadata": {
    "collapsed": false
   },
   "outputs": [],
   "source": [
    "# # if SMALL DF\n",
    "# profile_features = [\"age\",\"male\",\"female\",\"age_missing\",\"United States\",\"Germany\",\"United Kingdom\",\"France\",\"Poland\",\"Brazil\",\"Spain\",\"Italy\"]\n",
    "# num_profile_features = len(profile_features)\n",
    "# sm_profiles = profiles.loc[:,profile_features]\n",
    "# sm_profiles.reset_index(inplace=True)\n",
    "# #sm_profiles.head(1)"
   ]
  },
  {
   "cell_type": "markdown",
   "metadata": {},
   "source": [
    "### Grab genres for each artist"
   ]
  },
  {
   "cell_type": "code",
   "execution_count": 6,
   "metadata": {
    "collapsed": false
   },
   "outputs": [],
   "source": [
    "# load genre data frames and do some cleaning\n",
    "artists_with_1genre_df = pd.read_csv(\"artists_with_genres.csv\")\n",
    "artists_with_5genres_df = pd.read_csv(\"artists_with_top_5_genres.csv\")\n",
    "artists_with_5genres_df.rename(columns = {\"num_votes5\":\"extra\"}, inplace = True)\n",
    "artists_with_5genres_df.rename(columns = {\"genre5\":\"num_votes5\"}, inplace = True)\n",
    "artists_with_5genres_df.rename(columns = {\"num_votes4\":\"genre5\"}, inplace = True)\n",
    "artists_with_5genres_df.rename(columns = {\"genre4\":\"num_votes4\"}, inplace = True)\n",
    "artists_with_5genres_df.rename(columns = {\"num_votes3\":\"genre4\"}, inplace = True)\n",
    "artists_with_5genres_df.rename(columns = {\"genre3\":\"num_votes3\"}, inplace = True)\n",
    "artists_with_5genres_df.rename(columns = {\"num_votes2\":\"genre3\"}, inplace = True)\n",
    "artists_with_5genres_df.rename(columns = {\"genre2\":\"num_votes2\"}, inplace = True)\n",
    "artists_with_5genres_df.rename(columns = {\"num_votes1\":\"genre2\"}, inplace = True)\n",
    "artists_with_5genres_df.rename(columns = {\"genre1\":\"num_votes1\"}, inplace = True)\n",
    "artists_with_5genres_df.rename(columns = {\"name\":\"genre1\"}, inplace = True)\n",
    "artists_with_5genres_df.rename(columns = {\"artist\":\"name\"}, inplace = True)\n",
    "\n",
    "# Calculate percent of votes\n",
    "agn = artists_with_5genres_df[[\"num_votes1\",\"num_votes2\",\"num_votes3\"]]\n",
    "agn.rename(columns = {\"num_votes1\":\"per_votes1\"}, inplace = True)\n",
    "agn.rename(columns = {\"num_votes2\":\"per_votes2\"}, inplace = True)\n",
    "agn.rename(columns = {\"num_votes3\":\"per_votes3\"}, inplace = True)\n",
    "agn = agn.apply(lambda c: c / c.sum() * 100, axis=1)\n",
    "\n",
    "del artists_df\n",
    "\n",
    "# combine dfs together\n",
    "artists_with_5genres_df = pd.concat([artists_with_5genres_df, agn], axis=1)\n",
    "#artists_with_5genres_df.head(1)"
   ]
  },
  {
   "cell_type": "markdown",
   "metadata": {},
   "source": [
    "### Create train df"
   ]
  },
  {
   "cell_type": "code",
   "execution_count": 7,
   "metadata": {
    "collapsed": false
   },
   "outputs": [],
   "source": [
    "# Train - Test Split on profiles to ensure users are in one group or another\n",
    "train, valid = train_test_split(train_df, test_size = .001)\n",
    "#train, valid = train_test_split(train0, test_size = .1)\n",
    "#train = train_df.copy()"
   ]
  },
  {
   "cell_type": "code",
   "execution_count": 8,
   "metadata": {
    "collapsed": false
   },
   "outputs": [],
   "source": [
    "#add primary genre to train\n",
    "train[\"genre1\"] = np.nan\n",
    "train.set_index(\"artist\", inplace=True)\n",
    "train.update(artists_with_5genres_df)\n",
    "train.reset_index(inplace=True)\n",
    "\n",
    "# test[\"genre1\"] = np.nan\n",
    "# test.set_index(\"artist\", inplace=True)\n",
    "# test.update(artists_with_5genres_df)\n",
    "# test.reset_index(inplace=True)\n",
    "\n",
    "valid[\"genre1\"] = np.nan\n",
    "valid.set_index(\"artist\", inplace=True)\n",
    "valid.update(artists_with_5genres_df)\n",
    "valid.reset_index(inplace=True)\n",
    "\n",
    "# train0[\"genre1\"] = np.nan\n",
    "# train0.set_index(\"artist\", inplace=True)\n",
    "# train0.update(artists_with_5genres_df)\n",
    "# train0.reset_index(inplace=True)"
   ]
  },
  {
   "cell_type": "markdown",
   "metadata": {},
   "source": [
    "### compute averages"
   ]
  },
  {
   "cell_type": "code",
   "execution_count": 9,
   "metadata": {
    "collapsed": false
   },
   "outputs": [
    {
     "name": "stdout",
     "output_type": "stream",
     "text": [
      "118.0\n"
     ]
    }
   ],
   "source": [
    "# calculate global median\n",
    "global_median = global_median_df.iloc[0,1]\n",
    "del global_median_df\n",
    "print global_median"
   ]
  },
  {
   "cell_type": "code",
   "execution_count": 10,
   "metadata": {
    "collapsed": false
   },
   "outputs": [],
   "source": [
    "# calculate user medians\n",
    "user_medians = train.pivot(index='user',columns='artist',values='plays').reset_index().set_index('user').median(axis=1)\n",
    "user_medians = pd.DataFrame(user_medians)\n",
    "user_medians.rename(columns={0:\"user median\"},inplace=True)\n",
    "#user_medians.head(1)"
   ]
  },
  {
   "cell_type": "code",
   "execution_count": 11,
   "metadata": {
    "collapsed": false
   },
   "outputs": [],
   "source": [
    "# calculate user means\n",
    "user_means = train.pivot(index='user',columns='artist',values='plays').reset_index().set_index('user').mean(axis=1)\n",
    "user_means = pd.DataFrame(user_means)\n",
    "user_means.rename(columns={0:\"user mean\"},inplace=True)\n",
    "#user_means.head(1)"
   ]
  },
  {
   "cell_type": "code",
   "execution_count": 12,
   "metadata": {
    "collapsed": false
   },
   "outputs": [],
   "source": [
    "# calculate artist medians\n",
    "artist_medians = train.pivot(index='user',columns='artist',values='plays').reset_index().set_index('user').median(axis=0)\n",
    "artist_medians = pd.DataFrame(artist_medians)\n",
    "artist_medians.rename(columns={0:\"artist median\"},inplace=True)\n",
    "#artist_medians.head(1)"
   ]
  },
  {
   "cell_type": "code",
   "execution_count": 13,
   "metadata": {
    "collapsed": false
   },
   "outputs": [],
   "source": [
    "# calculate artist medians\n",
    "artist_means = train.pivot(index='user',columns='artist',values='plays').reset_index().set_index('user').mean(axis=0)\n",
    "artist_means = pd.DataFrame(artist_means)\n",
    "artist_means.rename(columns={0:\"artist mean\"},inplace=True)\n",
    "#artist_means.head(1)"
   ]
  },
  {
   "cell_type": "code",
   "execution_count": 14,
   "metadata": {
    "collapsed": false
   },
   "outputs": [],
   "source": [
    "# calculate genre medians\n",
    "genre_medians = train.groupby(\"genre1\").plays.median()\n",
    "genre_medians = pd.DataFrame(genre_medians)\n",
    "genre_medians.rename(columns={'plays':\"genre median\"},inplace=True)\n",
    "#genre_medians.head(1)"
   ]
  },
  {
   "cell_type": "code",
   "execution_count": 15,
   "metadata": {
    "collapsed": false
   },
   "outputs": [],
   "source": [
    "# calculate genre mean\n",
    "genre_means = train.groupby(\"genre1\").plays.mean()\n",
    "genre_means = pd.DataFrame(genre_means)\n",
    "genre_means.rename(columns={'plays':\"genre mean\"},inplace=True)\n",
    "#genre_means.head(1)"
   ]
  },
  {
   "cell_type": "code",
   "execution_count": 16,
   "metadata": {
    "collapsed": false
   },
   "outputs": [],
   "source": [
    "# calculate genre_user medians\n",
    "user_genre_medians = train.groupby([\"user\",\"genre1\"]).median().reset_index()\n",
    "user_genre_medians.rename(columns={\"plays\": \"user genre median\"},inplace=True)\n",
    "#user_genre_medians.head(1)"
   ]
  },
  {
   "cell_type": "code",
   "execution_count": 17,
   "metadata": {
    "collapsed": false
   },
   "outputs": [],
   "source": [
    "# calculate genre_user means\n",
    "user_genre_means = train.groupby([\"user\",\"genre1\"]).mean().reset_index()\n",
    "user_genre_means.rename(columns={\"plays\": \"user genre mean\"},inplace=True)\n",
    "#user_genre_means.head(1)"
   ]
  },
  {
   "cell_type": "markdown",
   "metadata": {},
   "source": [
    "# Combine Profile and Artist dfs"
   ]
  },
  {
   "cell_type": "code",
   "execution_count": 18,
   "metadata": {
    "collapsed": false
   },
   "outputs": [],
   "source": [
    "#pivot training data to have one row per user\n",
    "train = train.pivot(index='user',columns='artist',values='plays').reset_index()\n",
    "train = train.fillna(0)"
   ]
  },
  {
   "cell_type": "code",
   "execution_count": 19,
   "metadata": {
    "collapsed": false
   },
   "outputs": [],
   "source": [
    "# BIG PROFILE\n",
    "#get index for later\n",
    "users = profiles.user\n",
    "profiles.set_index('user', inplace=True)\n",
    "# fill in any missing values just in case\n",
    "profiles[profiles.age.isnull()]=profiles.age.mean()\n",
    "\n",
    "# standardize profile data\n",
    "# scaler = StandardScaler()\n",
    "# profiles_scaled = pd.DataFrame(scaler.fit_transform(profiles))\n",
    "# cols = profiles.columns\n",
    "# profiles_scaled.columns = cols\n",
    "# profiles_scaled.index = users\n",
    "\n",
    "# combine profile and training data\n",
    "bigdf = pd.concat([profiles,train],axis=1,join_axes=[profiles.index])\n",
    "#bigdf.head(1)\n",
    "\n",
    "num_profile_features = len(profiles.columns)"
   ]
  },
  {
   "cell_type": "code",
   "execution_count": null,
   "metadata": {
    "collapsed": false
   },
   "outputs": [],
   "source": [
    "# # SMALL PROFILE IF KNN\n",
    "# #join profiles and train together\n",
    "# train.set_index('user',inplace = True)\n",
    "# #train.head(1)\n",
    "\n",
    "# # get index for later\n",
    "# users = sm_profiles.user\n",
    "# sm_profiles.set_index('user', inplace=True)\n",
    "# # fill in any missing values just in case\n",
    "# sm_profiles[sm_profiles.age.isnull()]=sm_profiles.age.mean()\n",
    "\n",
    "# # standardize profile data\n",
    "# scaler = StandardScaler()\n",
    "# sm_profiles_scaled = pd.DataFrame(scaler.fit_transform(sm_profiles))\n",
    "# cols = sm_profiles.columns\n",
    "# sm_profiles_scaled.columns = cols\n",
    "# sm_profiles_scaled.index = users\n",
    "\n",
    "# # combine profile and training data\n",
    "# bigdf = pd.concat([sm_profiles_scaled,train],axis=1,join_axes=[sm_profiles_scaled.index])\n",
    "# #bigdf.head(1)"
   ]
  },
  {
   "cell_type": "markdown",
   "metadata": {},
   "source": [
    "# KNN"
   ]
  },
  {
   "cell_type": "code",
   "execution_count": null,
   "metadata": {
    "collapsed": false
   },
   "outputs": [],
   "source": [
    "bigdf.fillna(0,inplace=True)\n",
    "neigh = KNeighborsRegressor(n_neighbors=1000, weights=\"uniform\")\n",
    "%time neigh.fit(bigdf.iloc[:,:num_profile_features],bigdf.iloc[:,num_profile_features:])"
   ]
  },
  {
   "cell_type": "code",
   "execution_count": null,
   "metadata": {
    "collapsed": true
   },
   "outputs": [],
   "source": [
    "# use this function in APPLY for a df\n",
    "def knn_median_predict(test_row,avg):\n",
    "\n",
    "    # get artist and user info\n",
    "    artist = test_row[0]\n",
    "    user = test_row[1]  \n",
    "\n",
    "    # grab row from bigdf to test\n",
    "    to_test = bigdf.iloc[bigdf.index == user,:num_profile_features]\n",
    "\n",
    "    # grab indices of neighbors in bigdf\n",
    "    idx = neigh.kneighbors(to_test)[1][0]\n",
    "    predictions = np.array([bigdf.ix[iix,artist] for iix in idx])\n",
    "    \n",
    "    # get median from the k=1,3,5 nearest (non-zero) neighbors\n",
    "    if avg == \"median\":\n",
    "        return np.median(predictions[np.nonzero(predictions)][:1]),np.median(predictions[np.nonzero(predictions)][:3]),np.median(predictions[np.nonzero(predictions)][:5])\n",
    "    else:\n",
    "         return np.mean(predictions[np.nonzero(predictions)][:1]),np.mean(predictions[np.nonzero(predictions)][:3]),np.mean(predictions[np.nonzero(predictions)][:5])\n",
    "        "
   ]
  },
  {
   "cell_type": "code",
   "execution_count": null,
   "metadata": {
    "collapsed": false
   },
   "outputs": [],
   "source": [
    "valid[\"knn median\"] = None\n",
    "%time valid[\"knn median\"] = valid.iloc[:,:].apply(lambda x: knn_median_predict(x,\"median\"),axis=1)"
   ]
  },
  {
   "cell_type": "code",
   "execution_count": null,
   "metadata": {
    "collapsed": false
   },
   "outputs": [],
   "source": [
    "%time valid[['knn1 median', 'knn3 median', 'knn5 median']] = valid['knn median'].apply(pd.Series)"
   ]
  },
  {
   "cell_type": "markdown",
   "metadata": {},
   "source": [
    "# KMEANS"
   ]
  },
  {
   "cell_type": "code",
   "execution_count": 33,
   "metadata": {
    "collapsed": false
   },
   "outputs": [
    {
     "data": {
      "text/plain": [
       "(233286, 1)"
      ]
     },
     "execution_count": 33,
     "metadata": {},
     "output_type": "execute_result"
    }
   ],
   "source": [
    "user_medians.values.reshape([user_medians.shape[0],1]).shape"
   ]
  },
  {
   "cell_type": "code",
   "execution_count": 43,
   "metadata": {
    "collapsed": false
   },
   "outputs": [
    {
     "name": "stdout",
     "output_type": "stream",
     "text": [
      "2244\n"
     ]
    }
   ],
   "source": [
    "user_medians_r = user_medians.values.reshape([user_medians.shape[0],1])\n",
    "for i in range(num_profile_features,2245):\n",
    "    mask = bigdf.iloc[:,i].values == 1102.5\n",
    "    bigdf.iloc[:,i][mask] = user_medians_r[mask]\n",
    "    print \"\\r\" + str(i),"
   ]
  },
  {
   "cell_type": "code",
   "execution_count": 46,
   "metadata": {
    "collapsed": false
   },
   "outputs": [],
   "source": [
    "scaler = StandardScaler()\n",
    "bigdf_sc = pd.DataFrame(scaler.fit_transform(bigdf))"
   ]
  },
  {
   "cell_type": "code",
   "execution_count": null,
   "metadata": {
    "collapsed": false
   },
   "outputs": [
    {
     "name": "stdout",
     "output_type": "stream",
     "text": [
      "CPU times: user 17 µs, sys: 66 µs, total: 83 µs\n",
      "Wall time: 93 µs\n"
     ]
    }
   ],
   "source": [
    "# carry out kmeans\n",
    "kmeans = KMeans(init = 'k-means++', n_clusters=1000, n_jobs = -1, n_init = 6)\n",
    "%time kmeans.fit(bigdf_sc)"
   ]
  },
  {
   "cell_type": "code",
   "execution_count": null,
   "metadata": {
    "collapsed": false
   },
   "outputs": [],
   "source": [
    "joblib.dump(kmeans, 'kmeans50.pkl') "
   ]
  },
  {
   "cell_type": "code",
   "execution_count": null,
   "metadata": {
    "collapsed": false
   },
   "outputs": [],
   "source": [
    "cols = bigdf.columns\n",
    "centers = pd.DataFrame(scaler.inverse_transform(kmeans.cluster_centers_))\n",
    "centers.columns = cols\n",
    "centers.head()"
   ]
  },
  {
   "cell_type": "markdown",
   "metadata": {},
   "source": [
    "### Create test array to compare to kmeans"
   ]
  },
  {
   "cell_type": "code",
   "execution_count": null,
   "metadata": {
    "collapsed": false
   },
   "outputs": [],
   "source": [
    "closest_centers = kmeans.predict(bigdf_sc)\n",
    "valid['closest center'] = closest_centers.tolist()\n",
    "valid['closest center'] = None\n",
    "valid.set_index(\"user\",inplace=True)\n",
    "valid.update(train)\n",
    "valid.reset_index(inplace=True)"
   ]
  },
  {
   "cell_type": "code",
   "execution_count": null,
   "metadata": {
    "collapsed": false
   },
   "outputs": [],
   "source": [
    "def get_prediction(x):\n",
    "    artist = x[1]\n",
    "    return centers.ix[x[5],artist]"
   ]
  },
  {
   "cell_type": "code",
   "execution_count": null,
   "metadata": {
    "collapsed": false
   },
   "outputs": [],
   "source": [
    "valid[\"kmeans pred\"] = 0\n",
    "valid[\"kmeans pred\"] = valid.apply(lambda x: get_prediction(x),axis=1)\n",
    "valid.head()"
   ]
  },
  {
   "cell_type": "markdown",
   "metadata": {},
   "source": [
    "### Carry out ensemble"
   ]
  },
  {
   "cell_type": "code",
   "execution_count": null,
   "metadata": {
    "collapsed": false
   },
   "outputs": [],
   "source": [
    "# initialize columns\n",
    "valid['user genre median'] = np.nan\n",
    "valid['user median'] = np.nan\n",
    "valid['artist median'] = np.nan\n",
    "valid['genre median'] = np.nan\n",
    "valid['global median'] = np.nan\n",
    "valid['user mean'] = np.nan\n",
    "valid['genre mean'] = np.nan\n",
    "valid['artist mean'] = np.nan\n",
    "valid['user genre mean'] = np.nan\n",
    "\n",
    "# add global median\n",
    "valid['global median'] = global_median\n",
    "\n",
    "# add user median\n",
    "valid.set_index('user',inplace=True)\n",
    "valid.update(user_medians)\n",
    "valid.reset_index(inplace=True)\n",
    "\n",
    "# add artist median\n",
    "valid.set_index('artist',inplace=True)\n",
    "valid.update(artist_medians)\n",
    "valid.reset_index(inplace=True)\n",
    "valid[\"genre median\"].fillna(valid[\"user median\"],inplace=True)\n",
    "\n",
    "# add genre median\n",
    "valid.set_index('genre1',inplace=True)\n",
    "valid.update(genre_medians)\n",
    "valid.reset_index(inplace=True)\n",
    "valid[\"genre median\"].fillna(valid[\"user median\"],inplace=True)\n",
    "\n",
    "# add user genre median\n",
    "valid.set_index(['user','genre1'],inplace=True)\n",
    "valid.update(user_genre_medians.set_index([\"user\",\"genre1\"]))\n",
    "valid.reset_index(inplace=True)\n",
    "valid[\"user genre median\"].fillna(valid[\"user median\"],inplace=True)\n",
    "\n",
    "# add user mean\n",
    "valid.set_index('user',inplace=True)\n",
    "valid.update(user_means)\n",
    "valid.reset_index(inplace=True)\n",
    "\n",
    "# add artist mean\n",
    "valid.set_index('artist',inplace=True)\n",
    "valid.update(artist_means)\n",
    "valid.reset_index(inplace=True)\n",
    "valid[\"genre mean\"].fillna(valid[\"user mean\"],inplace=True)\n",
    "\n",
    "# add genre mean\n",
    "valid.set_index('genre1',inplace=True)\n",
    "valid.update(genre_means)\n",
    "valid.reset_index(inplace=True)\n",
    "valid[\"genre mean\"].fillna(valid[\"user mean\"],inplace=True)\n",
    "\n",
    "# add user genre mean\n",
    "valid.set_index(['user','genre1'],inplace=True)\n",
    "valid.update(user_genre_means.set_index([\"user\",\"genre1\"]))\n",
    "valid.reset_index(inplace=True)\n",
    "valid[\"user genre mean\"].fillna(valid[\"user mean\"],inplace=True)\n",
    "valid.head(1)"
   ]
  },
  {
   "cell_type": "code",
   "execution_count": null,
   "metadata": {
    "collapsed": false
   },
   "outputs": [],
   "source": [
    "print valid.isnull().sum()"
   ]
  },
  {
   "cell_type": "code",
   "execution_count": null,
   "metadata": {
    "collapsed": false
   },
   "outputs": [],
   "source": [
    "valid.loc[valid['knn1 median'].isnull(),'knn1 median'] = valid.loc[valid['knn1 median'].isnull(),\"user median\"]\n",
    "valid.loc[valid['knn3 median'].isnull(),'knn3 median'] = valid.loc[valid['knn3 median'].isnull(),\"user median\"]\n",
    "valid.loc[valid['knn5 median'].isnull(),'knn5 median'] = valid.loc[valid['knn5 median'].isnull(),\"user median\"]"
   ]
  },
  {
   "cell_type": "code",
   "execution_count": null,
   "metadata": {
    "collapsed": false
   },
   "outputs": [],
   "source": [
    "# weighted ensemble\n",
    "stacking= linear_model.LinearRegression()\n",
    "\n",
    "X = np.vstack([valid['knn1 median'].values,valid['knn3 median'].values])\n",
    "X = np.vstack([X,valid['knn5 median'].values])\n",
    "X = np.vstack([X,valid['user median'].values])\n",
    "X = np.vstack([X,valid['user genre median'].values])\n",
    "X = np.vstack([X,valid['genre median'].values])\n",
    "X = np.vstack([X,valid['artist median'].values])\n",
    "X = np.vstack([X,valid['user mean'].values])\n",
    "X = np.vstack([X,valid['user genre mean'].values])\n",
    "X = np.vstack([X,valid['artist mean'].values])\n",
    "X = np.vstack([X,valid['genre mean'].values])\n",
    "\n",
    "\n",
    "X = X.T\n",
    "\n",
    "y = valid['plays'].values\n",
    "\n",
    "stacking.fit(X,y)\n",
    "stacking.coef_"
   ]
  },
  {
   "cell_type": "code",
   "execution_count": null,
   "metadata": {
    "collapsed": false
   },
   "outputs": [],
   "source": [
    "valid['ensemble'] =                            \\\n",
    "stacking.coef_[0]*valid['knn1 median']           \\\n",
    "+ stacking.coef_[1]*valid['knn3 median']         \\\n",
    "+ stacking.coef_[2]*valid['knn5 median']         \\\n",
    "+ stacking.coef_[3]*valid['user median']       \\\n",
    "+ stacking.coef_[3]*valid['user genre median'] \\\n",
    "+ stacking.coef_[4]*valid['genre median']      \\\n",
    "+ stacking.coef_[5]*valid['artist median']     \\\n",
    "+ stacking.coef_[6]*valid['user mean']     \\\n",
    "+ stacking.coef_[7]*valid['user genre mean']     \\\n",
    "+ stacking.coef_[8]*valid['artist mean']     \\\n",
    "+ stacking.coef_[9]*valid['genre mean']     \\"
   ]
  },
  {
   "cell_type": "code",
   "execution_count": null,
   "metadata": {
    "collapsed": false
   },
   "outputs": [],
   "source": [
    "valid['AE'] = np.abs(valid['plays']-valid['ensemble']) \n",
    "print \"MAE is:\", valid.AE.mean()"
   ]
  },
  {
   "cell_type": "code",
   "execution_count": null,
   "metadata": {
    "collapsed": true
   },
   "outputs": [],
   "source": [
    "test = test_df.copy()"
   ]
  },
  {
   "cell_type": "code",
   "execution_count": null,
   "metadata": {
    "collapsed": true
   },
   "outputs": [],
   "source": [
    "test[\"genre1\"] = np.nan\n",
    "test.set_index(\"artist\", inplace=True)\n",
    "test.update(artists_with_5genres_df)\n",
    "test.reset_index(inplace=True)"
   ]
  },
  {
   "cell_type": "code",
   "execution_count": null,
   "metadata": {
    "collapsed": true
   },
   "outputs": [],
   "source": [
    "# initialize columns\n",
    "test['user genre median'] = np.nan\n",
    "test['user median'] = np.nan\n",
    "test['artist median'] = np.nan\n",
    "test['genre median'] = np.nan\n",
    "test['global median'] = np.nan\n",
    "test['user mean'] = np.nan\n",
    "test['genre mean'] = np.nan\n",
    "test['artist mean'] = np.nan\n",
    "test['user genre mean'] = np.nan\n",
    "\n",
    "# add global median\n",
    "test['global median'] = global_median\n",
    "\n",
    "# add user median\n",
    "test.set_index('user',inplace=True)\n",
    "test.update(user_medians)\n",
    "test.reset_index(inplace=True)\n",
    "\n",
    "# add artist median\n",
    "test.set_index('artist',inplace=True)\n",
    "test.update(artist_medians)\n",
    "test.reset_index(inplace=True)\n",
    "test[\"genre median\"].fillna(test[\"user median\"],inplace=True)\n",
    "\n",
    "# add genre median\n",
    "test.set_index('genre1',inplace=True)\n",
    "test.update(genre_medians)\n",
    "test.reset_index(inplace=True)\n",
    "test[\"genre median\"].fillna(test[\"user median\"],inplace=True)\n",
    "\n",
    "# add user genre median\n",
    "test.set_index(['user','genre1'],inplace=True)\n",
    "test.update(user_genre_medians.set_index([\"user\",\"genre1\"]))\n",
    "test.reset_index(inplace=True)\n",
    "test[\"user genre median\"].fillna(test[\"user median\"],inplace=True)"
   ]
  },
  {
   "cell_type": "code",
   "execution_count": null,
   "metadata": {
    "collapsed": true
   },
   "outputs": [],
   "source": [
    "test[\"knn1 pred\"] = None\n",
    "%time test[\"knn1 pred\"] = test.apply(lambda x: knn_profile_predict(x,1),axis=1)\n",
    "test[\"knn3 pred\"] = None\n",
    "%time test[\"knn3 pred\"] = test.apply(lambda x: knn_profile_predict(x,3),axis=1)\n",
    "test[\"knn5 pred\"] = None\n",
    "%time test[\"knn5 pred\"] = test.apply(lambda x: knn_profile_predict(x,5),axis=1)"
   ]
  },
  {
   "cell_type": "code",
   "execution_count": null,
   "metadata": {
    "collapsed": true
   },
   "outputs": [],
   "source": [
    "test['ensemble'] =                            \\\n",
    "stacking.coef_[0]*test['knn1 pred']         \\\n",
    "+ stacking.coef_[1]*test['knn3 pred']         \\\n",
    "+ stacking.coef_[2]*test['knn5 pred']         \\\n",
    "+ stacking.coef_[3]*test['user median']       \\\n",
    "+ stacking.coef_[4]*test['user genre median'] \\\n",
    "+ stacking.coef_[5]*test['genre median']      \\\n",
    "+ stacking.coef_[6]*test['artist median']     \\\n",
    "# + stacking.coef_[7]*vvalid['global median']     \\\n",
    "# + stacking.coef_[8]*vvalid['user mean']\n",
    "# + stacking.coef_[9]*vvalid['user genre mean']   \\\n",
    "# + stacking.coef_[10]*vvalid['genre mean']        \\\n",
    "# + stacking.coef_[11]*vvalid['artist mean']      "
   ]
  },
  {
   "cell_type": "code",
   "execution_count": null,
   "metadata": {
    "collapsed": false
   },
   "outputs": [],
   "source": [
    "output_for_kaggle = test\n",
    "output_for_kaggle.drop([\"plays\",\"closest center\", \"AE\", \"genre1\",\"user\",\"artist\",\"knn pred\",\"knn1 pred\",\"knn3 pred\",\"knn5 pred\",\"user genre median\",\"user median\", \"genre median\", \"global median\",\"artist median\",\"artist mean\",\"user mean\", \"genre mean\", \"user genre mean\"],axis=1,inplace=True)\n",
    "output_for_kaggle.rename(columns={\"ensemble\":\"plays\"},inplace = True)\n",
    "output_for_kaggle.head()"
   ]
  }
 ],
 "metadata": {
  "kernelspec": {
   "display_name": "Python 2",
   "language": "python",
   "name": "python2"
  },
  "language_info": {
   "codemirror_mode": {
    "name": "ipython",
    "version": 2
   },
   "file_extension": ".py",
   "mimetype": "text/x-python",
   "name": "python",
   "nbconvert_exporter": "python",
   "pygments_lexer": "ipython2",
   "version": "2.7.11"
  }
 },
 "nbformat": 4,
 "nbformat_minor": 0
}
