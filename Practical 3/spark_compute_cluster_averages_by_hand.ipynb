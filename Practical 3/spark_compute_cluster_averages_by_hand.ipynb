{
 "cells": [
  {
   "cell_type": "code",
   "execution_count": 1,
   "metadata": {
    "collapsed": true
   },
   "outputs": [],
   "source": [
    "import findspark\n",
    "findspark.init()\n",
    "import pyspark\n",
    "sc = pyspark.SparkContext(appName=\"Spark1\")"
   ]
  },
  {
   "cell_type": "code",
   "execution_count": 2,
   "metadata": {
    "collapsed": true
   },
   "outputs": [],
   "source": [
    "# read in genre and artist\n",
    "source_rdd = sc.textFile(\"artists_with_genres.csv\",100)"
   ]
  },
  {
   "cell_type": "code",
   "execution_count": 3,
   "metadata": {
    "collapsed": false
   },
   "outputs": [
    {
     "data": {
      "text/plain": [
       "[u',artist,name,genre',\n",
       " u'0,03098741-08b3-4dd7-b3f6-1b0bfa2c879c,Liars,alternative rock',\n",
       " u'1,69c4cc43-8163-41c5-ac81-30946d27bb69,CunninLynguists,american',\n",
       " u'2,7a2e6b55-f149-4e74-be6a-30a1b1a387bb,The Desert Sessions,rock and indie',\n",
       " u'3,7002bf88-1269-4965-a772-4ba1e7a91eaa,Glenn Gould,canadian pianist']"
      ]
     },
     "execution_count": 3,
     "metadata": {},
     "output_type": "execute_result"
    }
   ],
   "source": [
    "# see what we got\n",
    "source_rdd.take(5)"
   ]
  },
  {
   "cell_type": "code",
   "execution_count": 4,
   "metadata": {
    "collapsed": false
   },
   "outputs": [],
   "source": [
    "# remove header\n",
    "header = source_rdd.first()\n",
    "source_no_head_rdd = source_rdd.filter(lambda x: x != header)"
   ]
  },
  {
   "cell_type": "code",
   "execution_count": 5,
   "metadata": {
    "collapsed": false
   },
   "outputs": [],
   "source": [
    "# create artists_rdd with key = artist_id, value = [genre]\n",
    "artists_rdd = source_no_head_rdd.map(lambda x: x.split(','))\\\n",
    "                                .map(lambda (row_id,artist_id,name,genre): (artist_id,[genre]))"
   ]
  },
  {
   "cell_type": "code",
   "execution_count": 6,
   "metadata": {
    "collapsed": false
   },
   "outputs": [
    {
     "data": {
      "text/plain": [
       "[(u'03098741-08b3-4dd7-b3f6-1b0bfa2c879c', [u'alternative rock']),\n",
       " (u'69c4cc43-8163-41c5-ac81-30946d27bb69', [u'american']),\n",
       " (u'7a2e6b55-f149-4e74-be6a-30a1b1a387bb', [u'rock and indie']),\n",
       " (u'7002bf88-1269-4965-a772-4ba1e7a91eaa', [u'canadian pianist']),\n",
       " (u'dbf7c761-e332-467b-b4d9-aafe06bbcf8f', [u'rock and indie'])]"
      ]
     },
     "execution_count": 6,
     "metadata": {},
     "output_type": "execute_result"
    }
   ],
   "source": [
    "artists_rdd.take(5)"
   ]
  },
  {
   "cell_type": "code",
   "execution_count": 7,
   "metadata": {
    "collapsed": true
   },
   "outputs": [],
   "source": [
    "# create rdd where key = user, value = list of (genre, avg # of plays per artist of that genre)\n",
    "# read in train\n",
    "source_train_rdd = sc.textFile(\"train.csv\",100)"
   ]
  },
  {
   "cell_type": "code",
   "execution_count": 8,
   "metadata": {
    "collapsed": false
   },
   "outputs": [
    {
     "data": {
      "text/plain": [
       "[u'user,artist,plays',\n",
       " u'eb1c57ddc9e0e2d005169d3a1a96e8dd95e3af03,5a8e07d5-d932-4484-a7f7-e700793a9c94,554',\n",
       " u'44ce793a6cd9d20f13f4a576a818ef983314bb5d,a3a92047-be1c-4f3e-8960-c4f8570984df,81',\n",
       " u'da9cf3f557161d54b76f24db64be9cc76db008e3,eeb1195b-f213-4ce1-b28c-8565211f8e43,708',\n",
       " u'8fa49ab25d425edcf05d44bfc1d5aea895287d81,a1419808-65d3-4d40-998c-1a0bac65eabc,265']"
      ]
     },
     "execution_count": 8,
     "metadata": {},
     "output_type": "execute_result"
    }
   ],
   "source": [
    "source_train_rdd.take(5)"
   ]
  },
  {
   "cell_type": "code",
   "execution_count": 9,
   "metadata": {
    "collapsed": true
   },
   "outputs": [],
   "source": [
    "# remove header\n",
    "train_header = source_train_rdd.first()\n",
    "source_train_no_head_rdd = source_train_rdd.filter(lambda x: x != train_header)"
   ]
  },
  {
   "cell_type": "code",
   "execution_count": 10,
   "metadata": {
    "collapsed": false
   },
   "outputs": [
    {
     "data": {
      "text/plain": [
       "[u'eb1c57ddc9e0e2d005169d3a1a96e8dd95e3af03,5a8e07d5-d932-4484-a7f7-e700793a9c94,554',\n",
       " u'44ce793a6cd9d20f13f4a576a818ef983314bb5d,a3a92047-be1c-4f3e-8960-c4f8570984df,81',\n",
       " u'da9cf3f557161d54b76f24db64be9cc76db008e3,eeb1195b-f213-4ce1-b28c-8565211f8e43,708',\n",
       " u'8fa49ab25d425edcf05d44bfc1d5aea895287d81,a1419808-65d3-4d40-998c-1a0bac65eabc,265',\n",
       " u'b85fcaef67d2669cd99b334b5e8c8705263db2cf,a3cb23fc-acd3-4ce0-8f36-1e5aa6a18432,220']"
      ]
     },
     "execution_count": 10,
     "metadata": {},
     "output_type": "execute_result"
    }
   ],
   "source": [
    "source_train_no_head_rdd.take(5)"
   ]
  },
  {
   "cell_type": "code",
   "execution_count": 11,
   "metadata": {
    "collapsed": true
   },
   "outputs": [],
   "source": [
    "train_rdd = source_train_no_head_rdd.map(lambda x: x.split(','))\\\n",
    "                                    .map(lambda (user_id,artist_id,plays):(artist_id,[user_id,plays]))\n"
   ]
  },
  {
   "cell_type": "code",
   "execution_count": 12,
   "metadata": {
    "collapsed": false
   },
   "outputs": [
    {
     "data": {
      "text/plain": [
       "[(u'5a8e07d5-d932-4484-a7f7-e700793a9c94',\n",
       "  [u'eb1c57ddc9e0e2d005169d3a1a96e8dd95e3af03', u'554']),\n",
       " (u'a3a92047-be1c-4f3e-8960-c4f8570984df',\n",
       "  [u'44ce793a6cd9d20f13f4a576a818ef983314bb5d', u'81']),\n",
       " (u'eeb1195b-f213-4ce1-b28c-8565211f8e43',\n",
       "  [u'da9cf3f557161d54b76f24db64be9cc76db008e3', u'708']),\n",
       " (u'a1419808-65d3-4d40-998c-1a0bac65eabc',\n",
       "  [u'8fa49ab25d425edcf05d44bfc1d5aea895287d81', u'265']),\n",
       " (u'a3cb23fc-acd3-4ce0-8f36-1e5aa6a18432',\n",
       "  [u'b85fcaef67d2669cd99b334b5e8c8705263db2cf', u'220'])]"
      ]
     },
     "execution_count": 12,
     "metadata": {},
     "output_type": "execute_result"
    }
   ],
   "source": [
    "train_rdd.take(5)"
   ]
  },
  {
   "cell_type": "code",
   "execution_count": 13,
   "metadata": {
    "collapsed": true
   },
   "outputs": [],
   "source": [
    "# concatenate the artists_rdd and train_with_genres_rdd\n",
    "# then create new rdd with key = artist, value = ([user_id,plays],[genre])\n",
    "train_with_genres_rdd = train_rdd.join(artists_rdd)"
   ]
  },
  {
   "cell_type": "code",
   "execution_count": 14,
   "metadata": {
    "collapsed": false
   },
   "outputs": [
    {
     "data": {
      "text/plain": [
       "[(u'adc0f033-95c2-4e0b-87bc-c23ed3f26ce6',\n",
       "  ([u'ff667736eee24f2e0a6128330fda4bfeb162d871', u'393'], [u'hard rock'])),\n",
       " (u'adc0f033-95c2-4e0b-87bc-c23ed3f26ce6',\n",
       "  ([u'1eb59a03fa35670a5462fd79da7a7e32190aae6a', u'663'], [u'hard rock'])),\n",
       " (u'adc0f033-95c2-4e0b-87bc-c23ed3f26ce6',\n",
       "  ([u'c15b0b67ede275c81e017139cec8dd62d3e8c203', u'53'], [u'hard rock'])),\n",
       " (u'adc0f033-95c2-4e0b-87bc-c23ed3f26ce6',\n",
       "  ([u'3a1ba3598566883c8e9a82ac6b49609576148d2f', u'571'], [u'hard rock'])),\n",
       " (u'adc0f033-95c2-4e0b-87bc-c23ed3f26ce6',\n",
       "  ([u'aadd96164221be83f26d30210468be635e5c4d2f', u'311'], [u'hard rock']))]"
      ]
     },
     "execution_count": 14,
     "metadata": {},
     "output_type": "execute_result"
    }
   ],
   "source": [
    "train_with_genres_rdd.take(5)"
   ]
  },
  {
   "cell_type": "code",
   "execution_count": 15,
   "metadata": {
    "collapsed": false
   },
   "outputs": [
    {
     "data": {
      "text/plain": [
       "[((u'53224e671b8b43b2cf7d32b23fa788fe8ca073d8', u'brazilian'), 349.0),\n",
       " ((u'4e42cdf2688f448f0cf8c26b113b5cb0c5a40534', u'indie'), 27.0),\n",
       " ((u'57cbc256478ea9ff3615de9966bb46d029a36c31', u'alternative pop'), 228.0),\n",
       " ((u'2b13fa41b81093e153c71e1f06a3bcea47be4d6c', u'punk rock'), 3057.0),\n",
       " ((u'2735cc1185e3c55e54c84425d6cbf52baa39c949', u''), 7.0)]"
      ]
     },
     "execution_count": 15,
     "metadata": {},
     "output_type": "execute_result"
    }
   ],
   "source": [
    "# now create rdd with key = (user_id,genre), value = (plays,1)\n",
    "# then reduce by key to get key = (user_id, genre), value = (total_plays, count)\n",
    "# then map to key = (user,genre), value = (average number of plays)\n",
    "user_genre_to_plays = train_with_genres_rdd.map(lambda (artist_id,x): ((x[0][0],x[1][0]),(int(x[0][1]),1)))\\\n",
    "                                            .reduceByKey(lambda x,y: (x[0]+y[0],x[1]+y[1]))\\\n",
    "                                            .map(lambda x: (x[0],x[1][0]/float(x[1][1])))\n",
    "user_genre_to_plays.take(5)"
   ]
  },
  {
   "cell_type": "code",
   "execution_count": 17,
   "metadata": {
    "collapsed": false
   },
   "outputs": [],
   "source": [
    "# create strings to write to file\n",
    "string_rdd = user_genre_to_plays.map(lambda x: ','.join([x[0][0],x[0][1],str(x[1])]))\n",
    "string_rdd.saveAsTextFile('user_genre_avg_plays.csv')"
   ]
  },
  {
   "cell_type": "code",
   "execution_count": 18,
   "metadata": {
    "collapsed": false
   },
   "outputs": [],
   "source": [
    "# merge all partitions csvs into one csv\n",
    "filenames = ['part-0000'+str(i) for i in xrange(10)]\n",
    "filenames2 = ['part-000'+str(i) for i in xrange(10,100)]\n",
    "filenames3 = ['part-00'+str(i) for i in xrange(100,200)]\n",
    "filenames.extend(filenames2)\n",
    "filenames.extend(filenames3)\n",
    "combined_out_fp = open('train_user_genre_avg_plays.csv','w')\n",
    "for filename in filenames:\n",
    "    in_fp = open('./user_genre_avg_plays.csv/'+filename,'r')\n",
    "    for line in in_fp:\n",
    "        if line not in ['','\\n']:\n",
    "            combined_out_fp.write(line)\n",
    "    in_fp.close()\n",
    "combined_out_fp.close()"
   ]
  },
  {
   "cell_type": "code",
   "execution_count": 4,
   "metadata": {
    "collapsed": false
   },
   "outputs": [],
   "source": [
    "\n",
    "        "
   ]
  },
  {
   "cell_type": "code",
   "execution_count": null,
   "metadata": {
    "collapsed": true
   },
   "outputs": [],
   "source": []
  }
 ],
 "metadata": {
  "kernelspec": {
   "display_name": "Python 2",
   "language": "python",
   "name": "python2"
  },
  "language_info": {
   "codemirror_mode": {
    "name": "ipython",
    "version": 2
   },
   "file_extension": ".py",
   "mimetype": "text/x-python",
   "name": "python",
   "nbconvert_exporter": "python",
   "pygments_lexer": "ipython2",
   "version": "2.7.11"
  }
 },
 "nbformat": 4,
 "nbformat_minor": 0
}
