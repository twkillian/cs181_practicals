{
 "cells": [
  {
   "cell_type": "code",
   "execution_count": 1,
   "metadata": {
    "collapsed": true
   },
   "outputs": [],
   "source": [
    "%matplotlib inline\n",
    "import numpy as np\n",
    "import scipy as sp\n",
    "import matplotlib as mpl\n",
    "import matplotlib.cm as cm\n",
    "import matplotlib.pyplot as plt\n",
    "import csv\n",
    "import pandas as pd\n",
    "pd.set_option('display.width', 500)\n",
    "pd.set_option('display.max_columns', 100)\n",
    "pd.set_option('display.notebook_repr_html', True)\n",
    "import seaborn as sns\n",
    "sns.set_style(\"whitegrid\")\n",
    "sns.set_context(\"poster\")"
   ]
  },
  {
   "cell_type": "code",
   "execution_count": 2,
   "metadata": {
    "collapsed": false
   },
   "outputs": [
    {
     "data": {
      "text/html": [
       "<div>\n",
       "<table border=\"1\" class=\"dataframe\">\n",
       "  <thead>\n",
       "    <tr style=\"text-align: right;\">\n",
       "      <th></th>\n",
       "      <th>user</th>\n",
       "      <th>artist</th>\n",
       "      <th>plays</th>\n",
       "    </tr>\n",
       "  </thead>\n",
       "  <tbody>\n",
       "    <tr>\n",
       "      <th>0</th>\n",
       "      <td>eb1c57ddc9e0e2d005169d3a1a96e8dd95e3af03</td>\n",
       "      <td>5a8e07d5-d932-4484-a7f7-e700793a9c94</td>\n",
       "      <td>554</td>\n",
       "    </tr>\n",
       "    <tr>\n",
       "      <th>1</th>\n",
       "      <td>44ce793a6cd9d20f13f4a576a818ef983314bb5d</td>\n",
       "      <td>a3a92047-be1c-4f3e-8960-c4f8570984df</td>\n",
       "      <td>81</td>\n",
       "    </tr>\n",
       "    <tr>\n",
       "      <th>2</th>\n",
       "      <td>da9cf3f557161d54b76f24db64be9cc76db008e3</td>\n",
       "      <td>eeb1195b-f213-4ce1-b28c-8565211f8e43</td>\n",
       "      <td>708</td>\n",
       "    </tr>\n",
       "    <tr>\n",
       "      <th>3</th>\n",
       "      <td>8fa49ab25d425edcf05d44bfc1d5aea895287d81</td>\n",
       "      <td>a1419808-65d3-4d40-998c-1a0bac65eabc</td>\n",
       "      <td>265</td>\n",
       "    </tr>\n",
       "    <tr>\n",
       "      <th>4</th>\n",
       "      <td>b85fcaef67d2669cd99b334b5e8c8705263db2cf</td>\n",
       "      <td>a3cb23fc-acd3-4ce0-8f36-1e5aa6a18432</td>\n",
       "      <td>220</td>\n",
       "    </tr>\n",
       "  </tbody>\n",
       "</table>\n",
       "</div>"
      ],
      "text/plain": [
       "                                       user                                artist  plays\n",
       "0  eb1c57ddc9e0e2d005169d3a1a96e8dd95e3af03  5a8e07d5-d932-4484-a7f7-e700793a9c94    554\n",
       "1  44ce793a6cd9d20f13f4a576a818ef983314bb5d  a3a92047-be1c-4f3e-8960-c4f8570984df     81\n",
       "2  da9cf3f557161d54b76f24db64be9cc76db008e3  eeb1195b-f213-4ce1-b28c-8565211f8e43    708\n",
       "3  8fa49ab25d425edcf05d44bfc1d5aea895287d81  a1419808-65d3-4d40-998c-1a0bac65eabc    265\n",
       "4  b85fcaef67d2669cd99b334b5e8c8705263db2cf  a3cb23fc-acd3-4ce0-8f36-1e5aa6a18432    220"
      ]
     },
     "execution_count": 2,
     "metadata": {},
     "output_type": "execute_result"
    }
   ],
   "source": [
    "traindf=pd.read_csv(\"train.csv\")\n",
    "traindf.head()"
   ]
  },
  {
   "cell_type": "code",
   "execution_count": 3,
   "metadata": {
    "collapsed": false
   },
   "outputs": [
    {
     "data": {
      "text/html": [
       "<div>\n",
       "<table border=\"1\" class=\"dataframe\">\n",
       "  <thead>\n",
       "    <tr style=\"text-align: right;\">\n",
       "      <th></th>\n",
       "      <th>Unnamed: 0</th>\n",
       "      <th>artist</th>\n",
       "      <th>name</th>\n",
       "      <th>genre</th>\n",
       "    </tr>\n",
       "  </thead>\n",
       "  <tbody>\n",
       "    <tr>\n",
       "      <th>0</th>\n",
       "      <td>0</td>\n",
       "      <td>03098741-08b3-4dd7-b3f6-1b0bfa2c879c</td>\n",
       "      <td>Liars</td>\n",
       "      <td>alternative rock</td>\n",
       "    </tr>\n",
       "    <tr>\n",
       "      <th>1</th>\n",
       "      <td>1</td>\n",
       "      <td>69c4cc43-8163-41c5-ac81-30946d27bb69</td>\n",
       "      <td>CunninLynguists</td>\n",
       "      <td>american</td>\n",
       "    </tr>\n",
       "    <tr>\n",
       "      <th>2</th>\n",
       "      <td>2</td>\n",
       "      <td>7a2e6b55-f149-4e74-be6a-30a1b1a387bb</td>\n",
       "      <td>The Desert Sessions</td>\n",
       "      <td>rock and indie</td>\n",
       "    </tr>\n",
       "    <tr>\n",
       "      <th>3</th>\n",
       "      <td>3</td>\n",
       "      <td>7002bf88-1269-4965-a772-4ba1e7a91eaa</td>\n",
       "      <td>Glenn Gould</td>\n",
       "      <td>canadian pianist</td>\n",
       "    </tr>\n",
       "    <tr>\n",
       "      <th>4</th>\n",
       "      <td>4</td>\n",
       "      <td>dbf7c761-e332-467b-b4d9-aafe06bbcf8f</td>\n",
       "      <td>G. Love &amp; Special Sauce</td>\n",
       "      <td>rock and indie</td>\n",
       "    </tr>\n",
       "  </tbody>\n",
       "</table>\n",
       "</div>"
      ],
      "text/plain": [
       "   Unnamed: 0                                artist                     name             genre\n",
       "0           0  03098741-08b3-4dd7-b3f6-1b0bfa2c879c                    Liars  alternative rock\n",
       "1           1  69c4cc43-8163-41c5-ac81-30946d27bb69          CunninLynguists          american\n",
       "2           2  7a2e6b55-f149-4e74-be6a-30a1b1a387bb      The Desert Sessions    rock and indie\n",
       "3           3  7002bf88-1269-4965-a772-4ba1e7a91eaa              Glenn Gould  canadian pianist\n",
       "4           4  dbf7c761-e332-467b-b4d9-aafe06bbcf8f  G. Love & Special Sauce    rock and indie"
      ]
     },
     "execution_count": 3,
     "metadata": {},
     "output_type": "execute_result"
    }
   ],
   "source": [
    "artists_w_genresdf = pd.read_csv(\"artists_with_genres.csv\")\n",
    "artists_w_genresdf.head()"
   ]
  },
  {
   "cell_type": "code",
   "execution_count": 4,
   "metadata": {
    "collapsed": false
   },
   "outputs": [
    {
     "data": {
      "text/html": [
       "<div>\n",
       "<table border=\"1\" class=\"dataframe\">\n",
       "  <thead>\n",
       "    <tr style=\"text-align: right;\">\n",
       "      <th></th>\n",
       "      <th>user</th>\n",
       "      <th>sex</th>\n",
       "      <th>age</th>\n",
       "      <th>country</th>\n",
       "    </tr>\n",
       "  </thead>\n",
       "  <tbody>\n",
       "    <tr>\n",
       "      <th>0</th>\n",
       "      <td>fa40b43298ba3f8aa52e8e8863faf2e2171e0b5d</td>\n",
       "      <td>f</td>\n",
       "      <td>25.0</td>\n",
       "      <td>Sweden</td>\n",
       "    </tr>\n",
       "    <tr>\n",
       "      <th>1</th>\n",
       "      <td>5909125332c108365a26ccf0ee62636eee08215c</td>\n",
       "      <td>m</td>\n",
       "      <td>29.0</td>\n",
       "      <td>Iceland</td>\n",
       "    </tr>\n",
       "    <tr>\n",
       "      <th>2</th>\n",
       "      <td>d1867cbda35e0d48e9a8390d9f5e079c9d99ea96</td>\n",
       "      <td>m</td>\n",
       "      <td>30.0</td>\n",
       "      <td>United States</td>\n",
       "    </tr>\n",
       "    <tr>\n",
       "      <th>3</th>\n",
       "      <td>63268cce0d68127729890c1691f62d5be5abd87c</td>\n",
       "      <td>m</td>\n",
       "      <td>21.0</td>\n",
       "      <td>Germany</td>\n",
       "    </tr>\n",
       "    <tr>\n",
       "      <th>4</th>\n",
       "      <td>02871cd952d607ba69b64e2e107773012c708113</td>\n",
       "      <td>m</td>\n",
       "      <td>24.0</td>\n",
       "      <td>Netherlands</td>\n",
       "    </tr>\n",
       "    <tr>\n",
       "      <th>5</th>\n",
       "      <td>0938eb3d1b449b480c4e2431c457f6ead7063a34</td>\n",
       "      <td>m</td>\n",
       "      <td>22.0</td>\n",
       "      <td>United States</td>\n",
       "    </tr>\n",
       "    <tr>\n",
       "      <th>6</th>\n",
       "      <td>e4c6b36e65db3d48474dd538fe74d2dbb5a2e79e</td>\n",
       "      <td>f</td>\n",
       "      <td>NaN</td>\n",
       "      <td>United States</td>\n",
       "    </tr>\n",
       "    <tr>\n",
       "      <th>7</th>\n",
       "      <td>b97479f9a563a5c43b423a976f51fd509e1ec5ba</td>\n",
       "      <td>f</td>\n",
       "      <td>NaN</td>\n",
       "      <td>Poland</td>\n",
       "    </tr>\n",
       "    <tr>\n",
       "      <th>8</th>\n",
       "      <td>3bb020df0ff376dfdded4d5e63e2d35a50b3c535</td>\n",
       "      <td>m</td>\n",
       "      <td>NaN</td>\n",
       "      <td>United States</td>\n",
       "    </tr>\n",
       "    <tr>\n",
       "      <th>9</th>\n",
       "      <td>f3fb86c0f024f640cae3fb479f3a27e0dd499891</td>\n",
       "      <td>NaN</td>\n",
       "      <td>16.0</td>\n",
       "      <td>Ukraine</td>\n",
       "    </tr>\n",
       "  </tbody>\n",
       "</table>\n",
       "</div>"
      ],
      "text/plain": [
       "                                       user  sex   age        country\n",
       "0  fa40b43298ba3f8aa52e8e8863faf2e2171e0b5d    f  25.0         Sweden\n",
       "1  5909125332c108365a26ccf0ee62636eee08215c    m  29.0        Iceland\n",
       "2  d1867cbda35e0d48e9a8390d9f5e079c9d99ea96    m  30.0  United States\n",
       "3  63268cce0d68127729890c1691f62d5be5abd87c    m  21.0        Germany\n",
       "4  02871cd952d607ba69b64e2e107773012c708113    m  24.0    Netherlands\n",
       "5  0938eb3d1b449b480c4e2431c457f6ead7063a34    m  22.0  United States\n",
       "6  e4c6b36e65db3d48474dd538fe74d2dbb5a2e79e    f   NaN  United States\n",
       "7  b97479f9a563a5c43b423a976f51fd509e1ec5ba    f   NaN         Poland\n",
       "8  3bb020df0ff376dfdded4d5e63e2d35a50b3c535    m   NaN  United States\n",
       "9  f3fb86c0f024f640cae3fb479f3a27e0dd499891  NaN  16.0        Ukraine"
      ]
     },
     "execution_count": 4,
     "metadata": {},
     "output_type": "execute_result"
    }
   ],
   "source": [
    "user_databasedf = pd.read_csv(\"profiles.csv\")\n",
    "user_databasedf.head(10)"
   ]
  },
  {
   "cell_type": "markdown",
   "metadata": {},
   "source": [
    "### Let's first look at the viability of building an adjacency matrix for the artists"
   ]
  },
  {
   "cell_type": "code",
   "execution_count": 5,
   "metadata": {
    "collapsed": false
   },
   "outputs": [],
   "source": [
    "testdf = artists_w_genresdf.groupby('genre')"
   ]
  },
  {
   "cell_type": "code",
   "execution_count": 6,
   "metadata": {
    "collapsed": false,
    "scrolled": true
   },
   "outputs": [
    {
     "name": "stdout",
     "output_type": "stream",
     "text": [
      "Mean number of artists in each genre,  5.0821529745\n",
      "Median number of artists in each genre,  1.0\n"
     ]
    }
   ],
   "source": [
    "# Get how many (on average) artists are classified in each genre\n",
    "print \"Mean number of artists in each genre, \", testdf['artist'].count().mean()\n",
    "print \"Median number of artists in each genre, \", testdf['artist'].count().median()"
   ]
  },
  {
   "cell_type": "markdown",
   "metadata": {},
   "source": [
    "### At first glance the adjacency matrix may not make the most sense\n",
    "based on the fact that so few artists get grouped into the same genre... There are a lot of genres where there is only one artist, in fact most of them only have one. If we were to extract the list of genres each artist was classified under, it might make more sense.\n",
    "\n",
    "I'm going to resume in developing some collaborative filtering a la CS109 HW4, first some EDA on the user database"
   ]
  },
  {
   "cell_type": "markdown",
   "metadata": {},
   "source": [
    "There are 40 people who have negative age (interestingly, they all have age=-1337), there are 625 people who have an age greater than 100, 2 of those are ridiculously set to 666 and 1002. The location of the 1002 year old user is based in Antartica, so it might be worthwhile to just remove that row...\n",
    "\n",
    "Further analysis showed that there are 606 users under the age of 8. I'm making a pretty strong assumption that these aren't valid users or their relative/friend also uses the account, notwithstanding that some of these people may be those who may have missed entering a digit when they signed up\n",
    "\n",
    "Also, there are 429 users who are signed up who are over the age of 65. I'm going to also assume that these are spoofed ages as well."
   ]
  },
  {
   "cell_type": "code",
   "execution_count": 7,
   "metadata": {
    "collapsed": false
   },
   "outputs": [],
   "source": [
    "fixed_age_databasedf = user_databasedf.copy()\n",
    "fixed_age_databasedf.loc[(user_databasedf.age <= 0) | (user_databasedf.age > 100),'age'] = None"
   ]
  },
  {
   "cell_type": "code",
   "execution_count": 8,
   "metadata": {
    "collapsed": false
   },
   "outputs": [
    {
     "name": "stdout",
     "output_type": "stream",
     "text": [
      "1.0\n",
      "100.0\n"
     ]
    }
   ],
   "source": [
    "print fixed_age_databasedf.age[~fixed_age_databasedf.age.isnull()].min()\n",
    "print fixed_age_databasedf.age[~fixed_age_databasedf.age.isnull()].max()"
   ]
  },
  {
   "cell_type": "code",
   "execution_count": 9,
   "metadata": {
    "collapsed": false
   },
   "outputs": [
    {
     "name": "stdout",
     "output_type": "stream",
     "text": [
      "Our user's median age is (now):  23.0\n",
      "with mean age:  24.5247338627\n"
     ]
    },
    {
     "data": {
      "image/png": "[encoded data removed]",
      "text/plain": [
       "<matplotlib.figure.Figure at 0x103b53c50>"
      ]
     },
     "metadata": {},
     "output_type": "display_data"
    }
   ],
   "source": [
    "print \"Our user's median age is (now): \", fixed_age_databasedf.age[~fixed_age_databasedf.age.isnull()].median()\n",
    "print \"with mean age: \", fixed_age_databasedf.age[~fixed_age_databasedf.age.isnull()].mean()\n",
    "plt.figure(figsize=(8,5))\n",
    "plt.hist(fixed_age_databasedf.age[~fixed_age_databasedf.age.isnull()],bins=25)\n",
    "plt.title(\"Histogram of user ages\")\n",
    "plt.show()"
   ]
  },
  {
   "cell_type": "markdown",
   "metadata": {},
   "source": [
    "Looking at the histogram here makes me want to further restrict the ages between 15 and 60 years old. We can impute the average age for the user (male or female, by country) in all of these cases."
   ]
  },
  {
   "cell_type": "code",
   "execution_count": 10,
   "metadata": {
    "collapsed": false
   },
   "outputs": [
    {
     "data": {
      "text/plain": [
       "606"
      ]
     },
     "execution_count": 10,
     "metadata": {},
     "output_type": "execute_result"
    }
   ],
   "source": [
    "len(user_databasedf.age[(user_databasedf.age < 8) & (user_databasedf.age>=0)])"
   ]
  },
  {
   "cell_type": "code",
   "execution_count": 11,
   "metadata": {
    "collapsed": false
   },
   "outputs": [
    {
     "data": {
      "text/plain": [
       "429"
      ]
     },
     "execution_count": 11,
     "metadata": {},
     "output_type": "execute_result"
    }
   ],
   "source": [
    "len(user_databasedf.age[(user_databasedf.age > 65) & (user_databasedf.age<=100)])"
   ]
  },
  {
   "cell_type": "code",
   "execution_count": 12,
   "metadata": {
    "collapsed": true
   },
   "outputs": [],
   "source": [
    "fixed_age_databasedf.loc[(user_databasedf.age <= 8) | (user_databasedf.age > 65),'age'] = None"
   ]
  },
  {
   "cell_type": "code",
   "execution_count": 13,
   "metadata": {
    "collapsed": false
   },
   "outputs": [
    {
     "name": "stdout",
     "output_type": "stream",
     "text": [
      "Our user's median age is (now):  23.0\n",
      "with mean age:  24.4553551345\n"
     ]
    },
    {
     "data": {
      "image/png": "[encoded data removed]",
      "text/plain": [
       "<matplotlib.figure.Figure at 0x104b0bb10>"
      ]
     },
     "metadata": {},
     "output_type": "display_data"
    }
   ],
   "source": [
    "print \"Our user's median age is (now): \", fixed_age_databasedf.age[~fixed_age_databasedf.age.isnull()].median()\n",
    "print \"with mean age: \", fixed_age_databasedf.age[~fixed_age_databasedf.age.isnull()].mean()\n",
    "plt.figure(figsize=(8,5))\n",
    "plt.hist(fixed_age_databasedf.age[~fixed_age_databasedf.age.isnull()],bins=25)\n",
    "plt.title(\"Histogram of user ages\")\n",
    "plt.show()"
   ]
  },
  {
   "cell_type": "markdown",
   "metadata": {},
   "source": [
    "That looks a lot cleaner to me. I'm going to keep moving with this dataframe and will fill the ages in (by Country, if available) according the distribution of their gender. \n",
    "\n",
    "Let's first look at what those histograms may look like for the dataset in general (regardless of nation)"
   ]
  },
  {
   "cell_type": "code",
   "execution_count": 14,
   "metadata": {
    "collapsed": false
   },
   "outputs": [
    {
     "data": {
      "image/png": "[encoded data removed]",
      "text/plain": [
       "<matplotlib.figure.Figure at 0x118dfa890>"
      ]
     },
     "metadata": {},
     "output_type": "display_data"
    }
   ],
   "source": [
    "plt.figure(figsize=(8,5))\n",
    "plt.hist(fixed_age_databasedf.age[(~fixed_age_databasedf.age.isnull())  & (fixed_age_databasedf.sex == 'm')],alpha=0.75,label='Distribution of males',bins=25)\n",
    "plt.hist(fixed_age_databasedf.age[(~fixed_age_databasedf.age.isnull())  & (fixed_age_databasedf.sex == 'f')], color='red',alpha=0.65,label='Distribution of females',bins=25)\n",
    "plt.title(\"Distribution of Listeners by Gender\")\n",
    "plt.legend()\n",
    "plt.show()"
   ]
  },
  {
   "cell_type": "markdown",
   "metadata": {},
   "source": [
    "That's looking pretty good! Now let's see how this changes for a specified country. Let's say Sweden?"
   ]
  },
  {
   "cell_type": "code",
   "execution_count": 15,
   "metadata": {
    "collapsed": false
   },
   "outputs": [
    {
     "data": {
      "image/png": "[encoded data removed]",
      "text/plain": [
       "<matplotlib.figure.Figure at 0x119300050>"
      ]
     },
     "metadata": {},
     "output_type": "display_data"
    }
   ],
   "source": [
    "plt.figure(figsize=(8,5))\n",
    "plt.hist(fixed_age_databasedf.age[(~fixed_age_databasedf.age.isnull()) & ((~fixed_age_databasedf.sex.isnull()) & (fixed_age_databasedf.sex == 'm')) & (fixed_age_databasedf.country=='Sweden')],alpha=0.75,label='Distribution of males',bins=25)\n",
    "plt.hist(fixed_age_databasedf.age[(~fixed_age_databasedf.age.isnull()) & ((~fixed_age_databasedf.sex.isnull()) & (fixed_age_databasedf.sex == 'f')) & (fixed_age_databasedf.country=='Sweden')], color='red',alpha=0.65,label='Distribution of females',bins=25)\n",
    "plt.title(\"Distribution of Listeners by Gender, Sweden\")\n",
    "plt.legend()\n",
    "plt.show()"
   ]
  },
  {
   "cell_type": "markdown",
   "metadata": {},
   "source": [
    "Okay, how about Poland?"
   ]
  },
  {
   "cell_type": "code",
   "execution_count": 16,
   "metadata": {
    "collapsed": false
   },
   "outputs": [
    {
     "data": {
      "image/png": "[encoded data removed]",
      "text/plain": [
       "<matplotlib.figure.Figure at 0x1195176d0>"
      ]
     },
     "metadata": {},
     "output_type": "display_data"
    }
   ],
   "source": [
    "plt.figure(figsize=(8,5))\n",
    "plt.hist(fixed_age_databasedf.age[(~fixed_age_databasedf.age.isnull()) & ((~fixed_age_databasedf.sex.isnull()) & (fixed_age_databasedf.sex == 'm')) & (fixed_age_databasedf.country=='Poland')],alpha=0.75,label='Distribution of males',bins=25)\n",
    "plt.hist(fixed_age_databasedf.age[(~fixed_age_databasedf.age.isnull()) & ((~fixed_age_databasedf.sex.isnull()) & (fixed_age_databasedf.sex == 'f')) & (fixed_age_databasedf.country=='Poland')], color='red',alpha=0.65,label='Distribution of females',bins=25)\n",
    "plt.title(\"Distribution of Listeners by Gender, Poland\")\n",
    "plt.legend()\n",
    "plt.show()"
   ]
  },
  {
   "cell_type": "markdown",
   "metadata": {},
   "source": [
    "### Now, let's fill the age column of the listeners by gender and nation. \n",
    "Now we want to account for all conditions:\n",
    "* where there's no gender (sample from the distribution of the country)\n",
    "* where there's no nation (sample from the distribution of male/female)\n",
    "* where there's neither (sample from the distribution of ages)"
   ]
  },
  {
   "cell_type": "code",
   "execution_count": 22,
   "metadata": {
    "collapsed": false
   },
   "outputs": [
    {
     "data": {
      "text/plain": [
       "user       6ad6d1c283dacbdc7d78bb74995a0e5e27a79c0d\n",
       "sex                                               m\n",
       "age                                             NaN\n",
       "country                               United States\n",
       "Name: 61, dtype: object"
      ]
     },
     "execution_count": 22,
     "metadata": {},
     "output_type": "execute_result"
    }
   ],
   "source": [
    "fixed_age_databasedf.loc[61]"
   ]
  },
  {
   "cell_type": "code",
   "execution_count": 23,
   "metadata": {
    "collapsed": false
   },
   "outputs": [],
   "source": [
    "def fill_ages(indf):\n",
    "    '''This helper function takes in a cleaned dataframe (with columns: user, age, sex and country)\n",
    "    where invalid ages have been replaced with null values. This function infers a user's age based\n",
    "    on their country and gender. If one or both of those is missing, the inference is performed on \n",
    "    the most informative subset of the data we have (at worst this is the entire dataset).'''\n",
    "    # First copy dataframe for safety's sake\n",
    "    outdf = indf.copy()\n",
    "    \n",
    "    # Loop through the entries in the data frame that have null valued age\n",
    "    for index, (user_id,gender,age,country) in indf[indf.age.isnull()].iterrows():\n",
    "        \n",
    "        # Build up conditions over which we're calculating distribution of ages for this particular user\n",
    "        #nans won't equal themselves\n",
    "        if gender != gender:       # gender is not present\n",
    "            if country != country: # country isn't present either\n",
    "                \n",
    "                condition = (~indf.age.isnull())\n",
    "            else:\n",
    "                \n",
    "                condition = (~indf.age.isnull()) & (~indf.sex.isnull()) & (indf.country == country)\n",
    "        elif country != country:   # country isn't present\n",
    "            \n",
    "            condition = (~indf.age.isnull()) & (indf.sex == gender)\n",
    "        else:                      # both are present\n",
    "            \n",
    "            condition = (~indf.age.isnull()) & (indf.sex == gender) & (indf.country == country)\n",
    "        \n",
    "        # Extract array of ages relevant to the current user, based on country and gender (if available)\n",
    "        relevant_ages = np.array(indf.age[condition]).astype('int64')\n",
    "        relevant_ages_aggregated = np.bincount(relevant_ages)\n",
    "        # Normalize to create a distribution (assuming that it's continuous between low and high (no need for pseudocounts))\n",
    "        normed_ages = relevant_ages_aggregated/float(np.sum(relevant_ages_aggregated))\n",
    "        \n",
    "        # Found that there are some edge cases where there are few users from nation x that all have no age... \n",
    "        # Recalculate distribution\n",
    "        if len(normed_ages) == 0: \n",
    "            if gender != gender:\n",
    "                condition = (~indf.age.isnull()) & (~indf.sex.isnull())\n",
    "            else:\n",
    "                condition = (~indf.age.isnull()) & (indf.sex == gender)\n",
    "            relevant_ages = np.array(indf.age[condition]).astype('int64')\n",
    "            relevant_ages_aggregated = np.bincount(relevant_ages)\n",
    "            normed_ages = relevant_ages_aggregated/float(np.sum(relevant_ages_aggregated))\n",
    "            \n",
    "        # Randomly assign user age based on distribution\n",
    "        new_age = np.random.choice(range(len(normed_ages)),size=1,replace=True,p=normed_ages)[0]\n",
    "        outdf.loc[index,'age'] = new_age\n",
    "    \n",
    "    # Return filled dataframe\n",
    "    return outdf"
   ]
  },
  {
   "cell_type": "code",
   "execution_count": 24,
   "metadata": {
    "collapsed": false
   },
   "outputs": [],
   "source": [
    "complete_age_databasedf = fill_ages(fixed_age_databasedf)"
   ]
  },
  {
   "cell_type": "code",
   "execution_count": 25,
   "metadata": {
    "collapsed": false
   },
   "outputs": [
    {
     "data": {
      "text/html": [
       "<div>\n",
       "<table border=\"1\" class=\"dataframe\">\n",
       "  <thead>\n",
       "    <tr style=\"text-align: right;\">\n",
       "      <th></th>\n",
       "      <th>user</th>\n",
       "      <th>sex</th>\n",
       "      <th>age</th>\n",
       "      <th>country</th>\n",
       "    </tr>\n",
       "  </thead>\n",
       "  <tbody>\n",
       "    <tr>\n",
       "      <th>0</th>\n",
       "      <td>fa40b43298ba3f8aa52e8e8863faf2e2171e0b5d</td>\n",
       "      <td>f</td>\n",
       "      <td>25.0</td>\n",
       "      <td>Sweden</td>\n",
       "    </tr>\n",
       "    <tr>\n",
       "      <th>1</th>\n",
       "      <td>5909125332c108365a26ccf0ee62636eee08215c</td>\n",
       "      <td>m</td>\n",
       "      <td>29.0</td>\n",
       "      <td>Iceland</td>\n",
       "    </tr>\n",
       "    <tr>\n",
       "      <th>2</th>\n",
       "      <td>d1867cbda35e0d48e9a8390d9f5e079c9d99ea96</td>\n",
       "      <td>m</td>\n",
       "      <td>30.0</td>\n",
       "      <td>United States</td>\n",
       "    </tr>\n",
       "    <tr>\n",
       "      <th>3</th>\n",
       "      <td>63268cce0d68127729890c1691f62d5be5abd87c</td>\n",
       "      <td>m</td>\n",
       "      <td>21.0</td>\n",
       "      <td>Germany</td>\n",
       "    </tr>\n",
       "    <tr>\n",
       "      <th>4</th>\n",
       "      <td>02871cd952d607ba69b64e2e107773012c708113</td>\n",
       "      <td>m</td>\n",
       "      <td>24.0</td>\n",
       "      <td>Netherlands</td>\n",
       "    </tr>\n",
       "    <tr>\n",
       "      <th>5</th>\n",
       "      <td>0938eb3d1b449b480c4e2431c457f6ead7063a34</td>\n",
       "      <td>m</td>\n",
       "      <td>22.0</td>\n",
       "      <td>United States</td>\n",
       "    </tr>\n",
       "    <tr>\n",
       "      <th>6</th>\n",
       "      <td>e4c6b36e65db3d48474dd538fe74d2dbb5a2e79e</td>\n",
       "      <td>f</td>\n",
       "      <td>NaN</td>\n",
       "      <td>United States</td>\n",
       "    </tr>\n",
       "    <tr>\n",
       "      <th>7</th>\n",
       "      <td>b97479f9a563a5c43b423a976f51fd509e1ec5ba</td>\n",
       "      <td>f</td>\n",
       "      <td>NaN</td>\n",
       "      <td>Poland</td>\n",
       "    </tr>\n",
       "    <tr>\n",
       "      <th>8</th>\n",
       "      <td>3bb020df0ff376dfdded4d5e63e2d35a50b3c535</td>\n",
       "      <td>m</td>\n",
       "      <td>NaN</td>\n",
       "      <td>United States</td>\n",
       "    </tr>\n",
       "    <tr>\n",
       "      <th>9</th>\n",
       "      <td>f3fb86c0f024f640cae3fb479f3a27e0dd499891</td>\n",
       "      <td>NaN</td>\n",
       "      <td>16.0</td>\n",
       "      <td>Ukraine</td>\n",
       "    </tr>\n",
       "  </tbody>\n",
       "</table>\n",
       "</div>"
      ],
      "text/plain": [
       "                                       user  sex   age        country\n",
       "0  fa40b43298ba3f8aa52e8e8863faf2e2171e0b5d    f  25.0         Sweden\n",
       "1  5909125332c108365a26ccf0ee62636eee08215c    m  29.0        Iceland\n",
       "2  d1867cbda35e0d48e9a8390d9f5e079c9d99ea96    m  30.0  United States\n",
       "3  63268cce0d68127729890c1691f62d5be5abd87c    m  21.0        Germany\n",
       "4  02871cd952d607ba69b64e2e107773012c708113    m  24.0    Netherlands\n",
       "5  0938eb3d1b449b480c4e2431c457f6ead7063a34    m  22.0  United States\n",
       "6  e4c6b36e65db3d48474dd538fe74d2dbb5a2e79e    f   NaN  United States\n",
       "7  b97479f9a563a5c43b423a976f51fd509e1ec5ba    f   NaN         Poland\n",
       "8  3bb020df0ff376dfdded4d5e63e2d35a50b3c535    m   NaN  United States\n",
       "9  f3fb86c0f024f640cae3fb479f3a27e0dd499891  NaN  16.0        Ukraine"
      ]
     },
     "execution_count": 25,
     "metadata": {},
     "output_type": "execute_result"
    }
   ],
   "source": [
    "fixed_age_databasedf.head(10)"
   ]
  },
  {
   "cell_type": "code",
   "execution_count": 26,
   "metadata": {
    "collapsed": false
   },
   "outputs": [
    {
     "data": {
      "text/html": [
       "<div>\n",
       "<table border=\"1\" class=\"dataframe\">\n",
       "  <thead>\n",
       "    <tr style=\"text-align: right;\">\n",
       "      <th></th>\n",
       "      <th>user</th>\n",
       "      <th>sex</th>\n",
       "      <th>age</th>\n",
       "      <th>country</th>\n",
       "    </tr>\n",
       "  </thead>\n",
       "  <tbody>\n",
       "    <tr>\n",
       "      <th>0</th>\n",
       "      <td>fa40b43298ba3f8aa52e8e8863faf2e2171e0b5d</td>\n",
       "      <td>f</td>\n",
       "      <td>25.0</td>\n",
       "      <td>Sweden</td>\n",
       "    </tr>\n",
       "    <tr>\n",
       "      <th>1</th>\n",
       "      <td>5909125332c108365a26ccf0ee62636eee08215c</td>\n",
       "      <td>m</td>\n",
       "      <td>29.0</td>\n",
       "      <td>Iceland</td>\n",
       "    </tr>\n",
       "    <tr>\n",
       "      <th>2</th>\n",
       "      <td>d1867cbda35e0d48e9a8390d9f5e079c9d99ea96</td>\n",
       "      <td>m</td>\n",
       "      <td>30.0</td>\n",
       "      <td>United States</td>\n",
       "    </tr>\n",
       "    <tr>\n",
       "      <th>3</th>\n",
       "      <td>63268cce0d68127729890c1691f62d5be5abd87c</td>\n",
       "      <td>m</td>\n",
       "      <td>21.0</td>\n",
       "      <td>Germany</td>\n",
       "    </tr>\n",
       "    <tr>\n",
       "      <th>4</th>\n",
       "      <td>02871cd952d607ba69b64e2e107773012c708113</td>\n",
       "      <td>m</td>\n",
       "      <td>24.0</td>\n",
       "      <td>Netherlands</td>\n",
       "    </tr>\n",
       "    <tr>\n",
       "      <th>5</th>\n",
       "      <td>0938eb3d1b449b480c4e2431c457f6ead7063a34</td>\n",
       "      <td>m</td>\n",
       "      <td>22.0</td>\n",
       "      <td>United States</td>\n",
       "    </tr>\n",
       "    <tr>\n",
       "      <th>6</th>\n",
       "      <td>e4c6b36e65db3d48474dd538fe74d2dbb5a2e79e</td>\n",
       "      <td>f</td>\n",
       "      <td>17.0</td>\n",
       "      <td>United States</td>\n",
       "    </tr>\n",
       "    <tr>\n",
       "      <th>7</th>\n",
       "      <td>b97479f9a563a5c43b423a976f51fd509e1ec5ba</td>\n",
       "      <td>f</td>\n",
       "      <td>19.0</td>\n",
       "      <td>Poland</td>\n",
       "    </tr>\n",
       "    <tr>\n",
       "      <th>8</th>\n",
       "      <td>3bb020df0ff376dfdded4d5e63e2d35a50b3c535</td>\n",
       "      <td>m</td>\n",
       "      <td>26.0</td>\n",
       "      <td>United States</td>\n",
       "    </tr>\n",
       "    <tr>\n",
       "      <th>9</th>\n",
       "      <td>f3fb86c0f024f640cae3fb479f3a27e0dd499891</td>\n",
       "      <td>NaN</td>\n",
       "      <td>16.0</td>\n",
       "      <td>Ukraine</td>\n",
       "    </tr>\n",
       "  </tbody>\n",
       "</table>\n",
       "</div>"
      ],
      "text/plain": [
       "                                       user  sex   age        country\n",
       "0  fa40b43298ba3f8aa52e8e8863faf2e2171e0b5d    f  25.0         Sweden\n",
       "1  5909125332c108365a26ccf0ee62636eee08215c    m  29.0        Iceland\n",
       "2  d1867cbda35e0d48e9a8390d9f5e079c9d99ea96    m  30.0  United States\n",
       "3  63268cce0d68127729890c1691f62d5be5abd87c    m  21.0        Germany\n",
       "4  02871cd952d607ba69b64e2e107773012c708113    m  24.0    Netherlands\n",
       "5  0938eb3d1b449b480c4e2431c457f6ead7063a34    m  22.0  United States\n",
       "6  e4c6b36e65db3d48474dd538fe74d2dbb5a2e79e    f  17.0  United States\n",
       "7  b97479f9a563a5c43b423a976f51fd509e1ec5ba    f  19.0         Poland\n",
       "8  3bb020df0ff376dfdded4d5e63e2d35a50b3c535    m  26.0  United States\n",
       "9  f3fb86c0f024f640cae3fb479f3a27e0dd499891  NaN  16.0        Ukraine"
      ]
     },
     "execution_count": 26,
     "metadata": {},
     "output_type": "execute_result"
    }
   ],
   "source": [
    "complete_age_databasedf.head(10)"
   ]
  },
  {
   "cell_type": "code",
   "execution_count": 27,
   "metadata": {
    "collapsed": false
   },
   "outputs": [
    {
     "data": {
      "text/plain": [
       "0"
      ]
     },
     "execution_count": 27,
     "metadata": {},
     "output_type": "execute_result"
    }
   ],
   "source": [
    "len(complete_age_databasedf[complete_age_databasedf.age.isnull()])"
   ]
  },
  {
   "cell_type": "code",
   "execution_count": 28,
   "metadata": {
    "collapsed": false
   },
   "outputs": [
    {
     "data": {
      "text/html": [
       "<div>\n",
       "<table border=\"1\" class=\"dataframe\">\n",
       "  <thead>\n",
       "    <tr style=\"text-align: right;\">\n",
       "      <th></th>\n",
       "      <th>user</th>\n",
       "      <th>sex</th>\n",
       "      <th>age</th>\n",
       "      <th>country</th>\n",
       "    </tr>\n",
       "  </thead>\n",
       "  <tbody>\n",
       "  </tbody>\n",
       "</table>\n",
       "</div>"
      ],
      "text/plain": [
       "Empty DataFrame\n",
       "Columns: [user, sex, age, country]\n",
       "Index: []"
      ]
     },
     "execution_count": 28,
     "metadata": {},
     "output_type": "execute_result"
    }
   ],
   "source": [
    "complete_age_databasedf[complete_age_databasedf.age.isnull()]"
   ]
  },
  {
   "cell_type": "code",
   "execution_count": 30,
   "metadata": {
    "collapsed": false
   },
   "outputs": [],
   "source": [
    "#Save filled dataframe to file\n",
    "complete_age_databasedf.to_csv(\"complete_age_profiles.csv\")"
   ]
  },
  {
   "cell_type": "code",
   "execution_count": null,
   "metadata": {
    "collapsed": true
   },
   "outputs": [],
   "source": []
  }
 ],
 "metadata": {
  "kernelspec": {
   "display_name": "Python 2",
   "language": "python",
   "name": "python2"
  },
  "language_info": {
   "codemirror_mode": {
    "name": "ipython",
    "version": 2
   },
   "file_extension": ".py",
   "mimetype": "text/x-python",
   "name": "python",
   "nbconvert_exporter": "python",
   "pygments_lexer": "ipython2",
   "version": "2.7.11"
  }
 },
 "nbformat": 4,
 "nbformat_minor": 0
}
