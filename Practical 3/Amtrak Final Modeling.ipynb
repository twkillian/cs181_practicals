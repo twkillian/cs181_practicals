{
 "cells": [
  {
   "cell_type": "code",
   "execution_count": 1,
   "metadata": {
    "collapsed": true
   },
   "outputs": [],
   "source": [
    "# Load libraries\n",
    "import numpy as np\n",
    "import matplotlib.pyplot as plt\n",
    "import pandas as pd\n",
    "import pickle\n",
    "from time import time\n",
    "from sklearn.cross_validation import train_test_split\n",
    "from sklearn.neighbors import KNeighborsRegressor\n",
    "import warnings\n",
    "import math\n",
    "warnings.filterwarnings('ignore')\n",
    "%matplotlib inline"
   ]
  },
  {
   "cell_type": "code",
   "execution_count": 2,
   "metadata": {
    "collapsed": false
   },
   "outputs": [],
   "source": [
    "# load default data frames\n",
    "train_df = pd.read_csv(\"train.csv\")\n",
    "test_df = pd.read_csv(\"test.csv\")\n",
    "profiles_df = pd.read_csv(\"profiles.csv\")\n",
    "artists_df = pd.read_csv(\"artists.csv\")\n",
    "user_median_df = pd.read_csv(\"user_median.csv\")\n",
    "global_median_df = pd.read_csv(\"global_median.csv\")"
   ]
  },
  {
   "cell_type": "code",
   "execution_count": 3,
   "metadata": {
    "collapsed": false
   },
   "outputs": [],
   "source": [
    "# load genre data frames and do some cleaning\n",
    "artists_with_1genre_df = pd.read_csv(\"artists_with_genres.csv\")\n",
    "artists_with_5genres_df = pd.read_csv(\"artists_with_top_5_genres.csv\")\n",
    "artists_with_5genres_df.rename(columns = {\"num_votes5\":\"extra\"}, inplace = True)\n",
    "artists_with_5genres_df.rename(columns = {\"genre5\":\"num_votes5\"}, inplace = True)\n",
    "artists_with_5genres_df.rename(columns = {\"num_votes4\":\"genre5\"}, inplace = True)\n",
    "artists_with_5genres_df.rename(columns = {\"genre4\":\"num_votes4\"}, inplace = True)\n",
    "artists_with_5genres_df.rename(columns = {\"num_votes3\":\"genre4\"}, inplace = True)\n",
    "artists_with_5genres_df.rename(columns = {\"genre3\":\"num_votes3\"}, inplace = True)\n",
    "artists_with_5genres_df.rename(columns = {\"num_votes2\":\"genre3\"}, inplace = True)\n",
    "artists_with_5genres_df.rename(columns = {\"genre2\":\"num_votes2\"}, inplace = True)\n",
    "artists_with_5genres_df.rename(columns = {\"num_votes1\":\"genre2\"}, inplace = True)\n",
    "artists_with_5genres_df.rename(columns = {\"genre1\":\"num_votes1\"}, inplace = True)\n",
    "artists_with_5genres_df.rename(columns = {\"name\":\"genre1\"}, inplace = True)\n",
    "artists_with_5genres_df.rename(columns = {\"artist\":\"name\"}, inplace = True)"
   ]
  },
  {
   "cell_type": "code",
   "execution_count": 4,
   "metadata": {
    "collapsed": true
   },
   "outputs": [],
   "source": [
    "# Train - Test Split on profiles to ensure users are in one group or another\n",
    "train, test = train_test_split(train_df, test_size = .1)\n",
    "train, valid = train_test_split(train, test_size = .1)"
   ]
  },
  {
   "cell_type": "code",
   "execution_count": 5,
   "metadata": {
    "collapsed": false
   },
   "outputs": [],
   "source": [
    "# add primary genre to train, valid and test\n",
    "train[\"genre1\"] = np.nan\n",
    "train.set_index(\"artist\", inplace=True)\n",
    "train.update(artists_with_5genres_df)\n",
    "train.reset_index(inplace=True)\n",
    "\n",
    "valid[\"genre1\"] = np.nan\n",
    "valid.set_index(\"artist\", inplace=True)\n",
    "valid.update(artists_with_5genres_df)\n",
    "valid.reset_index(inplace=True)\n",
    "\n",
    "test[\"genre1\"] = np.nan\n",
    "test.set_index(\"artist\", inplace=True)\n",
    "test.update(artists_with_5genres_df)\n",
    "test.reset_index(inplace=True)"
   ]
  },
  {
   "cell_type": "code",
   "execution_count": 6,
   "metadata": {
    "collapsed": false
   },
   "outputs": [],
   "source": [
    "def calc_user_avgs(df):\n",
    "    grp = df.groupby('user')\n",
    "    user_median = grp.plays.median()\n",
    "    user_mean = grp.plays.mean()\n",
    "    df2 = df.copy()\n",
    "    df2.set_index('user', inplace=True)\n",
    "    df2['user median'] = user_median\n",
    "    df2['user mean'] = user_mean\n",
    "    df2.reset_index(inplace=True)\n",
    "    df2.drop(\"artist\", axis=1,inplace=True)\n",
    "    df2.drop(\"plays\",axis=1, inplace = True)\n",
    "    df2.drop(\"genre1\",axis=1, inplace = True)\n",
    "    return df2"
   ]
  },
  {
   "cell_type": "code",
   "execution_count": 7,
   "metadata": {
    "collapsed": true
   },
   "outputs": [],
   "source": [
    "def calc_artist_avgs(df):\n",
    "    grp = df.groupby('artist')\n",
    "    artist_median = grp.plays.median()\n",
    "    artist_mean = grp.plays.mean()\n",
    "    df2 = df.copy()\n",
    "    df2.set_index('artist', inplace=True)\n",
    "    df2['artist median'] = artist_median\n",
    "    df2['artist mean'] = artist_mean\n",
    "    df2.reset_index(inplace=True)\n",
    "    df2.drop(\"user\", axis=1,inplace=True)\n",
    "    df2.drop(\"plays\",axis=1, inplace = True)\n",
    "    df2.drop(\"genre1\",axis=1, inplace = True)\n",
    "    return df2"
   ]
  },
  {
   "cell_type": "code",
   "execution_count": 8,
   "metadata": {
    "collapsed": true
   },
   "outputs": [],
   "source": [
    "def calc_genre_avgs(df):\n",
    "    grp = df.groupby('genre1')\n",
    "    genre_median = grp.plays.median()\n",
    "    genre_mean = grp.plays.mean()\n",
    "    df2 = df.copy()\n",
    "    df2.set_index('genre1', inplace=True)\n",
    "    df2['genre median'] = genre_median\n",
    "    df2['genre mean'] = genre_mean\n",
    "    df2.reset_index(inplace=True)\n",
    "    df2.drop(\"user\", axis=1,inplace=True)\n",
    "    df2.drop(\"plays\",axis=1, inplace = True)\n",
    "    df2.drop(\"artist\",axis=1, inplace = True)\n",
    "    return df2"
   ]
  },
  {
   "cell_type": "code",
   "execution_count": 9,
   "metadata": {
    "collapsed": false
   },
   "outputs": [],
   "source": [
    "# compute various averages for use later\n",
    "user_avgs   = calc_user_avgs(train)\n",
    "user_avgs.set_index(\"user\",inplace=True)\n",
    "user_avgs.drop_duplicates(inplace=True)\n",
    "\n",
    "artist_avgs = calc_artist_avgs(train)\n",
    "artist_avgs.set_index(\"artist\",inplace=True)\n",
    "artist_avgs.drop_duplicates(inplace=True)\n",
    "\n",
    "genre_avgs  = calc_genre_avgs(train)\n",
    "genre_avgs.set_index(\"genre1\",inplace=True)\n",
    "genre_avgs.drop_duplicates(inplace=True)\n",
    "\n",
    "user_genre_median = train.groupby([\"user\",\"genre1\"]).median().reset_index()\n",
    "user_genre_median.rename(columns={'plays':'user genre median'}, inplace=True)\n",
    "user_genre_median.set_index(['user','genre1'],inplace=True)\n",
    "\n",
    "global_median = global_median_df.iloc[0,1]"
   ]
  },
  {
   "cell_type": "code",
   "execution_count": 10,
   "metadata": {
    "collapsed": false
   },
   "outputs": [],
   "source": [
    "#pivot training data to have one row per user\n",
    "train = train.pivot(index='user',columns='artist',values='plays').reset_index()\n",
    "train = train.fillna(0)"
   ]
  },
  {
   "cell_type": "code",
   "execution_count": 11,
   "metadata": {
    "collapsed": true
   },
   "outputs": [],
   "source": [
    "# use this function in APPLY for a df\n",
    "def knn_artist_predict(test_row,train,nk,weight):\n",
    "    user = test_row[1]\n",
    "    artist = test_row[0]\n",
    "\n",
    "    tmp = train[train[test_row.artist] > 0].set_index(\"user\")\n",
    "    y = tmp[artist]\n",
    "    X = tmp.drop(artist,axis=1)\n",
    "    \n",
    "    neigh = KNeighborsRegressor(n_neighbors=nk, weights=weight)\n",
    "    neigh.fit(X,y)\n",
    "    \n",
    "    to_test = train[train['user'] == user].set_index('user').drop(artist,axis=1)\n",
    "    prediction = neigh.predict(to_test)[0]\n",
    "    \n",
    "    return prediction"
   ]
  },
  {
   "cell_type": "code",
   "execution_count": 12,
   "metadata": {
    "collapsed": true
   },
   "outputs": [],
   "source": [
    "# use this function in APPLY for a df\n",
    "def knn_profile_predict(test_row,train,nk,weight):\n",
    "    #######\n",
    "    # insert knn using profile info and that genre and/or artist\n",
    "    #######\n",
    "    return AE"
   ]
  },
  {
   "cell_type": "code",
   "execution_count": 52,
   "metadata": {
    "collapsed": false
   },
   "outputs": [
    {
     "data": {
      "text/html": [
       "<div>\n",
       "<table border=\"1\" class=\"dataframe\">\n",
       "  <thead>\n",
       "    <tr style=\"text-align: right;\">\n",
       "      <th></th>\n",
       "      <th>artist</th>\n",
       "      <th>user</th>\n",
       "      <th>plays</th>\n",
       "      <th>genre1</th>\n",
       "      <th>knn</th>\n",
       "      <th>user genre median</th>\n",
       "      <th>user median</th>\n",
       "      <th>genre median</th>\n",
       "      <th>global median</th>\n",
       "    </tr>\n",
       "  </thead>\n",
       "  <tbody>\n",
       "    <tr>\n",
       "      <th>0</th>\n",
       "      <td>9a3bf45c-347d-4630-894d-7cf3e8e0b632</td>\n",
       "      <td>50890bcb3e094802c7d0603057de998425419661</td>\n",
       "      <td>46</td>\n",
       "      <td>latin rock</td>\n",
       "      <td>NaN</td>\n",
       "      <td>NaN</td>\n",
       "      <td>NaN</td>\n",
       "      <td>NaN</td>\n",
       "      <td>NaN</td>\n",
       "    </tr>\n",
       "  </tbody>\n",
       "</table>\n",
       "</div>"
      ],
      "text/plain": [
       "                                 artist  \\\n",
       "0  9a3bf45c-347d-4630-894d-7cf3e8e0b632   \n",
       "\n",
       "                                       user  plays      genre1  knn  \\\n",
       "0  50890bcb3e094802c7d0603057de998425419661     46  latin rock  NaN   \n",
       "\n",
       "   user genre median  user median  genre median  global median  \n",
       "0                NaN          NaN           NaN            NaN  "
      ]
     },
     "execution_count": 52,
     "metadata": {},
     "output_type": "execute_result"
    }
   ],
   "source": [
    "# initialize columns\n",
    "quick = valid.iloc[:10,:]\n",
    "quick['knn'] = np.nan\n",
    "quick['user genre median'] = np.nan\n",
    "quick['user median'] = np.nan\n",
    "quick['genre median'] = np.nan\n",
    "quick['global median'] = np.nan\n",
    "quick.head(1)"
   ]
  },
  {
   "cell_type": "code",
   "execution_count": 53,
   "metadata": {
    "collapsed": false
   },
   "outputs": [
    {
     "data": {
      "text/html": [
       "<div>\n",
       "<table border=\"1\" class=\"dataframe\">\n",
       "  <thead>\n",
       "    <tr style=\"text-align: right;\">\n",
       "      <th></th>\n",
       "      <th>artist</th>\n",
       "      <th>user</th>\n",
       "      <th>plays</th>\n",
       "      <th>genre1</th>\n",
       "      <th>knn</th>\n",
       "      <th>user genre median</th>\n",
       "      <th>user median</th>\n",
       "      <th>genre median</th>\n",
       "      <th>global median</th>\n",
       "    </tr>\n",
       "  </thead>\n",
       "  <tbody>\n",
       "    <tr>\n",
       "      <th>0</th>\n",
       "      <td>9a3bf45c-347d-4630-894d-7cf3e8e0b632</td>\n",
       "      <td>50890bcb3e094802c7d0603057de998425419661</td>\n",
       "      <td>46</td>\n",
       "      <td>latin rock</td>\n",
       "      <td>15.666667</td>\n",
       "      <td>NaN</td>\n",
       "      <td>NaN</td>\n",
       "      <td>NaN</td>\n",
       "      <td>NaN</td>\n",
       "    </tr>\n",
       "  </tbody>\n",
       "</table>\n",
       "</div>"
      ],
      "text/plain": [
       "                                 artist  \\\n",
       "0  9a3bf45c-347d-4630-894d-7cf3e8e0b632   \n",
       "\n",
       "                                       user  plays      genre1        knn  \\\n",
       "0  50890bcb3e094802c7d0603057de998425419661     46  latin rock  15.666667   \n",
       "\n",
       "   user genre median  user median  genre median  global median  \n",
       "0                NaN          NaN           NaN            NaN  "
      ]
     },
     "execution_count": 53,
     "metadata": {},
     "output_type": "execute_result"
    }
   ],
   "source": [
    "# add knn artist \n",
    "quick.knn = quick.apply(lambda x: knn_artist_predict(x,train,3,'uniform'),axis=1)\n",
    "quick.head(1)"
   ]
  },
  {
   "cell_type": "code",
   "execution_count": 54,
   "metadata": {
    "collapsed": false
   },
   "outputs": [
    {
     "data": {
      "text/html": [
       "<div>\n",
       "<table border=\"1\" class=\"dataframe\">\n",
       "  <thead>\n",
       "    <tr style=\"text-align: right;\">\n",
       "      <th></th>\n",
       "      <th>artist</th>\n",
       "      <th>user</th>\n",
       "      <th>plays</th>\n",
       "      <th>genre1</th>\n",
       "      <th>knn</th>\n",
       "      <th>user genre median</th>\n",
       "      <th>user median</th>\n",
       "      <th>genre median</th>\n",
       "      <th>global median</th>\n",
       "    </tr>\n",
       "  </thead>\n",
       "  <tbody>\n",
       "    <tr>\n",
       "      <th>0</th>\n",
       "      <td>9a3bf45c-347d-4630-894d-7cf3e8e0b632</td>\n",
       "      <td>50890bcb3e094802c7d0603057de998425419661</td>\n",
       "      <td>46</td>\n",
       "      <td>latin rock</td>\n",
       "      <td>15.666667</td>\n",
       "      <td>NaN</td>\n",
       "      <td>NaN</td>\n",
       "      <td>NaN</td>\n",
       "      <td>118</td>\n",
       "    </tr>\n",
       "  </tbody>\n",
       "</table>\n",
       "</div>"
      ],
      "text/plain": [
       "                                 artist  \\\n",
       "0  9a3bf45c-347d-4630-894d-7cf3e8e0b632   \n",
       "\n",
       "                                       user  plays      genre1        knn  \\\n",
       "0  50890bcb3e094802c7d0603057de998425419661     46  latin rock  15.666667   \n",
       "\n",
       "   user genre median  user median  genre median  global median  \n",
       "0                NaN          NaN           NaN            118  "
      ]
     },
     "execution_count": 54,
     "metadata": {},
     "output_type": "execute_result"
    }
   ],
   "source": [
    "# add global median\n",
    "quick['global median'] = global_median\n",
    "quick.head(1)"
   ]
  },
  {
   "cell_type": "code",
   "execution_count": 55,
   "metadata": {
    "collapsed": false
   },
   "outputs": [
    {
     "data": {
      "text/html": [
       "<div>\n",
       "<table border=\"1\" class=\"dataframe\">\n",
       "  <thead>\n",
       "    <tr style=\"text-align: right;\">\n",
       "      <th></th>\n",
       "      <th>user</th>\n",
       "      <th>artist</th>\n",
       "      <th>plays</th>\n",
       "      <th>genre1</th>\n",
       "      <th>knn</th>\n",
       "      <th>user genre median</th>\n",
       "      <th>user median</th>\n",
       "      <th>genre median</th>\n",
       "      <th>global median</th>\n",
       "    </tr>\n",
       "  </thead>\n",
       "  <tbody>\n",
       "    <tr>\n",
       "      <th>0</th>\n",
       "      <td>50890bcb3e094802c7d0603057de998425419661</td>\n",
       "      <td>9a3bf45c-347d-4630-894d-7cf3e8e0b632</td>\n",
       "      <td>46</td>\n",
       "      <td>latin rock</td>\n",
       "      <td>15.666667</td>\n",
       "      <td>NaN</td>\n",
       "      <td>21</td>\n",
       "      <td>NaN</td>\n",
       "      <td>118</td>\n",
       "    </tr>\n",
       "  </tbody>\n",
       "</table>\n",
       "</div>"
      ],
      "text/plain": [
       "                                       user  \\\n",
       "0  50890bcb3e094802c7d0603057de998425419661   \n",
       "\n",
       "                                 artist  plays      genre1        knn  \\\n",
       "0  9a3bf45c-347d-4630-894d-7cf3e8e0b632     46  latin rock  15.666667   \n",
       "\n",
       "   user genre median  user median  genre median  global median  \n",
       "0                NaN           21           NaN            118  "
      ]
     },
     "execution_count": 55,
     "metadata": {},
     "output_type": "execute_result"
    }
   ],
   "source": [
    "# add user median\n",
    "quick.set_index('user',inplace=True)\n",
    "quick.update(user_avgs)\n",
    "quick.reset_index(inplace=True)\n",
    "quick.head(1)"
   ]
  },
  {
   "cell_type": "code",
   "execution_count": 56,
   "metadata": {
    "collapsed": false
   },
   "outputs": [
    {
     "data": {
      "text/html": [
       "<div>\n",
       "<table border=\"1\" class=\"dataframe\">\n",
       "  <thead>\n",
       "    <tr style=\"text-align: right;\">\n",
       "      <th></th>\n",
       "      <th>genre1</th>\n",
       "      <th>user</th>\n",
       "      <th>artist</th>\n",
       "      <th>plays</th>\n",
       "      <th>knn</th>\n",
       "      <th>user genre median</th>\n",
       "      <th>user median</th>\n",
       "      <th>genre median</th>\n",
       "      <th>global median</th>\n",
       "    </tr>\n",
       "  </thead>\n",
       "  <tbody>\n",
       "    <tr>\n",
       "      <th>0</th>\n",
       "      <td>latin rock</td>\n",
       "      <td>50890bcb3e094802c7d0603057de998425419661</td>\n",
       "      <td>9a3bf45c-347d-4630-894d-7cf3e8e0b632</td>\n",
       "      <td>46</td>\n",
       "      <td>15.666667</td>\n",
       "      <td>NaN</td>\n",
       "      <td>21</td>\n",
       "      <td>71</td>\n",
       "      <td>118</td>\n",
       "    </tr>\n",
       "  </tbody>\n",
       "</table>\n",
       "</div>"
      ],
      "text/plain": [
       "       genre1                                      user  \\\n",
       "0  latin rock  50890bcb3e094802c7d0603057de998425419661   \n",
       "\n",
       "                                 artist  plays        knn  user genre median  \\\n",
       "0  9a3bf45c-347d-4630-894d-7cf3e8e0b632     46  15.666667                NaN   \n",
       "\n",
       "   user median  genre median  global median  \n",
       "0           21            71            118  "
      ]
     },
     "execution_count": 56,
     "metadata": {},
     "output_type": "execute_result"
    }
   ],
   "source": [
    "# add genre median\n",
    "quick.set_index('genre1',inplace=True)\n",
    "quick.update(genre_avgs)\n",
    "quick.reset_index(inplace=True)\n",
    "quick.head(1)"
   ]
  },
  {
   "cell_type": "code",
   "execution_count": 58,
   "metadata": {
    "collapsed": false
   },
   "outputs": [
    {
     "data": {
      "text/html": [
       "<div>\n",
       "<table border=\"1\" class=\"dataframe\">\n",
       "  <thead>\n",
       "    <tr style=\"text-align: right;\">\n",
       "      <th></th>\n",
       "      <th>user</th>\n",
       "      <th>genre1</th>\n",
       "      <th>artist</th>\n",
       "      <th>plays</th>\n",
       "      <th>knn</th>\n",
       "      <th>user genre median</th>\n",
       "      <th>user median</th>\n",
       "      <th>genre median</th>\n",
       "      <th>global median</th>\n",
       "    </tr>\n",
       "  </thead>\n",
       "  <tbody>\n",
       "    <tr>\n",
       "      <th>0</th>\n",
       "      <td>50890bcb3e094802c7d0603057de998425419661</td>\n",
       "      <td>latin rock</td>\n",
       "      <td>9a3bf45c-347d-4630-894d-7cf3e8e0b632</td>\n",
       "      <td>46</td>\n",
       "      <td>15.666667</td>\n",
       "      <td>NaN</td>\n",
       "      <td>21.0</td>\n",
       "      <td>71</td>\n",
       "      <td>118</td>\n",
       "    </tr>\n",
       "    <tr>\n",
       "      <th>1</th>\n",
       "      <td>a51b1b5aca3bc0ab8edc42529ae8a72bee793d78</td>\n",
       "      <td>alternative metal</td>\n",
       "      <td>b15ebd71-a252-417d-9e1c-3e6863da68f8</td>\n",
       "      <td>383</td>\n",
       "      <td>196.333333</td>\n",
       "      <td>281</td>\n",
       "      <td>275.5</td>\n",
       "      <td>128</td>\n",
       "      <td>118</td>\n",
       "    </tr>\n",
       "    <tr>\n",
       "      <th>2</th>\n",
       "      <td>7deda26d9d9188ba1417cf5cc92382e851c513f2</td>\n",
       "      <td>soul</td>\n",
       "      <td>d8df96ae-8fcf-4997-b3e6-e5d1aaf0f69e</td>\n",
       "      <td>15</td>\n",
       "      <td>4.666667</td>\n",
       "      <td>NaN</td>\n",
       "      <td>23.0</td>\n",
       "      <td>91</td>\n",
       "      <td>118</td>\n",
       "    </tr>\n",
       "    <tr>\n",
       "      <th>3</th>\n",
       "      <td>1350ddd9a60af9dc7d24c5a73cc0ae9b6fd4cb53</td>\n",
       "      <td>alternative rock</td>\n",
       "      <td>d8354b38-e942-4c89-ba93-29323432abc3</td>\n",
       "      <td>32</td>\n",
       "      <td>16.333333</td>\n",
       "      <td>38</td>\n",
       "      <td>65.5</td>\n",
       "      <td>121</td>\n",
       "      <td>118</td>\n",
       "    </tr>\n",
       "    <tr>\n",
       "      <th>4</th>\n",
       "      <td>1033355727c2722e279bfeade9142213b532a223</td>\n",
       "      <td>emo-pop</td>\n",
       "      <td>516cef4d-0718-4007-9939-f9b38af3f784</td>\n",
       "      <td>65</td>\n",
       "      <td>196.333333</td>\n",
       "      <td>77</td>\n",
       "      <td>138.5</td>\n",
       "      <td>126</td>\n",
       "      <td>118</td>\n",
       "    </tr>\n",
       "    <tr>\n",
       "      <th>5</th>\n",
       "      <td>5fd72224a2f610553a50c85ec54023561fc2a264</td>\n",
       "      <td>art rock</td>\n",
       "      <td>aa7a2827-f74b-473c-bd79-03d065835cf7</td>\n",
       "      <td>14</td>\n",
       "      <td>4.333333</td>\n",
       "      <td>NaN</td>\n",
       "      <td>NaN</td>\n",
       "      <td>112</td>\n",
       "      <td>118</td>\n",
       "    </tr>\n",
       "    <tr>\n",
       "      <th>6</th>\n",
       "      <td>21a3b4ef70d612d7b4d0d048c71d54e205e02b3a</td>\n",
       "      <td>british</td>\n",
       "      <td>77f049ad-f469-4ad1-8283-7a2606a6722e</td>\n",
       "      <td>130</td>\n",
       "      <td>41.666667</td>\n",
       "      <td>50</td>\n",
       "      <td>79.5</td>\n",
       "      <td>99</td>\n",
       "      <td>118</td>\n",
       "    </tr>\n",
       "    <tr>\n",
       "      <th>7</th>\n",
       "      <td>b5194e9b284b41b5d51a2a8c137b73b04273f958</td>\n",
       "      <td>progressive death metal</td>\n",
       "      <td>c14b4180-dc87-481e-b17a-64e4150f90f6</td>\n",
       "      <td>95</td>\n",
       "      <td>61.000000</td>\n",
       "      <td>NaN</td>\n",
       "      <td>NaN</td>\n",
       "      <td>188</td>\n",
       "      <td>118</td>\n",
       "    </tr>\n",
       "    <tr>\n",
       "      <th>8</th>\n",
       "      <td>e50bbd1f9e34dade615681750b3c21f9207dc0b1</td>\n",
       "      <td>alternative rock</td>\n",
       "      <td>847e8284-8582-4b0e-9c26-b042a4f49e57</td>\n",
       "      <td>45</td>\n",
       "      <td>30.333333</td>\n",
       "      <td>NaN</td>\n",
       "      <td>46.5</td>\n",
       "      <td>121</td>\n",
       "      <td>118</td>\n",
       "    </tr>\n",
       "    <tr>\n",
       "      <th>9</th>\n",
       "      <td>f050d21ec4b1d2b099e7da3647e03fbd6ced9820</td>\n",
       "      <td>mod</td>\n",
       "      <td>17b53d9f-5c63-4a09-a593-dde4608e0db9</td>\n",
       "      <td>138</td>\n",
       "      <td>19.666667</td>\n",
       "      <td>NaN</td>\n",
       "      <td>92.5</td>\n",
       "      <td>114</td>\n",
       "      <td>118</td>\n",
       "    </tr>\n",
       "  </tbody>\n",
       "</table>\n",
       "</div>"
      ],
      "text/plain": [
       "                                       user                   genre1  \\\n",
       "0  50890bcb3e094802c7d0603057de998425419661               latin rock   \n",
       "1  a51b1b5aca3bc0ab8edc42529ae8a72bee793d78        alternative metal   \n",
       "2  7deda26d9d9188ba1417cf5cc92382e851c513f2                     soul   \n",
       "3  1350ddd9a60af9dc7d24c5a73cc0ae9b6fd4cb53         alternative rock   \n",
       "4  1033355727c2722e279bfeade9142213b532a223                  emo-pop   \n",
       "5  5fd72224a2f610553a50c85ec54023561fc2a264                 art rock   \n",
       "6  21a3b4ef70d612d7b4d0d048c71d54e205e02b3a                  british   \n",
       "7  b5194e9b284b41b5d51a2a8c137b73b04273f958  progressive death metal   \n",
       "8  e50bbd1f9e34dade615681750b3c21f9207dc0b1         alternative rock   \n",
       "9  f050d21ec4b1d2b099e7da3647e03fbd6ced9820                      mod   \n",
       "\n",
       "                                 artist  plays         knn  user genre median  \\\n",
       "0  9a3bf45c-347d-4630-894d-7cf3e8e0b632     46   15.666667                NaN   \n",
       "1  b15ebd71-a252-417d-9e1c-3e6863da68f8    383  196.333333                281   \n",
       "2  d8df96ae-8fcf-4997-b3e6-e5d1aaf0f69e     15    4.666667                NaN   \n",
       "3  d8354b38-e942-4c89-ba93-29323432abc3     32   16.333333                 38   \n",
       "4  516cef4d-0718-4007-9939-f9b38af3f784     65  196.333333                 77   \n",
       "5  aa7a2827-f74b-473c-bd79-03d065835cf7     14    4.333333                NaN   \n",
       "6  77f049ad-f469-4ad1-8283-7a2606a6722e    130   41.666667                 50   \n",
       "7  c14b4180-dc87-481e-b17a-64e4150f90f6     95   61.000000                NaN   \n",
       "8  847e8284-8582-4b0e-9c26-b042a4f49e57     45   30.333333                NaN   \n",
       "9  17b53d9f-5c63-4a09-a593-dde4608e0db9    138   19.666667                NaN   \n",
       "\n",
       "   user median  genre median  global median  \n",
       "0         21.0            71            118  \n",
       "1        275.5           128            118  \n",
       "2         23.0            91            118  \n",
       "3         65.5           121            118  \n",
       "4        138.5           126            118  \n",
       "5          NaN           112            118  \n",
       "6         79.5            99            118  \n",
       "7          NaN           188            118  \n",
       "8         46.5           121            118  \n",
       "9         92.5           114            118  "
      ]
     },
     "execution_count": 58,
     "metadata": {},
     "output_type": "execute_result"
    }
   ],
   "source": [
    "# add genre median\n",
    "quick.set_index(['user','genre1'],inplace=True)\n",
    "quick.update(user_genre_median)\n",
    "quick.reset_index(inplace=True)\n",
    "quick.head(10)"
   ]
  },
  {
   "cell_type": "code",
   "execution_count": 60,
   "metadata": {
    "collapsed": true
   },
   "outputs": [],
   "source": [
    "# calculate mean of our predictions\n",
    "quick = quick.fillna(0)\n",
    "quick['mean'] = (quick['knn'] + quick['user genre median'] + quick['user median'] + quick['genre median'] + quick['global median'])/5"
   ]
  },
  {
   "cell_type": "code",
   "execution_count": 61,
   "metadata": {
    "collapsed": false,
    "scrolled": false
   },
   "outputs": [
    {
     "data": {
      "text/html": [
       "<div>\n",
       "<table border=\"1\" class=\"dataframe\">\n",
       "  <thead>\n",
       "    <tr style=\"text-align: right;\">\n",
       "      <th></th>\n",
       "      <th>user</th>\n",
       "      <th>genre1</th>\n",
       "      <th>artist</th>\n",
       "      <th>plays</th>\n",
       "      <th>knn</th>\n",
       "      <th>user genre median</th>\n",
       "      <th>user median</th>\n",
       "      <th>genre median</th>\n",
       "      <th>global median</th>\n",
       "      <th>mean</th>\n",
       "      <th>AE</th>\n",
       "    </tr>\n",
       "  </thead>\n",
       "  <tbody>\n",
       "    <tr>\n",
       "      <th>0</th>\n",
       "      <td>50890bcb3e094802c7d0603057de998425419661</td>\n",
       "      <td>latin rock</td>\n",
       "      <td>9a3bf45c-347d-4630-894d-7cf3e8e0b632</td>\n",
       "      <td>46</td>\n",
       "      <td>15.666667</td>\n",
       "      <td>0</td>\n",
       "      <td>21.0</td>\n",
       "      <td>71</td>\n",
       "      <td>118</td>\n",
       "      <td>45.133333</td>\n",
       "      <td>0.866667</td>\n",
       "    </tr>\n",
       "    <tr>\n",
       "      <th>1</th>\n",
       "      <td>a51b1b5aca3bc0ab8edc42529ae8a72bee793d78</td>\n",
       "      <td>alternative metal</td>\n",
       "      <td>b15ebd71-a252-417d-9e1c-3e6863da68f8</td>\n",
       "      <td>383</td>\n",
       "      <td>196.333333</td>\n",
       "      <td>281</td>\n",
       "      <td>275.5</td>\n",
       "      <td>128</td>\n",
       "      <td>118</td>\n",
       "      <td>199.766667</td>\n",
       "      <td>183.233333</td>\n",
       "    </tr>\n",
       "    <tr>\n",
       "      <th>2</th>\n",
       "      <td>7deda26d9d9188ba1417cf5cc92382e851c513f2</td>\n",
       "      <td>soul</td>\n",
       "      <td>d8df96ae-8fcf-4997-b3e6-e5d1aaf0f69e</td>\n",
       "      <td>15</td>\n",
       "      <td>4.666667</td>\n",
       "      <td>0</td>\n",
       "      <td>23.0</td>\n",
       "      <td>91</td>\n",
       "      <td>118</td>\n",
       "      <td>47.333333</td>\n",
       "      <td>32.333333</td>\n",
       "    </tr>\n",
       "    <tr>\n",
       "      <th>3</th>\n",
       "      <td>1350ddd9a60af9dc7d24c5a73cc0ae9b6fd4cb53</td>\n",
       "      <td>alternative rock</td>\n",
       "      <td>d8354b38-e942-4c89-ba93-29323432abc3</td>\n",
       "      <td>32</td>\n",
       "      <td>16.333333</td>\n",
       "      <td>38</td>\n",
       "      <td>65.5</td>\n",
       "      <td>121</td>\n",
       "      <td>118</td>\n",
       "      <td>71.766667</td>\n",
       "      <td>39.766667</td>\n",
       "    </tr>\n",
       "    <tr>\n",
       "      <th>4</th>\n",
       "      <td>1033355727c2722e279bfeade9142213b532a223</td>\n",
       "      <td>emo-pop</td>\n",
       "      <td>516cef4d-0718-4007-9939-f9b38af3f784</td>\n",
       "      <td>65</td>\n",
       "      <td>196.333333</td>\n",
       "      <td>77</td>\n",
       "      <td>138.5</td>\n",
       "      <td>126</td>\n",
       "      <td>118</td>\n",
       "      <td>131.166667</td>\n",
       "      <td>66.166667</td>\n",
       "    </tr>\n",
       "  </tbody>\n",
       "</table>\n",
       "</div>"
      ],
      "text/plain": [
       "                                       user             genre1  \\\n",
       "0  50890bcb3e094802c7d0603057de998425419661         latin rock   \n",
       "1  a51b1b5aca3bc0ab8edc42529ae8a72bee793d78  alternative metal   \n",
       "2  7deda26d9d9188ba1417cf5cc92382e851c513f2               soul   \n",
       "3  1350ddd9a60af9dc7d24c5a73cc0ae9b6fd4cb53   alternative rock   \n",
       "4  1033355727c2722e279bfeade9142213b532a223            emo-pop   \n",
       "\n",
       "                                 artist  plays         knn  user genre median  \\\n",
       "0  9a3bf45c-347d-4630-894d-7cf3e8e0b632     46   15.666667                  0   \n",
       "1  b15ebd71-a252-417d-9e1c-3e6863da68f8    383  196.333333                281   \n",
       "2  d8df96ae-8fcf-4997-b3e6-e5d1aaf0f69e     15    4.666667                  0   \n",
       "3  d8354b38-e942-4c89-ba93-29323432abc3     32   16.333333                 38   \n",
       "4  516cef4d-0718-4007-9939-f9b38af3f784     65  196.333333                 77   \n",
       "\n",
       "   user median  genre median  global median        mean          AE  \n",
       "0         21.0            71            118   45.133333    0.866667  \n",
       "1        275.5           128            118  199.766667  183.233333  \n",
       "2         23.0            91            118   47.333333   32.333333  \n",
       "3         65.5           121            118   71.766667   39.766667  \n",
       "4        138.5           126            118  131.166667   66.166667  "
      ]
     },
     "execution_count": 61,
     "metadata": {},
     "output_type": "execute_result"
    }
   ],
   "source": [
    "# calculate Abs Error of predictions\n",
    "quick['AE'] = np.abs(quick['plays']-quick['mean'])\n",
    "quick.head()"
   ]
  },
  {
   "cell_type": "code",
   "execution_count": 62,
   "metadata": {
    "collapsed": false
   },
   "outputs": [
    {
     "data": {
      "text/plain": [
       "51.65333333333334"
      ]
     },
     "execution_count": 62,
     "metadata": {},
     "output_type": "execute_result"
    }
   ],
   "source": [
    "# calculate MAE\n",
    "quick.AE.mean()"
   ]
  },
  {
   "cell_type": "code",
   "execution_count": null,
   "metadata": {
    "collapsed": true
   },
   "outputs": [],
   "source": []
  },
  {
   "cell_type": "code",
   "execution_count": null,
   "metadata": {
    "collapsed": false
   },
   "outputs": [],
   "source": [
    "# weighted ensemble?\n",
    "from sklearn import linear_model\n",
    "stacking= linear_model.LinearRegression()\n",
    "\n",
    "X = np.vstack([quick.knn.values,quick['user genre median'].values])\n",
    "X = np.vstack([X,quick['user median']])\n",
    "X = np.vstack([X,quick['genre median']])\n",
    "X = np.vstack([X,quick['global median']])\n",
    "X = X.T\n",
    "X.shape\n",
    "\n",
    "y = quick['plays'].values"
   ]
  },
  {
   "cell_type": "code",
   "execution_count": null,
   "metadata": {
    "collapsed": false
   },
   "outputs": [],
   "source": [
    "stacking.fit(X,y)"
   ]
  },
  {
   "cell_type": "code",
   "execution_count": null,
   "metadata": {
    "collapsed": false
   },
   "outputs": [],
   "source": [
    "y_pred = stacking.predict(X)"
   ]
  },
  {
   "cell_type": "code",
   "execution_count": null,
   "metadata": {
    "collapsed": false
   },
   "outputs": [],
   "source": [
    "np.mean(np.abs(y-y_pred))"
   ]
  },
  {
   "cell_type": "code",
   "execution_count": null,
   "metadata": {
    "collapsed": true
   },
   "outputs": [],
   "source": []
  }
 ],
 "metadata": {
  "kernelspec": {
   "display_name": "Python 2",
   "language": "python",
   "name": "python2"
  },
  "language_info": {
   "codemirror_mode": {
    "name": "ipython",
    "version": 2
   },
   "file_extension": ".py",
   "mimetype": "text/x-python",
   "name": "python",
   "nbconvert_exporter": "python",
   "pygments_lexer": "ipython2",
   "version": "2.7.11"
  }
 },
 "nbformat": 4,
 "nbformat_minor": 0
}
