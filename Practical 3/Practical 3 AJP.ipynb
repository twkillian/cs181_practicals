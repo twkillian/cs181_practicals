{
 "cells": [
  {
   "cell_type": "code",
   "execution_count": 1,
   "metadata": {
    "collapsed": true
   },
   "outputs": [],
   "source": [
    "import numpy as np\n",
    "import matplotlib.pyplot as plt\n",
    "import pandas as pd\n",
    "import pickle\n",
    "from time import time\n",
    "%matplotlib inline"
   ]
  },
  {
   "cell_type": "markdown",
   "metadata": {},
   "source": [
    "#### Load data"
   ]
  },
  {
   "cell_type": "code",
   "execution_count": 2,
   "metadata": {
    "collapsed": true
   },
   "outputs": [],
   "source": [
    "# load csv files\n",
    "train_df = pd.read_csv(\"train.csv\")\n",
    "profiles_df = pd.read_csv(\"profiles.csv\")\n",
    "artists_df = pd.read_csv(\"artists.csv\")\n",
    "artists_with_genres_df = pd.read_csv(\"artists_with_genres.csv\")\n",
    "user_median_df = pd.read_csv(\"user_median.csv\")\n",
    "global_median_df = pd.read_csv(\"global_median.csv\")"
   ]
  },
  {
   "cell_type": "markdown",
   "metadata": {},
   "source": [
    "#### Calculate mean ages per gender, country combination"
   ]
  },
  {
   "cell_type": "code",
   "execution_count": 3,
   "metadata": {
    "collapsed": false
   },
   "outputs": [
    {
     "name": "stderr",
     "output_type": "stream",
     "text": [
      "//anaconda/lib/python2.7/site-packages/pandas/core/frame.py:1997: UserWarning: Boolean Series key will be reindexed to match DataFrame index.\n",
      "  \"DataFrame index.\", UserWarning)\n"
     ]
    }
   ],
   "source": [
    "# calculate mean age per user\n",
    "mean_age = profiles_df[~profiles_df['age'].isnull()][\"age\"].mean()\n",
    "\n",
    "###################################################################### \n",
    "\n",
    "# calculate mean age per men\n",
    "males_only_df = profiles_df[profiles_df[\"sex\"]=='m']\n",
    "mean_male_age = males_only_df[~males_only_df['sex'].isnull()][\"age\"].mean()\n",
    "\n",
    "###################################################################### \n",
    "\n",
    "# calculate mean age per women\n",
    "females_only_df = profiles_df[profiles_df[\"sex\"]=='f']\n",
    "mean_female_age = females_only_df[~females_only_df['sex'].isnull()][\"age\"].mean()\n",
    "\n",
    "###################################################################### \n",
    "\n",
    "# get list of unique countries\n",
    "countries = profiles_df[\"country\"].unique()\n",
    "\n",
    "# calculate mean age per country\n",
    "mean_country_age = {}\n",
    "for country in countries:\n",
    "    tmp_df = profiles_df[profiles_df[\"country\"]==str(country)]\n",
    "    mean_country_age[str(country)] = tmp_df[\"age\"].mean()\n",
    "\n",
    "###################################################################### \n",
    "    \n",
    "# calculate mean age per male per country\n",
    "mean_country_male_age = {}\n",
    "for country in countries:\n",
    "    tmp_df0 = profiles_df[profiles_df[\"sex\"]=='m']\n",
    "    tmp_df1 = tmp_df0[profiles_df[\"country\"]==str(country)]\n",
    "    mean_country_male_age[str(country)] = tmp_df1[\"age\"].mean()\n",
    "\n",
    "###################################################################### \n",
    "\n",
    "# calculate mean age per female per country\n",
    "mean_country_female_age = {}\n",
    "for country in countries:\n",
    "    tmp_df0 = profiles_df[profiles_df[\"sex\"]=='f']\n",
    "    tmp_df1 = tmp_df0[profiles_df[\"country\"]==str(country)]\n",
    "    mean_country_female_age[str(country)] = tmp_df1[\"age\"].mean()"
   ]
  },
  {
   "cell_type": "markdown",
   "metadata": {},
   "source": [
    "#### Create training dataframe with indicator variable columns and missing age values filled in"
   ]
  },
  {
   "cell_type": "code",
   "execution_count": null,
   "metadata": {
    "collapsed": false,
    "scrolled": false
   },
   "outputs": [],
   "source": [
    "# initialize training df\n",
    "training_df = profiles_df\n",
    "\n",
    "###################################################################### \n",
    "\n",
    "# create sex indicators\n",
    "training_df[\"male\"] = 0\n",
    "training_df[\"female\"] = 0\n",
    "training_df[\"sex_missing\"] = 0\n",
    "training_df.loc[training_df[\"sex\"] =='m', \"male\"] = 1\n",
    "training_df.loc[training_df[\"sex\"] =='f', \"female\"] = 1\n",
    "training_df.loc[training_df[\"sex\"].isnull(), \"sex_missing\"] = 1\n",
    "\n",
    "######################################################################  \n",
    "\n",
    "# create age indicators\n",
    "training_df[\"age_missing\"] = 0\n",
    "training_df.loc[training_df[\"age\"].isnull(),\"age_missing\"] = 1\n",
    "\n",
    "# fill in mean age: has no gender or country\n",
    "training_df.loc[training_df[\"age_missing\"] == 1, \"age\"] = mean_age\n",
    "\n",
    "# fill in mean age: has gender, no country\n",
    "#males\n",
    "condition = (training_df[\"sex\"] =='m') & (training_df[\"country\"].isnull()) & (training_df[\"age_missing\"] == 1)\n",
    "training_df.loc[condition, \"age\"] = mean_male_age\n",
    "# females\n",
    "condition = (training_df[\"sex\"] =='f') & (training_df[\"country\"].isnull()) & (training_df[\"age_missing\"] == 1)\n",
    "training_df.loc[condition, \"age\"] = mean_female_age\n",
    "\n",
    "# fill in mean age: has country, no gender\n",
    "#loop over countries\n",
    "for country in countries:\n",
    "    condition = (training_df[\"country\"] == country) & (training_df[\"age_missing\"] == 1) & (training_df[\"sex_missing\"] == 1)\n",
    "    training_df.loc[condition, \"age\"] = mean_country_age[country]\n",
    "\n",
    "# fill in mean age: has gender and country\n",
    "# loop over countries\n",
    "for country in countries:\n",
    "    # males\n",
    "    condition = (training_df[\"country\"] == country) & (training_df[\"sex\"] == 'm') & (training_df[\"age_missing\"] == 1)\n",
    "    training_df.loc[condition, \"age\"] = mean_country_male_age[country]\n",
    "    # females\n",
    "    condition = (training_df[\"country\"] == country) & (training_df[\"sex\"] == 'f') & (training_df[\"age_missing\"] == 1)\n",
    "    training_df.loc[condition, \"age\"] = mean_country_female_age[country]\n",
    "\n",
    "###################################################################### \n",
    "    \n",
    "# create country indicators\n",
    "training_df[\"country_missing\"] = 0\n",
    "training_df.loc[training_df[\"country\"].isnull(), \"country_missing\"] = 1\n",
    "# loop over countries\n",
    "for country in countries:\n",
    "    # assign 1 if in that country\n",
    "    training_df.loc[training_df[\"country\"] == country, country] = 1\n",
    "    # assign 0 otherwise\n",
    "    training_df.loc[training_df[\"country\"] != country, country] = 0"
   ]
  },
  {
   "cell_type": "markdown",
   "metadata": {},
   "source": [
    "#### Transfer plays per artist data from train df to our training df. one column per artist"
   ]
  },
  {
   "cell_type": "code",
   "execution_count": null,
   "metadata": {
    "collapsed": false
   },
   "outputs": [],
   "source": [
    "# Initialize all artist columns to 0\n",
    "artists = train_df[\"artist\"].unique()\n",
    "for artist in artists:\n",
    "    training_df[artist]=0\n",
    " \n",
    "######################################################################\n",
    "\n",
    "# create helper function to keep track of loop progress and est. time remaining\n",
    "def progress(step,steps,t0):\n",
    "    for i in range(1,10):\n",
    "        if (step == (steps/10)*i):\n",
    "            percent_complete = int(100*((steps/10)*i)/steps)\n",
    "            seconds_remaining = int(((time() - t0) / i)*(10-i))\n",
    "            print \"\\r\" + str(percent_complete) + \"% complete \" + str(seconds_remaining) + \" seconds remaining\",\n",
    "\n",
    "######################################################################\n",
    "\n",
    "# set index to user for faster computation\n",
    "training_df = training_df.set_index(\"user\")\n",
    "counter = 0\n",
    "t0 = time()\n",
    "\n",
    "#########################\n",
    "# WARNING: TAKES ~80Min #\n",
    "#########################\n",
    "\n",
    "# loop through each row in train_df and plug play value into training_df\n",
    "for index, row in train_df.set_index(\"user\").iterrows():\n",
    "    training_df.loc[index, row[0]] = row[1] #index = user id, row[0] = artist id, row[1] = plays\n",
    "    counter += 1\n",
    "    progress(counter,len(train_df),t0) # print progress (every 10ppts)\n",
    "\n",
    "# save dataframe\n",
    "training_df.to_pickle(\"training_df.pkl\")\n",
    "#training_df = pd.read_pickle(training_df.pkl)"
   ]
  },
  {
   "cell_type": "code",
   "execution_count": null,
   "metadata": {
    "collapsed": true
   },
   "outputs": [],
   "source": []
  }
 ],
 "metadata": {
  "kernelspec": {
   "display_name": "Python 2",
   "language": "python",
   "name": "python2"
  },
  "language_info": {
   "codemirror_mode": {
    "name": "ipython",
    "version": 2
   },
   "file_extension": ".py",
   "mimetype": "text/x-python",
   "name": "python",
   "nbconvert_exporter": "python",
   "pygments_lexer": "ipython2",
   "version": "2.7.11"
  }
 },
 "nbformat": 4,
 "nbformat_minor": 0
}
