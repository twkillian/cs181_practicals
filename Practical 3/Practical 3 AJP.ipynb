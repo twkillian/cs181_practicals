{
 "cells": [
  {
   "cell_type": "code",
   "execution_count": 1,
   "metadata": {
    "collapsed": true
   },
   "outputs": [],
   "source": [
    "import numpy as np\n",
    "import matplotlib.pyplot as plt\n",
    "import pandas as pd\n",
    "import pickle\n",
    "from time import time\n",
    "%matplotlib inline"
   ]
  },
  {
   "cell_type": "markdown",
   "metadata": {},
   "source": [
    "#### Load data"
   ]
  },
  {
   "cell_type": "code",
   "execution_count": 2,
   "metadata": {
    "collapsed": true
   },
   "outputs": [],
   "source": [
    "# load csv files\n",
    "train_df = pd.read_csv(\"train.csv\")\n",
    "profiles_df = pd.read_csv(\"profiles.csv\")\n",
    "artists_df = pd.read_csv(\"artists.csv\")\n",
    "artists_with_genres_df = pd.read_csv(\"artists_with_genres.csv\")\n",
    "user_median_df = pd.read_csv(\"user_median.csv\")\n",
    "global_median_df = pd.read_csv(\"global_median.csv\")"
   ]
  },
  {
   "cell_type": "markdown",
   "metadata": {},
   "source": [
    "#### Calculate mean ages per gender, country combination"
   ]
  },
  {
   "cell_type": "code",
   "execution_count": 3,
   "metadata": {
    "collapsed": false
   },
   "outputs": [
    {
     "name": "stderr",
     "output_type": "stream",
     "text": [
      "//anaconda/lib/python2.7/site-packages/pandas/core/frame.py:1997: UserWarning: Boolean Series key will be reindexed to match DataFrame index.\n",
      "  \"DataFrame index.\", UserWarning)\n"
     ]
    }
   ],
   "source": [
    "# calculate mean age per user\n",
    "mean_age = profiles_df[~profiles_df['age'].isnull()][\"age\"].mean()\n",
    "\n",
    "###################################################################### \n",
    "\n",
    "# calculate mean age per men\n",
    "males_only_df = profiles_df[profiles_df[\"sex\"]=='m']\n",
    "mean_male_age = males_only_df[~males_only_df['sex'].isnull()][\"age\"].mean()\n",
    "\n",
    "###################################################################### \n",
    "\n",
    "# calculate mean age per women\n",
    "females_only_df = profiles_df[profiles_df[\"sex\"]=='f']\n",
    "mean_female_age = females_only_df[~females_only_df['sex'].isnull()][\"age\"].mean()\n",
    "\n",
    "###################################################################### \n",
    "\n",
    "# get list of unique countries\n",
    "countries = profiles_df[\"country\"].unique()\n",
    "\n",
    "# calculate mean age per country\n",
    "mean_country_age = {}\n",
    "for country in countries:\n",
    "    tmp_df = profiles_df[profiles_df[\"country\"]==str(country)]\n",
    "    mean_country_age[str(country)] = tmp_df[\"age\"].mean()\n",
    "\n",
    "###################################################################### \n",
    "    \n",
    "# calculate mean age per male per country\n",
    "mean_country_male_age = {}\n",
    "for country in countries:\n",
    "    tmp_df0 = profiles_df[profiles_df[\"sex\"]=='m']\n",
    "    tmp_df1 = tmp_df0[profiles_df[\"country\"]==str(country)]\n",
    "    mean_country_male_age[str(country)] = tmp_df1[\"age\"].mean()\n",
    "\n",
    "###################################################################### \n",
    "\n",
    "# calculate mean age per female per country\n",
    "mean_country_female_age = {}\n",
    "for country in countries:\n",
    "    tmp_df0 = profiles_df[profiles_df[\"sex\"]=='f']\n",
    "    tmp_df1 = tmp_df0[profiles_df[\"country\"]==str(country)]\n",
    "    mean_country_female_age[str(country)] = tmp_df1[\"age\"].mean()"
   ]
  },
  {
   "cell_type": "markdown",
   "metadata": {},
   "source": [
    "#### Create training dataframe with indicator variable columns and missing age values filled in"
   ]
  },
  {
   "cell_type": "code",
   "execution_count": 4,
   "metadata": {
    "collapsed": false,
    "scrolled": false
   },
   "outputs": [],
   "source": [
    "# initialize training df\n",
    "training_df = profiles_df\n",
    "\n",
    "###################################################################### \n",
    "\n",
    "# create sex indicators\n",
    "training_df[\"male\"] = 0\n",
    "training_df[\"female\"] = 0\n",
    "training_df[\"sex_missing\"] = 0\n",
    "training_df.loc[training_df[\"sex\"] =='m', \"male\"] = 1\n",
    "training_df.loc[training_df[\"sex\"] =='f', \"female\"] = 1\n",
    "training_df.loc[training_df[\"sex\"].isnull(), \"sex_missing\"] = 1\n",
    "\n",
    "######################################################################  \n",
    "\n",
    "# create age indicators\n",
    "training_df[\"age_missing\"] = 0\n",
    "training_df.loc[training_df[\"age\"].isnull(),\"age_missing\"] = 1\n",
    "\n",
    "# fill in mean age: has no gender or country\n",
    "training_df.loc[training_df[\"age_missing\"] == 1, \"age\"] = mean_age\n",
    "\n",
    "# fill in mean age: has gender, no country\n",
    "#males\n",
    "condition = (training_df[\"sex\"] =='m') & (training_df[\"country\"].isnull()) & (training_df[\"age_missing\"] == 1)\n",
    "training_df.loc[condition, \"age\"] = mean_male_age\n",
    "# females\n",
    "condition = (training_df[\"sex\"] =='f') & (training_df[\"country\"].isnull()) & (training_df[\"age_missing\"] == 1)\n",
    "training_df.loc[condition, \"age\"] = mean_female_age\n",
    "\n",
    "# fill in mean age: has country, no gender\n",
    "#loop over countries\n",
    "for country in countries:\n",
    "    condition = (training_df[\"country\"] == country) & (training_df[\"age_missing\"] == 1) & (training_df[\"sex_missing\"] == 1)\n",
    "    training_df.loc[condition, \"age\"] = mean_country_age[country]\n",
    "\n",
    "# fill in mean age: has gender and country\n",
    "# loop over countries\n",
    "for country in countries:\n",
    "    # males\n",
    "    condition = (training_df[\"country\"] == country) & (training_df[\"sex\"] == 'm') & (training_df[\"age_missing\"] == 1)\n",
    "    training_df.loc[condition, \"age\"] = mean_country_male_age[country]\n",
    "    # females\n",
    "    condition = (training_df[\"country\"] == country) & (training_df[\"sex\"] == 'f') & (training_df[\"age_missing\"] == 1)\n",
    "    training_df.loc[condition, \"age\"] = mean_country_female_age[country]\n",
    "\n",
    "###################################################################### \n",
    "    \n",
    "# create country indicators\n",
    "training_df[\"country_missing\"] = 0\n",
    "training_df.loc[training_df[\"country\"].isnull(), \"country_missing\"] = 1\n",
    "# loop over countries\n",
    "for country in countries:\n",
    "    # assign 1 if in that country\n",
    "    training_df.loc[training_df[\"country\"] == country, country] = 1\n",
    "    # assign 0 otherwise\n",
    "    training_df.loc[training_df[\"country\"] != country, country] = 0"
   ]
  },
  {
   "cell_type": "markdown",
   "metadata": {},
   "source": [
    "#### Transfer plays per artist data from train df to our training df. one column per artist"
   ]
  },
  {
   "cell_type": "code",
   "execution_count": 5,
   "metadata": {
    "collapsed": false
   },
   "outputs": [
    {
     "name": "stdout",
     "output_type": "stream",
     "text": [
      "89% complete 354 seconds remaining\n"
     ]
    }
   ],
   "source": [
    "## Initialize all artist columns to 0\n",
    "artists = train_df[\"artist\"].unique()\n",
    "for artist in artists:\n",
    "    training_df[artist]=0\n",
    " \n",
    "######################################################################\n",
    "\n",
    "# create helper function to keep track of loop progress and est. time remaining\n",
    "def progress(step, steps, t0):\n",
    "    for i in range(1,10):\n",
    "        if (step == (steps/10)*i):\n",
    "            percent_complete = int(100*((steps/10)*i)/steps)\n",
    "            seconds_remaining = int(((time()-t0)/i)*(10-i))\n",
    "            print \"\\r\" + str(percent_complete) + \"% complete \" + str(seconds_remaining) + \" seconds remaining\",\n",
    "\n",
    "######################################################################\n",
    "\n",
    "# set index to user for faster computation\n",
    "training_df = training_df.set_index(\"user\")\n",
    "counter = 0\n",
    "t0 = time()\n",
    "\n",
    "#########################\n",
    "# WARNING: TAKES ~80Min #\n",
    "#########################\n",
    "\n",
    "# loop through each row in train_df and plug play value into training_df\n",
    "for index, row in train_df.set_index(\"user\").iterrows():\n",
    "    training_df.loc[index, row[0]] = row[1] #index = user id, row[0] = artist id, row[1] = plays\n",
    "    counter += 1\n",
    "    progress(counter, len(train_df), t0) # print progress (every 10ppts)"
   ]
  },
  {
   "cell_type": "markdown",
   "metadata": {},
   "source": [
    "##### Uncomment below as needed to load training"
   ]
  },
  {
   "cell_type": "code",
   "execution_count": 4,
   "metadata": {
    "collapsed": false
   },
   "outputs": [],
   "source": [
    "# training_df.to_csv(\"training_df.csv\")\n",
    "#training_df = pd.read_csv(\"training_df.csv\")"
   ]
  },
  {
   "cell_type": "markdown",
   "metadata": {},
   "source": [
    "# Data science applied to our problem"
   ]
  },
  {
   "cell_type": "code",
   "execution_count": 10,
   "metadata": {
    "collapsed": false
   },
   "outputs": [],
   "source": [
    "def recompute_frame(ldf):\n",
    "    \"\"\"\n",
    "    takes a dataframe ldf, makes a copy of it, and returns the copy\n",
    "    with all averages and review counts recomputed\n",
    "    this is used when a frame is subsetted.\n",
    "    \"\"\"\n",
    "    ldfu=ldf.groupby('user')\n",
    "    ldfa=ldf.groupby('artist')\n",
    "    user_avg=ldfu.plays.mean()\n",
    "    user_artist_count=ldfu.artist.count()\n",
    "    artist_avg=ldfa.plays.mean()\n",
    "    artist_user_count=ldfa.user.count()\n",
    "    nldf=ldf.copy()\n",
    "    nldf.set_index(['artist'], inplace=True)\n",
    "    nldf['artist_avg']=artist_avg\n",
    "    nldf['artist_user_count']=artist_user_count\n",
    "    nldf.reset_index(inplace=True)\n",
    "    nldf.set_index(['user'], inplace=True)\n",
    "    nldf['user_avg']=user_avg\n",
    "    nldf['user_artist_count']=user_artist_count\n",
    "    nldf.reset_index(inplace=True)\n",
    "    return nldf"
   ]
  },
  {
   "cell_type": "code",
   "execution_count": 11,
   "metadata": {
    "collapsed": false
   },
   "outputs": [],
   "source": [
    "bigdf=recompute_frame(train_df)"
   ]
  },
  {
   "cell_type": "code",
   "execution_count": 24,
   "metadata": {
    "collapsed": true
   },
   "outputs": [],
   "source": [
    "def compute_supports(df):\n",
    "    uuids=df.user.unique()\n",
    "    arts = df.groupby('artist').user.unique()\n",
    "    adict={}\n",
    "    for e,v in zip(arts.index.values, arts.values):\n",
    "        adict[e] = np.array([item in v for item in uuids])\n",
    "    artists=adict.keys()\n",
    "    supports=[]\n",
    "    for i,art1 in enumerate(artists):\n",
    "        print \"\\r\" + str(i) + \" out of \" + str(len(artists)),\n",
    "        for j,art2 in enumerate(artists):\n",
    "            if  i < j:\n",
    "                supmask = (adict[art1] & adict[art2])\n",
    "                common_users = np.sum(supmask)\n",
    "                supports.append(common_users)\n",
    "    print \"mean support\",np.mean(supports), \"median support\", np.median(supports)\n",
    "    return supports, adict"
   ]
  },
  {
   "cell_type": "code",
   "execution_count": 25,
   "metadata": {
    "collapsed": true
   },
   "outputs": [],
   "source": [
    "def make_smaller(df, artistcount, usercount):\n",
    "    smallidf1=df[(df.artist_user_count > artistcount)]\n",
    "    smallidf1=recompute_frame(smallidf1)\n",
    "    smallidf2=smallidf1[(smallidf1.user_artist_count > usercount)]\n",
    "    smalldf=recompute_frame(smallidf2)\n",
    "    return smalldf"
   ]
  },
  {
   "cell_type": "code",
   "execution_count": 42,
   "metadata": {
    "collapsed": false
   },
   "outputs": [
    {
     "name": "stdout",
     "output_type": "stream",
     "text": [
      "Number of user-artist cominations 1279537\n",
      "Number of users 92259\n",
      "Number of artists 358\n",
      "0 out of 358\n",
      "10 out of 358\n",
      "20 out of 358\n",
      "30 out of 358\n",
      "40 out of 358\n",
      "50 out of 358\n",
      "60 out of 358\n",
      "70 out of 358\n",
      "80 out of 358\n",
      "90 out of 358\n",
      "100 out of 358\n",
      "110 out of 358\n",
      "120 out of 358\n",
      "130 out of 358\n",
      "140 out of 358\n",
      "150 out of 358\n",
      "160 out of 358\n",
      "170 out of 358\n",
      "180 out of 358\n",
      "190 out of 358\n",
      "200 out of 358\n",
      "210 out of 358\n",
      "220 out of 358\n",
      "230 out of 358\n",
      "240 out of 358\n",
      "250 out of 358\n",
      "260 out of 358\n",
      "270 out of 358\n",
      "280 out of 358\n",
      "290 out of 358\n",
      "300 out of 358\n",
      "310 out of 358\n",
      "320 out of 358\n",
      "330 out of 358\n",
      "340 out of 358\n",
      "350 out of 358\n",
      "mean support 134.189365132 median support 70.0\n"
     ]
    }
   ],
   "source": [
    "smalldf=make_smaller(bigdf, 3000, 10)\n",
    "smalldf.to_csv(\"small.csv\", index=False)\n",
    "print \"Number of user-artist cominations\",smalldf.shape[0]\n",
    "print \"Number of users\", smalldf.user.unique().shape[0]\n",
    "print \"Number of artists\", smalldf.artist.unique().shape[0]\n",
    "\n",
    "uuids=smalldf.user.unique()\n",
    "arts = smalldf.groupby('artist').user.unique()\n",
    "adict={}\n",
    "counter = 0\n",
    "for e,v in zip(arts.index.values, arts.values):\n",
    "    if counter % 10 == 0:\n",
    "        print str(counter) + \" out of \" + str(len(arts))\n",
    "    counter +=1\n",
    "    adict[e] = np.array([item in v for item in uuids])\n",
    "\n",
    "artists=adict.keys()\n",
    "supports=[]\n",
    "for i,art1 in enumerate(artists):\n",
    "    for j,art2 in enumerate(artists):\n",
    "        if  i < j:\n",
    "            supmask = (adict[art1] & adict[art2])\n",
    "            common_users = np.sum(supmask)\n",
    "            supports.append(common_users)\n",
    "\n",
    "print \"mean support\",np.mean(supports), \"median support\", np.median(supports)\n",
    "s = supports\n",
    "d = adict"
   ]
  },
  {
   "cell_type": "code",
   "execution_count": 44,
   "metadata": {
    "collapsed": false
   },
   "outputs": [
    {
     "name": "stdout",
     "output_type": "stream",
     "text": [
      "User-artists counts mean and median 13.8689667133 13.0\n"
     ]
    },
    {
     "data": {
      "image/png": "[encoded data removed]",
      "text/plain": [
       "<matplotlib.figure.Figure at 0x20f591790>"
      ]
     },
     "metadata": {},
     "output_type": "display_data"
    }
   ],
   "source": [
    "plt.hist(s, bins=np.arange(1,50,1), alpha=0.5, label=\"support\");\n",
    "c=smalldf.groupby('user').artist.count()\n",
    "print \"User-artists counts mean and median\",np.mean(c), np.median(c)\n",
    "plt.hist(c, bins=np.arange(1,50,1), alpha=0.5, label=\"user reviews\");\n",
    "plt.legend();\n",
    "plt.ylabel(\"Count\")\n",
    "plt.title(\"Histogram of User Reviews and Support\")\n",
    "plt.show()"
   ]
  },
  {
   "cell_type": "code",
   "execution_count": 45,
   "metadata": {
    "collapsed": false
   },
   "outputs": [
    {
     "data": {
      "image/png": "[encoded data removed]",
      "text/plain": [
       "<matplotlib.figure.Figure at 0x20f591990>"
      ]
     },
     "metadata": {},
     "output_type": "display_data"
    }
   ],
   "source": [
    "plt.hist(smalldf.groupby('user').count().user_artist_count,bins=15,alpha=0.7)\n",
    "plt.xlabel(\"Artists per User\")\n",
    "plt.ylabel(\"Count\")\n",
    "plt.title(\"Number of Reviews per User Histogram\")\n",
    "plt.show()"
   ]
  },
  {
   "cell_type": "code",
   "execution_count": 46,
   "metadata": {
    "collapsed": false
   },
   "outputs": [
    {
     "data": {
      "image/png": "[encoded data removed]",
      "text/plain": [
       "<matplotlib.figure.Figure at 0x1fb720fd0>"
      ]
     },
     "metadata": {},
     "output_type": "display_data"
    }
   ],
   "source": [
    "plt.hist(smalldf.groupby('artist').count().artist_user_count,bins=15,alpha=0.7)\n",
    "plt.xlabel(\"Useres per Artist\")\n",
    "plt.ylabel(\"Count\")\n",
    "plt.title(\"Number of users per Artist Histogram\")\n",
    "plt.show()"
   ]
  },
  {
   "cell_type": "code",
   "execution_count": null,
   "metadata": {
    "collapsed": true
   },
   "outputs": [],
   "source": [
    "###"
   ]
  }
 ],
 "metadata": {
  "kernelspec": {
   "display_name": "Python 2",
   "language": "python",
   "name": "python2"
  },
  "language_info": {
   "codemirror_mode": {
    "name": "ipython",
    "version": 2
   },
   "file_extension": ".py",
   "mimetype": "text/x-python",
   "name": "python",
   "nbconvert_exporter": "python",
   "pygments_lexer": "ipython2",
   "version": "2.7.11"
  }
 },
 "nbformat": 4,
 "nbformat_minor": 0
}
