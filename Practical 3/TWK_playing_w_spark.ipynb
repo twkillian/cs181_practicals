{
 "cells": [
  {
   "cell_type": "code",
   "execution_count": 1,
   "metadata": {
    "collapsed": true
   },
   "outputs": [],
   "source": [
    "import findspark\n",
    "findspark.init()\n",
    "import pyspark\n",
    "sc = pyspark.SparkContext(appName=\"Spark2\")"
   ]
  },
  {
   "cell_type": "code",
   "execution_count": 2,
   "metadata": {
    "collapsed": true
   },
   "outputs": [],
   "source": [
    "# read in genre and artist\n",
    "source_rdd = sc.textFile(\"artists_with_genres.csv\",100)"
   ]
  },
  {
   "cell_type": "code",
   "execution_count": 3,
   "metadata": {
    "collapsed": false
   },
   "outputs": [
    {
     "data": {
      "text/plain": [
       "[u',artist,name,genre',\n",
       " u'0,03098741-08b3-4dd7-b3f6-1b0bfa2c879c,Liars,alternative rock',\n",
       " u'1,69c4cc43-8163-41c5-ac81-30946d27bb69,CunninLynguists,american',\n",
       " u'2,7a2e6b55-f149-4e74-be6a-30a1b1a387bb,The Desert Sessions,rock and indie',\n",
       " u'3,7002bf88-1269-4965-a772-4ba1e7a91eaa,Glenn Gould,canadian pianist']"
      ]
     },
     "execution_count": 3,
     "metadata": {},
     "output_type": "execute_result"
    }
   ],
   "source": [
    "# see what we got\n",
    "source_rdd.take(5)"
   ]
  },
  {
   "cell_type": "code",
   "execution_count": 4,
   "metadata": {
    "collapsed": true
   },
   "outputs": [],
   "source": [
    "# remove header\n",
    "header = source_rdd.first()\n",
    "source_no_head_rdd = source_rdd.filter(lambda x: x != header)"
   ]
  },
  {
   "cell_type": "code",
   "execution_count": 48,
   "metadata": {
    "collapsed": true
   },
   "outputs": [],
   "source": [
    "# Compute how many artists there are per genre and how many different genres there are\n",
    "artists_by_genre = source_no_head_rdd.map(lambda x: x.split(','))\\\n",
    "                            .map(lambda (row_id,artist_id,artist,genre): (genre, 1))\\\n",
    "                            .reduceByKey(lambda a,b: a+b)"
   ]
  },
  {
   "cell_type": "code",
   "execution_count": 50,
   "metadata": {
    "collapsed": false
   },
   "outputs": [
    {
     "name": "stdout",
     "output_type": "stream",
     "text": [
      "354\n"
     ]
    },
    {
     "data": {
      "text/plain": [
       "[(u'', 206),\n",
       " (u'heartland rock', 3),\n",
       " (u'norway', 1),\n",
       " (u'neo-psychedelia', 2),\n",
       " (u'new wave', 11)]"
      ]
     },
     "execution_count": 50,
     "metadata": {},
     "output_type": "execute_result"
    }
   ],
   "source": [
    "print artists_by_genre.count()\n",
    "artists_by_genre.take(5)"
   ]
  },
  {
   "cell_type": "code",
   "execution_count": 5,
   "metadata": {
    "collapsed": true
   },
   "outputs": [],
   "source": [
    "# create rdd where key = user, value = list of (genre, avg # of plays per artist of that genre)\n",
    "# read in train\n",
    "source_train_rdd = sc.textFile(\"train.csv\",100)"
   ]
  },
  {
   "cell_type": "code",
   "execution_count": 6,
   "metadata": {
    "collapsed": true
   },
   "outputs": [],
   "source": [
    "# remove header\n",
    "train_header = source_train_rdd.first()\n",
    "source_train_no_head_rdd = source_train_rdd.filter(lambda x: x != train_header)"
   ]
  },
  {
   "cell_type": "code",
   "execution_count": 7,
   "metadata": {
    "collapsed": true
   },
   "outputs": [],
   "source": [
    "# See how many different artists each user has listened to\n",
    "user_artists_rdd = source_train_no_head_rdd.map(lambda x: x.split(','))\\\n",
    "                           .map(lambda (user_id, artist_id,plays): (user_id,1))\\\n",
    "                           .reduceByKey(lambda a,b: a+b)"
   ]
  },
  {
   "cell_type": "code",
   "execution_count": 17,
   "metadata": {
    "collapsed": false
   },
   "outputs": [
    {
     "data": {
      "text/plain": [
       "[(u'b495533170ac9a9dd20de8a6dd1d13d87afe2929', 18),\n",
       " (u'98397a9c9caf9d767fb4e839a95666ef7b72ef21', 9),\n",
       " (u'3f4166a1112d90b2e2dbc7ae404ceede5edafbfe', 23),\n",
       " (u'4793b73622a902b0f2649240b99f19844dc1f1f1', 15),\n",
       " (u'c975eb6595be16834f408af60925be5603d1f3e6', 21)]"
      ]
     },
     "execution_count": 17,
     "metadata": {},
     "output_type": "execute_result"
    }
   ],
   "source": [
    "user_artists_rdd.take(5)"
   ]
  },
  {
   "cell_type": "code",
   "execution_count": 21,
   "metadata": {
    "collapsed": true
   },
   "outputs": [],
   "source": [
    "# Get how many total listens each user has\n",
    "user_counts_rdd = source_train_no_head_rdd.map(lambda x: x.split(','))\\\n",
    "                                          .map(lambda (user_id,artist_id,plays): (user_id,plays))\\\n",
    "                                          .reduceByKey(lambda a,b: int(a)+int(b))"
   ]
  },
  {
   "cell_type": "code",
   "execution_count": 22,
   "metadata": {
    "collapsed": false
   },
   "outputs": [
    {
     "data": {
      "text/plain": [
       "[(u'b495533170ac9a9dd20de8a6dd1d13d87afe2929', 10752),\n",
       " (u'98397a9c9caf9d767fb4e839a95666ef7b72ef21', 1589),\n",
       " (u'3f4166a1112d90b2e2dbc7ae404ceede5edafbfe', 12931),\n",
       " (u'4793b73622a902b0f2649240b99f19844dc1f1f1', 229),\n",
       " (u'c975eb6595be16834f408af60925be5603d1f3e6', 214)]"
      ]
     },
     "execution_count": 22,
     "metadata": {},
     "output_type": "execute_result"
    }
   ],
   "source": [
    "user_counts_rdd.take(5)"
   ]
  },
  {
   "cell_type": "code",
   "execution_count": 39,
   "metadata": {
    "collapsed": true
   },
   "outputs": [],
   "source": [
    "# Compute the average number of listens each user gives to each artist\n",
    "user_avglistens_rdd = user_counts_rdd.join(user_artists_rdd).mapValues(lambda v: v[0]/float(v[1]))"
   ]
  },
  {
   "cell_type": "code",
   "execution_count": 40,
   "metadata": {
    "collapsed": false
   },
   "outputs": [
    {
     "data": {
      "text/plain": [
       "[(u'b495533170ac9a9dd20de8a6dd1d13d87afe2929', 597.3333333333334),\n",
       " (u'98397a9c9caf9d767fb4e839a95666ef7b72ef21', 176.55555555555554),\n",
       " (u'3f4166a1112d90b2e2dbc7ae404ceede5edafbfe', 562.2173913043479),\n",
       " (u'4793b73622a902b0f2649240b99f19844dc1f1f1', 15.266666666666667),\n",
       " (u'c975eb6595be16834f408af60925be5603d1f3e6', 10.19047619047619)]"
      ]
     },
     "execution_count": 40,
     "metadata": {},
     "output_type": "execute_result"
    }
   ],
   "source": [
    "user_avglistens_rdd.take(5)"
   ]
  },
  {
   "cell_type": "code",
   "execution_count": null,
   "metadata": {
    "collapsed": true
   },
   "outputs": [],
   "source": []
  },
  {
   "cell_type": "code",
   "execution_count": null,
   "metadata": {
    "collapsed": true
   },
   "outputs": [],
   "source": []
  },
  {
   "cell_type": "code",
   "execution_count": null,
   "metadata": {
    "collapsed": true
   },
   "outputs": [],
   "source": []
  },
  {
   "cell_type": "code",
   "execution_count": null,
   "metadata": {
    "collapsed": true
   },
   "outputs": [],
   "source": []
  }
 ],
 "metadata": {
  "kernelspec": {
   "display_name": "Python 2",
   "language": "python",
   "name": "python2"
  },
  "language_info": {
   "codemirror_mode": {
    "name": "ipython",
    "version": 2
   },
   "file_extension": ".py",
   "mimetype": "text/x-python",
   "name": "python",
   "nbconvert_exporter": "python",
   "pygments_lexer": "ipython2",
   "version": "2.7.11"
  }
 },
 "nbformat": 4,
 "nbformat_minor": 0
}
