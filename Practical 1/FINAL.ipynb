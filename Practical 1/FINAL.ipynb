{
 "cells": [
  {
   "cell_type": "code",
   "execution_count": 2,
   "metadata": {
    "collapsed": false
   },
   "outputs": [
    {
     "name": "stderr",
     "output_type": "stream",
     "text": [
      "//anaconda/lib/python2.7/site-packages/matplotlib/font_manager.py:273: UserWarning: Matplotlib is building the font cache using fc-list. This may take a moment.\n",
      "  warnings.warn('Matplotlib is building the font cache using fc-list. This may take a moment.')\n"
     ]
    }
   ],
   "source": [
    "%matplotlib inline\n",
    "import pandas as pd\n",
    "import numpy as np\n",
    "import scipy as sp\n",
    "import matplotlib.pyplot as plt\n",
    "from sklearn.linear_model import LinearRegression, Lasso, LassoCV, ElasticNetCV, SGDRegressor\n",
    "from sklearn.ensemble import RandomForestRegressor, ExtraTreesRegressor, AdaBoostRegressor, GradientBoostingRegressor\n",
    "from sklearn.decomposition import PCA\n",
    "from sklearn.pipeline import Pipeline\n",
    "from sklearn.grid_search import GridSearchCV\n",
    "from sklearn.cross_validation import train_test_split, KFold\n",
    "from sklearn.metrics import mean_squared_error\n",
    "from rdkit import DataStructs, Chem\n",
    "from rdkit.Chem import AllChem, Descriptors, Lipinski, Fragments, rdmolops\n",
    "from rdkit.ML.Cluster import Butina"
   ]
  },
  {
   "cell_type": "markdown",
   "metadata": {},
   "source": [
    "# *IF FEATURE ENGINEERING IS DONE: DO NOT START HERE*\n",
    "# *SKIP TO THE START OF SECTION IV: MODEL SELECTION*"
   ]
  },
  {
   "cell_type": "markdown",
   "metadata": {},
   "source": [
    "# I. Exploratory Data Analysis"
   ]
  },
  {
   "cell_type": "code",
   "execution_count": 2,
   "metadata": {
    "collapsed": false
   },
   "outputs": [],
   "source": [
    "# Read in training data\n",
    "df_train = pd.read_csv(\"train.csv\")\n"
   ]
  },
  {
   "cell_type": "code",
   "execution_count": 3,
   "metadata": {
    "collapsed": false,
    "scrolled": false
   },
   "outputs": [
    {
     "data": {
      "text/html": [
       "<div>\n",
       "<table border=\"1\" class=\"dataframe\">\n",
       "  <thead>\n",
       "    <tr style=\"text-align: right;\">\n",
       "      <th></th>\n",
       "      <th>smiles</th>\n",
       "      <th>feat_001</th>\n",
       "      <th>feat_002</th>\n",
       "      <th>feat_003</th>\n",
       "      <th>feat_004</th>\n",
       "      <th>feat_005</th>\n",
       "      <th>feat_006</th>\n",
       "      <th>feat_007</th>\n",
       "      <th>feat_008</th>\n",
       "      <th>feat_009</th>\n",
       "      <th>...</th>\n",
       "      <th>feat_248</th>\n",
       "      <th>feat_249</th>\n",
       "      <th>feat_250</th>\n",
       "      <th>feat_251</th>\n",
       "      <th>feat_252</th>\n",
       "      <th>feat_253</th>\n",
       "      <th>feat_254</th>\n",
       "      <th>feat_255</th>\n",
       "      <th>feat_256</th>\n",
       "      <th>gap</th>\n",
       "    </tr>\n",
       "  </thead>\n",
       "  <tbody>\n",
       "    <tr>\n",
       "      <th>0</th>\n",
       "      <td>c1ccc(o1)-c1ccc(s1)-c1cnc(-c2scc3[se]ccc23)c2n...</td>\n",
       "      <td>0</td>\n",
       "      <td>0</td>\n",
       "      <td>0</td>\n",
       "      <td>0</td>\n",
       "      <td>1</td>\n",
       "      <td>0</td>\n",
       "      <td>1</td>\n",
       "      <td>0</td>\n",
       "      <td>0</td>\n",
       "      <td>...</td>\n",
       "      <td>1</td>\n",
       "      <td>0</td>\n",
       "      <td>0</td>\n",
       "      <td>0</td>\n",
       "      <td>0</td>\n",
       "      <td>0</td>\n",
       "      <td>0</td>\n",
       "      <td>0</td>\n",
       "      <td>0</td>\n",
       "      <td>1.19</td>\n",
       "    </tr>\n",
       "    <tr>\n",
       "      <th>1</th>\n",
       "      <td>C1=CC=C(C1)c1cc2ncc3c4[SiH2]C=Cc4ncc3c2c2=C[Si...</td>\n",
       "      <td>1</td>\n",
       "      <td>0</td>\n",
       "      <td>0</td>\n",
       "      <td>0</td>\n",
       "      <td>1</td>\n",
       "      <td>0</td>\n",
       "      <td>1</td>\n",
       "      <td>0</td>\n",
       "      <td>0</td>\n",
       "      <td>...</td>\n",
       "      <td>1</td>\n",
       "      <td>0</td>\n",
       "      <td>0</td>\n",
       "      <td>1</td>\n",
       "      <td>0</td>\n",
       "      <td>0</td>\n",
       "      <td>0</td>\n",
       "      <td>0</td>\n",
       "      <td>0</td>\n",
       "      <td>1.60</td>\n",
       "    </tr>\n",
       "    <tr>\n",
       "      <th>2</th>\n",
       "      <td>[nH]1c-2c([SiH2]c3cc(-c4scc5C=CCc45)c4nsnc4c-2...</td>\n",
       "      <td>1</td>\n",
       "      <td>0</td>\n",
       "      <td>0</td>\n",
       "      <td>0</td>\n",
       "      <td>1</td>\n",
       "      <td>1</td>\n",
       "      <td>1</td>\n",
       "      <td>0</td>\n",
       "      <td>0</td>\n",
       "      <td>...</td>\n",
       "      <td>1</td>\n",
       "      <td>0</td>\n",
       "      <td>0</td>\n",
       "      <td>0</td>\n",
       "      <td>1</td>\n",
       "      <td>0</td>\n",
       "      <td>0</td>\n",
       "      <td>0</td>\n",
       "      <td>0</td>\n",
       "      <td>1.49</td>\n",
       "    </tr>\n",
       "    <tr>\n",
       "      <th>3</th>\n",
       "      <td>[nH]1c2-c3occc3Cc2c2c1cc(-c1cccc3=C[SiH2]C=c13...</td>\n",
       "      <td>1</td>\n",
       "      <td>0</td>\n",
       "      <td>0</td>\n",
       "      <td>0</td>\n",
       "      <td>1</td>\n",
       "      <td>1</td>\n",
       "      <td>1</td>\n",
       "      <td>0</td>\n",
       "      <td>0</td>\n",
       "      <td>...</td>\n",
       "      <td>1</td>\n",
       "      <td>0</td>\n",
       "      <td>0</td>\n",
       "      <td>0</td>\n",
       "      <td>1</td>\n",
       "      <td>0</td>\n",
       "      <td>0</td>\n",
       "      <td>0</td>\n",
       "      <td>0</td>\n",
       "      <td>1.36</td>\n",
       "    </tr>\n",
       "    <tr>\n",
       "      <th>4</th>\n",
       "      <td>c1cnc2c3oc4cc(-c5ncncn5)c5nsnc5c4c3c3cocc3c2c1</td>\n",
       "      <td>0</td>\n",
       "      <td>0</td>\n",
       "      <td>0</td>\n",
       "      <td>0</td>\n",
       "      <td>1</td>\n",
       "      <td>0</td>\n",
       "      <td>1</td>\n",
       "      <td>0</td>\n",
       "      <td>0</td>\n",
       "      <td>...</td>\n",
       "      <td>1</td>\n",
       "      <td>0</td>\n",
       "      <td>0</td>\n",
       "      <td>0</td>\n",
       "      <td>0</td>\n",
       "      <td>0</td>\n",
       "      <td>0</td>\n",
       "      <td>0</td>\n",
       "      <td>0</td>\n",
       "      <td>1.98</td>\n",
       "    </tr>\n",
       "  </tbody>\n",
       "</table>\n",
       "<p>5 rows × 258 columns</p>\n",
       "</div>"
      ],
      "text/plain": [
       "                                              smiles  feat_001  feat_002  \\\n",
       "0  c1ccc(o1)-c1ccc(s1)-c1cnc(-c2scc3[se]ccc23)c2n...         0         0   \n",
       "1  C1=CC=C(C1)c1cc2ncc3c4[SiH2]C=Cc4ncc3c2c2=C[Si...         1         0   \n",
       "2  [nH]1c-2c([SiH2]c3cc(-c4scc5C=CCc45)c4nsnc4c-2...         1         0   \n",
       "3  [nH]1c2-c3occc3Cc2c2c1cc(-c1cccc3=C[SiH2]C=c13...         1         0   \n",
       "4     c1cnc2c3oc4cc(-c5ncncn5)c5nsnc5c4c3c3cocc3c2c1         0         0   \n",
       "\n",
       "   feat_003  feat_004  feat_005  feat_006  feat_007  feat_008  feat_009  ...   \\\n",
       "0         0         0         1         0         1         0         0  ...    \n",
       "1         0         0         1         0         1         0         0  ...    \n",
       "2         0         0         1         1         1         0         0  ...    \n",
       "3         0         0         1         1         1         0         0  ...    \n",
       "4         0         0         1         0         1         0         0  ...    \n",
       "\n",
       "   feat_248  feat_249  feat_250  feat_251  feat_252  feat_253  feat_254  \\\n",
       "0         1         0         0         0         0         0         0   \n",
       "1         1         0         0         1         0         0         0   \n",
       "2         1         0         0         0         1         0         0   \n",
       "3         1         0         0         0         1         0         0   \n",
       "4         1         0         0         0         0         0         0   \n",
       "\n",
       "   feat_255  feat_256   gap  \n",
       "0         0         0  1.19  \n",
       "1         0         0  1.60  \n",
       "2         0         0  1.49  \n",
       "3         0         0  1.36  \n",
       "4         0         0  1.98  \n",
       "\n",
       "[5 rows x 258 columns]"
      ]
     },
     "execution_count": 3,
     "metadata": {},
     "output_type": "execute_result"
    }
   ],
   "source": [
    "df_train.head()"
   ]
  },
  {
   "cell_type": "code",
   "execution_count": 4,
   "metadata": {
    "collapsed": false
   },
   "outputs": [
    {
     "data": {
      "text/plain": [
       "(array([  1.00000000e+00,   0.00000000e+00,   0.00000000e+00,\n",
       "          0.00000000e+00,   0.00000000e+00,   1.00000000e+00,\n",
       "          0.00000000e+00,   0.00000000e+00,   0.00000000e+00,\n",
       "          0.00000000e+00,   0.00000000e+00,   0.00000000e+00,\n",
       "          0.00000000e+00,   1.00000000e+00,   0.00000000e+00,\n",
       "          0.00000000e+00,   0.00000000e+00,   0.00000000e+00,\n",
       "          0.00000000e+00,   1.00000000e+00,   1.30000000e+01,\n",
       "          2.08000000e+02,   1.87700000e+03,   6.97100000e+03,\n",
       "          1.85790000e+04,   3.26720000e+04,   4.29330000e+04,\n",
       "          6.01070000e+04,   6.78140000e+04,   8.81420000e+04,\n",
       "          8.71470000e+04,   1.00516000e+05,   8.87370000e+04,\n",
       "          9.22500000e+04,   7.71080000e+04,   7.28620000e+04,\n",
       "          5.39310000e+04,   4.40760000e+04,   2.65580000e+04,\n",
       "          1.79800000e+04,   9.49400000e+03,   5.73300000e+03,\n",
       "          2.40600000e+03,   1.27500000e+03,   4.13000000e+02,\n",
       "          1.57000000e+02,   2.40000000e+01,   9.00000000e+00,\n",
       "          3.00000000e+00,   1.00000000e+00]),\n",
       " array([-1.44  , -1.3352, -1.2304, -1.1256, -1.0208, -0.916 , -0.8112,\n",
       "        -0.7064, -0.6016, -0.4968, -0.392 , -0.2872, -0.1824, -0.0776,\n",
       "         0.0272,  0.132 ,  0.2368,  0.3416,  0.4464,  0.5512,  0.656 ,\n",
       "         0.7608,  0.8656,  0.9704,  1.0752,  1.18  ,  1.2848,  1.3896,\n",
       "         1.4944,  1.5992,  1.704 ,  1.8088,  1.9136,  2.0184,  2.1232,\n",
       "         2.228 ,  2.3328,  2.4376,  2.5424,  2.6472,  2.752 ,  2.8568,\n",
       "         2.9616,  3.0664,  3.1712,  3.276 ,  3.3808,  3.4856,  3.5904,\n",
       "         3.6952,  3.8   ]),\n",
       " <a list of 50 Patch objects>)"
      ]
     },
     "execution_count": 4,
     "metadata": {},
     "output_type": "execute_result"
    },
    {
     "data": {
      "image/png": "[encoded data removed]",
      "text/plain": [
       "<matplotlib.figure.Figure at 0x106bd2210>"
      ]
     },
     "metadata": {},
     "output_type": "display_data"
    }
   ],
   "source": [
    "plt.hist(df_train.gap.values, bins=50)"
   ]
  },
  {
   "cell_type": "markdown",
   "metadata": {},
   "source": [
    "### Note: \n",
    "I see some outliers around -1.5.  Having negative values makes no sense, since the gap is highest - lowest -- they must be misrecorded.  ==> Remove them"
   ]
  },
  {
   "cell_type": "code",
   "execution_count": 5,
   "metadata": {
    "collapsed": true
   },
   "outputs": [],
   "source": [
    "# Remove negative HOMO-LUMO gaps\n",
    "df_train = df_train[df_train['gap'] >= 0]"
   ]
  },
  {
   "cell_type": "code",
   "execution_count": 6,
   "metadata": {
    "collapsed": false
   },
   "outputs": [
    {
     "name": "stdout",
     "output_type": "stream",
     "text": [
      "999997\n"
     ]
    }
   ],
   "source": [
    "print len(df_train)"
   ]
  },
  {
   "cell_type": "code",
   "execution_count": 7,
   "metadata": {
    "collapsed": false
   },
   "outputs": [
    {
     "data": {
      "text/plain": [
       "(array([  1.00000000e+00,   3.00000000e+00,   1.00000000e+01,\n",
       "          6.80000000e+01,   3.46000000e+02,   1.03000000e+03,\n",
       "          3.10900000e+03,   5.69200000e+03,   1.16800000e+04,\n",
       "          1.52310000e+04,   2.31510000e+04,   2.45190000e+04,\n",
       "          2.82990000e+04,   3.82210000e+04,   3.75660000e+04,\n",
       "          4.99490000e+04,   4.69370000e+04,   5.92430000e+04,\n",
       "          5.27070000e+04,   6.31800000e+04,   5.51100000e+04,\n",
       "          6.23660000e+04,   5.13550000e+04,   5.81940000e+04,\n",
       "          4.73270000e+04,   4.41680000e+04,   4.62780000e+04,\n",
       "          3.57430000e+04,   3.51520000e+04,   2.52700000e+04,\n",
       "          2.32420000e+04,   1.51640000e+04,   1.31150000e+04,\n",
       "          8.26600000e+03,   6.79300000e+03,   4.05100000e+03,\n",
       "          3.17300000e+03,   1.67100000e+03,   1.03700000e+03,\n",
       "          7.96000000e+02,   3.72000000e+02,   2.42000000e+02,\n",
       "          9.00000000e+01,   5.30000000e+01,   1.40000000e+01,\n",
       "          6.00000000e+00,   3.00000000e+00,   3.00000000e+00,\n",
       "          0.00000000e+00,   1.00000000e+00]),\n",
       " array([ 0.57  ,  0.6346,  0.6992,  0.7638,  0.8284,  0.893 ,  0.9576,\n",
       "         1.0222,  1.0868,  1.1514,  1.216 ,  1.2806,  1.3452,  1.4098,\n",
       "         1.4744,  1.539 ,  1.6036,  1.6682,  1.7328,  1.7974,  1.862 ,\n",
       "         1.9266,  1.9912,  2.0558,  2.1204,  2.185 ,  2.2496,  2.3142,\n",
       "         2.3788,  2.4434,  2.508 ,  2.5726,  2.6372,  2.7018,  2.7664,\n",
       "         2.831 ,  2.8956,  2.9602,  3.0248,  3.0894,  3.154 ,  3.2186,\n",
       "         3.2832,  3.3478,  3.4124,  3.477 ,  3.5416,  3.6062,  3.6708,\n",
       "         3.7354,  3.8   ]),\n",
       " <a list of 50 Patch objects>)"
      ]
     },
     "execution_count": 7,
     "metadata": {},
     "output_type": "execute_result"
    },
    {
     "data": {
      "image/png": "[encoded data removed]",
      "text/plain": [
       "<matplotlib.figure.Figure at 0x106bd2150>"
      ]
     },
     "metadata": {},
     "output_type": "display_data"
    }
   ],
   "source": [
    "# Plot histogram of gaps without negative values\n",
    "plt.hist(df_train.gap.values, bins=50)"
   ]
  },
  {
   "cell_type": "markdown",
   "metadata": {},
   "source": [
    "# II. Training Data Processing and Feature Engineering\n",
    "1. Drop all columns except smiles and gaps\n",
    "2. Add \"key\" column, partition the data, and save those partitions\n",
    "3. Remove all dataframes from memory\n",
    "4. Load each partition (1 by 1), perform feature engineering, and save each partition to a csv\n",
    "5. Reaggregate all partitions into one df, merge add binary-valued features from original training dataset, and save to csv"
   ]
  },
  {
   "cell_type": "markdown",
   "metadata": {},
   "source": [
    "### 1. Drop all columns except smiles and gaps"
   ]
  },
  {
   "cell_type": "code",
   "execution_count": 8,
   "metadata": {
    "collapsed": false
   },
   "outputs": [
    {
     "data": {
      "text/html": [
       "<div>\n",
       "<table border=\"1\" class=\"dataframe\">\n",
       "  <thead>\n",
       "    <tr style=\"text-align: right;\">\n",
       "      <th></th>\n",
       "      <th>smiles</th>\n",
       "      <th>gap</th>\n",
       "    </tr>\n",
       "  </thead>\n",
       "  <tbody>\n",
       "    <tr>\n",
       "      <th>0</th>\n",
       "      <td>c1ccc(o1)-c1ccc(s1)-c1cnc(-c2scc3[se]ccc23)c2n...</td>\n",
       "      <td>1.19</td>\n",
       "    </tr>\n",
       "    <tr>\n",
       "      <th>1</th>\n",
       "      <td>C1=CC=C(C1)c1cc2ncc3c4[SiH2]C=Cc4ncc3c2c2=C[Si...</td>\n",
       "      <td>1.60</td>\n",
       "    </tr>\n",
       "    <tr>\n",
       "      <th>2</th>\n",
       "      <td>[nH]1c-2c([SiH2]c3cc(-c4scc5C=CCc45)c4nsnc4c-2...</td>\n",
       "      <td>1.49</td>\n",
       "    </tr>\n",
       "    <tr>\n",
       "      <th>3</th>\n",
       "      <td>[nH]1c2-c3occc3Cc2c2c1cc(-c1cccc3=C[SiH2]C=c13...</td>\n",
       "      <td>1.36</td>\n",
       "    </tr>\n",
       "    <tr>\n",
       "      <th>4</th>\n",
       "      <td>c1cnc2c3oc4cc(-c5ncncn5)c5nsnc5c4c3c3cocc3c2c1</td>\n",
       "      <td>1.98</td>\n",
       "    </tr>\n",
       "  </tbody>\n",
       "</table>\n",
       "</div>"
      ],
      "text/plain": [
       "                                              smiles   gap\n",
       "0  c1ccc(o1)-c1ccc(s1)-c1cnc(-c2scc3[se]ccc23)c2n...  1.19\n",
       "1  C1=CC=C(C1)c1cc2ncc3c4[SiH2]C=Cc4ncc3c2c2=C[Si...  1.60\n",
       "2  [nH]1c-2c([SiH2]c3cc(-c4scc5C=CCc45)c4nsnc4c-2...  1.49\n",
       "3  [nH]1c2-c3occc3Cc2c2c1cc(-c1cccc3=C[SiH2]C=c13...  1.36\n",
       "4     c1cnc2c3oc4cc(-c5ncncn5)c5nsnc5c4c3c3cocc3c2c1  1.98"
      ]
     },
     "execution_count": 8,
     "metadata": {},
     "output_type": "execute_result"
    }
   ],
   "source": [
    "# remove all columns except smiles and gaps\n",
    "df_train = df_train.drop(df_train.columns[range(1,257)], axis=1)\n",
    "df_train.head()"
   ]
  },
  {
   "cell_type": "markdown",
   "metadata": {},
   "source": [
    "### 2. Add \"key\" column, partition the data, and save those partitions"
   ]
  },
  {
   "cell_type": "code",
   "execution_count": 9,
   "metadata": {
    "collapsed": true
   },
   "outputs": [],
   "source": [
    "# add key column\n",
    "df_train['key'] = df_train.index"
   ]
  },
  {
   "cell_type": "code",
   "execution_count": 10,
   "metadata": {
    "collapsed": false
   },
   "outputs": [
    {
     "data": {
      "text/html": [
       "<div>\n",
       "<table border=\"1\" class=\"dataframe\">\n",
       "  <thead>\n",
       "    <tr style=\"text-align: right;\">\n",
       "      <th></th>\n",
       "      <th>smiles</th>\n",
       "      <th>gap</th>\n",
       "      <th>key</th>\n",
       "    </tr>\n",
       "  </thead>\n",
       "  <tbody>\n",
       "    <tr>\n",
       "      <th>0</th>\n",
       "      <td>c1ccc(o1)-c1ccc(s1)-c1cnc(-c2scc3[se]ccc23)c2n...</td>\n",
       "      <td>1.19</td>\n",
       "      <td>0</td>\n",
       "    </tr>\n",
       "    <tr>\n",
       "      <th>1</th>\n",
       "      <td>C1=CC=C(C1)c1cc2ncc3c4[SiH2]C=Cc4ncc3c2c2=C[Si...</td>\n",
       "      <td>1.60</td>\n",
       "      <td>1</td>\n",
       "    </tr>\n",
       "    <tr>\n",
       "      <th>2</th>\n",
       "      <td>[nH]1c-2c([SiH2]c3cc(-c4scc5C=CCc45)c4nsnc4c-2...</td>\n",
       "      <td>1.49</td>\n",
       "      <td>2</td>\n",
       "    </tr>\n",
       "    <tr>\n",
       "      <th>3</th>\n",
       "      <td>[nH]1c2-c3occc3Cc2c2c1cc(-c1cccc3=C[SiH2]C=c13...</td>\n",
       "      <td>1.36</td>\n",
       "      <td>3</td>\n",
       "    </tr>\n",
       "    <tr>\n",
       "      <th>4</th>\n",
       "      <td>c1cnc2c3oc4cc(-c5ncncn5)c5nsnc5c4c3c3cocc3c2c1</td>\n",
       "      <td>1.98</td>\n",
       "      <td>4</td>\n",
       "    </tr>\n",
       "  </tbody>\n",
       "</table>\n",
       "</div>"
      ],
      "text/plain": [
       "                                              smiles   gap  key\n",
       "0  c1ccc(o1)-c1ccc(s1)-c1cnc(-c2scc3[se]ccc23)c2n...  1.19    0\n",
       "1  C1=CC=C(C1)c1cc2ncc3c4[SiH2]C=Cc4ncc3c2c2=C[Si...  1.60    1\n",
       "2  [nH]1c-2c([SiH2]c3cc(-c4scc5C=CCc45)c4nsnc4c-2...  1.49    2\n",
       "3  [nH]1c2-c3occc3Cc2c2c1cc(-c1cccc3=C[SiH2]C=c13...  1.36    3\n",
       "4     c1cnc2c3oc4cc(-c5ncncn5)c5nsnc5c4c3c3cocc3c2c1  1.98    4"
      ]
     },
     "execution_count": 10,
     "metadata": {},
     "output_type": "execute_result"
    }
   ],
   "source": [
    "df_train.head()"
   ]
  },
  {
   "cell_type": "code",
   "execution_count": 11,
   "metadata": {
    "collapsed": true
   },
   "outputs": [],
   "source": [
    "num_parts = 10\n",
    "df_train_parts = np.array_split(df_train, num_parts)\n",
    "for i in xrange(len(df_train_parts)):\n",
    "    df_train_parts[i].to_csv('smiles_gaps_keys_df_train_part_'+str(i)+'.csv', index=False)"
   ]
  },
  {
   "cell_type": "markdown",
   "metadata": {},
   "source": [
    "### 3. Remove all dataframes from memory"
   ]
  },
  {
   "cell_type": "code",
   "execution_count": 12,
   "metadata": {
    "collapsed": true
   },
   "outputs": [],
   "source": [
    "del df_train\n",
    "del df_train_parts"
   ]
  },
  {
   "cell_type": "markdown",
   "metadata": {},
   "source": [
    "### 4. Load each partition (1 by 1), perform feature engineering, and save each partition to a csv\n",
    "\n",
    "(http://machinelearningmastery.com/discover-feature-engineering-how-to-engineer-features-and-how-to-get-good-at-it/). \n",
    "\n",
    "#### Number of Branches\n",
    "The idea is that the number of  [branches](https://en.wikipedia.org/wiki/Simplified_molecular-input_line-entry_system#Branching) influences the gap between HOMO and LUMO levels.\n",
    "\n",
    "#### Note: We pull the specific compounds of intereste from [this poster.](http://digitalscholarship.unlv.edu/cgi/viewcontent.cgi?article=1036&context=focs_ug_research)\n",
    "\n",
    "#### Benzene Ring\n",
    "The last feature is determining, from the SMILES encoding whether or not there is a benzene ring in the compound. Benzene rings are held together with pi bonds which are more conjugated (which means they are closer together in energy)\n",
    "\n",
    "#### Number of Double Bonds\n",
    "\n",
    "#### Additional Features engineered using from RDKit library"
   ]
  },
  {
   "cell_type": "code",
   "execution_count": 14,
   "metadata": {
    "collapsed": false
   },
   "outputs": [
    {
     "name": "stdout",
     "output_type": "stream",
     "text": [
      "Part 0: finished initial feat gen\n",
      "Part 0: finished molecule generation\n",
      "Part 0: finished first feature\n",
      "Part 0: finished Descriptors and rdmolops\n",
      "Part 0: finished Lipinski\n",
      "Part 0: finished Fragments\n",
      "Part 1: finished initial feat gen\n",
      "Part 1: finished molecule generation\n",
      "Part 1: finished first feature\n",
      "Part 1: finished Descriptors and rdmolops\n",
      "Part 1: finished Lipinski\n",
      "Part 1: finished Fragments\n",
      "Part 2: finished initial feat gen\n",
      "Part 2: finished molecule generation\n",
      "Part 2: finished first feature\n",
      "Part 2: finished Descriptors and rdmolops\n",
      "Part 2: finished Lipinski\n",
      "Part 2: finished Fragments\n",
      "Part 3: finished initial feat gen\n",
      "Part 3: finished molecule generation\n",
      "Part 3: finished first feature\n",
      "Part 3: finished Descriptors and rdmolops\n",
      "Part 3: finished Lipinski\n",
      "Part 3: finished Fragments\n",
      "Part 4: finished initial feat gen\n",
      "Part 4: finished molecule generation\n",
      "Part 4: finished first feature\n",
      "Part 4: finished Descriptors and rdmolops\n",
      "Part 4: finished Lipinski\n",
      "Part 4: finished Fragments\n",
      "Part 5: finished initial feat gen\n",
      "Part 5: finished molecule generation\n",
      "Part 5: finished first feature\n",
      "Part 5: finished Descriptors and rdmolops\n",
      "Part 5: finished Lipinski\n",
      "Part 5: finished Fragments\n",
      "Part 6: finished initial feat gen\n",
      "Part 6: finished molecule generation\n",
      "Part 6: finished first feature\n",
      "Part 6: finished Descriptors and rdmolops\n",
      "Part 6: finished Lipinski\n",
      "Part 6: finished Fragments\n",
      "Part 7: finished initial feat gen\n",
      "Part 7: finished molecule generation\n",
      "Part 7: finished first feature\n",
      "Part 7: finished Descriptors and rdmolops\n",
      "Part 7: finished Lipinski\n",
      "Part 7: finished Fragments\n",
      "Part 8: finished initial feat gen\n",
      "Part 8: finished molecule generation\n",
      "Part 8: finished first feature\n",
      "Part 8: finished Descriptors and rdmolops\n",
      "Part 8: finished Lipinski\n",
      "Part 8: finished Fragments\n",
      "Part 9: finished initial feat gen\n",
      "Part 9: finished molecule generation\n",
      "Part 9: finished first feature\n",
      "Part 9: finished Descriptors and rdmolops\n",
      "Part 9: finished Lipinski\n",
      "Part 9: finished Fragments\n"
     ]
    }
   ],
   "source": [
    "for i in xrange(num_parts):\n",
    "    df_train_part = pd.read_csv('smiles_gaps_keys_df_train_part_'+str(i)+'.csv')\n",
    "    \n",
    "    # Apply feature engineering to train data\n",
    "    num_branches = df_train_part.smiles.apply(lambda x: x.count('('))\n",
    "    has_benzothiophene = df_train_part.smiles.apply(lambda x: min(1,x.count('s2c1ccccc1cc2')))\n",
    "    has_carbazole = df_train_part.smiles.apply(lambda x: min(1,x.count('c1ccc2c(c1)c3ccccc3[nH]2')))\n",
    "    has_fluorene = df_train_part.smiles.apply(lambda x: min(1,x.count('c1ccc-2c(c1)Cc3c2cccc3')))\n",
    "    num_double_bonds = df_train_part.smiles.apply(lambda x: x.count('='))\n",
    "    df_train_part['num_branches'] = num_branches\n",
    "    df_train_part['has_benzothiophene'] = has_benzothiophene\n",
    "    df_train_part['has_carbazole'] = has_carbazole\n",
    "    df_train_part['has_fluorene'] = has_fluorene\n",
    "    df_train_part['num_double_bonds'] = num_double_bonds\n",
    "    print \"Part {}: finished initial feat gen\".format(i)\n",
    "    # RDKit Feature Engineering\n",
    "    # Generate molecule objects\n",
    "    molecules = df_train_part.smiles.apply(lambda x: Chem.MolFromSmiles(x))\n",
    "    print \"Part {}: finished molecule generation\".format(i)\n",
    "    # Generate Features\n",
    "    df_train_part['avg_molecular_weight'] = molecules.apply(lambda x: Descriptors.MolWt(x))\n",
    "    print \"Part {}: finished first feature\".format(i)\n",
    "    df_train_part['exact_molecular_weight'] = molecules.apply(lambda x: Descriptors.ExactMolWt(x))\n",
    "    df_train_part['avg_molecular_weight_ignore_hydrogen'] = molecules.apply(lambda x: Descriptors.HeavyAtomMolWt(x))\n",
    "    df_train_part['num_valence_electrons'] = molecules.apply(lambda x: Descriptors.NumValenceElectrons(x))\n",
    "    df_train_part['num_radical_electrons'] = molecules.apply(lambda x: Descriptors.NumRadicalElectrons(x))\n",
    "    df_train_part['formal_charge'] = molecules.apply(lambda x: rdmolops.GetFormalCharge(x))\n",
    "    df_train_part['sssr'] = molecules.apply(lambda x: rdmolops.GetSSSR(x))\n",
    "    print \"Part {}: finished Descriptors and rdmolops\".format(i)\n",
    "    df_train_part['fraction_csp3'] = molecules.apply(lambda x: Lipinski.FractionCSP3(x))\n",
    "    df_train_part['num_aliphatic_carbocycles'] = molecules.apply(lambda x: Lipinski.NumAliphaticCarbocycles(x))\n",
    "    df_train_part['num_aliphatic_heterocycles'] = molecules.apply(lambda x: Lipinski.NumAliphaticHeterocycles(x))\n",
    "    df_train_part['num_aliphatic_rings'] = molecules.apply(lambda x: Lipinski.NumAliphaticRings(x))\n",
    "    df_train_part['num_aromatic_carbocycles'] = molecules.apply(lambda x: Lipinski.NumAromaticCarbocycles(x))\n",
    "    df_train_part['num_aromatic_heterocycles'] = molecules.apply(lambda x: Lipinski.NumAromaticHeterocycles(x))\n",
    "    df_train_part['num_aromatic_rings'] = molecules.apply(lambda x: Lipinski.NumAromaticRings(x))\n",
    "    df_train_part['num_saturated_carbocycles'] = molecules.apply(lambda x: Lipinski.NumSaturatedCarbocycles(x))\n",
    "    df_train_part['num_saturated_heterocycles'] = molecules.apply(lambda x: Lipinski.NumSaturatedHeterocycles(x))\n",
    "    df_train_part['num_saturated_rings'] = molecules.apply(lambda x: Lipinski.NumSaturatedRings(x))\n",
    "    df_train_part['num_nh_oh'] = molecules.apply(lambda x: Lipinski.NHOHCount(x))\n",
    "    df_train_part['num_num_rotatable_bonds'] = molecules.apply(lambda x: Lipinski.NumRotatableBonds(x))\n",
    "    df_train_part['num_heteroatoms'] = molecules.apply(lambda x: Lipinski.NumHeteroatoms(x))\n",
    "    df_train_part['num_h_acceptors'] = molecules.apply(lambda x: Lipinski.NumHAcceptors(x))\n",
    "    df_train_part['num_h_donors'] = molecules.apply(lambda x: Lipinski.NumHDonors(x))\n",
    "    df_train_part['ring_count'] = molecules.apply(lambda x: Lipinski.RingCount(x))\n",
    "    print \"Part {}: finished Lipinski\".format(i)\n",
    "    # See Parsing_methods_from_rdk_source.ipynb\n",
    "    df_train_part['fr_Al_COO'] = molecules.apply(lambda x: Fragments.fr_Al_COO(x))\n",
    "    df_train_part['fr_Al_OH'] = molecules.apply(lambda x: Fragments.fr_Al_OH(x))\n",
    "    df_train_part['fr_Al_OH_noTert'] = molecules.apply(lambda x: Fragments.fr_Al_OH_noTert(x))\n",
    "    df_train_part['fr_ArN'] = molecules.apply(lambda x: Fragments.fr_ArN(x))\n",
    "    df_train_part['fr_Ar_COO'] = molecules.apply(lambda x: Fragments.fr_Ar_COO(x))\n",
    "    df_train_part['fr_Ar_N'] = molecules.apply(lambda x: Fragments.fr_Ar_N(x))\n",
    "    df_train_part['fr_Ar_NH'] = molecules.apply(lambda x: Fragments.fr_Ar_NH(x))\n",
    "    df_train_part['fr_Ar_OH'] = molecules.apply(lambda x: Fragments.fr_Ar_OH(x))\n",
    "    df_train_part['fr_COO'] = molecules.apply(lambda x: Fragments.fr_COO(x))\n",
    "    df_train_part['fr_COO2'] = molecules.apply(lambda x: Fragments.fr_COO2(x))\n",
    "    df_train_part['fr_C_O'] = molecules.apply(lambda x: Fragments.fr_C_O(x))\n",
    "    df_train_part['fr_C_O_noCOO'] = molecules.apply(lambda x: Fragments.fr_C_O_noCOO(x))\n",
    "    df_train_part['fr_C_S'] = molecules.apply(lambda x: Fragments.fr_C_S(x))\n",
    "    df_train_part['fr_HOCCN'] = molecules.apply(lambda x: Fragments.fr_HOCCN(x))\n",
    "    df_train_part['fr_Imine'] = molecules.apply(lambda x: Fragments.fr_Imine(x))\n",
    "    df_train_part['fr_NH0'] = molecules.apply(lambda x: Fragments.fr_NH0(x))\n",
    "    df_train_part['fr_NH1'] = molecules.apply(lambda x: Fragments.fr_NH1(x))\n",
    "    df_train_part['fr_NH2'] = molecules.apply(lambda x: Fragments.fr_NH2(x))\n",
    "    df_train_part['fr_N_O'] = molecules.apply(lambda x: Fragments.fr_N_O(x))\n",
    "    df_train_part['fr_Ndealkylation1'] = molecules.apply(lambda x: Fragments.fr_Ndealkylation1(x))\n",
    "    df_train_part['fr_Ndealkylation2'] = molecules.apply(lambda x: Fragments.fr_Ndealkylation2(x))\n",
    "    df_train_part['fr_Nhpyrrole'] = molecules.apply(lambda x: Fragments.fr_Nhpyrrole(x))\n",
    "    df_train_part['fr_SH'] = molecules.apply(lambda x: Fragments.fr_SH(x))\n",
    "    df_train_part['fr_aldehyde'] = molecules.apply(lambda x: Fragments.fr_aldehyde(x))\n",
    "    df_train_part['fr_alkyl_carbamate'] = molecules.apply(lambda x: Fragments.fr_alkyl_carbamate(x))\n",
    "    df_train_part['fr_alkyl_halide'] = molecules.apply(lambda x: Fragments.fr_alkyl_halide(x))\n",
    "    df_train_part['fr_allylic_oxid'] = molecules.apply(lambda x: Fragments.fr_allylic_oxid(x))\n",
    "    df_train_part['fr_amide'] = molecules.apply(lambda x: Fragments.fr_amide(x))\n",
    "    df_train_part['fr_amidine'] = molecules.apply(lambda x: Fragments.fr_amidine(x))\n",
    "    df_train_part['fr_aniline'] = molecules.apply(lambda x: Fragments.fr_aniline(x))\n",
    "    df_train_part['fr_aryl_methyl'] = molecules.apply(lambda x: Fragments.fr_aryl_methyl(x))\n",
    "    df_train_part['fr_azide'] = molecules.apply(lambda x: Fragments.fr_azide(x))\n",
    "    df_train_part['fr_azo'] = molecules.apply(lambda x: Fragments.fr_azo(x))\n",
    "    df_train_part['fr_barbitur'] = molecules.apply(lambda x: Fragments.fr_barbitur(x))\n",
    "    df_train_part['fr_benzene'] = molecules.apply(lambda x: Fragments.fr_benzene(x))\n",
    "    df_train_part['fr_benzodiazepine'] = molecules.apply(lambda x: Fragments.fr_benzodiazepine(x))\n",
    "    df_train_part['fr_bicyclic'] = molecules.apply(lambda x: Fragments.fr_bicyclic(x))\n",
    "    df_train_part['fr_diazo'] = molecules.apply(lambda x: Fragments.fr_diazo(x))\n",
    "    df_train_part['fr_dihydropyridine'] = molecules.apply(lambda x: Fragments.fr_dihydropyridine(x))\n",
    "    df_train_part['fr_epoxide'] = molecules.apply(lambda x: Fragments.fr_epoxide(x))\n",
    "    df_train_part['fr_ester'] = molecules.apply(lambda x: Fragments.fr_ester(x))\n",
    "    df_train_part['fr_ether'] = molecules.apply(lambda x: Fragments.fr_ether(x))\n",
    "    df_train_part['fr_furan'] = molecules.apply(lambda x: Fragments.fr_furan(x))\n",
    "    df_train_part['fr_guanido'] = molecules.apply(lambda x: Fragments.fr_guanido(x))\n",
    "    df_train_part['fr_halogen'] = molecules.apply(lambda x: Fragments.fr_halogen(x))\n",
    "    df_train_part['fr_hdrzine'] = molecules.apply(lambda x: Fragments.fr_hdrzine(x))\n",
    "    df_train_part['fr_hdrzone'] = molecules.apply(lambda x: Fragments.fr_hdrzone(x))\n",
    "    df_train_part['fr_imidazole'] = molecules.apply(lambda x: Fragments.fr_imidazole(x))\n",
    "    df_train_part['fr_imide'] = molecules.apply(lambda x: Fragments.fr_imide(x))\n",
    "    df_train_part['fr_isocyan'] = molecules.apply(lambda x: Fragments.fr_isocyan(x))\n",
    "    df_train_part['fr_isothiocyan'] = molecules.apply(lambda x: Fragments.fr_isothiocyan(x))\n",
    "    df_train_part['fr_ketone'] = molecules.apply(lambda x: Fragments.fr_ketone(x))\n",
    "    df_train_part['fr_lactam'] = molecules.apply(lambda x: Fragments.fr_lactam(x))\n",
    "    df_train_part['fr_lactone'] = molecules.apply(lambda x: Fragments.fr_lactone(x))\n",
    "    df_train_part['fr_methoxy'] = molecules.apply(lambda x: Fragments.fr_methoxy(x))\n",
    "    df_train_part['fr_morpholine'] = molecules.apply(lambda x: Fragments.fr_morpholine(x))\n",
    "    df_train_part['fr_nitrile'] = molecules.apply(lambda x: Fragments.fr_nitrile(x))\n",
    "    df_train_part['fr_nitro'] = molecules.apply(lambda x: Fragments.fr_nitro(x))\n",
    "    df_train_part['fr_nitro_arom'] = molecules.apply(lambda x: Fragments.fr_nitro_arom(x))\n",
    "    df_train_part['fr_nitro_arom_nonortho'] = molecules.apply(lambda x: Fragments.fr_nitro_arom_nonortho(x))\n",
    "    df_train_part['fr_nitroso'] = molecules.apply(lambda x: Fragments.fr_nitroso(x))\n",
    "    df_train_part['fr_oxazole'] = molecules.apply(lambda x: Fragments.fr_oxazole(x))\n",
    "    df_train_part['fr_oxime'] = molecules.apply(lambda x: Fragments.fr_oxime(x))\n",
    "    df_train_part['fr_para_hydroxylation'] = molecules.apply(lambda x: Fragments.fr_para_hydroxylation(x))\n",
    "    df_train_part['fr_phenol'] = molecules.apply(lambda x: Fragments.fr_phenol(x))\n",
    "    df_train_part['fr_phenol_noOrthoHbond'] = molecules.apply(lambda x: Fragments.fr_phenol_noOrthoHbond(x))\n",
    "    df_train_part['fr_phos_acid'] = molecules.apply(lambda x: Fragments.fr_phos_acid(x))\n",
    "    df_train_part['fr_phos_ester'] = molecules.apply(lambda x: Fragments.fr_phos_ester(x))\n",
    "    df_train_part['fr_piperdine'] = molecules.apply(lambda x: Fragments.fr_piperdine(x))\n",
    "    df_train_part['fr_piperzine'] = molecules.apply(lambda x: Fragments.fr_piperzine(x))\n",
    "    df_train_part['fr_priamide'] = molecules.apply(lambda x: Fragments.fr_priamide(x))\n",
    "    df_train_part['fr_prisulfonamd'] = molecules.apply(lambda x: Fragments.fr_prisulfonamd(x))\n",
    "    df_train_part['fr_pyridine'] = molecules.apply(lambda x: Fragments.fr_pyridine(x))\n",
    "    df_train_part['fr_quatN'] = molecules.apply(lambda x: Fragments.fr_quatN(x))\n",
    "    df_train_part['fr_sulfide'] = molecules.apply(lambda x: Fragments.fr_sulfide(x))\n",
    "    df_train_part['fr_sulfonamd'] = molecules.apply(lambda x: Fragments.fr_sulfonamd(x))\n",
    "    df_train_part['fr_sulfone'] = molecules.apply(lambda x: Fragments.fr_sulfone(x))\n",
    "    df_train_part['fr_term_acetylene'] = molecules.apply(lambda x: Fragments.fr_term_acetylene(x))\n",
    "    df_train_part['fr_tetrazole'] = molecules.apply(lambda x: Fragments.fr_tetrazole(x))\n",
    "    df_train_part['fr_thiazole'] = molecules.apply(lambda x: Fragments.fr_thiazole(x))\n",
    "    df_train_part['fr_thiocyan'] = molecules.apply(lambda x: Fragments.fr_thiocyan(x))\n",
    "    df_train_part['fr_thiophene'] = molecules.apply(lambda x: Fragments.fr_thiophene(x))\n",
    "    df_train_part['fr_unbrch_alkane'] = molecules.apply(lambda x: Fragments.fr_unbrch_alkane(x))\n",
    "    df_train_part['fr_urea'] = molecules.apply(lambda x: Fragments.fr_urea(x))\n",
    "    df_train_part['fr_ketone_Topliss'] = molecules.apply(lambda x: Fragments.fr_ketone_Topliss(x))\n",
    "    \n",
    "    print \"Part {}: finished Fragments\".format(i)\n",
    "    df_train_part.to_csv('rdk_feat_eng_df_train_part_'+str(i)+'.csv', index=False)\n",
    "    del df_train_part\n",
    "    del molecules"
   ]
  },
  {
   "cell_type": "markdown",
   "metadata": {},
   "source": [
    "### 5. Reaggregate all partitions into one df, merge add binary-valued features from original training dataset, and save to csv"
   ]
  },
  {
   "cell_type": "code",
   "execution_count": 15,
   "metadata": {
    "collapsed": true
   },
   "outputs": [],
   "source": [
    "# Read in each feature engineered partition\n",
    "df_train_parts = [pd.read_csv('rdk_feat_eng_df_train_part_'+str(i)+'.csv') for i in xrange(num_parts)]\n",
    "# concatenate them into one df\n",
    "df_train = pd.concat(df_train_parts)"
   ]
  },
  {
   "cell_type": "code",
   "execution_count": 16,
   "metadata": {
    "collapsed": true
   },
   "outputs": [],
   "source": [
    "# Read in old training\n",
    "# Note: df_train_old has same as before partitioning\n",
    "df_train_old = pd.read_csv(\"train.csv\")\n",
    "# Add key\n",
    "df_train_old['key'] = df_train_old.index\n",
    "# merge dataframes on 'key'\n",
    "df_train = df_train.merge(df_train_old, on=[\"key\"])\n",
    "# Fix columns\n",
    "df_train = df_train.drop(['gap_x'],axis=1)\n",
    "df_train = df_train.drop(['key'],axis=1)\n",
    "df_train = df_train.rename(columns = {'gap_y':'gap'})\n",
    "df_train = df_train.drop(['smiles_x'],axis=1)\n",
    "df_train = df_train.rename(columns = {'smiles_y':'smiles'})"
   ]
  },
  {
   "cell_type": "code",
   "execution_count": 19,
   "metadata": {
    "collapsed": false
   },
   "outputs": [
    {
     "data": {
      "text/html": [
       "<div>\n",
       "<table border=\"1\" class=\"dataframe\">\n",
       "  <thead>\n",
       "    <tr style=\"text-align: right;\">\n",
       "      <th></th>\n",
       "      <th>num_branches</th>\n",
       "      <th>has_benzothiophene</th>\n",
       "      <th>has_carbazole</th>\n",
       "      <th>has_fluorene</th>\n",
       "      <th>num_double_bonds</th>\n",
       "      <th>avg_molecular_weight</th>\n",
       "      <th>exact_molecular_weight</th>\n",
       "      <th>avg_molecular_weight_ignore_hydrogen</th>\n",
       "      <th>num_valence_electrons</th>\n",
       "      <th>num_radical_electrons</th>\n",
       "      <th>...</th>\n",
       "      <th>feat_248</th>\n",
       "      <th>feat_249</th>\n",
       "      <th>feat_250</th>\n",
       "      <th>feat_251</th>\n",
       "      <th>feat_252</th>\n",
       "      <th>feat_253</th>\n",
       "      <th>feat_254</th>\n",
       "      <th>feat_255</th>\n",
       "      <th>feat_256</th>\n",
       "      <th>gap</th>\n",
       "    </tr>\n",
       "  </thead>\n",
       "  <tbody>\n",
       "    <tr>\n",
       "      <th>0</th>\n",
       "      <td>3</td>\n",
       "      <td>0</td>\n",
       "      <td>0</td>\n",
       "      <td>0</td>\n",
       "      <td>0</td>\n",
       "      <td>470.462</td>\n",
       "      <td>470.907296</td>\n",
       "      <td>461.390</td>\n",
       "      <td>130</td>\n",
       "      <td>0</td>\n",
       "      <td>...</td>\n",
       "      <td>1</td>\n",
       "      <td>0</td>\n",
       "      <td>0</td>\n",
       "      <td>0</td>\n",
       "      <td>0</td>\n",
       "      <td>0</td>\n",
       "      <td>0</td>\n",
       "      <td>0</td>\n",
       "      <td>0</td>\n",
       "      <td>1.19</td>\n",
       "    </tr>\n",
       "    <tr>\n",
       "      <th>1</th>\n",
       "      <td>1</td>\n",
       "      <td>0</td>\n",
       "      <td>0</td>\n",
       "      <td>0</td>\n",
       "      <td>5</td>\n",
       "      <td>352.545</td>\n",
       "      <td>352.085202</td>\n",
       "      <td>336.417</td>\n",
       "      <td>118</td>\n",
       "      <td>0</td>\n",
       "      <td>...</td>\n",
       "      <td>1</td>\n",
       "      <td>0</td>\n",
       "      <td>0</td>\n",
       "      <td>1</td>\n",
       "      <td>0</td>\n",
       "      <td>0</td>\n",
       "      <td>0</td>\n",
       "      <td>0</td>\n",
       "      <td>0</td>\n",
       "      <td>1.60</td>\n",
       "    </tr>\n",
       "    <tr>\n",
       "      <th>2</th>\n",
       "      <td>2</td>\n",
       "      <td>0</td>\n",
       "      <td>0</td>\n",
       "      <td>0</td>\n",
       "      <td>1</td>\n",
       "      <td>399.576</td>\n",
       "      <td>399.032016</td>\n",
       "      <td>386.472</td>\n",
       "      <td>128</td>\n",
       "      <td>0</td>\n",
       "      <td>...</td>\n",
       "      <td>1</td>\n",
       "      <td>0</td>\n",
       "      <td>0</td>\n",
       "      <td>0</td>\n",
       "      <td>1</td>\n",
       "      <td>0</td>\n",
       "      <td>0</td>\n",
       "      <td>0</td>\n",
       "      <td>0</td>\n",
       "      <td>1.49</td>\n",
       "    </tr>\n",
       "    <tr>\n",
       "      <th>3</th>\n",
       "      <td>1</td>\n",
       "      <td>0</td>\n",
       "      <td>0</td>\n",
       "      <td>0</td>\n",
       "      <td>4</td>\n",
       "      <td>379.567</td>\n",
       "      <td>379.084867</td>\n",
       "      <td>362.431</td>\n",
       "      <td>128</td>\n",
       "      <td>0</td>\n",
       "      <td>...</td>\n",
       "      <td>1</td>\n",
       "      <td>0</td>\n",
       "      <td>0</td>\n",
       "      <td>0</td>\n",
       "      <td>1</td>\n",
       "      <td>0</td>\n",
       "      <td>0</td>\n",
       "      <td>0</td>\n",
       "      <td>0</td>\n",
       "      <td>1.36</td>\n",
       "    </tr>\n",
       "    <tr>\n",
       "      <th>4</th>\n",
       "      <td>1</td>\n",
       "      <td>0</td>\n",
       "      <td>0</td>\n",
       "      <td>0</td>\n",
       "      <td>0</td>\n",
       "      <td>396.391</td>\n",
       "      <td>396.042944</td>\n",
       "      <td>388.327</td>\n",
       "      <td>136</td>\n",
       "      <td>0</td>\n",
       "      <td>...</td>\n",
       "      <td>1</td>\n",
       "      <td>0</td>\n",
       "      <td>0</td>\n",
       "      <td>0</td>\n",
       "      <td>0</td>\n",
       "      <td>0</td>\n",
       "      <td>0</td>\n",
       "      <td>0</td>\n",
       "      <td>0</td>\n",
       "      <td>1.98</td>\n",
       "    </tr>\n",
       "  </tbody>\n",
       "</table>\n",
       "<p>5 rows × 371 columns</p>\n",
       "</div>"
      ],
      "text/plain": [
       "   num_branches  has_benzothiophene  has_carbazole  has_fluorene  \\\n",
       "0             3                   0              0             0   \n",
       "1             1                   0              0             0   \n",
       "2             2                   0              0             0   \n",
       "3             1                   0              0             0   \n",
       "4             1                   0              0             0   \n",
       "\n",
       "   num_double_bonds  avg_molecular_weight  exact_molecular_weight  \\\n",
       "0                 0               470.462              470.907296   \n",
       "1                 5               352.545              352.085202   \n",
       "2                 1               399.576              399.032016   \n",
       "3                 4               379.567              379.084867   \n",
       "4                 0               396.391              396.042944   \n",
       "\n",
       "   avg_molecular_weight_ignore_hydrogen  num_valence_electrons  \\\n",
       "0                               461.390                    130   \n",
       "1                               336.417                    118   \n",
       "2                               386.472                    128   \n",
       "3                               362.431                    128   \n",
       "4                               388.327                    136   \n",
       "\n",
       "   num_radical_electrons  ...   feat_248  feat_249  feat_250  feat_251  \\\n",
       "0                      0  ...          1         0         0         0   \n",
       "1                      0  ...          1         0         0         1   \n",
       "2                      0  ...          1         0         0         0   \n",
       "3                      0  ...          1         0         0         0   \n",
       "4                      0  ...          1         0         0         0   \n",
       "\n",
       "   feat_252  feat_253  feat_254  feat_255  feat_256   gap  \n",
       "0         0         0         0         0         0  1.19  \n",
       "1         0         0         0         0         0  1.60  \n",
       "2         1         0         0         0         0  1.49  \n",
       "3         1         0         0         0         0  1.36  \n",
       "4         0         0         0         0         0  1.98  \n",
       "\n",
       "[5 rows x 371 columns]"
      ]
     },
     "execution_count": 19,
     "metadata": {},
     "output_type": "execute_result"
    }
   ],
   "source": [
    "df_train.head()"
   ]
  },
  {
   "cell_type": "code",
   "execution_count": 20,
   "metadata": {
    "collapsed": true
   },
   "outputs": [],
   "source": [
    "# Save df_train\n",
    "df_train.to_csv('FINAL_train.csv', index=False)"
   ]
  },
  {
   "cell_type": "code",
   "execution_count": 21,
   "metadata": {
    "collapsed": true
   },
   "outputs": [],
   "source": [
    "# Remove df_train for now\n",
    "del df_train_parts\n",
    "del df_train_old\n",
    "del df_train"
   ]
  },
  {
   "cell_type": "markdown",
   "metadata": {},
   "source": [
    "# III. Test Data Processing and Feature Engineering\n",
    "1. Drop all columns except smiles and ids\n",
    "2. Partition the data and save those partitions\n",
    "3. Remove all dataframes from memory\n",
    "4. Load each partition (1 by 1), perform feature engineering, and save each partition to a csv\n",
    "5. Reaggregate all partitions into one df, merge add binary-valued features from original test dataset, and save to csv"
   ]
  },
  {
   "cell_type": "code",
   "execution_count": 22,
   "metadata": {
    "collapsed": false
   },
   "outputs": [
    {
     "data": {
      "text/html": [
       "<div>\n",
       "<table border=\"1\" class=\"dataframe\">\n",
       "  <thead>\n",
       "    <tr style=\"text-align: right;\">\n",
       "      <th></th>\n",
       "      <th>Id</th>\n",
       "      <th>smiles</th>\n",
       "      <th>feat_001</th>\n",
       "      <th>feat_002</th>\n",
       "      <th>feat_003</th>\n",
       "      <th>feat_004</th>\n",
       "      <th>feat_005</th>\n",
       "      <th>feat_006</th>\n",
       "      <th>feat_007</th>\n",
       "      <th>feat_008</th>\n",
       "      <th>...</th>\n",
       "      <th>feat_247</th>\n",
       "      <th>feat_248</th>\n",
       "      <th>feat_249</th>\n",
       "      <th>feat_250</th>\n",
       "      <th>feat_251</th>\n",
       "      <th>feat_252</th>\n",
       "      <th>feat_253</th>\n",
       "      <th>feat_254</th>\n",
       "      <th>feat_255</th>\n",
       "      <th>feat_256</th>\n",
       "    </tr>\n",
       "  </thead>\n",
       "  <tbody>\n",
       "    <tr>\n",
       "      <th>0</th>\n",
       "      <td>1</td>\n",
       "      <td>c1sc(-c2cnc3c(c2)c2nsnc2c2cc4cccnc4cc32)c2cc[n...</td>\n",
       "      <td>0</td>\n",
       "      <td>0</td>\n",
       "      <td>0</td>\n",
       "      <td>0</td>\n",
       "      <td>1</td>\n",
       "      <td>1</td>\n",
       "      <td>1</td>\n",
       "      <td>0</td>\n",
       "      <td>...</td>\n",
       "      <td>0</td>\n",
       "      <td>1</td>\n",
       "      <td>0</td>\n",
       "      <td>0</td>\n",
       "      <td>0</td>\n",
       "      <td>0</td>\n",
       "      <td>0</td>\n",
       "      <td>0</td>\n",
       "      <td>0</td>\n",
       "      <td>0</td>\n",
       "    </tr>\n",
       "    <tr>\n",
       "      <th>1</th>\n",
       "      <td>2</td>\n",
       "      <td>[nH]1cccc1-c1cc2c3nsnc3c3c4sccc4[nH]c3c2s1</td>\n",
       "      <td>0</td>\n",
       "      <td>0</td>\n",
       "      <td>0</td>\n",
       "      <td>0</td>\n",
       "      <td>1</td>\n",
       "      <td>1</td>\n",
       "      <td>1</td>\n",
       "      <td>0</td>\n",
       "      <td>...</td>\n",
       "      <td>0</td>\n",
       "      <td>1</td>\n",
       "      <td>0</td>\n",
       "      <td>0</td>\n",
       "      <td>0</td>\n",
       "      <td>0</td>\n",
       "      <td>0</td>\n",
       "      <td>0</td>\n",
       "      <td>0</td>\n",
       "      <td>0</td>\n",
       "    </tr>\n",
       "    <tr>\n",
       "      <th>2</th>\n",
       "      <td>3</td>\n",
       "      <td>[nH]1c2cc(-c3ccc[se]3)c3nsnc3c2c2c3cscc3c3ccc4...</td>\n",
       "      <td>1</td>\n",
       "      <td>0</td>\n",
       "      <td>0</td>\n",
       "      <td>0</td>\n",
       "      <td>1</td>\n",
       "      <td>1</td>\n",
       "      <td>1</td>\n",
       "      <td>0</td>\n",
       "      <td>...</td>\n",
       "      <td>0</td>\n",
       "      <td>1</td>\n",
       "      <td>0</td>\n",
       "      <td>0</td>\n",
       "      <td>0</td>\n",
       "      <td>0</td>\n",
       "      <td>0</td>\n",
       "      <td>0</td>\n",
       "      <td>0</td>\n",
       "      <td>0</td>\n",
       "    </tr>\n",
       "    <tr>\n",
       "      <th>3</th>\n",
       "      <td>4</td>\n",
       "      <td>[nH]1c(cc2cnc3c(c12)c1=C[SiH2]C=c1c1ccc2=CCC=c...</td>\n",
       "      <td>1</td>\n",
       "      <td>0</td>\n",
       "      <td>0</td>\n",
       "      <td>0</td>\n",
       "      <td>1</td>\n",
       "      <td>1</td>\n",
       "      <td>1</td>\n",
       "      <td>0</td>\n",
       "      <td>...</td>\n",
       "      <td>0</td>\n",
       "      <td>1</td>\n",
       "      <td>0</td>\n",
       "      <td>0</td>\n",
       "      <td>0</td>\n",
       "      <td>0</td>\n",
       "      <td>0</td>\n",
       "      <td>0</td>\n",
       "      <td>0</td>\n",
       "      <td>0</td>\n",
       "    </tr>\n",
       "    <tr>\n",
       "      <th>4</th>\n",
       "      <td>5</td>\n",
       "      <td>c1sc(-c2sc(-c3sc(-c4scc5[se]ccc45)c4ccoc34)c3c...</td>\n",
       "      <td>0</td>\n",
       "      <td>0</td>\n",
       "      <td>0</td>\n",
       "      <td>0</td>\n",
       "      <td>1</td>\n",
       "      <td>0</td>\n",
       "      <td>1</td>\n",
       "      <td>0</td>\n",
       "      <td>...</td>\n",
       "      <td>0</td>\n",
       "      <td>1</td>\n",
       "      <td>0</td>\n",
       "      <td>0</td>\n",
       "      <td>0</td>\n",
       "      <td>0</td>\n",
       "      <td>0</td>\n",
       "      <td>0</td>\n",
       "      <td>0</td>\n",
       "      <td>0</td>\n",
       "    </tr>\n",
       "  </tbody>\n",
       "</table>\n",
       "<p>5 rows × 258 columns</p>\n",
       "</div>"
      ],
      "text/plain": [
       "   Id                                             smiles  feat_001  feat_002  \\\n",
       "0   1  c1sc(-c2cnc3c(c2)c2nsnc2c2cc4cccnc4cc32)c2cc[n...         0         0   \n",
       "1   2         [nH]1cccc1-c1cc2c3nsnc3c3c4sccc4[nH]c3c2s1         0         0   \n",
       "2   3  [nH]1c2cc(-c3ccc[se]3)c3nsnc3c2c2c3cscc3c3ccc4...         1         0   \n",
       "3   4  [nH]1c(cc2cnc3c(c12)c1=C[SiH2]C=c1c1ccc2=CCC=c...         1         0   \n",
       "4   5  c1sc(-c2sc(-c3sc(-c4scc5[se]ccc45)c4ccoc34)c3c...         0         0   \n",
       "\n",
       "   feat_003  feat_004  feat_005  feat_006  feat_007  feat_008    ...     \\\n",
       "0         0         0         1         1         1         0    ...      \n",
       "1         0         0         1         1         1         0    ...      \n",
       "2         0         0         1         1         1         0    ...      \n",
       "3         0         0         1         1         1         0    ...      \n",
       "4         0         0         1         0         1         0    ...      \n",
       "\n",
       "   feat_247  feat_248  feat_249  feat_250  feat_251  feat_252  feat_253  \\\n",
       "0         0         1         0         0         0         0         0   \n",
       "1         0         1         0         0         0         0         0   \n",
       "2         0         1         0         0         0         0         0   \n",
       "3         0         1         0         0         0         0         0   \n",
       "4         0         1         0         0         0         0         0   \n",
       "\n",
       "   feat_254  feat_255  feat_256  \n",
       "0         0         0         0  \n",
       "1         0         0         0  \n",
       "2         0         0         0  \n",
       "3         0         0         0  \n",
       "4         0         0         0  \n",
       "\n",
       "[5 rows x 258 columns]"
      ]
     },
     "execution_count": 22,
     "metadata": {},
     "output_type": "execute_result"
    }
   ],
   "source": [
    "# Read in test data\n",
    "df_test = pd.read_csv(\"test.csv\")\n",
    "df_test.head()"
   ]
  },
  {
   "cell_type": "markdown",
   "metadata": {
    "collapsed": false
   },
   "source": [
    "### 1. Drop all columns except smiles and ids"
   ]
  },
  {
   "cell_type": "code",
   "execution_count": 23,
   "metadata": {
    "collapsed": true
   },
   "outputs": [],
   "source": [
    "df_test = df_test.drop(df_test.columns[range(2,258)], axis=1)"
   ]
  },
  {
   "cell_type": "code",
   "execution_count": 24,
   "metadata": {
    "collapsed": false
   },
   "outputs": [
    {
     "data": {
      "text/html": [
       "<div>\n",
       "<table border=\"1\" class=\"dataframe\">\n",
       "  <thead>\n",
       "    <tr style=\"text-align: right;\">\n",
       "      <th></th>\n",
       "      <th>Id</th>\n",
       "      <th>smiles</th>\n",
       "    </tr>\n",
       "  </thead>\n",
       "  <tbody>\n",
       "    <tr>\n",
       "      <th>0</th>\n",
       "      <td>1</td>\n",
       "      <td>c1sc(-c2cnc3c(c2)c2nsnc2c2cc4cccnc4cc32)c2cc[n...</td>\n",
       "    </tr>\n",
       "    <tr>\n",
       "      <th>1</th>\n",
       "      <td>2</td>\n",
       "      <td>[nH]1cccc1-c1cc2c3nsnc3c3c4sccc4[nH]c3c2s1</td>\n",
       "    </tr>\n",
       "    <tr>\n",
       "      <th>2</th>\n",
       "      <td>3</td>\n",
       "      <td>[nH]1c2cc(-c3ccc[se]3)c3nsnc3c2c2c3cscc3c3ccc4...</td>\n",
       "    </tr>\n",
       "    <tr>\n",
       "      <th>3</th>\n",
       "      <td>4</td>\n",
       "      <td>[nH]1c(cc2cnc3c(c12)c1=C[SiH2]C=c1c1ccc2=CCC=c...</td>\n",
       "    </tr>\n",
       "    <tr>\n",
       "      <th>4</th>\n",
       "      <td>5</td>\n",
       "      <td>c1sc(-c2sc(-c3sc(-c4scc5[se]ccc45)c4ccoc34)c3c...</td>\n",
       "    </tr>\n",
       "  </tbody>\n",
       "</table>\n",
       "</div>"
      ],
      "text/plain": [
       "   Id                                             smiles\n",
       "0   1  c1sc(-c2cnc3c(c2)c2nsnc2c2cc4cccnc4cc32)c2cc[n...\n",
       "1   2         [nH]1cccc1-c1cc2c3nsnc3c3c4sccc4[nH]c3c2s1\n",
       "2   3  [nH]1c2cc(-c3ccc[se]3)c3nsnc3c2c2c3cscc3c3ccc4...\n",
       "3   4  [nH]1c(cc2cnc3c(c12)c1=C[SiH2]C=c1c1ccc2=CCC=c...\n",
       "4   5  c1sc(-c2sc(-c3sc(-c4scc5[se]ccc45)c4ccoc34)c3c..."
      ]
     },
     "execution_count": 24,
     "metadata": {},
     "output_type": "execute_result"
    }
   ],
   "source": [
    "df_test.head()"
   ]
  },
  {
   "cell_type": "markdown",
   "metadata": {},
   "source": [
    "### 2. Partition the data and save those partitions"
   ]
  },
  {
   "cell_type": "code",
   "execution_count": 25,
   "metadata": {
    "collapsed": true
   },
   "outputs": [],
   "source": [
    "num_parts = 10"
   ]
  },
  {
   "cell_type": "code",
   "execution_count": 26,
   "metadata": {
    "collapsed": false
   },
   "outputs": [],
   "source": [
    "df_test_parts = np.array_split(df_test, num_parts)\n",
    "for i in xrange(num_parts):\n",
    "    df_test_parts[i].to_csv('smiles_and_ids_df_test_part_'+str(i)+'.csv', index=False)"
   ]
  },
  {
   "cell_type": "markdown",
   "metadata": {},
   "source": [
    "### 3. Remove all dataframes from memory"
   ]
  },
  {
   "cell_type": "code",
   "execution_count": 27,
   "metadata": {
    "collapsed": true
   },
   "outputs": [],
   "source": [
    "del df_test\n",
    "del df_test_parts"
   ]
  },
  {
   "cell_type": "markdown",
   "metadata": {},
   "source": [
    "### 4. Load each partition (1 by 1), perform feature engineering, and save each partition to a csv"
   ]
  },
  {
   "cell_type": "code",
   "execution_count": 28,
   "metadata": {
    "collapsed": false
   },
   "outputs": [
    {
     "name": "stdout",
     "output_type": "stream",
     "text": [
      "Part 0: finished initial feat gen\n",
      "Part 0: finished molecule generation\n",
      "Part 0: finished first feature\n",
      "Part 0: finished Descriptors and rdmolops\n",
      "Part 0: finished Lipinski\n",
      "Part 0: finished Fragments\n",
      "Part 1: finished initial feat gen\n",
      "Part 1: finished molecule generation\n",
      "Part 1: finished first feature\n",
      "Part 1: finished Descriptors and rdmolops\n",
      "Part 1: finished Lipinski\n",
      "Part 1: finished Fragments\n",
      "Part 2: finished initial feat gen\n",
      "Part 2: finished molecule generation\n",
      "Part 2: finished first feature\n",
      "Part 2: finished Descriptors and rdmolops\n",
      "Part 2: finished Lipinski\n",
      "Part 2: finished Fragments\n",
      "Part 3: finished initial feat gen\n",
      "Part 3: finished molecule generation\n",
      "Part 3: finished first feature\n",
      "Part 3: finished Descriptors and rdmolops\n",
      "Part 3: finished Lipinski\n",
      "Part 3: finished Fragments\n",
      "Part 4: finished initial feat gen\n",
      "Part 4: finished molecule generation\n",
      "Part 4: finished first feature\n",
      "Part 4: finished Descriptors and rdmolops\n",
      "Part 4: finished Lipinski\n",
      "Part 4: finished Fragments\n",
      "Part 5: finished initial feat gen\n",
      "Part 5: finished molecule generation\n",
      "Part 5: finished first feature\n",
      "Part 5: finished Descriptors and rdmolops\n",
      "Part 5: finished Lipinski\n",
      "Part 5: finished Fragments\n",
      "Part 6: finished initial feat gen\n",
      "Part 6: finished molecule generation\n",
      "Part 6: finished first feature\n",
      "Part 6: finished Descriptors and rdmolops\n",
      "Part 6: finished Lipinski\n",
      "Part 6: finished Fragments\n",
      "Part 7: finished initial feat gen\n",
      "Part 7: finished molecule generation\n",
      "Part 7: finished first feature\n",
      "Part 7: finished Descriptors and rdmolops\n",
      "Part 7: finished Lipinski\n",
      "Part 7: finished Fragments\n",
      "Part 8: finished initial feat gen\n",
      "Part 8: finished molecule generation\n",
      "Part 8: finished first feature\n",
      "Part 8: finished Descriptors and rdmolops\n",
      "Part 8: finished Lipinski\n",
      "Part 8: finished Fragments\n",
      "Part 9: finished initial feat gen\n",
      "Part 9: finished molecule generation\n",
      "Part 9: finished first feature\n",
      "Part 9: finished Descriptors and rdmolops\n",
      "Part 9: finished Lipinski\n",
      "Part 9: finished Fragments\n"
     ]
    }
   ],
   "source": [
    "for i in xrange(num_parts):\n",
    "    df_test_part = pd.read_csv('smiles_and_ids_df_test_part_'+str(i)+'.csv')\n",
    "  \n",
    "\n",
    "    # Apply feature engineering to train data\n",
    "    num_branches = df_test_part.smiles.apply(lambda x: x.count('('))\n",
    "    has_benzothiophene = df_test_part.smiles.apply(lambda x: min(1,x.count('s2c1ccccc1cc2')))\n",
    "    has_carbazole = df_test_part.smiles.apply(lambda x: min(1,x.count('c1ccc2c(c1)c3ccccc3[nH]2')))\n",
    "    has_fluorene = df_test_part.smiles.apply(lambda x: min(1,x.count('c1ccc-2c(c1)Cc3c2cccc3')))\n",
    "    num_double_bonds = df_test_part.smiles.apply(lambda x: x.count('='))\n",
    "    df_test_part['num_branches'] = num_branches\n",
    "    df_test_part['has_benzothiophene'] = has_benzothiophene\n",
    "    df_test_part['has_carbazole'] = has_carbazole\n",
    "    df_test_part['has_fluorene'] = has_fluorene\n",
    "    df_test_part['num_double_bonds'] = num_double_bonds\n",
    "    print \"Part {}: finished initial feat gen\".format(i)\n",
    "    # RDKit Feature Engineering\n",
    "    # Generate molecule objects\n",
    "    molecules = df_test_part.smiles.apply(lambda x: Chem.MolFromSmiles(x))\n",
    "    print \"Part {}: finished molecule generation\".format(i)\n",
    "    # Generate Features\n",
    "    df_test_part['avg_molecular_weight'] = molecules.apply(lambda x: Descriptors.MolWt(x))\n",
    "    print \"Part {}: finished first feature\".format(i)\n",
    "    df_test_part['exact_molecular_weight'] = molecules.apply(lambda x: Descriptors.ExactMolWt(x))\n",
    "    df_test_part['avg_molecular_weight_ignore_hydrogen'] = molecules.apply(lambda x: Descriptors.HeavyAtomMolWt(x))\n",
    "    df_test_part['num_valence_electrons'] = molecules.apply(lambda x: Descriptors.NumValenceElectrons(x))\n",
    "    df_test_part['num_radical_electrons'] = molecules.apply(lambda x: Descriptors.NumRadicalElectrons(x))\n",
    "    df_test_part['formal_charge'] = molecules.apply(lambda x: rdmolops.GetFormalCharge(x))\n",
    "    df_test_part['sssr'] = molecules.apply(lambda x: rdmolops.GetSSSR(x))\n",
    "    print \"Part {}: finished Descriptors and rdmolops\".format(i)\n",
    "    df_test_part['fraction_csp3'] = molecules.apply(lambda x: Lipinski.FractionCSP3(x))\n",
    "    df_test_part['num_aliphatic_carbocycles'] = molecules.apply(lambda x: Lipinski.NumAliphaticCarbocycles(x))\n",
    "    df_test_part['num_aliphatic_heterocycles'] = molecules.apply(lambda x: Lipinski.NumAliphaticHeterocycles(x))\n",
    "    df_test_part['num_aliphatic_rings'] = molecules.apply(lambda x: Lipinski.NumAliphaticRings(x))\n",
    "    df_test_part['num_aromatic_carbocycles'] = molecules.apply(lambda x: Lipinski.NumAromaticCarbocycles(x))\n",
    "    df_test_part['num_aromatic_heterocycles'] = molecules.apply(lambda x: Lipinski.NumAromaticHeterocycles(x))\n",
    "    df_test_part['num_aromatic_rings'] = molecules.apply(lambda x: Lipinski.NumAromaticRings(x))\n",
    "    df_test_part['num_saturated_carbocycles'] = molecules.apply(lambda x: Lipinski.NumSaturatedCarbocycles(x))\n",
    "    df_test_part['num_saturated_heterocycles'] = molecules.apply(lambda x: Lipinski.NumSaturatedHeterocycles(x))\n",
    "    df_test_part['num_saturated_rings'] = molecules.apply(lambda x: Lipinski.NumSaturatedRings(x))\n",
    "    df_test_part['num_nh_oh'] = molecules.apply(lambda x: Lipinski.NHOHCount(x))\n",
    "    df_test_part['num_num_rotatable_bonds'] = molecules.apply(lambda x: Lipinski.NumRotatableBonds(x))\n",
    "    df_test_part['num_heteroatoms'] = molecules.apply(lambda x: Lipinski.NumHeteroatoms(x))\n",
    "    df_test_part['num_h_acceptors'] = molecules.apply(lambda x: Lipinski.NumHAcceptors(x))\n",
    "    df_test_part['num_h_donors'] = molecules.apply(lambda x: Lipinski.NumHDonors(x))\n",
    "    df_test_part['ring_count'] = molecules.apply(lambda x: Lipinski.RingCount(x))\n",
    "    print \"Part {}: finished Lipinski\".format(i)\n",
    "    # See Parsing_methods_from_rdk_source.ipynb\n",
    "    df_test_part['fr_Al_COO'] = molecules.apply(lambda x: Fragments.fr_Al_COO(x))\n",
    "    df_test_part['fr_Al_OH'] = molecules.apply(lambda x: Fragments.fr_Al_OH(x))\n",
    "    df_test_part['fr_Al_OH_noTert'] = molecules.apply(lambda x: Fragments.fr_Al_OH_noTert(x))\n",
    "    df_test_part['fr_ArN'] = molecules.apply(lambda x: Fragments.fr_ArN(x))\n",
    "    df_test_part['fr_Ar_COO'] = molecules.apply(lambda x: Fragments.fr_Ar_COO(x))\n",
    "    df_test_part['fr_Ar_N'] = molecules.apply(lambda x: Fragments.fr_Ar_N(x))\n",
    "    df_test_part['fr_Ar_NH'] = molecules.apply(lambda x: Fragments.fr_Ar_NH(x))\n",
    "    df_test_part['fr_Ar_OH'] = molecules.apply(lambda x: Fragments.fr_Ar_OH(x))\n",
    "    df_test_part['fr_COO'] = molecules.apply(lambda x: Fragments.fr_COO(x))\n",
    "    df_test_part['fr_COO2'] = molecules.apply(lambda x: Fragments.fr_COO2(x))\n",
    "    df_test_part['fr_C_O'] = molecules.apply(lambda x: Fragments.fr_C_O(x))\n",
    "    df_test_part['fr_C_O_noCOO'] = molecules.apply(lambda x: Fragments.fr_C_O_noCOO(x))\n",
    "    df_test_part['fr_C_S'] = molecules.apply(lambda x: Fragments.fr_C_S(x))\n",
    "    df_test_part['fr_HOCCN'] = molecules.apply(lambda x: Fragments.fr_HOCCN(x))\n",
    "    df_test_part['fr_Imine'] = molecules.apply(lambda x: Fragments.fr_Imine(x))\n",
    "    df_test_part['fr_NH0'] = molecules.apply(lambda x: Fragments.fr_NH0(x))\n",
    "    df_test_part['fr_NH1'] = molecules.apply(lambda x: Fragments.fr_NH1(x))\n",
    "    df_test_part['fr_NH2'] = molecules.apply(lambda x: Fragments.fr_NH2(x))\n",
    "    df_test_part['fr_N_O'] = molecules.apply(lambda x: Fragments.fr_N_O(x))\n",
    "    df_test_part['fr_Ndealkylation1'] = molecules.apply(lambda x: Fragments.fr_Ndealkylation1(x))\n",
    "    df_test_part['fr_Ndealkylation2'] = molecules.apply(lambda x: Fragments.fr_Ndealkylation2(x))\n",
    "    df_test_part['fr_Nhpyrrole'] = molecules.apply(lambda x: Fragments.fr_Nhpyrrole(x))\n",
    "    df_test_part['fr_SH'] = molecules.apply(lambda x: Fragments.fr_SH(x))\n",
    "    df_test_part['fr_aldehyde'] = molecules.apply(lambda x: Fragments.fr_aldehyde(x))\n",
    "    df_test_part['fr_alkyl_carbamate'] = molecules.apply(lambda x: Fragments.fr_alkyl_carbamate(x))\n",
    "    df_test_part['fr_alkyl_halide'] = molecules.apply(lambda x: Fragments.fr_alkyl_halide(x))\n",
    "    df_test_part['fr_allylic_oxid'] = molecules.apply(lambda x: Fragments.fr_allylic_oxid(x))\n",
    "    df_test_part['fr_amide'] = molecules.apply(lambda x: Fragments.fr_amide(x))\n",
    "    df_test_part['fr_amidine'] = molecules.apply(lambda x: Fragments.fr_amidine(x))\n",
    "    df_test_part['fr_aniline'] = molecules.apply(lambda x: Fragments.fr_aniline(x))\n",
    "    df_test_part['fr_aryl_methyl'] = molecules.apply(lambda x: Fragments.fr_aryl_methyl(x))\n",
    "    df_test_part['fr_azide'] = molecules.apply(lambda x: Fragments.fr_azide(x))\n",
    "    df_test_part['fr_azo'] = molecules.apply(lambda x: Fragments.fr_azo(x))\n",
    "    df_test_part['fr_barbitur'] = molecules.apply(lambda x: Fragments.fr_barbitur(x))\n",
    "    df_test_part['fr_benzene'] = molecules.apply(lambda x: Fragments.fr_benzene(x))\n",
    "    df_test_part['fr_benzodiazepine'] = molecules.apply(lambda x: Fragments.fr_benzodiazepine(x))\n",
    "    df_test_part['fr_bicyclic'] = molecules.apply(lambda x: Fragments.fr_bicyclic(x))\n",
    "    df_test_part['fr_diazo'] = molecules.apply(lambda x: Fragments.fr_diazo(x))\n",
    "    df_test_part['fr_dihydropyridine'] = molecules.apply(lambda x: Fragments.fr_dihydropyridine(x))\n",
    "    df_test_part['fr_epoxide'] = molecules.apply(lambda x: Fragments.fr_epoxide(x))\n",
    "    df_test_part['fr_ester'] = molecules.apply(lambda x: Fragments.fr_ester(x))\n",
    "    df_test_part['fr_ether'] = molecules.apply(lambda x: Fragments.fr_ether(x))\n",
    "    df_test_part['fr_furan'] = molecules.apply(lambda x: Fragments.fr_furan(x))\n",
    "    df_test_part['fr_guanido'] = molecules.apply(lambda x: Fragments.fr_guanido(x))\n",
    "    df_test_part['fr_halogen'] = molecules.apply(lambda x: Fragments.fr_halogen(x))\n",
    "    df_test_part['fr_hdrzine'] = molecules.apply(lambda x: Fragments.fr_hdrzine(x))\n",
    "    df_test_part['fr_hdrzone'] = molecules.apply(lambda x: Fragments.fr_hdrzone(x))\n",
    "    df_test_part['fr_imidazole'] = molecules.apply(lambda x: Fragments.fr_imidazole(x))\n",
    "    df_test_part['fr_imide'] = molecules.apply(lambda x: Fragments.fr_imide(x))\n",
    "    df_test_part['fr_isocyan'] = molecules.apply(lambda x: Fragments.fr_isocyan(x))\n",
    "    df_test_part['fr_isothiocyan'] = molecules.apply(lambda x: Fragments.fr_isothiocyan(x))\n",
    "    df_test_part['fr_ketone'] = molecules.apply(lambda x: Fragments.fr_ketone(x))\n",
    "    df_test_part['fr_lactam'] = molecules.apply(lambda x: Fragments.fr_lactam(x))\n",
    "    df_test_part['fr_lactone'] = molecules.apply(lambda x: Fragments.fr_lactone(x))\n",
    "    df_test_part['fr_methoxy'] = molecules.apply(lambda x: Fragments.fr_methoxy(x))\n",
    "    df_test_part['fr_morpholine'] = molecules.apply(lambda x: Fragments.fr_morpholine(x))\n",
    "    df_test_part['fr_nitrile'] = molecules.apply(lambda x: Fragments.fr_nitrile(x))\n",
    "    df_test_part['fr_nitro'] = molecules.apply(lambda x: Fragments.fr_nitro(x))\n",
    "    df_test_part['fr_nitro_arom'] = molecules.apply(lambda x: Fragments.fr_nitro_arom(x))\n",
    "    df_test_part['fr_nitro_arom_nonortho'] = molecules.apply(lambda x: Fragments.fr_nitro_arom_nonortho(x))\n",
    "    df_test_part['fr_nitroso'] = molecules.apply(lambda x: Fragments.fr_nitroso(x))\n",
    "    df_test_part['fr_oxazole'] = molecules.apply(lambda x: Fragments.fr_oxazole(x))\n",
    "    df_test_part['fr_oxime'] = molecules.apply(lambda x: Fragments.fr_oxime(x))\n",
    "    df_test_part['fr_para_hydroxylation'] = molecules.apply(lambda x: Fragments.fr_para_hydroxylation(x))\n",
    "    df_test_part['fr_phenol'] = molecules.apply(lambda x: Fragments.fr_phenol(x))\n",
    "    df_test_part['fr_phenol_noOrthoHbond'] = molecules.apply(lambda x: Fragments.fr_phenol_noOrthoHbond(x))\n",
    "    df_test_part['fr_phos_acid'] = molecules.apply(lambda x: Fragments.fr_phos_acid(x))\n",
    "    df_test_part['fr_phos_ester'] = molecules.apply(lambda x: Fragments.fr_phos_ester(x))\n",
    "    df_test_part['fr_piperdine'] = molecules.apply(lambda x: Fragments.fr_piperdine(x))\n",
    "    df_test_part['fr_piperzine'] = molecules.apply(lambda x: Fragments.fr_piperzine(x))\n",
    "    df_test_part['fr_priamide'] = molecules.apply(lambda x: Fragments.fr_priamide(x))\n",
    "    df_test_part['fr_prisulfonamd'] = molecules.apply(lambda x: Fragments.fr_prisulfonamd(x))\n",
    "    df_test_part['fr_pyridine'] = molecules.apply(lambda x: Fragments.fr_pyridine(x))\n",
    "    df_test_part['fr_quatN'] = molecules.apply(lambda x: Fragments.fr_quatN(x))\n",
    "    df_test_part['fr_sulfide'] = molecules.apply(lambda x: Fragments.fr_sulfide(x))\n",
    "    df_test_part['fr_sulfonamd'] = molecules.apply(lambda x: Fragments.fr_sulfonamd(x))\n",
    "    df_test_part['fr_sulfone'] = molecules.apply(lambda x: Fragments.fr_sulfone(x))\n",
    "    df_test_part['fr_term_acetylene'] = molecules.apply(lambda x: Fragments.fr_term_acetylene(x))\n",
    "    df_test_part['fr_tetrazole'] = molecules.apply(lambda x: Fragments.fr_tetrazole(x))\n",
    "    df_test_part['fr_thiazole'] = molecules.apply(lambda x: Fragments.fr_thiazole(x))\n",
    "    df_test_part['fr_thiocyan'] = molecules.apply(lambda x: Fragments.fr_thiocyan(x))\n",
    "    df_test_part['fr_thiophene'] = molecules.apply(lambda x: Fragments.fr_thiophene(x))\n",
    "    df_test_part['fr_unbrch_alkane'] = molecules.apply(lambda x: Fragments.fr_unbrch_alkane(x))\n",
    "    df_test_part['fr_urea'] = molecules.apply(lambda x: Fragments.fr_urea(x))\n",
    "    df_test_part['fr_ketone_Topliss'] = molecules.apply(lambda x: Fragments.fr_ketone_Topliss(x))\n",
    "    \n",
    "    print \"Part {}: finished Fragments\".format(i)\n",
    "    df_test_part.to_csv('rdk_feat_eng_df_test_part_'+str(i)+'.csv', index=False)\n",
    "    del df_test_part\n",
    "    del molecules"
   ]
  },
  {
   "cell_type": "markdown",
   "metadata": {},
   "source": [
    "### 5. Reaggregate all partitions into one df, merge add binary-valued features from original test dataset, and save to csv"
   ]
  },
  {
   "cell_type": "code",
   "execution_count": 29,
   "metadata": {
    "collapsed": true
   },
   "outputs": [],
   "source": [
    "# read in each feat eng part\n",
    "df_test_parts = [pd.read_csv('rdk_feat_eng_df_test_part_'+str(i)+'.csv') for i in xrange(num_parts)]"
   ]
  },
  {
   "cell_type": "code",
   "execution_count": 40,
   "metadata": {
    "collapsed": true
   },
   "outputs": [],
   "source": [
    "# combine into one df\n",
    "df_test = pd.concat(df_test_parts)"
   ]
  },
  {
   "cell_type": "code",
   "execution_count": 42,
   "metadata": {
    "collapsed": false
   },
   "outputs": [
    {
     "data": {
      "text/html": [
       "<div>\n",
       "<table border=\"1\" class=\"dataframe\">\n",
       "  <thead>\n",
       "    <tr style=\"text-align: right;\">\n",
       "      <th></th>\n",
       "      <th>Id</th>\n",
       "      <th>num_branches</th>\n",
       "      <th>has_benzothiophene</th>\n",
       "      <th>has_carbazole</th>\n",
       "      <th>has_fluorene</th>\n",
       "      <th>num_double_bonds</th>\n",
       "      <th>avg_molecular_weight</th>\n",
       "      <th>exact_molecular_weight</th>\n",
       "      <th>avg_molecular_weight_ignore_hydrogen</th>\n",
       "      <th>num_valence_electrons</th>\n",
       "      <th>...</th>\n",
       "      <th>feat_247</th>\n",
       "      <th>feat_248</th>\n",
       "      <th>feat_249</th>\n",
       "      <th>feat_250</th>\n",
       "      <th>feat_251</th>\n",
       "      <th>feat_252</th>\n",
       "      <th>feat_253</th>\n",
       "      <th>feat_254</th>\n",
       "      <th>feat_255</th>\n",
       "      <th>feat_256</th>\n",
       "    </tr>\n",
       "  </thead>\n",
       "  <tbody>\n",
       "    <tr>\n",
       "      <th>0</th>\n",
       "      <td>1</td>\n",
       "      <td>2</td>\n",
       "      <td>0</td>\n",
       "      <td>0</td>\n",
       "      <td>0</td>\n",
       "      <td>0</td>\n",
       "      <td>409.499</td>\n",
       "      <td>409.045587</td>\n",
       "      <td>398.411</td>\n",
       "      <td>136</td>\n",
       "      <td>...</td>\n",
       "      <td>0</td>\n",
       "      <td>1</td>\n",
       "      <td>0</td>\n",
       "      <td>0</td>\n",
       "      <td>0</td>\n",
       "      <td>0</td>\n",
       "      <td>0</td>\n",
       "      <td>0</td>\n",
       "      <td>0</td>\n",
       "      <td>0</td>\n",
       "    </tr>\n",
       "    <tr>\n",
       "      <th>1</th>\n",
       "      <td>2</td>\n",
       "      <td>0</td>\n",
       "      <td>0</td>\n",
       "      <td>0</td>\n",
       "      <td>0</td>\n",
       "      <td>0</td>\n",
       "      <td>352.469</td>\n",
       "      <td>351.991109</td>\n",
       "      <td>344.405</td>\n",
       "      <td>110</td>\n",
       "      <td>...</td>\n",
       "      <td>0</td>\n",
       "      <td>1</td>\n",
       "      <td>0</td>\n",
       "      <td>0</td>\n",
       "      <td>0</td>\n",
       "      <td>0</td>\n",
       "      <td>0</td>\n",
       "      <td>0</td>\n",
       "      <td>0</td>\n",
       "      <td>0</td>\n",
       "    </tr>\n",
       "    <tr>\n",
       "      <th>2</th>\n",
       "      <td>3</td>\n",
       "      <td>1</td>\n",
       "      <td>0</td>\n",
       "      <td>0</td>\n",
       "      <td>0</td>\n",
       "      <td>2</td>\n",
       "      <td>514.569</td>\n",
       "      <td>514.948537</td>\n",
       "      <td>501.465</td>\n",
       "      <td>146</td>\n",
       "      <td>...</td>\n",
       "      <td>0</td>\n",
       "      <td>1</td>\n",
       "      <td>0</td>\n",
       "      <td>0</td>\n",
       "      <td>0</td>\n",
       "      <td>0</td>\n",
       "      <td>0</td>\n",
       "      <td>0</td>\n",
       "      <td>0</td>\n",
       "      <td>0</td>\n",
       "    </tr>\n",
       "    <tr>\n",
       "      <th>3</th>\n",
       "      <td>4</td>\n",
       "      <td>2</td>\n",
       "      <td>0</td>\n",
       "      <td>0</td>\n",
       "      <td>0</td>\n",
       "      <td>4</td>\n",
       "      <td>376.491</td>\n",
       "      <td>376.103190</td>\n",
       "      <td>360.363</td>\n",
       "      <td>132</td>\n",
       "      <td>...</td>\n",
       "      <td>0</td>\n",
       "      <td>1</td>\n",
       "      <td>0</td>\n",
       "      <td>0</td>\n",
       "      <td>0</td>\n",
       "      <td>0</td>\n",
       "      <td>0</td>\n",
       "      <td>0</td>\n",
       "      <td>0</td>\n",
       "      <td>0</td>\n",
       "    </tr>\n",
       "    <tr>\n",
       "      <th>4</th>\n",
       "      <td>5</td>\n",
       "      <td>3</td>\n",
       "      <td>0</td>\n",
       "      <td>0</td>\n",
       "      <td>0</td>\n",
       "      <td>0</td>\n",
       "      <td>569.637</td>\n",
       "      <td>569.844956</td>\n",
       "      <td>559.557</td>\n",
       "      <td>154</td>\n",
       "      <td>...</td>\n",
       "      <td>0</td>\n",
       "      <td>1</td>\n",
       "      <td>0</td>\n",
       "      <td>0</td>\n",
       "      <td>0</td>\n",
       "      <td>0</td>\n",
       "      <td>0</td>\n",
       "      <td>0</td>\n",
       "      <td>0</td>\n",
       "      <td>0</td>\n",
       "    </tr>\n",
       "  </tbody>\n",
       "</table>\n",
       "<p>5 rows × 371 columns</p>\n",
       "</div>"
      ],
      "text/plain": [
       "   Id  num_branches  has_benzothiophene  has_carbazole  has_fluorene  \\\n",
       "0   1             2                   0              0             0   \n",
       "1   2             0                   0              0             0   \n",
       "2   3             1                   0              0             0   \n",
       "3   4             2                   0              0             0   \n",
       "4   5             3                   0              0             0   \n",
       "\n",
       "   num_double_bonds  avg_molecular_weight  exact_molecular_weight  \\\n",
       "0                 0               409.499              409.045587   \n",
       "1                 0               352.469              351.991109   \n",
       "2                 2               514.569              514.948537   \n",
       "3                 4               376.491              376.103190   \n",
       "4                 0               569.637              569.844956   \n",
       "\n",
       "   avg_molecular_weight_ignore_hydrogen  num_valence_electrons    ...     \\\n",
       "0                               398.411                    136    ...      \n",
       "1                               344.405                    110    ...      \n",
       "2                               501.465                    146    ...      \n",
       "3                               360.363                    132    ...      \n",
       "4                               559.557                    154    ...      \n",
       "\n",
       "   feat_247  feat_248  feat_249  feat_250  feat_251  feat_252  feat_253  \\\n",
       "0         0         1         0         0         0         0         0   \n",
       "1         0         1         0         0         0         0         0   \n",
       "2         0         1         0         0         0         0         0   \n",
       "3         0         1         0         0         0         0         0   \n",
       "4         0         1         0         0         0         0         0   \n",
       "\n",
       "   feat_254  feat_255  feat_256  \n",
       "0         0         0         0  \n",
       "1         0         0         0  \n",
       "2         0         0         0  \n",
       "3         0         0         0  \n",
       "4         0         0         0  \n",
       "\n",
       "[5 rows x 371 columns]"
      ]
     },
     "execution_count": 42,
     "metadata": {},
     "output_type": "execute_result"
    }
   ],
   "source": [
    "# Read in old test data and merge with new features\n",
    "df_test_old = pd.read_csv(\"test.csv\")\n",
    "df_test = df_test.merge(df_test_old, on=[\"Id\"])\n",
    "# Fix columns\n",
    "df_test = df_test.drop(['smiles_x'],axis=1)\n",
    "df_test = df_test.rename(columns = {'smiles_y':'smiles'})\n",
    "df_test.head()"
   ]
  },
  {
   "cell_type": "code",
   "execution_count": 43,
   "metadata": {
    "collapsed": true
   },
   "outputs": [],
   "source": [
    "# Save to csv\n",
    "df_test.to_csv('FINAL_test.csv', index=False)"
   ]
  },
  {
   "cell_type": "code",
   "execution_count": 44,
   "metadata": {
    "collapsed": true
   },
   "outputs": [],
   "source": [
    "# Delete old dfs\n",
    "del df_test_old\n",
    "del df_test_parts\n",
    "del df_test"
   ]
  },
  {
   "cell_type": "markdown",
   "metadata": {},
   "source": [
    "# *IF FEATURE ENGINEERING IS DONE: START HERE*\n",
    "# IV. Model Selection \n",
    "1. Read training data, store output values, and remove output values from df_train\n",
    "2. Split training data into training set and validation set\n",
    "3. Model Selection -  Test various models\n",
    "    1. Linear Regression\n",
    "    2. Transform data using PCA\n",
    "    3. Random Forest (extra trees) using PCA\n",
    "    4. ... (TAYLOR AND ANDREW)"
   ]
  },
  {
   "cell_type": "markdown",
   "metadata": {},
   "source": [
    "### 1. Read training data, store output values, and remove output values from df_train"
   ]
  },
  {
   "cell_type": "code",
   "execution_count": 3,
   "metadata": {
    "collapsed": false
   },
   "outputs": [],
   "source": [
    "df_train = pd.read_csv('FINAL_train.csv')"
   ]
  },
  {
   "cell_type": "code",
   "execution_count": 46,
   "metadata": {
    "collapsed": false
   },
   "outputs": [
    {
     "data": {
      "text/html": [
       "<div>\n",
       "<table border=\"1\" class=\"dataframe\">\n",
       "  <thead>\n",
       "    <tr style=\"text-align: right;\">\n",
       "      <th></th>\n",
       "      <th>num_branches</th>\n",
       "      <th>has_benzothiophene</th>\n",
       "      <th>has_carbazole</th>\n",
       "      <th>has_fluorene</th>\n",
       "      <th>num_double_bonds</th>\n",
       "      <th>avg_molecular_weight</th>\n",
       "      <th>exact_molecular_weight</th>\n",
       "      <th>avg_molecular_weight_ignore_hydrogen</th>\n",
       "      <th>num_valence_electrons</th>\n",
       "      <th>num_radical_electrons</th>\n",
       "      <th>...</th>\n",
       "      <th>feat_248</th>\n",
       "      <th>feat_249</th>\n",
       "      <th>feat_250</th>\n",
       "      <th>feat_251</th>\n",
       "      <th>feat_252</th>\n",
       "      <th>feat_253</th>\n",
       "      <th>feat_254</th>\n",
       "      <th>feat_255</th>\n",
       "      <th>feat_256</th>\n",
       "      <th>gap</th>\n",
       "    </tr>\n",
       "  </thead>\n",
       "  <tbody>\n",
       "    <tr>\n",
       "      <th>0</th>\n",
       "      <td>3</td>\n",
       "      <td>0</td>\n",
       "      <td>0</td>\n",
       "      <td>0</td>\n",
       "      <td>0</td>\n",
       "      <td>470.462</td>\n",
       "      <td>470.907296</td>\n",
       "      <td>461.390</td>\n",
       "      <td>130</td>\n",
       "      <td>0</td>\n",
       "      <td>...</td>\n",
       "      <td>1</td>\n",
       "      <td>0</td>\n",
       "      <td>0</td>\n",
       "      <td>0</td>\n",
       "      <td>0</td>\n",
       "      <td>0</td>\n",
       "      <td>0</td>\n",
       "      <td>0</td>\n",
       "      <td>0</td>\n",
       "      <td>1.19</td>\n",
       "    </tr>\n",
       "    <tr>\n",
       "      <th>1</th>\n",
       "      <td>1</td>\n",
       "      <td>0</td>\n",
       "      <td>0</td>\n",
       "      <td>0</td>\n",
       "      <td>5</td>\n",
       "      <td>352.545</td>\n",
       "      <td>352.085202</td>\n",
       "      <td>336.417</td>\n",
       "      <td>118</td>\n",
       "      <td>0</td>\n",
       "      <td>...</td>\n",
       "      <td>1</td>\n",
       "      <td>0</td>\n",
       "      <td>0</td>\n",
       "      <td>1</td>\n",
       "      <td>0</td>\n",
       "      <td>0</td>\n",
       "      <td>0</td>\n",
       "      <td>0</td>\n",
       "      <td>0</td>\n",
       "      <td>1.60</td>\n",
       "    </tr>\n",
       "    <tr>\n",
       "      <th>2</th>\n",
       "      <td>2</td>\n",
       "      <td>0</td>\n",
       "      <td>0</td>\n",
       "      <td>0</td>\n",
       "      <td>1</td>\n",
       "      <td>399.576</td>\n",
       "      <td>399.032016</td>\n",
       "      <td>386.472</td>\n",
       "      <td>128</td>\n",
       "      <td>0</td>\n",
       "      <td>...</td>\n",
       "      <td>1</td>\n",
       "      <td>0</td>\n",
       "      <td>0</td>\n",
       "      <td>0</td>\n",
       "      <td>1</td>\n",
       "      <td>0</td>\n",
       "      <td>0</td>\n",
       "      <td>0</td>\n",
       "      <td>0</td>\n",
       "      <td>1.49</td>\n",
       "    </tr>\n",
       "    <tr>\n",
       "      <th>3</th>\n",
       "      <td>1</td>\n",
       "      <td>0</td>\n",
       "      <td>0</td>\n",
       "      <td>0</td>\n",
       "      <td>4</td>\n",
       "      <td>379.567</td>\n",
       "      <td>379.084867</td>\n",
       "      <td>362.431</td>\n",
       "      <td>128</td>\n",
       "      <td>0</td>\n",
       "      <td>...</td>\n",
       "      <td>1</td>\n",
       "      <td>0</td>\n",
       "      <td>0</td>\n",
       "      <td>0</td>\n",
       "      <td>1</td>\n",
       "      <td>0</td>\n",
       "      <td>0</td>\n",
       "      <td>0</td>\n",
       "      <td>0</td>\n",
       "      <td>1.36</td>\n",
       "    </tr>\n",
       "    <tr>\n",
       "      <th>4</th>\n",
       "      <td>1</td>\n",
       "      <td>0</td>\n",
       "      <td>0</td>\n",
       "      <td>0</td>\n",
       "      <td>0</td>\n",
       "      <td>396.391</td>\n",
       "      <td>396.042944</td>\n",
       "      <td>388.327</td>\n",
       "      <td>136</td>\n",
       "      <td>0</td>\n",
       "      <td>...</td>\n",
       "      <td>1</td>\n",
       "      <td>0</td>\n",
       "      <td>0</td>\n",
       "      <td>0</td>\n",
       "      <td>0</td>\n",
       "      <td>0</td>\n",
       "      <td>0</td>\n",
       "      <td>0</td>\n",
       "      <td>0</td>\n",
       "      <td>1.98</td>\n",
       "    </tr>\n",
       "  </tbody>\n",
       "</table>\n",
       "<p>5 rows × 371 columns</p>\n",
       "</div>"
      ],
      "text/plain": [
       "   num_branches  has_benzothiophene  has_carbazole  has_fluorene  \\\n",
       "0             3                   0              0             0   \n",
       "1             1                   0              0             0   \n",
       "2             2                   0              0             0   \n",
       "3             1                   0              0             0   \n",
       "4             1                   0              0             0   \n",
       "\n",
       "   num_double_bonds  avg_molecular_weight  exact_molecular_weight  \\\n",
       "0                 0               470.462              470.907296   \n",
       "1                 5               352.545              352.085202   \n",
       "2                 1               399.576              399.032016   \n",
       "3                 4               379.567              379.084867   \n",
       "4                 0               396.391              396.042944   \n",
       "\n",
       "   avg_molecular_weight_ignore_hydrogen  num_valence_electrons  \\\n",
       "0                               461.390                    130   \n",
       "1                               336.417                    118   \n",
       "2                               386.472                    128   \n",
       "3                               362.431                    128   \n",
       "4                               388.327                    136   \n",
       "\n",
       "   num_radical_electrons  ...   feat_248  feat_249  feat_250  feat_251  \\\n",
       "0                      0  ...          1         0         0         0   \n",
       "1                      0  ...          1         0         0         1   \n",
       "2                      0  ...          1         0         0         0   \n",
       "3                      0  ...          1         0         0         0   \n",
       "4                      0  ...          1         0         0         0   \n",
       "\n",
       "   feat_252  feat_253  feat_254  feat_255  feat_256   gap  \n",
       "0         0         0         0         0         0  1.19  \n",
       "1         0         0         0         0         0  1.60  \n",
       "2         1         0         0         0         0  1.49  \n",
       "3         1         0         0         0         0  1.36  \n",
       "4         0         0         0         0         0  1.98  \n",
       "\n",
       "[5 rows x 371 columns]"
      ]
     },
     "execution_count": 46,
     "metadata": {},
     "output_type": "execute_result"
    }
   ],
   "source": [
    "df_train.head()"
   ]
  },
  {
   "cell_type": "code",
   "execution_count": 4,
   "metadata": {
    "collapsed": false
   },
   "outputs": [
    {
     "name": "stdout",
     "output_type": "stream",
     "text": [
      "Train features: (999997, 369)\n",
      "Train gap: (999997,)\n"
     ]
    }
   ],
   "source": [
    "# Drop the 'smiles' column \n",
    "df_train = df_train.drop(['smiles'], axis=1)\n",
    "\n",
    "# Store gap values\n",
    "Y_train = df_train.gap.values\n",
    "\n",
    "# Delete 'gap' column\n",
    "df_train = df_train.drop(['gap'], axis=1)\n",
    "X_train = df_train.values\n",
    "print \"Train features:\", X_train.shape\n",
    "print \"Train gap:\", Y_train.shape"
   ]
  },
  {
   "cell_type": "markdown",
   "metadata": {},
   "source": [
    "### 2. Split training data into training set and validation set"
   ]
  },
  {
   "cell_type": "code",
   "execution_count": 5,
   "metadata": {
    "collapsed": false
   },
   "outputs": [],
   "source": [
    "# Partition Training Data into Training, Validation\n",
    "cross_X_train, cross_X_valid, cross_Y_train, cross_Y_valid = train_test_split(X_train, Y_train, test_size=0.33, random_state=42)"
   ]
  },
  {
   "cell_type": "markdown",
   "metadata": {},
   "source": [
    "### 3. Model Selection -  Test various models\n",
    "#### A. Linear Regression"
   ]
  },
  {
   "cell_type": "code",
   "execution_count": 50,
   "metadata": {
    "collapsed": false
   },
   "outputs": [],
   "source": [
    "# Fit Linear Regression to cross_X_train and validate it on validations set\n",
    "LR = LinearRegression()\n",
    "LR.fit(cross_X_train, cross_Y_train)\n",
    "LR_pred = LR.predict(cross_X_valid)"
   ]
  },
  {
   "cell_type": "code",
   "execution_count": 51,
   "metadata": {
    "collapsed": false
   },
   "outputs": [
    {
     "name": "stdout",
     "output_type": "stream",
     "text": [
      "Number of coefficients that are zero: 257\n",
      "Total number of coefficients: 369\n",
      "[77, 78, 79, 80, 81, 82, 83, 84, 85, 86, 87, 88, 89, 90, 92, 93, 94, 95, 96, 97, 98, 99, 101, 102, 103, 104, 105, 106, 108, 110, 111, 112, 114, 115, 116, 120, 121, 122, 123, 124, 125, 126, 127, 128, 129, 130, 131, 132, 133, 134, 135, 136, 138, 139, 140, 141, 142, 143, 144, 145, 146, 147, 148, 150, 151, 152, 153, 154, 155, 157, 158, 159, 160, 161, 162, 163, 164, 165, 166, 167, 168, 169, 170, 171, 172, 173, 174, 175, 176, 177, 178, 179, 182, 183, 185, 186, 187, 188, 189, 190, 191, 192, 193, 194, 195, 196, 197, 198, 200, 201, 203, 204, 205, 206, 207, 208, 209, 210, 211, 212, 213, 215, 216, 217, 218, 219, 220, 221, 222, 223, 224, 225, 226, 227, 228, 229, 230, 232, 233, 234, 236, 237, 239, 240, 241, 242, 243, 245, 246, 247, 248, 249, 250, 251, 252, 253, 254, 255, 256, 257, 258, 259, 260, 261, 262, 263, 264, 265, 266, 267, 268, 269, 270, 271, 272, 273, 274, 275, 276, 277, 278, 279, 280, 281, 282, 283, 284, 286, 287, 289, 290, 291, 292, 293, 294, 295, 296, 297, 298, 300, 301, 302, 303, 304, 305, 306, 307, 309, 310, 313, 314, 315, 316, 317, 318, 319, 321, 322, 323, 324, 325, 326, 327, 328, 329, 331, 332, 333, 334, 335, 336, 339, 340, 341, 342, 343, 344, 345, 346, 347, 348, 349, 350, 351, 352, 353, 354, 356, 357, 358, 359, 361, 362, 365, 366, 367, 368]\n"
     ]
    }
   ],
   "source": [
    "LR.coef_\n",
    "zero_coefs = []\n",
    "for i in xrange(len(LR.coef_)):\n",
    "    if LR.coef_[i] == 0:\n",
    "        zero_coefs.append(i)\n",
    "print \"Number of coefficients that are zero:\", len(zero_coefs)\n",
    "print \"Total number of coefficients:\", len(LR.coef_)\n",
    "print zero_coefs"
   ]
  },
  {
   "cell_type": "code",
   "execution_count": 52,
   "metadata": {
    "collapsed": false
   },
   "outputs": [
    {
     "name": "stdout",
     "output_type": "stream",
     "text": [
      "[ 1.49813187  2.0241977   1.83322251 ...,  1.84260857  1.77574646\n",
      "  2.06445611]\n"
     ]
    }
   ],
   "source": [
    "print LR_pred"
   ]
  },
  {
   "cell_type": "code",
   "execution_count": 53,
   "metadata": {
    "collapsed": false
   },
   "outputs": [
    {
     "data": {
      "text/plain": [
       "0.20278958695606894"
      ]
     },
     "execution_count": 53,
     "metadata": {},
     "output_type": "execute_result"
    }
   ],
   "source": [
    "mean_squared_error(cross_Y_valid, LR_pred)**.5"
   ]
  },
  {
   "cell_type": "markdown",
   "metadata": {},
   "source": [
    "#### B. Transform data using PCA"
   ]
  },
  {
   "cell_type": "code",
   "execution_count": 6,
   "metadata": {
    "collapsed": true
   },
   "outputs": [],
   "source": [
    "pca = PCA(n_components=60)\n",
    "cross_X_train_transf = pca.fit_transform(cross_X_train)\n",
    "cross_X_valid_transf = pca.transform(cross_X_valid)"
   ]
  },
  {
   "cell_type": "markdown",
   "metadata": {},
   "source": [
    "#### C. Random Forest (extra trees) using PCA"
   ]
  },
  {
   "cell_type": "code",
   "execution_count": 55,
   "metadata": {
    "collapsed": true
   },
   "outputs": [],
   "source": [
    "extraTrees_pca = ExtraTreesRegressor(n_estimators=100,n_jobs=2)\n",
    "tree_est_wPCA = extraTrees_pca.fit(cross_X_train_transf, cross_Y_train)\n",
    "pca_exTree_pred = tree_est_wPCA.predict(cross_X_valid_transf)"
   ]
  },
  {
   "cell_type": "code",
   "execution_count": 56,
   "metadata": {
    "collapsed": false
   },
   "outputs": [
    {
     "data": {
      "text/plain": [
       "0.14639850122558837"
      ]
     },
     "execution_count": 56,
     "metadata": {},
     "output_type": "execute_result"
    }
   ],
   "source": [
    "# Calculate RMSE\n",
    "mean_squared_error(cross_Y_valid, pca_exTree_pred)**.5"
   ]
  },
  {
   "cell_type": "markdown",
   "metadata": {},
   "source": [
    "#### D1. Lasso"
   ]
  },
  {
   "cell_type": "code",
   "execution_count": 8,
   "metadata": {
    "collapsed": false
   },
   "outputs": [
    {
     "name": "stdout",
     "output_type": "stream",
     "text": [
      "minimum RMSE is 0.20295979127\n",
      "minimum alpha is 1e-05\n"
     ]
    },
    {
     "name": "stderr",
     "output_type": "stream",
     "text": [
      "//anaconda/lib/python2.7/site-packages/sklearn/linear_model/coordinate_descent.py:466: ConvergenceWarning: Objective did not converge. You might want to increase the number of iterations\n",
      "  ConvergenceWarning)\n"
     ]
    }
   ],
   "source": [
    "from sklearn import linear_model\n",
    "from sklearn.metrics import mean_squared_error\n",
    "\n",
    "# Set parameters to test\n",
    "# alphas = np.logspace(-4, -.5, 30) alpha = 0.0001 was best with RMSE of 0.25\n",
    "alphas = [.5,.1,.01,.001,.0001,.00001]\n",
    "\n",
    "# Initialize minimums \n",
    "\n",
    "minimum_alpha = 100\n",
    "minimum_RMSE = 100\n",
    "for alpha in alphas:\n",
    "    \n",
    "    # Fit model and predict on validation\n",
    "    clf = linear_model.Lasso(alpha=alpha)\n",
    "    clf.fit(cross_X_train,cross_Y_train)\n",
    "    y_pred = clf.predict(cross_X_valid) \n",
    "    \n",
    "    # Calculate RMSE and update minimum RMSE if possible\n",
    "    RMSE = np.sqrt(mean_squared_error(cross_Y_valid, y_pred))\n",
    "    if RMSE < minimum_RMSE:\n",
    "        minimum_RMSE = RMSE\n",
    "        minimum_alpha = alpha\n",
    "    \n",
    "print \"minimum RMSE is\", minimum_RMSE\n",
    "print \"minimum alpha is\",minimum_alpha"
   ]
  },
  {
   "cell_type": "markdown",
   "metadata": {},
   "source": [
    "#### D2. Lasso using PCA"
   ]
  },
  {
   "cell_type": "code",
   "execution_count": 10,
   "metadata": {
    "collapsed": false
   },
   "outputs": [
    {
     "name": "stdout",
     "output_type": "stream",
     "text": [
      "minimum RMSE is 0.20282437003\n",
      "minimum alpha is 1e-05\n"
     ]
    }
   ],
   "source": [
    "from sklearn import linear_model\n",
    "from sklearn.metrics import mean_squared_error\n",
    "\n",
    "# Set parameters to test\n",
    "# alphas = np.logspace(-4, -.5, 30) alpha = 0.0001 was best with RMSE of 0.25\n",
    "alphas = [.5,.1,.01,.001,.0001,.00001]\n",
    "\n",
    "# Initialize minimums \n",
    "\n",
    "minimum_alpha = 100\n",
    "minimum_RMSE = 100\n",
    "for alpha in alphas:\n",
    "    \n",
    "    # Fit model and predict on validation\n",
    "    clf = linear_model.Lasso(alpha=alpha)\n",
    "    clf.fit(cross_X_train_transf,cross_Y_train)\n",
    "    y_pred = clf.predict(cross_X_valid_transf) \n",
    "    \n",
    "    # Calculate RMSE and update minimum RMSE if possible\n",
    "    RMSE = np.sqrt(mean_squared_error(cross_Y_valid, y_pred))\n",
    "    if RMSE < minimum_RMSE:\n",
    "        minimum_RMSE = RMSE\n",
    "        minimum_alpha = alpha\n",
    "    \n",
    "print \"minimum RMSE is\", minimum_RMSE\n",
    "print \"minimum alpha is\",minimum_alpha"
   ]
  },
  {
   "cell_type": "markdown",
   "metadata": {},
   "source": [
    "#### D1. Elastic Net"
   ]
  },
  {
   "cell_type": "code",
   "execution_count": null,
   "metadata": {
    "collapsed": true
   },
   "outputs": [],
   "source": [
    "# Set parameters to test\n",
    "alphas = [.5,.1,.01,.001,.0001,.00001] \n",
    "ratios = [.5,.1,.01,.001,.0001,.00001]\n",
    "counter = 0\n",
    "\n",
    "# Initialize minimums\n",
    "minimum_alpha = 100\n",
    "minimum_ratio = 100\n",
    "minimum_RMSE = 100\n",
    "for alpha in alphas:\n",
    "    for ratio in ratios:\n",
    "        \n",
    "        # Fit model and predict on validation\n",
    "        clf = linear_model.ElasticNet(alpha=alpha, l1_ratio=ratio)\n",
    "        clf.fit(cross_X_train,cross_Y_train)\n",
    "        y_pred = clf.predict(cross_X_valid) \n",
    "        \n",
    "        # Calculate RMSE and update minimum RMSE if possible\n",
    "        RMSE = np.sqrt(mean_squared_error(cross_Y_valid, y_pred))\n",
    "        if RMSE < minimum_RMSE:\n",
    "            minimum_RMSE = RMSE\n",
    "            minimum_alpha = alpha\n",
    "            minimum_ratio = ratio\n",
    "    counter +=1\n",
    "    print counter\n",
    "print \"minimum RMSE is\", minimum_RMSE\n",
    "print \"minimum alpha is\",minimum_alpha\n",
    "print \"minimum ratio is\",minimum_ratio"
   ]
  },
  {
   "cell_type": "markdown",
   "metadata": {},
   "source": [
    "#### D2. Elastic Net using PCA"
   ]
  },
  {
   "cell_type": "code",
   "execution_count": 12,
   "metadata": {
    "collapsed": false
   },
   "outputs": [
    {
     "name": "stdout",
     "output_type": "stream",
     "text": [
      "minimum RMSE is 0.202846013573\n",
      "minimum alpha is 1e-05\n",
      "minimum ratio is 0.5\n"
     ]
    }
   ],
   "source": [
    "# Set parameters to test\n",
    "alphas = [.5,.1,.01,.001,.0001,.00001] \n",
    "ratios = [.5,.1,.01,.001,.0001,.00001]\n",
    "\n",
    "# Initialize minimums\n",
    "minimum_alpha = 100\n",
    "minimum_ratio = 100\n",
    "minimum_RMSE = 100\n",
    "for alpha in alphas:\n",
    "    for ratio in ratios:\n",
    "        \n",
    "        # Fit model and predict on validation\n",
    "        clf = linear_model.ElasticNet(alpha=alpha, l1_ratio=ratio)\n",
    "        clf.fit(cross_X_train_transf,cross_Y_train)\n",
    "        y_pred = clf.predict(cross_X_valid_transf) \n",
    "        \n",
    "        # Calculate RMSE and update minimum RMSE if possible\n",
    "        RMSE = np.sqrt(mean_squared_error(cross_Y_valid, y_pred))\n",
    "        if RMSE < minimum_RMSE:\n",
    "            minimum_RMSE = RMSE\n",
    "            minimum_alpha = alpha\n",
    "            minimum_ratio = ratio\n",
    "\n",
    "print \"minimum RMSE is\", minimum_RMSE\n",
    "print \"minimum alpha is\",minimum_alpha\n",
    "print \"minimum ratio is\",minimum_ratio"
   ]
  },
  {
   "cell_type": "code",
   "execution_count": 57,
   "metadata": {
    "collapsed": true
   },
   "outputs": [],
   "source": [
    "# Remove cross validation datasets\n",
    "del cross_X_train, cross_X_valid, cross_Y_train, cross_Y_valid"
   ]
  },
  {
   "cell_type": "markdown",
   "metadata": {
    "collapsed": true
   },
   "source": [
    "# V. Final Model Construction and Test Set Prediction \n",
    "1. Read in training data\n",
    "2. Read in test data\n",
    "3. If using PCA, transform training and test data\n",
    "4. Train model using training data\n",
    "5. Predict output using test data\n",
    "6. Write output to csv"
   ]
  },
  {
   "cell_type": "code",
   "execution_count": null,
   "metadata": {
    "collapsed": true
   },
   "outputs": [],
   "source": [
    "df_test = pd.read_csv('FINAL_test.csv')"
   ]
  },
  {
   "cell_type": "code",
   "execution_count": null,
   "metadata": {
    "collapsed": true
   },
   "outputs": [],
   "source": [
    "#delete 'Id' column\n",
    "df_test = df_test.drop(['Id'], axis=1)\n",
    "# Drop the 'smiles' column\n",
    "df_test= df_test.drop(['smiles'], axis=1)\n",
    "X_test = df_test.values"
   ]
  },
  {
   "cell_type": "code",
   "execution_count": null,
   "metadata": {
    "collapsed": true
   },
   "outputs": [],
   "source": [
    "def write_to_file(filename, predictions):\n",
    "    with open(filename, \"w\") as f:\n",
    "        f.write(\"Id,Prediction\\n\")\n",
    "        for i,p in enumerate(predictions):\n",
    "            f.write(str(i+1) + \",\" + str(p) + \"\\n\")"
   ]
  },
  {
   "cell_type": "code",
   "execution_count": null,
   "metadata": {
    "collapsed": true
   },
   "outputs": [],
   "source": [
    "pca = PCA(n_components=60)\n",
    "extraTrees_pca = ExtraTreesRegressor(n_estimators=100,n_jobs=2)\n",
    "# extraTrees = ExtraTreesRegressor(n_estimators=25,n_jobs=2)\n",
    "\n",
    "X_transf = pca.fit_transform(X_train)\n",
    "X_test_transf = pca.transform(X_test)\n",
    "\n",
    "tree_est_wPCA = extraTrees_pca.fit(X_transf, Y_train)\n",
    "# tree_estimator = extraTrees.fit(X_train, Y_train)\n",
    "\n",
    "pca_exTree_pred = tree_est_wPCA.predict(X_test_transf)\n",
    "# exTree_pred = tree_estimator.predict(X_test)"
   ]
  },
  {
   "cell_type": "code",
   "execution_count": null,
   "metadata": {
    "collapsed": true
   },
   "outputs": [],
   "source": [
    "#write to file"
   ]
  }
 ],
 "metadata": {
  "kernelspec": {
   "display_name": "Python 2",
   "language": "python",
   "name": "python2"
  },
  "language_info": {
   "codemirror_mode": {
    "name": "ipython",
    "version": 2
   },
   "file_extension": ".py",
   "mimetype": "text/x-python",
   "name": "python",
   "nbconvert_exporter": "python",
   "pygments_lexer": "ipython2",
   "version": "2.7.11"
  }
 },
 "nbformat": 4,
 "nbformat_minor": 0
}
