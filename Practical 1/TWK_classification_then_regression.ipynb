{
 "cells": [
  {
   "cell_type": "markdown",
   "metadata": {},
   "source": [
    "# This notebook outlines the final model tuning and set of predictions that ML Marauders have made for CS 181 Practical 1"
   ]
  },
  {
   "cell_type": "code",
   "execution_count": 1,
   "metadata": {
    "collapsed": false
   },
   "outputs": [],
   "source": [
    "%matplotlib inline\n",
    "import pandas as pd\n",
    "import numpy as np\n",
    "import scipy as sp\n",
    "import matplotlib.pyplot as plt\n",
    "import pickle\n",
    "from sklearn.linear_model import Ridge, LogisticRegression, LogisticRegressionCV, Lasso\n",
    "from sklearn.ensemble import RandomForestRegressor, ExtraTreesRegressor\n",
    "from sklearn.decomposition import PCA\n",
    "from sklearn.preprocessing import StandardScaler\n",
    "from sklearn.cross_validation import train_test_split, KFold\n",
    "from sklearn.metrics import mean_squared_error"
   ]
  },
  {
   "cell_type": "markdown",
   "metadata": {},
   "source": [
    "## Load and gently process the data (much of the preprocessing was done in FINAL.ipynb)"
   ]
  },
  {
   "cell_type": "code",
   "execution_count": 2,
   "metadata": {
    "collapsed": false
   },
   "outputs": [
    {
     "data": {
      "text/html": [
       "<div>\n",
       "<table border=\"1\" class=\"dataframe\">\n",
       "  <thead>\n",
       "    <tr style=\"text-align: right;\">\n",
       "      <th></th>\n",
       "      <th>num_branches</th>\n",
       "      <th>has_benzothiophene</th>\n",
       "      <th>has_carbazole</th>\n",
       "      <th>has_fluorene</th>\n",
       "      <th>num_double_bonds</th>\n",
       "      <th>avg_molecular_weight</th>\n",
       "      <th>exact_molecular_weight</th>\n",
       "      <th>avg_molecular_weight_ignore_hydrogen</th>\n",
       "      <th>num_valence_electrons</th>\n",
       "      <th>num_radical_electrons</th>\n",
       "      <th>...</th>\n",
       "      <th>num_aromatic_heterocycles-fr_allylic_oxid</th>\n",
       "      <th>num_aromatic_heterocycles-num_aromatic_carbocycles</th>\n",
       "      <th>num_aliphatic_heterocycles-feat_251</th>\n",
       "      <th>num_aliphatic_heterocycles-fr_allylic_oxid</th>\n",
       "      <th>num_aliphatic_heterocycles-num_aromatic_carbocycles</th>\n",
       "      <th>feat_251-fr_allylic_oxid</th>\n",
       "      <th>feat_251-num_aromatic_carbocycles</th>\n",
       "      <th>fr_allylic_oxid-num_aromatic_carbocycles</th>\n",
       "      <th>smiles</th>\n",
       "      <th>gap</th>\n",
       "    </tr>\n",
       "  </thead>\n",
       "  <tbody>\n",
       "    <tr>\n",
       "      <th>0</th>\n",
       "      <td>3</td>\n",
       "      <td>0</td>\n",
       "      <td>0</td>\n",
       "      <td>0</td>\n",
       "      <td>0</td>\n",
       "      <td>470.462</td>\n",
       "      <td>470.907296</td>\n",
       "      <td>461.390</td>\n",
       "      <td>130</td>\n",
       "      <td>0</td>\n",
       "      <td>...</td>\n",
       "      <td>0</td>\n",
       "      <td>0</td>\n",
       "      <td>0</td>\n",
       "      <td>0</td>\n",
       "      <td>0</td>\n",
       "      <td>0</td>\n",
       "      <td>0</td>\n",
       "      <td>0</td>\n",
       "      <td>c1ccc(o1)-c1ccc(s1)-c1cnc(-c2scc3[se]ccc23)c2n...</td>\n",
       "      <td>1.19</td>\n",
       "    </tr>\n",
       "    <tr>\n",
       "      <th>1</th>\n",
       "      <td>1</td>\n",
       "      <td>0</td>\n",
       "      <td>0</td>\n",
       "      <td>0</td>\n",
       "      <td>5</td>\n",
       "      <td>352.545</td>\n",
       "      <td>352.085202</td>\n",
       "      <td>336.417</td>\n",
       "      <td>118</td>\n",
       "      <td>0</td>\n",
       "      <td>...</td>\n",
       "      <td>8</td>\n",
       "      <td>2</td>\n",
       "      <td>2</td>\n",
       "      <td>8</td>\n",
       "      <td>2</td>\n",
       "      <td>4</td>\n",
       "      <td>1</td>\n",
       "      <td>4</td>\n",
       "      <td>C1=CC=C(C1)c1cc2ncc3c4[SiH2]C=Cc4ncc3c2c2=C[Si...</td>\n",
       "      <td>1.60</td>\n",
       "    </tr>\n",
       "    <tr>\n",
       "      <th>2</th>\n",
       "      <td>2</td>\n",
       "      <td>0</td>\n",
       "      <td>0</td>\n",
       "      <td>0</td>\n",
       "      <td>1</td>\n",
       "      <td>399.576</td>\n",
       "      <td>399.032016</td>\n",
       "      <td>386.472</td>\n",
       "      <td>128</td>\n",
       "      <td>0</td>\n",
       "      <td>...</td>\n",
       "      <td>3</td>\n",
       "      <td>6</td>\n",
       "      <td>0</td>\n",
       "      <td>1</td>\n",
       "      <td>2</td>\n",
       "      <td>0</td>\n",
       "      <td>0</td>\n",
       "      <td>2</td>\n",
       "      <td>[nH]1c-2c([SiH2]c3cc(-c4scc5C=CCc45)c4nsnc4c-2...</td>\n",
       "      <td>1.49</td>\n",
       "    </tr>\n",
       "    <tr>\n",
       "      <th>3</th>\n",
       "      <td>1</td>\n",
       "      <td>0</td>\n",
       "      <td>0</td>\n",
       "      <td>0</td>\n",
       "      <td>4</td>\n",
       "      <td>379.567</td>\n",
       "      <td>379.084867</td>\n",
       "      <td>362.431</td>\n",
       "      <td>128</td>\n",
       "      <td>0</td>\n",
       "      <td>...</td>\n",
       "      <td>0</td>\n",
       "      <td>4</td>\n",
       "      <td>0</td>\n",
       "      <td>0</td>\n",
       "      <td>4</td>\n",
       "      <td>0</td>\n",
       "      <td>0</td>\n",
       "      <td>0</td>\n",
       "      <td>[nH]1c2-c3occc3Cc2c2c1cc(-c1cccc3=C[SiH2]C=c13...</td>\n",
       "      <td>1.36</td>\n",
       "    </tr>\n",
       "    <tr>\n",
       "      <th>4</th>\n",
       "      <td>1</td>\n",
       "      <td>0</td>\n",
       "      <td>0</td>\n",
       "      <td>0</td>\n",
       "      <td>0</td>\n",
       "      <td>396.391</td>\n",
       "      <td>396.042944</td>\n",
       "      <td>388.327</td>\n",
       "      <td>136</td>\n",
       "      <td>0</td>\n",
       "      <td>...</td>\n",
       "      <td>0</td>\n",
       "      <td>10</td>\n",
       "      <td>0</td>\n",
       "      <td>0</td>\n",
       "      <td>0</td>\n",
       "      <td>0</td>\n",
       "      <td>0</td>\n",
       "      <td>0</td>\n",
       "      <td>c1cnc2c3oc4cc(-c5ncncn5)c5nsnc5c4c3c3cocc3c2c1</td>\n",
       "      <td>1.98</td>\n",
       "    </tr>\n",
       "  </tbody>\n",
       "</table>\n",
       "<p>5 rows × 671 columns</p>\n",
       "</div>"
      ],
      "text/plain": [
       "   num_branches  has_benzothiophene  has_carbazole  has_fluorene  \\\n",
       "0             3                   0              0             0   \n",
       "1             1                   0              0             0   \n",
       "2             2                   0              0             0   \n",
       "3             1                   0              0             0   \n",
       "4             1                   0              0             0   \n",
       "\n",
       "   num_double_bonds  avg_molecular_weight  exact_molecular_weight  \\\n",
       "0                 0               470.462              470.907296   \n",
       "1                 5               352.545              352.085202   \n",
       "2                 1               399.576              399.032016   \n",
       "3                 4               379.567              379.084867   \n",
       "4                 0               396.391              396.042944   \n",
       "\n",
       "   avg_molecular_weight_ignore_hydrogen  num_valence_electrons  \\\n",
       "0                               461.390                    130   \n",
       "1                               336.417                    118   \n",
       "2                               386.472                    128   \n",
       "3                               362.431                    128   \n",
       "4                               388.327                    136   \n",
       "\n",
       "   num_radical_electrons  ...   num_aromatic_heterocycles-fr_allylic_oxid  \\\n",
       "0                      0  ...                                           0   \n",
       "1                      0  ...                                           8   \n",
       "2                      0  ...                                           3   \n",
       "3                      0  ...                                           0   \n",
       "4                      0  ...                                           0   \n",
       "\n",
       "   num_aromatic_heterocycles-num_aromatic_carbocycles  \\\n",
       "0                                                  0    \n",
       "1                                                  2    \n",
       "2                                                  6    \n",
       "3                                                  4    \n",
       "4                                                 10    \n",
       "\n",
       "   num_aliphatic_heterocycles-feat_251  \\\n",
       "0                                    0   \n",
       "1                                    2   \n",
       "2                                    0   \n",
       "3                                    0   \n",
       "4                                    0   \n",
       "\n",
       "   num_aliphatic_heterocycles-fr_allylic_oxid  \\\n",
       "0                                           0   \n",
       "1                                           8   \n",
       "2                                           1   \n",
       "3                                           0   \n",
       "4                                           0   \n",
       "\n",
       "   num_aliphatic_heterocycles-num_aromatic_carbocycles  \\\n",
       "0                                                  0     \n",
       "1                                                  2     \n",
       "2                                                  2     \n",
       "3                                                  4     \n",
       "4                                                  0     \n",
       "\n",
       "   feat_251-fr_allylic_oxid  feat_251-num_aromatic_carbocycles  \\\n",
       "0                         0                                  0   \n",
       "1                         4                                  1   \n",
       "2                         0                                  0   \n",
       "3                         0                                  0   \n",
       "4                         0                                  0   \n",
       "\n",
       "   fr_allylic_oxid-num_aromatic_carbocycles  \\\n",
       "0                                         0   \n",
       "1                                         4   \n",
       "2                                         2   \n",
       "3                                         0   \n",
       "4                                         0   \n",
       "\n",
       "                                              smiles   gap  \n",
       "0  c1ccc(o1)-c1ccc(s1)-c1cnc(-c2scc3[se]ccc23)c2n...  1.19  \n",
       "1  C1=CC=C(C1)c1cc2ncc3c4[SiH2]C=Cc4ncc3c2c2=C[Si...  1.60  \n",
       "2  [nH]1c-2c([SiH2]c3cc(-c4scc5C=CCc45)c4nsnc4c-2...  1.49  \n",
       "3  [nH]1c2-c3occc3Cc2c2c1cc(-c1cccc3=C[SiH2]C=c13...  1.36  \n",
       "4     c1cnc2c3oc4cc(-c5ncncn5)c5nsnc5c4c3c3cocc3c2c1  1.98  \n",
       "\n",
       "[5 rows x 671 columns]"
      ]
     },
     "execution_count": 2,
     "metadata": {},
     "output_type": "execute_result"
    }
   ],
   "source": [
    "# df_train = pd.read_csv('sam_data/rdk_feat_eng_whole_df_train_orig_features.csv')\n",
    "# df_test = pd.read_csv('sam_data/rdk_feat_eng_whole_df_test_orig_features.csv')\n",
    "# df_train = pd.read_csv('final_data/FINAL_train.csv')\n",
    "# df_test = pd.read_csv('final_data/FINAL_test.csv')\n",
    "df_train = pd.read_csv('FINAL_interactions/FINAL_train_25_interactions.csv')\n",
    "df_test = pd.read_csv('FINAL_interactions/FINAL_test_25_interactions.csv')\n",
    "df_train.head()"
   ]
  },
  {
   "cell_type": "code",
   "execution_count": 3,
   "metadata": {
    "collapsed": false
   },
   "outputs": [
    {
     "data": {
      "text/html": [
       "<div>\n",
       "<table border=\"1\" class=\"dataframe\">\n",
       "  <thead>\n",
       "    <tr style=\"text-align: right;\">\n",
       "      <th></th>\n",
       "      <th>Id</th>\n",
       "      <th>num_branches</th>\n",
       "      <th>has_benzothiophene</th>\n",
       "      <th>has_carbazole</th>\n",
       "      <th>has_fluorene</th>\n",
       "      <th>num_double_bonds</th>\n",
       "      <th>avg_molecular_weight</th>\n",
       "      <th>exact_molecular_weight</th>\n",
       "      <th>avg_molecular_weight_ignore_hydrogen</th>\n",
       "      <th>num_valence_electrons</th>\n",
       "      <th>...</th>\n",
       "      <th>num_aromatic_heterocycles-num_aliphatic_heterocycles</th>\n",
       "      <th>num_aromatic_heterocycles-feat_251</th>\n",
       "      <th>num_aromatic_heterocycles-fr_allylic_oxid</th>\n",
       "      <th>num_aromatic_heterocycles-num_aromatic_carbocycles</th>\n",
       "      <th>num_aliphatic_heterocycles-feat_251</th>\n",
       "      <th>num_aliphatic_heterocycles-fr_allylic_oxid</th>\n",
       "      <th>num_aliphatic_heterocycles-num_aromatic_carbocycles</th>\n",
       "      <th>feat_251-fr_allylic_oxid</th>\n",
       "      <th>feat_251-num_aromatic_carbocycles</th>\n",
       "      <th>fr_allylic_oxid-num_aromatic_carbocycles</th>\n",
       "    </tr>\n",
       "  </thead>\n",
       "  <tbody>\n",
       "    <tr>\n",
       "      <th>0</th>\n",
       "      <td>1</td>\n",
       "      <td>2</td>\n",
       "      <td>0</td>\n",
       "      <td>0</td>\n",
       "      <td>0</td>\n",
       "      <td>0</td>\n",
       "      <td>409.499</td>\n",
       "      <td>409.045587</td>\n",
       "      <td>398.411</td>\n",
       "      <td>136</td>\n",
       "      <td>...</td>\n",
       "      <td>0</td>\n",
       "      <td>0</td>\n",
       "      <td>0</td>\n",
       "      <td>10</td>\n",
       "      <td>0</td>\n",
       "      <td>0</td>\n",
       "      <td>0</td>\n",
       "      <td>0</td>\n",
       "      <td>0</td>\n",
       "      <td>0</td>\n",
       "    </tr>\n",
       "    <tr>\n",
       "      <th>1</th>\n",
       "      <td>2</td>\n",
       "      <td>0</td>\n",
       "      <td>0</td>\n",
       "      <td>0</td>\n",
       "      <td>0</td>\n",
       "      <td>0</td>\n",
       "      <td>352.469</td>\n",
       "      <td>351.991109</td>\n",
       "      <td>344.405</td>\n",
       "      <td>110</td>\n",
       "      <td>...</td>\n",
       "      <td>0</td>\n",
       "      <td>0</td>\n",
       "      <td>0</td>\n",
       "      <td>5</td>\n",
       "      <td>0</td>\n",
       "      <td>0</td>\n",
       "      <td>0</td>\n",
       "      <td>0</td>\n",
       "      <td>0</td>\n",
       "      <td>0</td>\n",
       "    </tr>\n",
       "    <tr>\n",
       "      <th>2</th>\n",
       "      <td>3</td>\n",
       "      <td>1</td>\n",
       "      <td>0</td>\n",
       "      <td>0</td>\n",
       "      <td>0</td>\n",
       "      <td>2</td>\n",
       "      <td>514.569</td>\n",
       "      <td>514.948537</td>\n",
       "      <td>501.465</td>\n",
       "      <td>146</td>\n",
       "      <td>...</td>\n",
       "      <td>4</td>\n",
       "      <td>0</td>\n",
       "      <td>0</td>\n",
       "      <td>12</td>\n",
       "      <td>0</td>\n",
       "      <td>0</td>\n",
       "      <td>3</td>\n",
       "      <td>0</td>\n",
       "      <td>0</td>\n",
       "      <td>0</td>\n",
       "    </tr>\n",
       "    <tr>\n",
       "      <th>3</th>\n",
       "      <td>4</td>\n",
       "      <td>2</td>\n",
       "      <td>0</td>\n",
       "      <td>0</td>\n",
       "      <td>0</td>\n",
       "      <td>4</td>\n",
       "      <td>376.491</td>\n",
       "      <td>376.103190</td>\n",
       "      <td>360.363</td>\n",
       "      <td>132</td>\n",
       "      <td>...</td>\n",
       "      <td>3</td>\n",
       "      <td>0</td>\n",
       "      <td>0</td>\n",
       "      <td>6</td>\n",
       "      <td>0</td>\n",
       "      <td>0</td>\n",
       "      <td>2</td>\n",
       "      <td>0</td>\n",
       "      <td>0</td>\n",
       "      <td>0</td>\n",
       "    </tr>\n",
       "    <tr>\n",
       "      <th>4</th>\n",
       "      <td>5</td>\n",
       "      <td>3</td>\n",
       "      <td>0</td>\n",
       "      <td>0</td>\n",
       "      <td>0</td>\n",
       "      <td>0</td>\n",
       "      <td>569.637</td>\n",
       "      <td>569.844956</td>\n",
       "      <td>559.557</td>\n",
       "      <td>154</td>\n",
       "      <td>...</td>\n",
       "      <td>0</td>\n",
       "      <td>0</td>\n",
       "      <td>0</td>\n",
       "      <td>0</td>\n",
       "      <td>0</td>\n",
       "      <td>0</td>\n",
       "      <td>0</td>\n",
       "      <td>0</td>\n",
       "      <td>0</td>\n",
       "      <td>0</td>\n",
       "    </tr>\n",
       "  </tbody>\n",
       "</table>\n",
       "<p>5 rows × 671 columns</p>\n",
       "</div>"
      ],
      "text/plain": [
       "   Id  num_branches  has_benzothiophene  has_carbazole  has_fluorene  \\\n",
       "0   1             2                   0              0             0   \n",
       "1   2             0                   0              0             0   \n",
       "2   3             1                   0              0             0   \n",
       "3   4             2                   0              0             0   \n",
       "4   5             3                   0              0             0   \n",
       "\n",
       "   num_double_bonds  avg_molecular_weight  exact_molecular_weight  \\\n",
       "0                 0               409.499              409.045587   \n",
       "1                 0               352.469              351.991109   \n",
       "2                 2               514.569              514.948537   \n",
       "3                 4               376.491              376.103190   \n",
       "4                 0               569.637              569.844956   \n",
       "\n",
       "   avg_molecular_weight_ignore_hydrogen  num_valence_electrons  \\\n",
       "0                               398.411                    136   \n",
       "1                               344.405                    110   \n",
       "2                               501.465                    146   \n",
       "3                               360.363                    132   \n",
       "4                               559.557                    154   \n",
       "\n",
       "                     ...                     \\\n",
       "0                    ...                      \n",
       "1                    ...                      \n",
       "2                    ...                      \n",
       "3                    ...                      \n",
       "4                    ...                      \n",
       "\n",
       "   num_aromatic_heterocycles-num_aliphatic_heterocycles  \\\n",
       "0                                                  0      \n",
       "1                                                  0      \n",
       "2                                                  4      \n",
       "3                                                  3      \n",
       "4                                                  0      \n",
       "\n",
       "   num_aromatic_heterocycles-feat_251  \\\n",
       "0                                   0   \n",
       "1                                   0   \n",
       "2                                   0   \n",
       "3                                   0   \n",
       "4                                   0   \n",
       "\n",
       "   num_aromatic_heterocycles-fr_allylic_oxid  \\\n",
       "0                                          0   \n",
       "1                                          0   \n",
       "2                                          0   \n",
       "3                                          0   \n",
       "4                                          0   \n",
       "\n",
       "   num_aromatic_heterocycles-num_aromatic_carbocycles  \\\n",
       "0                                                 10    \n",
       "1                                                  5    \n",
       "2                                                 12    \n",
       "3                                                  6    \n",
       "4                                                  0    \n",
       "\n",
       "   num_aliphatic_heterocycles-feat_251  \\\n",
       "0                                    0   \n",
       "1                                    0   \n",
       "2                                    0   \n",
       "3                                    0   \n",
       "4                                    0   \n",
       "\n",
       "   num_aliphatic_heterocycles-fr_allylic_oxid  \\\n",
       "0                                           0   \n",
       "1                                           0   \n",
       "2                                           0   \n",
       "3                                           0   \n",
       "4                                           0   \n",
       "\n",
       "   num_aliphatic_heterocycles-num_aromatic_carbocycles  \\\n",
       "0                                                  0     \n",
       "1                                                  0     \n",
       "2                                                  3     \n",
       "3                                                  2     \n",
       "4                                                  0     \n",
       "\n",
       "   feat_251-fr_allylic_oxid  feat_251-num_aromatic_carbocycles  \\\n",
       "0                         0                                  0   \n",
       "1                         0                                  0   \n",
       "2                         0                                  0   \n",
       "3                         0                                  0   \n",
       "4                         0                                  0   \n",
       "\n",
       "   fr_allylic_oxid-num_aromatic_carbocycles  \n",
       "0                                         0  \n",
       "1                                         0  \n",
       "2                                         0  \n",
       "3                                         0  \n",
       "4                                         0  \n",
       "\n",
       "[5 rows x 671 columns]"
      ]
     },
     "execution_count": 3,
     "metadata": {},
     "output_type": "execute_result"
    }
   ],
   "source": [
    "df_test.head()"
   ]
  },
  {
   "cell_type": "code",
   "execution_count": 4,
   "metadata": {
    "collapsed": false
   },
   "outputs": [
    {
     "name": "stdout",
     "output_type": "stream",
     "text": [
      "Train features: (999997, 669) Train gap: (999997,)\n",
      "Test features: (824230, 669)\n"
     ]
    }
   ],
   "source": [
    "# Drop the 'smiles' and 'Id' columns\n",
    "df_train = df_train.drop(['smiles'], axis=1)\n",
    "df_test = df_test.drop(['Id'], axis=1)\n",
    "df_test = df_test.drop(['smiles'], axis=1)\n",
    "\n",
    "# Store gap values\n",
    "Y_train = df_train.gap.values\n",
    "\n",
    "# Delete 'gap' column\n",
    "df_train = df_train.drop(['gap'], axis=1)\n",
    "X_train = df_train.values\n",
    "X_test = df_test.values\n",
    "print \"Train features:\", X_train.shape, \"Train gap:\", Y_train.shape\n",
    "print \"Test features:\", X_test.shape"
   ]
  },
  {
   "cell_type": "code",
   "execution_count": 5,
   "metadata": {
    "collapsed": true
   },
   "outputs": [],
   "source": [
    "# Split training data into training and validation sets as well as begin some k-fold CV\n",
    "cross_X_train, cross_X_valid, cross_Y_train, cross_Y_valid = train_test_split(X_train, Y_train, test_size=0.33, random_state=42)"
   ]
  },
  {
   "cell_type": "markdown",
   "metadata": {},
   "source": [
    "#### For classification purposes, round target values to nearest .5"
   ]
  },
  {
   "cell_type": "code",
   "execution_count": 6,
   "metadata": {
    "collapsed": false
   },
   "outputs": [],
   "source": [
    "# Round to nearest integer\n",
    "# cross_Y_train_labels, cross_Y_valid_labels = np.round(cross_Y_train), np.round(cross_Y_valid)\n",
    "# Y_train_labels = np.round(Y_train)\n",
    "# Round to nearest .5\n",
    "cross_Y_train_labels, cross_Y_valid_labels = (((np.round(2*cross_Y_train)/2.0)-0.5)/0.5).astype(int), (((np.round(2*cross_Y_valid)/2.0)-0.5)/0.5).astype(int)\n",
    "Y_train_labels = (((np.round(2*Y_train)/2.0)-.5)/.5).astype(int)\n",
    "# Round to nearest .25\n",
    "# cross_Y_train_labels, cross_Y_valid_labels = (((np.round(4*cross_Y_train)/4.0)-.25)/.25).astype(int), (((np.round(4*cross_Y_valid)/4.0)-.25)/.25).astype(int)\n",
    "# Y_train_labels = (((np.round(4*Y_train)/4.0)-.25)/.25).astype(int)"
   ]
  },
  {
   "cell_type": "code",
   "execution_count": 7,
   "metadata": {
    "collapsed": false,
    "scrolled": true
   },
   "outputs": [
    {
     "name": "stdout",
     "output_type": "stream",
     "text": [
      "'Training' features:  (669997, 669)\n",
      "'Validate' features:  (330000, 669)\n"
     ]
    }
   ],
   "source": [
    "print \"'Training' features: \", cross_X_train.shape\n",
    "print \"'Validate' features: \", cross_X_valid.shape"
   ]
  },
  {
   "cell_type": "markdown",
   "metadata": {},
   "source": [
    "# GOAL:\n",
    "\n",
    "This notebook is set-up to chain together classification and regression methods. The thought is that we can, after we've trained the two models, to first apply a classifier to the data (in a clustering kind of sense) and then use the category or neighborhood that the sample is assigned as an additional feature to perform regression. Here the category or label will be the closest integer to the gap value. The idea behind this is to hijack the regression into a local region of the expected HOMO-LUMO gap based on the label. The hope is that this will pin the regressor closer to the right value. \n",
    "\n",
    "It's imperative that we get as accurate of a classifier as we can.\n",
    "\n",
    "Fingers crossed."
   ]
  },
  {
   "cell_type": "markdown",
   "metadata": {},
   "source": [
    "### First: Let's build a classifier that will adequately label the samples\n",
    "\n",
    "We'll start with Logistic Regression and try to fit the best model using a collection of C values"
   ]
  },
  {
   "cell_type": "code",
   "execution_count": 8,
   "metadata": {
    "collapsed": false
   },
   "outputs": [
    {
     "name": "stdout",
     "output_type": "stream",
     "text": [
      "0.1 0.595712121212\n",
      "1.0 0.589433333333\n",
      "CPU times: user 32min 28s, sys: 25.7 s, total: 32min 54s\n",
      "Wall time: 17min 21s\n"
     ]
    }
   ],
   "source": [
    "%%time\n",
    "\n",
    "logReg_training_acc = 0\n",
    "logReg_test_acc = 0\n",
    "\n",
    "Cs = [0.1, 1.0]\n",
    "\n",
    "for c in Cs:\n",
    "    clf_logReg=LogisticRegression(penalty=\"l2\",C=c, solver='lbfgs')\n",
    "    clf_logReg.fit(cross_X_train,cross_Y_train_labels)\n",
    "    training_acc = clf_logReg.score(cross_X_train,cross_Y_train_labels)\n",
    "    test_acc = clf_logReg.score(cross_X_valid,cross_Y_valid_labels)\n",
    "    print c, test_acc\n",
    "    if logReg_test_acc < test_acc:\n",
    "        logReg_test_acc = test_acc\n",
    "        logReg_training_acc = training_acc\n",
    "        best_logReg = clf_logReg"
   ]
  },
  {
   "cell_type": "code",
   "execution_count": 9,
   "metadata": {
    "collapsed": false
   },
   "outputs": [
    {
     "name": "stdout",
     "output_type": "stream",
     "text": [
      "Training Accuracy: 0.594\n",
      "Test Accuracy: 0.596\n"
     ]
    }
   ],
   "source": [
    "logReg_training_acc = best_logReg.score(cross_X_train,cross_Y_train_labels)\n",
    "logReg_test_acc = best_logReg.score(cross_X_valid,cross_Y_valid_labels)\n",
    "print \"Training Accuracy: %0.3f\" % logReg_training_acc\n",
    "print \"Test Accuracy: %0.3f\" % logReg_test_acc"
   ]
  },
  {
   "cell_type": "markdown",
   "metadata": {},
   "source": [
    "#### Concatenate predicted labels onto test/validation set"
   ]
  },
  {
   "cell_type": "code",
   "execution_count": 10,
   "metadata": {
    "collapsed": true
   },
   "outputs": [],
   "source": [
    "def adding_labels(feat_matrix,labels,label_dim):\n",
    "    '''Helper function that creates sparse binary array to concatenate to feat_matrix'''\n",
    "    # Create empty matrix \n",
    "    added_cols = np.zeros((labels.shape[0],label_dim))\n",
    "    # Increment entry that corresponds to the sample having the specified label\n",
    "    for ii in xrange(labels.shape[0]):\n",
    "        added_cols[ii,labels[ii]] = 1\n",
    "    # Concatenate label columns to feat_matrix\n",
    "    feat_matrix = np.concatenate((feat_matrix,added_cols),axis=1)\n",
    "    return feat_matrix"
   ]
  },
  {
   "cell_type": "code",
   "execution_count": 11,
   "metadata": {
    "collapsed": false
   },
   "outputs": [],
   "source": [
    "if np.max(cross_Y_train_labels) >= np.max(cross_Y_valid_labels):\n",
    "    max_label = np.max(cross_Y_train_labels)+1\n",
    "else:\n",
    "    max_label = np.max(cross_Y_valid_labels)+1\n",
    "\n",
    "cross_X_train = adding_labels(cross_X_train,cross_Y_train_labels,max_label)\n",
    "\n",
    "cross_X_valid = adding_labels(cross_X_valid,cross_Y_valid_labels,max_label)"
   ]
  },
  {
   "cell_type": "markdown",
   "metadata": {},
   "source": [
    "## Now generating a Random Forest Regression"
   ]
  },
  {
   "cell_type": "code",
   "execution_count": 12,
   "metadata": {
    "collapsed": false
   },
   "outputs": [
    {
     "name": "stdout",
     "output_type": "stream",
     "text": [
      "64 0.098313714104\n",
      "96 0.0978026272387\n",
      "RandomForest with 96 estimators had RMSE of 0.0978026272387\n",
      "CPU times: user 58min 51s, sys: 49 s, total: 59min 40s\n",
      "Wall time: 21min 29s\n"
     ]
    }
   ],
   "source": [
    "%%time\n",
    "RF_RMSE = 100\n",
    "num_estimators = [64, 96, 128]\n",
    "\n",
    "    \n",
    "for n_estimators in num_estimators:\n",
    "\n",
    "    rf_reg = RandomForestRegressor(n_estimators=n_estimators,max_features='sqrt', n_jobs=3)\n",
    "    rf_reg.fit(cross_X_train,cross_Y_train)\n",
    "    y_pred = rf_reg.predict(cross_X_valid)\n",
    "\n",
    "    RMSE = np.sqrt(mean_squared_error(cross_Y_valid, y_pred))\n",
    "    if RMSE < RF_RMSE:\n",
    "        print n_estimators, RMSE\n",
    "        RF_RMSE = RMSE\n",
    "        RF_estimators = n_estimators\n",
    "        best_RF = rf_reg\n",
    "            \n",
    "print \"RandomForest with {0} estimators had RMSE of {1}\".format(RF_estimators,RF_RMSE)        "
   ]
  },
  {
   "cell_type": "markdown",
   "metadata": {},
   "source": [
    "## We're also going to tune a typical Linear Regression to have double coverage (either Ridge or Lasso)"
   ]
  },
  {
   "cell_type": "code",
   "execution_count": 13,
   "metadata": {
    "collapsed": false
   },
   "outputs": [
    {
     "name": "stdout",
     "output_type": "stream",
     "text": [
      "0.0001 0.109691148413\n",
      "Lasso RMSE: 0.109691148413 with alpha: 0.0001\n",
      "CPU times: user 57min 53s, sys: 1min 3s, total: 58min 57s\n",
      "Wall time: 59min 17s\n"
     ]
    },
    {
     "name": "stderr",
     "output_type": "stream",
     "text": [
      "/Users/ta24418/anaconda/lib/python2.7/site-packages/sklearn/linear_model/coordinate_descent.py:466: ConvergenceWarning: Objective did not converge. You might want to increase the number of iterations\n",
      "  ConvergenceWarning)\n"
     ]
    }
   ],
   "source": [
    "%%time\n",
    "lasso_RMSE = 100\n",
    "alphas = np.logspace(-4, -1, 5)\n",
    "\n",
    "for alpha in alphas:\n",
    "    lasso_reg = Lasso(alpha=alpha)\n",
    "    lasso_reg.fit(cross_X_train, cross_Y_train)\n",
    "    y_pred = lasso_reg.predict(cross_X_valid)\n",
    "    \n",
    "    RMSE = np.sqrt(mean_squared_error(cross_Y_valid,y_pred))\n",
    "    if RMSE < lasso_RMSE:\n",
    "        print alpha, RMSE\n",
    "        lasso_RMSE = RMSE\n",
    "        lasso_alpha = alpha\n",
    "        best_lasso = lasso_reg\n",
    "        \n",
    "print \"Lasso RMSE: {0} with alpha: {1}\".format(lasso_RMSE,lasso_alpha)"
   ]
  },
  {
   "cell_type": "code",
   "execution_count": null,
   "metadata": {
    "collapsed": false
   },
   "outputs": [],
   "source": [
    "# %%time\n",
    "# ridge_RMSE = 100\n",
    "# alphas = np.logspace(-4, 1, 30)\n",
    "\n",
    "# for alpha in alphas:\n",
    "#     ridge_clf = Ridge(alpha=alpha)\n",
    "#     ridge_clf.fit(X_train_clf, cross_Y_train)\n",
    "#     y_pred = ridge_clf.predict(X_valid_clf)\n",
    "    \n",
    "#     RMSE = np.sqrt(mean_squared_error(cross_Y_valid,y_pred))\n",
    "#     if RMSE < ridge_RMSE:\n",
    "#         ridge_RMSE = RMSE\n",
    "#         ridge_alpha = alpha\n",
    "#         best_ridge = ridge_clf\n",
    "        \n",
    "# print \"Ridge RMSE: {0} with alpha: {1}\".format(ridge_RMSE,ridge_alpha)"
   ]
  },
  {
   "cell_type": "code",
   "execution_count": 14,
   "metadata": {
    "collapsed": true
   },
   "outputs": [],
   "source": [
    "with open('final2_classifier_and_regressors.pkl','w') as f:\n",
    "    pickle.dump((best_logReg, best_RF, best_lasso),f)"
   ]
  },
  {
   "cell_type": "code",
   "execution_count": null,
   "metadata": {
    "collapsed": true
   },
   "outputs": [],
   "source": [
    "# with open('final_classifier_and_regressors.pkl','r') as fopen:\n",
    "#     best_logReg, best_pcaExtraTrees, pcaExtraTrees_components, best_ridge = pickle.load(fopen)\n",
    "    \n",
    "# After opening this, you may need to re-configure the test and training set, that is if you have to restart the kernel"
   ]
  },
  {
   "cell_type": "markdown",
   "metadata": {},
   "source": [
    "## Train on full training set, run on full test set"
   ]
  },
  {
   "cell_type": "markdown",
   "metadata": {},
   "source": [
    "Here we will train the classifier and the regressions"
   ]
  },
  {
   "cell_type": "code",
   "execution_count": 15,
   "metadata": {
    "collapsed": true
   },
   "outputs": [],
   "source": [
    "def write_to_file(filename, predictions):\n",
    "    with open(filename, \"w\") as f:\n",
    "        f.write(\"Id,Prediction\\n\")\n",
    "        for i,p in enumerate(predictions):\n",
    "            f.write(str(i+1) + \",\" + str(p) + \"\\n\")"
   ]
  },
  {
   "cell_type": "markdown",
   "metadata": {},
   "source": [
    "### Logistic Regression"
   ]
  },
  {
   "cell_type": "code",
   "execution_count": 17,
   "metadata": {
    "collapsed": false
   },
   "outputs": [
    {
     "name": "stdout",
     "output_type": "stream",
     "text": [
      "Completed Classification of test set\n",
      "CPU times: user 8.72 s, sys: 24.2 s, total: 32.9 s\n",
      "Wall time: 40.5 s\n"
     ]
    }
   ],
   "source": [
    "%%time\n",
    "# Train classifier\n",
    "best_logReg.fit(X_train,Y_train_labels)\n",
    "\n",
    "# Run classifier on test set\n",
    "label_pred = best_logReg.predict(X_test)\n",
    "\n",
    "# Concatenate full training labels to full test set\n",
    "X_train_clf = adding_labels(X_train,Y_train_labels,max_label)\n",
    "\n",
    "# Concatenate predicted labels onto test set as a new feature\n",
    "X_test_clf = adding_labels(X_test,label_pred,max_label)\n",
    "\n",
    "print \"Completed Classification of test set\""
   ]
  },
  {
   "cell_type": "markdown",
   "metadata": {},
   "source": [
    "### Random Forest"
   ]
  },
  {
   "cell_type": "code",
   "execution_count": 18,
   "metadata": {
    "collapsed": false
   },
   "outputs": [
    {
     "name": "stdout",
     "output_type": "stream",
     "text": [
      "Completed Random Forest Regression\n",
      "CPU times: user 34min, sys: 45.3 s, total: 34min 45s\n",
      "Wall time: 13min 10s\n"
     ]
    }
   ],
   "source": [
    "%%time\n",
    "# Train ExtraTrees Regressor\n",
    "best_RF.fit(X_train_clf,Y_train)\n",
    "\n",
    "# Run ExtraTrees Regressor\n",
    "RF_pred = best_RF.predict(X_test_clf)\n",
    "\n",
    "# Save the ExtraTrees Predictions\n",
    "write_to_file(\"RF_wlogReg_FINAL2_TWK_11Feb.csv\", RF_pred)\n",
    "\n",
    "print \"Completed Random Forest Regression\""
   ]
  },
  {
   "cell_type": "markdown",
   "metadata": {},
   "source": [
    "### Lasso/Ridge Regression"
   ]
  },
  {
   "cell_type": "code",
   "execution_count": 19,
   "metadata": {
    "collapsed": false
   },
   "outputs": [
    {
     "name": "stdout",
     "output_type": "stream",
     "text": [
      "Completed Lasso Regression\n"
     ]
    }
   ],
   "source": [
    "# # Train Ridge Regression\n",
    "# best_ridge.fit(X_full_train_clf,Y_train)\n",
    "\n",
    "# # Run Ridge Regressor\n",
    "# ridge_pred = best_ridge.predict(X_test_clf)\n",
    "\n",
    "# # Save the Ridge Predictions\n",
    "# write_to_file(\"ridge_FINAL_TWK_10Feb.csv\",ridge_pred)\n",
    "# print \"Completed Ridge Regression\"\n",
    "\n",
    "# Train Lasso Regression\n",
    "best_lasso.fit(X_train_clf,Y_train)\n",
    "\n",
    "# Run Lasso Regressor\n",
    "lasso_pred = best_lasso.predict(X_test_clf)\n",
    "\n",
    "# Save the Lasso Predictions\n",
    "write_to_file(\"lasso_wlogReg_FINAL2_TWK_11Feb.csv\",lasso_pred)\n",
    "print \"Completed Lasso Regression\""
   ]
  },
  {
   "cell_type": "code",
   "execution_count": null,
   "metadata": {
    "collapsed": true
   },
   "outputs": [],
   "source": []
  }
 ],
 "metadata": {
  "kernelspec": {
   "display_name": "Python 2",
   "language": "python",
   "name": "python2"
  },
  "language_info": {
   "codemirror_mode": {
    "name": "ipython",
    "version": 2
   },
   "file_extension": ".py",
   "mimetype": "text/x-python",
   "name": "python",
   "nbconvert_exporter": "python",
   "pygments_lexer": "ipython2",
   "version": "2.7.11"
  }
 },
 "nbformat": 4,
 "nbformat_minor": 0
}
