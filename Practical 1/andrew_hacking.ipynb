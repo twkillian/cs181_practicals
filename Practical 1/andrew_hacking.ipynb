{
 "cells": [
  {
   "cell_type": "code",
   "execution_count": 2,
   "metadata": {
    "collapsed": false
   },
   "outputs": [
    {
     "name": "stderr",
     "output_type": "stream",
     "text": [
      "//anaconda/lib/python2.7/site-packages/matplotlib/font_manager.py:273: UserWarning: Matplotlib is building the font cache using fc-list. This may take a moment.\n",
      "  warnings.warn('Matplotlib is building the font cache using fc-list. This may take a moment.')\n"
     ]
    }
   ],
   "source": [
    "%matplotlib inline\n",
    "import pandas as pd\n",
    "import numpy as np\n",
    "import scipy as sp\n",
    "import matplotlib.pyplot as plt\n",
    "from sklearn.linear_model import LinearRegression, Lasso, LassoCV, ElasticNetCV, SGDRegressor\n",
    "from sklearn.ensemble import RandomForestRegressor, ExtraTreesRegressor, AdaBoostRegressor, GradientBoostingRegressor\n",
    "from sklearn.decomposition import PCA\n",
    "from sklearn.pipeline import Pipeline\n",
    "from sklearn.grid_search import GridSearchCV\n",
    "from sklearn.cross_validation import train_test_split, KFold\n",
    "from sklearn.metrics import mean_squared_error\n",
    "from rdkit import DataStructs, Chem\n",
    "from rdkit.Chem import AllChem, Descriptors, Lipinski, Fragments, rdmolops\n",
    "from rdkit.ML.Cluster import Butina"
   ]
  },
  {
   "cell_type": "code",
   "execution_count": 3,
   "metadata": {
    "collapsed": false
   },
   "outputs": [
    {
     "name": "stdout",
     "output_type": "stream",
     "text": [
      "Train features: (999997, 282)\n",
      "Train gap: (999997,)\n"
     ]
    }
   ],
   "source": [
    "# Read in training data\n",
    "df_train = pd.read_csv('rdk_feat_eng_whole_df_train_orig_features.csv')\n",
    "\n",
    "# Drop the 'smiles' column \n",
    "df_train = df_train.drop(['smiles'], axis=1)\n",
    "\n",
    "# Store gap values\n",
    "Y_train = df_train.gap.values\n",
    "\n",
    "# Delete 'gap' column\n",
    "df_train = df_train.drop(['gap'], axis=1)\n",
    "X_train = df_train.values\n",
    "print \"Train features:\", X_train.shape\n",
    "print \"Train gap:\", Y_train.shape"
   ]
  },
  {
   "cell_type": "code",
   "execution_count": 4,
   "metadata": {
    "collapsed": false
   },
   "outputs": [],
   "source": [
    "# Partition Training Data into Training, Validation\n",
    "cross_X_train, cross_X_valid, cross_Y_train, cross_Y_valid = train_test_split(X_train, Y_train, test_size=0.33, random_state=42)"
   ]
  },
  {
   "cell_type": "code",
   "execution_count": 7,
   "metadata": {
    "collapsed": false
   },
   "outputs": [
    {
     "name": "stderr",
     "output_type": "stream",
     "text": [
      "//anaconda/lib/python2.7/site-packages/sklearn/linear_model/coordinate_descent.py:466: ConvergenceWarning: Objective did not converge. You might want to increase the number of iterations\n",
      "  ConvergenceWarning)\n"
     ]
    }
   ],
   "source": [
    "from sklearn import linear_model\n",
    "from sklearn.metrics import mean_squared_error\n",
    "\n",
    "# Set parameters to test\n",
    "alphas = np.logspace(-4, -.5, 30)\n",
    "\n",
    "# Initialize minimums \n",
    "\n",
    "minimum_alpha = \"\"\n",
    "minimum_RMSE = 100\n",
    "for alpha in alphas:\n",
    "    \n",
    "    # Fit model and predict on validation\n",
    "    clf = linear_model.Lasso(alpha=alpha)\n",
    "    clf.fit(cross_X_train,cross_Y_train)\n",
    "    y_pred = clf.predict(cross_X_valid) \n",
    "    \n",
    "    # Calculate RMSE and update minimum RMSE if possible\n",
    "    RMSE = np.sqrt(mean_squared_error(cross_Y_valid, y_pred))\n",
    "    if RMSE < minimum_RMSE:\n",
    "        minimum_RMSE = RMSE\n",
    "        minimum_alpha = str(alpha)"
   ]
  },
  {
   "cell_type": "code",
   "execution_count": 8,
   "metadata": {
    "collapsed": false
   },
   "outputs": [
    {
     "name": "stdout",
     "output_type": "stream",
     "text": [
      "minimum RMSE is 0.0531983731878\n",
      "minimum alpha is 0.0001\n"
     ]
    }
   ],
   "source": [
    "print \"minimum RMSE is\", minimum_RMSE\n",
    "print \"minimum alpha is\",minimum_alpha"
   ]
  },
  {
   "cell_type": "code",
   "execution_count": null,
   "metadata": {
    "collapsed": true
   },
   "outputs": [],
   "source": [
    "from sklearn import linear_model\n",
    "from sklearn.metrics import mean_squared_error\n",
    "\n",
    "# Set parameters to test\n",
    "alphas = \n",
    "ratios = \n",
    "\n",
    "# Initialize minimums\n",
    "minimum_alpha = \"\"\n",
    "minimum_RMSE = 100\n",
    "for alpha in alphas:\n",
    "    for ratio in l1_ratios:\n",
    "        \n",
    "        # Fit model and predict on validation\n",
    "        clf = linear_model.ElasticNet(alpha=alpha, l1_ratio=ratio)\n",
    "        clf.fit(cross_X_train,cross_Y_train)\n",
    "        y_pred = clf.predict(cross_X_valid) \n",
    "        \n",
    "        # Calculate RMSE and update minimum RMSE if possible\n",
    "        RMSE = np.sqrt(mean_squared_error(cross_Y_valid, y_pred))\n",
    "        if RMSE < minimum_RMSE:\n",
    "            minimum_RMSE = RMSE\n",
    "            minimum_alpha = str(alpha)"
   ]
  },
  {
   "cell_type": "code",
   "execution_count": null,
   "metadata": {
    "collapsed": true
   },
   "outputs": [],
   "source": [
    "print \"minimum RMSE is\", minimum_RMSE\n",
    "print \"minimum alpha is\",minimum_alpha"
   ]
  },
  {
   "cell_type": "code",
   "execution_count": 11,
   "metadata": {
    "collapsed": false
   },
   "outputs": [
    {
     "name": "stdout",
     "output_type": "stream",
     "text": [
      " Number of coefficients that are zero: 280\n",
      "Total number of coefficients: 282\n",
      "[0, 1, 2, 3, 4, 6, 7, 9, 10, 11, 12, 13, 14, 15, 16, 17, 18, 19, 20, 21, 22, 23, 24, 25, 26, 27, 28, 29, 30, 31, 32, 33, 34, 35, 36, 37, 38, 39, 40, 41, 42, 43, 44, 45, 46, 47, 48, 49, 50, 51, 52, 53, 54, 55, 56, 57, 58, 59, 60, 61, 62, 63, 64, 65, 66, 67, 68, 69, 70, 71, 72, 73, 74, 75, 76, 77, 78, 79, 80, 81, 82, 83, 84, 85, 86, 87, 88, 89, 90, 91, 92, 93, 94, 95, 96, 97, 98, 99, 100, 101, 102, 103, 104, 105, 106, 107, 108, 109, 110, 111, 112, 113, 114, 115, 116, 117, 118, 119, 120, 121, 122, 123, 124, 125, 126, 127, 128, 129, 130, 131, 132, 133, 134, 135, 136, 137, 138, 139, 140, 141, 142, 143, 144, 145, 146, 147, 148, 149, 150, 151, 152, 153, 154, 155, 156, 157, 158, 159, 160, 161, 162, 163, 164, 165, 166, 167, 168, 169, 170, 171, 172, 173, 174, 175, 176, 177, 178, 179, 180, 181, 182, 183, 184, 185, 186, 187, 188, 189, 190, 191, 192, 193, 194, 195, 196, 197, 198, 199, 200, 201, 202, 203, 204, 205, 206, 207, 208, 209, 210, 211, 212, 213, 214, 215, 216, 217, 218, 219, 220, 221, 222, 223, 224, 225, 226, 227, 228, 229, 230, 231, 232, 233, 234, 235, 236, 237, 238, 239, 240, 241, 242, 243, 244, 245, 246, 247, 248, 249, 250, 251, 252, 253, 254, 255, 256, 257, 258, 259, 260, 261, 262, 263, 264, 265, 266, 267, 268, 269, 270, 271, 272, 273, 274, 275, 276, 277, 278, 279, 280, 281]\n"
     ]
    }
   ],
   "source": [
    "clf.coef_\n",
    "zero_coefs = []\n",
    "for i in xrange(len(clf.coef_)):\n",
    "    if clf.coef_[i] == 0:\n",
    "        zero_coefs.append(i)\n",
    "print \"Number of coefficients that are zero:\", len(zero_coefs)\n",
    "print \"Total number of coefficients:\", len(clf.coef_)\n",
    "print zero_coefs"
   ]
  },
  {
   "cell_type": "code",
   "execution_count": null,
   "metadata": {
    "collapsed": true
   },
   "outputs": [],
   "source": []
  }
 ],
 "metadata": {
  "kernelspec": {
   "display_name": "Python 2",
   "language": "python",
   "name": "python2"
  }
 },
 "nbformat": 4,
 "nbformat_minor": 0
}
