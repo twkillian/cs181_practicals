{
 "cells": [
  {
   "cell_type": "code",
   "execution_count": 1,
   "metadata": {
    "collapsed": false
   },
   "outputs": [
    {
     "name": "stderr",
     "output_type": "stream",
     "text": [
      "//anaconda/lib/python2.7/site-packages/matplotlib/font_manager.py:273: UserWarning: Matplotlib is building the font cache using fc-list. This may take a moment.\n",
      "  warnings.warn('Matplotlib is building the font cache using fc-list. This may take a moment.')\n"
     ]
    }
   ],
   "source": [
    "%matplotlib inline\n",
    "import pandas as pd\n",
    "import numpy as np\n",
    "import scipy as sp\n",
    "import matplotlib.pyplot as plt\n",
    "from sklearn.linear_model import LinearRegression, Lasso, LassoCV, ElasticNetCV, SGDRegressor\n",
    "from sklearn.ensemble import RandomForestRegressor, ExtraTreesRegressor, AdaBoostRegressor, GradientBoostingRegressor\n",
    "from sklearn.decomposition import PCA\n",
    "from sklearn.pipeline import Pipeline\n",
    "from sklearn.grid_search import GridSearchCV\n",
    "from sklearn.cross_validation import train_test_split, KFold\n",
    "from sklearn.metrics import mean_squared_error\n",
    "from rdkit import DataStructs, Chem\n",
    "from rdkit.Chem import AllChem, Descriptors, Lipinski, Fragments, rdmolops\n",
    "from rdkit.ML.Cluster import Butina"
   ]
  },
  {
   "cell_type": "markdown",
   "metadata": {},
   "source": [
    "## Import data"
   ]
  },
  {
   "cell_type": "code",
   "execution_count": null,
   "metadata": {
    "collapsed": false
   },
   "outputs": [],
   "source": [
    "# Read in training data\n",
    "df_train = pd.read_csv('rdk_feat_eng_whole_df_train_orig_features.csv')\n",
    "\n",
    "# Drop the 'smiles' column \n",
    "df_train = df_train.drop(['smiles'], axis=1)\n",
    "\n",
    "# Store gap values\n",
    "Y_train = df_train.gap.values\n",
    "\n",
    "# Delete 'gap' column\n",
    "df_train = df_train.drop(['gap'], axis=1)\n",
    "X_train = df_train.values\n",
    "print \"Train features:\", X_train.shape\n",
    "print \"Train gap:\", Y_train.shape"
   ]
  },
  {
   "cell_type": "code",
   "execution_count": null,
   "metadata": {
    "collapsed": false
   },
   "outputs": [],
   "source": [
    "# Partition Training Data into Training, Validation\n",
    "cross_X_train, cross_X_valid, cross_Y_train, cross_Y_valid = train_test_split(X_train, Y_train, test_size=0.33, random_state=42)"
   ]
  },
  {
   "cell_type": "markdown",
   "metadata": {},
   "source": [
    "## Run Models"
   ]
  },
  {
   "cell_type": "markdown",
   "metadata": {},
   "source": [
    "#### Lasso"
   ]
  },
  {
   "cell_type": "code",
   "execution_count": null,
   "metadata": {
    "collapsed": false
   },
   "outputs": [],
   "source": [
    "from sklearn import linear_model\n",
    "from sklearn.metrics import mean_squared_error\n",
    "\n",
    "# Set parameters to test\n",
    "alphas = np.logspace(-4, -.5, 30)\n",
    "\n",
    "# Initialize minimums \n",
    "\n",
    "minimum_alpha = 100\n",
    "minimum_RMSE = 100\n",
    "for alpha in alphas:\n",
    "    \n",
    "    # Fit model and predict on validation\n",
    "    clf = linear_model.Lasso(alpha=alpha)\n",
    "    clf.fit(cross_X_train,cross_Y_train)\n",
    "    y_pred = clf.predict(cross_X_valid) \n",
    "    \n",
    "    # Calculate RMSE and update minimum RMSE if possible\n",
    "    RMSE = np.sqrt(mean_squared_error(cross_Y_valid, y_pred))\n",
    "    if RMSE < minimum_RMSE:\n",
    "        minimum_RMSE = RMSE\n",
    "        minimum_alpha = alpha"
   ]
  },
  {
   "cell_type": "code",
   "execution_count": null,
   "metadata": {
    "collapsed": false
   },
   "outputs": [],
   "source": [
    "print \"minimum RMSE is\", minimum_RMSE\n",
    "print \"minimum alpha is\",minimum_alpha\n",
    "\n",
    "# Check to see how many coefficients are 0\n",
    "clf.coef_\n",
    "zero_coefs = []\n",
    "for i in xrange(len(clf.coef_)):\n",
    "    if clf.coef_[i] == 0:\n",
    "        zero_coefs.append(i)\n",
    "print \"Number of coefficients that are zero:\", len(zero_coefs)\n",
    "print \"Total number of coefficients:\", len(clf.coef_)\n",
    "print zero_coefs"
   ]
  },
  {
   "cell_type": "markdown",
   "metadata": {},
   "source": [
    "#### Elastic Net"
   ]
  },
  {
   "cell_type": "code",
   "execution_count": null,
   "metadata": {
    "collapsed": true
   },
   "outputs": [],
   "source": [
    "# Set parameters to test\n",
    "alphas = \n",
    "ratios = \n",
    "\n",
    "# Initialize minimums\n",
    "minimum_alpha = 100\n",
    "minimum_ratio = 100\n",
    "minimum_RMSE = 100\n",
    "for alpha in alphas:\n",
    "    for ratio in l1_ratios:\n",
    "        \n",
    "        # Fit model and predict on validation\n",
    "        clf = linear_model.ElasticNet(alpha=alpha, l1_ratio=ratio)\n",
    "        clf.fit(cross_X_train,cross_Y_train)\n",
    "        y_pred = clf.predict(cross_X_valid) \n",
    "        \n",
    "        # Calculate RMSE and update minimum RMSE if possible\n",
    "        RMSE = np.sqrt(mean_squared_error(cross_Y_valid, y_pred))\n",
    "        if RMSE < minimum_RMSE:\n",
    "            minimum_RMSE = RMSE\n",
    "            minimum_alpha = alpha\n",
    "            minimum_ratio = ratio"
   ]
  },
  {
   "cell_type": "code",
   "execution_count": null,
   "metadata": {
    "collapsed": true
   },
   "outputs": [],
   "source": [
    "print \"minimum RMSE is\", minimum_RMSE\n",
    "print \"minimum alpha is\",minimum_alpha\n",
    "print \"minimum ratio is\",minimum_ratio\n",
    "\n",
    "# Check to see how many coefficients are 0\n",
    "clf.coef_\n",
    "zero_coefs = []\n",
    "for i in xrange(len(clf.coef_)):\n",
    "    if clf.coef_[i] == 0:\n",
    "        zero_coefs.append(i)\n",
    "print \"Number of coefficients that are zero:\", len(zero_coefs)\n",
    "print \"Total number of coefficients:\", len(clf.coef_)\n",
    "print zero_coefs"
   ]
  },
  {
   "cell_type": "code",
   "execution_count": null,
   "metadata": {
    "collapsed": true
   },
   "outputs": [],
   "source": [
    "alphas = np.logspace(-4, -.5, 30)"
   ]
  }
 ],
 "metadata": {
  "kernelspec": {
   "display_name": "Python 2",
   "language": "python",
   "name": "python2"
  },
  "language_info": {
   "codemirror_mode": {
    "name": "ipython",
    "version": 2
   },
   "file_extension": ".py",
   "mimetype": "text/x-python",
   "name": "python",
   "nbconvert_exporter": "python",
   "pygments_lexer": "ipython2",
   "version": "2.7.11"
  }
 },
 "nbformat": 4,
 "nbformat_minor": 0
}
